{
 "cells": [
  {
   "cell_type": "code",
   "execution_count": null,
   "id": "c973ffdb",
   "metadata": {},
   "outputs": [],
   "source": [
    "from google.cloud import bigquery\n",
    "\n",
    "def load_data_from_bigquery():\n",
    "    # Inicia la conexión con BigQuery\n",
    "    print(\"Iniciando conexión con BigQuery...\")\n",
    "    client = bigquery.Client()\n",
    "    print(\"Conexión establecida.\")\n",
    "    \n",
    "    # Ejecuta la consulta SQL para obtener los datos hasta junio de 2025\n",
    "    print(\"Ejecutando consulta SQL...\")\n",
    "    query = \"\"\"\n",
    "    SELECT *\n",
    "    FROM `fleca-del-port.fleca_ventas_dia.t_facturas_dia_extendida_2023`\n",
    "    WHERE fecha < '2025-07-01'\n",
    "    \"\"\"\n",
    "    df = client.query(query).to_dataframe()\n",
    "    print(f\"Consulta finalizada. Filas descargadas: {len(df)}\")\n",
    "    \n",
    "    # Define la ruta de salida y guarda el DataFrame como archivo parquet\n",
    "    output_path = \"../data/raw/raw_data_bq_forecasting_20250630.parquet\"\n",
    "    print(f\"Guardando archivo en {output_path} ...\")\n",
    "    df.to_parquet(output_path, index=False)\n",
    "    print(\"Archivo guardado correctamente.\")"
   ]
  },
  {
   "cell_type": "code",
   "execution_count": null,
   "id": "73d528b8",
   "metadata": {},
   "outputs": [],
   "source": [
    "# Ejecutar la función para descargar y guardar los datos\n",
    "load_data_from_bigquery()"
   ]
  },
  {
   "cell_type": "code",
   "execution_count": 14,
   "id": "6658297d",
   "metadata": {},
   "outputs": [],
   "source": [
    "def load_data_from_bigquery_range(fecha_inicio, fecha_fin):\n",
    "    \"\"\"\n",
    "    Descarga datos de BigQuery entre fecha_inicio y fecha_fin (YYYY-MM-DD) y guarda el archivo .parquet con sufijo de fecha_fin.\n",
    "    \"\"\"\n",
    "    print(f\"Iniciando conexión con BigQuery para datos entre {fecha_inicio} y {fecha_fin} ...\")\n",
    "    client = bigquery.Client()\n",
    "    print(\"Conexión establecida.\")\n",
    "    print(\"Ejecutando consulta SQL...\")\n",
    "    query = f'''\n",
    "    SELECT *\n",
    "    FROM `fleca-del-port.fleca_ventas_dia.t_facturas_dia_extendida_2023`\n",
    "    WHERE fecha >= '{fecha_inicio}' AND fecha < '{fecha_fin}'\n",
    "    '''\n",
    "    df = client.query(query).to_dataframe()\n",
    "    print(f\"Consulta finalizada. Filas descargadas: {len(df)}\")\n",
    "    # Formatear sufijo para el nombre del archivo (YYYYMMDD) usando la fecha final\n",
    "    sufijo = fecha_fin.replace('-', '')\n",
    "    output_path = f\"../data/raw/raw_data_bq_forecasting_{sufijo}.parquet\"\n",
    "    print(f\"Guardando archivo en {output_path} ...\")\n",
    "    df.to_parquet(output_path, index=False)\n",
    "    print(\"Archivo guardado correctamente.\")\n"
   ]
  },
  {
   "cell_type": "code",
   "execution_count": 16,
   "id": "2d79a3df",
   "metadata": {},
   "outputs": [
    {
     "name": "stdout",
     "output_type": "stream",
     "text": [
      "Iniciando conexión con BigQuery para datos entre 2025-07-01 y 2025-07-31 ...\n",
      "Conexión establecida.\n",
      "Ejecutando consulta SQL...\n",
      "Conexión establecida.\n",
      "Ejecutando consulta SQL...\n",
      "Consulta finalizada. Filas descargadas: 5324\n",
      "Guardando archivo en ../data/raw/raw_data_bq_forecasting_20250731.parquet ...\n",
      "Archivo guardado correctamente.\n",
      "Consulta finalizada. Filas descargadas: 5324\n",
      "Guardando archivo en ../data/raw/raw_data_bq_forecasting_20250731.parquet ...\n",
      "Archivo guardado correctamente.\n"
     ]
    }
   ],
   "source": [
    "# Ejemplo de uso para descargar datos de julio 2025\n",
    "load_data_from_bigquery_range('2025-07-01', '2025-07-31')"
   ]
  },
  {
   "cell_type": "code",
   "execution_count": 17,
   "id": "d0cc672a",
   "metadata": {},
   "outputs": [
    {
     "name": "stdout",
     "output_type": "stream",
     "text": [
      "<class 'pandas.core.frame.DataFrame'>\n",
      "RangeIndex: 193208 entries, 0 to 193207\n",
      "Data columns (total 11 columns):\n",
      " #   Column          Non-Null Count   Dtype  \n",
      "---  ------          --------------   -----  \n",
      " 0   fecha           193208 non-null  dbdate \n",
      " 1   hour            191479 non-null  object \n",
      " 2   n_factura       193201 non-null  object \n",
      " 3   zona_de_venta   193208 non-null  object \n",
      " 4   producto        193208 non-null  object \n",
      " 5   familia         193200 non-null  object \n",
      " 6   cantidad        193208 non-null  float64\n",
      " 7   base_imponible  193200 non-null  float64\n",
      " 8   tipo_IVA        193208 non-null  float64\n",
      " 9   total           193200 non-null  float64\n",
      " 10  turno           172792 non-null  object \n",
      "dtypes: dbdate(1), float64(4), object(6)\n",
      "memory usage: 16.2+ MB\n"
     ]
    }
   ],
   "source": [
    "df.info()\n"
   ]
  }
 ],
 "metadata": {
  "kernelspec": {
   "display_name": "mlops-project-py3.10",
   "language": "python",
   "name": "python3"
  },
  "language_info": {
   "codemirror_mode": {
    "name": "ipython",
    "version": 3
   },
   "file_extension": ".py",
   "mimetype": "text/x-python",
   "name": "python",
   "nbconvert_exporter": "python",
   "pygments_lexer": "ipython3",
   "version": "3.10.0"
  }
 },
 "nbformat": 4,
 "nbformat_minor": 5
}
