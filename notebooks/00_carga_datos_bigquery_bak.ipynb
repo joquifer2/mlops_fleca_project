{
 "cells": [
  {
   "cell_type": "code",
   "execution_count": 1,
   "id": "c973ffdb",
   "metadata": {},
   "outputs": [],
   "source": [
    "from google.cloud import bigquery\n",
    "\n",
    "def load_data_from_bigquery():\n",
    "    # Inicia la conexión con BigQuery\n",
    "    print(\"Iniciando conexión con BigQuery...\")\n",
    "    client = bigquery.Client()\n",
    "    print(\"Conexión establecida.\")\n",
    "    \n",
    "    # Ejecuta la consulta SQL para obtener los datos hasta junio de 2025\n",
    "    print(\"Ejecutando consulta SQL...\")\n",
    "    query = \"\"\"\n",
    "    SELECT *\n",
    "    FROM `fleca-del-port.varios.raw_data_bq_forecasting_20250630`\n",
    "    WHERE fecha < '2025-07-01'\n",
    "    \"\"\"\n",
    "    df = client.query(query).to_dataframe()\n",
    "    print(f\"Consulta finalizada. Filas descargadas: {len(df)}\")\n",
    "    \n",
    "    # Define la ruta de salida y guarda el DataFrame como archivo parquet\n",
    "    output_path = \"../data/raw/raw_data_bq_forecasting_20250630.parquet\"\n",
    "    print(f\"Guardando archivo en {output_path} ...\")\n",
    "    df.to_parquet(output_path, index=False)\n",
    "    print(\"Archivo guardado correctamente.\")"
   ]
  },
  {
   "cell_type": "code",
   "execution_count": 2,
   "id": "73d528b8",
   "metadata": {},
   "outputs": [
    {
     "name": "stdout",
     "output_type": "stream",
     "text": [
      "Iniciando conexión con BigQuery...\n",
      "Conexión establecida.\n",
      "Ejecutando consulta SQL...\n",
      "Conexión establecida.\n",
      "Ejecutando consulta SQL...\n"
     ]
    },
    {
     "name": "stderr",
     "output_type": "stream",
     "text": [
      "c:\\Workspace\\mlops_fleca_project\\.venv\\lib\\site-packages\\google\\cloud\\bigquery\\table.py:1957: UserWarning: BigQuery Storage module not found, fetch data with the REST endpoint instead.\n",
      "  warnings.warn(\n"
     ]
    },
    {
     "name": "stdout",
     "output_type": "stream",
     "text": [
      "Consulta finalizada. Filas descargadas: 337353\n",
      "Guardando archivo en ../data/raw/raw_data_bq_forecasting_20250630.parquet ...\n",
      "Archivo guardado correctamente.\n"
     ]
    }
   ],
   "source": [
    "# Ejecutar la función para descargar y guardar los datos\n",
    "load_data_from_bigquery()"
   ]
  },
  {
   "cell_type": "code",
   "execution_count": 7,
   "id": "e9d9aee8",
   "metadata": {},
   "outputs": [],
   "source": [
    "# Usar paths centralizados\n",
    "definir_paths = False\n",
    "try:\n",
    "    from src.paths import RAW_BQ_PARQUET\n",
    "    definir_paths = True\n",
    "except ImportError:\n",
    "    import sys\n",
    "    sys.path.append('..')\n",
    "    from src.paths import RAW_BQ_PARQUET\n",
    "    definir_paths = True\n",
    "\n",
    "# ...luego en la función load_data_from_bigquery()...\n",
    "# output_path = \"../data/raw/raw_data_bq_forecasting_20250630.parquet\"\n",
    "# Cambiar por:\n",
    "# output_path = str(RAW_BQ_PARQUET)"
   ]
  }
 ],
 "metadata": {
  "kernelspec": {
   "display_name": "mlops-project-py3.10",
   "language": "python",
   "name": "python3"
  },
  "language_info": {
   "codemirror_mode": {
    "name": "ipython",
    "version": 3
   },
   "file_extension": ".py",
   "mimetype": "text/x-python",
   "name": "python",
   "nbconvert_exporter": "python",
   "pygments_lexer": "ipython3",
   "version": "3.10.0"
  }
 },
 "nbformat": 4,
 "nbformat_minor": 5
}
