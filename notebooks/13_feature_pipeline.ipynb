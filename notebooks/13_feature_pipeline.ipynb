{
 "cells": [
  {
   "cell_type": "code",
   "execution_count": 97,
   "id": "c9dd30a0",
   "metadata": {},
   "outputs": [],
   "source": [
    "import sys\n",
    "from pathlib import Path\n",
    "import pandas as pd\n",
    "import pyarrow.parquet as pq\n",
    "import numpy as np\n",
    "from google.cloud import bigquery\n",
    "\n",
    "# Añade src al path para importar los módulos\n",
    "sys.path.append(str(Path().resolve().parent / 'src'))"
   ]
  },
  {
   "cell_type": "code",
   "execution_count": 98,
   "id": "a6c4c6cf",
   "metadata": {},
   "outputs": [],
   "source": [
    "%reload_ext autoreload\n",
    "%autoreload 2"
   ]
  },
  {
   "cell_type": "code",
   "execution_count": 99,
   "id": "07bf27c0",
   "metadata": {},
   "outputs": [
    {
     "name": "stdout",
     "output_type": "stream",
     "text": [
      "Última semana completa: 2025-08-04 a 2025-08-10\n"
     ]
    }
   ],
   "source": [
    "from datetime import datetime, timedelta\n",
    "\n",
    "# Obtener la fecha de hoy\n",
    "hoy = datetime.now()\n",
    "\n",
    "# Calcular el último lunes (inicio de la semana pasada)\n",
    "ultimo_lunes = (hoy - timedelta(days=hoy.weekday() + 7)).replace(hour=0, minute=0, second=0, microsecond=0)\n",
    "\n",
    "# Calcular el último domingo (fin de la semana pasada)\n",
    "ultimo_domingo = ultimo_lunes + timedelta(days=6)\n",
    "\n",
    "print(f\"Última semana completa: {ultimo_lunes.date()} a {ultimo_domingo.date()}\")\n"
   ]
  },
  {
   "cell_type": "code",
   "execution_count": 101,
   "id": "f601b467",
   "metadata": {},
   "outputs": [
    {
     "name": "stdout",
     "output_type": "stream",
     "text": [
      "Usando parquet más reciente: C:\\Workspace\\mlops_fleca_project\\data\\raw\\raw_data_bq_forecasting_20250812.parquet\n",
      "Descargando datos desde BigQuery porque descargar_bq=True o no existe el archivo C:\\Workspace\\mlops_fleca_project\\data\\raw\\raw_data_bq_forecasting_20250812.parquet\n",
      "Iniciando conexión con BigQuery...\n",
      "Conexión establecida.\n",
      "Descargando datos de fleca-del-port.fleca_ventas_dia.t_facturas_dia_extendida_2023 ...\n",
      "Conexión establecida.\n",
      "Descargando datos de fleca-del-port.fleca_ventas_dia.t_facturas_dia_extendida_2023 ...\n"
     ]
    },
    {
     "name": "stderr",
     "output_type": "stream",
     "text": [
      "c:\\Workspace\\mlops_fleca_project\\.venv\\lib\\site-packages\\google\\cloud\\bigquery\\table.py:1957: UserWarning: BigQuery Storage module not found, fetch data with the REST endpoint instead.\n",
      "  warnings.warn(\n"
     ]
    },
    {
     "name": "stdout",
     "output_type": "stream",
     "text": [
      "Filas descargadas de la segunda tabla: 4259\n",
      "Guardando archivo en C:\\Workspace\\mlops_fleca_project\\data\\raw\\raw_data_bq_forecasting_20250812.parquet ...\n",
      "Archivo guardado correctamente.\n",
      "Cargando datos desde: C:\\Workspace\\mlops_fleca_project\\data\\raw\\raw_data_bq_forecasting_20250812.parquet\n",
      "Validando fechas entre 2025-08-04 y 2025-08-10 (7 días)\n",
      "Total de fechas faltantes: 0\n",
      "No faltan fechas en el rango especificado.\n",
      "Primeras filas de la semana cargada:\n",
      "       fecha     n_factura zona_de_venta              producto     familia  \\\n",
      "0 2025-08-10  No facturado         SALON    7 CEREALS FORMATGE  BOCADILLOS   \n",
      "2 2025-08-10  No facturado         BARRA        7 CEREALS FUET  BOCADILLOS   \n",
      "4 2025-08-10  No facturado         SALON  7 CEREALS LLONGANISA  BOCADILLOS   \n",
      "6 2025-08-10  No facturado         SALON  7 CEREALS LLONGANISA  BOCADILLOS   \n",
      "7 2025-08-10  No facturado         SALON  7 CEREALS LLONGANISA  BOCADILLOS   \n",
      "\n",
      "   cantidad  base_imponible  tipo_IVA  total  is_summer_peak  is_easter  \n",
      "0       1.0            2.41      10.0   2.65               1          0  \n",
      "2       1.0            2.41      10.0   2.65               1          0  \n",
      "4       1.0            2.41      10.0   2.65               1          0  \n",
      "6       1.0            2.41      10.0   2.65               1          0  \n",
      "7       1.0            2.41      10.0   2.65               1          0  \n"
     ]
    }
   ],
   "source": [
    "from src.data_utils import load_raw_data\n",
    "\n",
    "# Calcular el último lunes y domingo (ya calculados arriba, pero los reutilizamos aquí)\n",
    "# Descargar y cargar solo los datos de esa semana (flujo integrado)\n",
    "df = load_raw_data(\n",
    "    fecha_inicio=ultimo_lunes.strftime(\"%Y-%m-%d\"),\n",
    "    fecha_fin=ultimo_domingo.strftime(\"%Y-%m-%d\"),\n",
    "    descargar_bq=True\n",
    " )\n",
    "\n",
    "print(\"Primeras filas de la semana cargada:\")\n",
    "print(df.head())"
   ]
  }
 ],
 "metadata": {
  "kernelspec": {
   "display_name": "mlops-project-py3.10",
   "language": "python",
   "name": "python3"
  },
  "language_info": {
   "codemirror_mode": {
    "name": "ipython",
    "version": 3
   },
   "file_extension": ".py",
   "mimetype": "text/x-python",
   "name": "python",
   "nbconvert_exporter": "python",
   "pygments_lexer": "ipython3",
   "version": "3.10.0"
  }
 },
 "nbformat": 4,
 "nbformat_minor": 5
}
