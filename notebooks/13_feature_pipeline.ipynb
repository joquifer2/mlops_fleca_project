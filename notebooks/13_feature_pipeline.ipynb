{
 "cells": [
  {
   "cell_type": "code",
<<<<<<< HEAD
   "execution_count": 31,
   "id": "d4d7a0f8",
=======
   "execution_count": null,
   "id": "c9dd30a0",
>>>>>>> develop
   "metadata": {},
   "outputs": [],
   "source": [
    "import sys\n",
    "from pathlib import Path\n",
<<<<<<< HEAD
    "from src.data_utils import load_raw_data\n",
    "from datetime import datetime, timedelta\n",
    "\n",
    "# Añade src al path para importar los módulos\n",
    "sys.path.append(str(Path().resolve().parent / 'src'))\n",
    "\n",
    "import config"
=======
    "import pandas as pd\n",
    "from pathlib import Path\n",
    "import pyarrow.parquet as pq\n",
    "import numpy as np\n",
    "from google.cloud import bigquery\n",
    "\n",
    "# Añade src al path para importar los módulos\n",
    "sys.path.append(str(Path().resolve().parent / 'src'))"
>>>>>>> develop
   ]
  },
  {
   "cell_type": "code",
<<<<<<< HEAD
   "execution_count": 32,
   "id": "8278800e",
=======
   "execution_count": 91,
   "id": "a6c4c6cf",
>>>>>>> develop
   "metadata": {},
   "outputs": [],
   "source": [
    "%reload_ext autoreload\n",
    "%autoreload 2"
   ]
  },
  {
   "cell_type": "code",
<<<<<<< HEAD
   "execution_count": 40,
   "id": "31093e3c",
=======
   "execution_count": 93,
   "id": "07bf27c0",
>>>>>>> develop
   "metadata": {},
   "outputs": [
    {
     "name": "stdout",
     "output_type": "stream",
     "text": [
<<<<<<< HEAD
      "Fecha actual redondeada: 2025-08-10 00:00:00\n",
      "Lunes de la semana pasada: 2025-07-28 00:00:00\n"
=======
      "Última semana completa: 2025-08-04 a 2025-08-10\n"
>>>>>>> develop
     ]
    }
   ],
   "source": [
    "from datetime import datetime, timedelta\n",
<<<<<<< HEAD
    "import pandas as pd\n",
    "\n",
    "# Fecha actual redondeada al día\n",
    "current_date = pd.to_datetime(datetime.utcnow()).floor('D')\n",
    "print(f\"Fecha actual redondeada: {current_date}\")\n",
    "\n",
    "# Encuentra el lunes de esta semana\n",
    "monday_this_week = current_date - timedelta(days=current_date.weekday())\n",
    "# Encuentra el lunes de la semana pasada\n",
    "monday_last_week = monday_this_week - timedelta(days=7)\n",
    "print(f\"Lunes de la semana pasada: {monday_last_week}\")"
=======
    "\n",
    "# Obtener la fecha de hoy\n",
    "hoy = datetime.now()\n",
    "\n",
    "# Calcular el último lunes (inicio de la semana pasada)\n",
    "ultimo_lunes = (hoy - timedelta(days=hoy.weekday() + 7)).replace(hour=0, minute=0, second=0, microsecond=0)\n",
    "\n",
    "# Calcular el último domingo (fin de la semana pasada)\n",
    "ultimo_domingo = ultimo_lunes + timedelta(days=6)\n",
    "\n",
    "print(f\"Última semana completa: {ultimo_lunes.date()} a {ultimo_domingo.date()}\")\n"
>>>>>>> develop
   ]
  },
  {
   "cell_type": "code",
<<<<<<< HEAD
   "execution_count": 46,
   "id": "caaca1bd",
   "metadata": {},
   "outputs": [],
   "source": [
    "def fetch_batch_raw_data(from_date: datetime, to_date: datetime) -> pd.DataFrame:\n",
    "    print(f\"Obteniendo datos desde {from_date} hasta {to_date}\")\n",
    "    sales_week = load_raw_data(fecha_inicio=from_date, fecha_fin=to_date - timedelta(days=1))\n",
    "    # Filtrar solo la semana si tiene los 7 días completos\n",
    "    dias_unicos = sales_week['fecha'].nunique()\n",
    "    if dias_unicos == 7:\n",
    "        sales_week = sales_week[(sales_week['fecha'] >= from_date) & (sales_week['fecha'] < to_date)]\n",
    "        sales_week.sort_values(by='fecha', inplace=True)\n",
    "        return sales_week\n",
    "    else:\n",
    "        print('No hay una semana completa en el rango dado.')\n",
    "        return pd.DataFrame()"
   ]
  },
  {
   "cell_type": "code",
   "execution_count": 47,
   "id": "fc97a11b",
   "metadata": {},
   "outputs": [
    {
     "name": "stdout",
     "output_type": "stream",
     "text": [
      "Obteniendo datos desde 2025-07-28 00:00:00 hasta 2025-08-04 00:00:00\n",
      "Cargando datos desde: C:\\Workspace\\mlops_fleca_project\\data\\raw\\raw_data_bq_forecasting_20250810.parquet\n",
      "Total de fechas faltantes: 1\n",
      "Fechas faltantes: ['2025-08-03T00:00:00.000000000']\n",
      "No hay una semana completa en el rango dado.\n",
      "Datos obtenidos: 0 filas\n"
     ]
    }
   ],
   "source": [
    "# Usar las variables definidas previamente en el notebook para las fechas\n",
    "from_date = monday_last_week\n",
    "to_date = monday_this_week\n",
    "df = fetch_batch_raw_data(from_date, to_date)\n",
    "print(f\"Datos obtenidos: {len(df)} filas\")"
=======
   "execution_count": null,
   "id": "f601b467",
   "metadata": {},
   "outputs": [],
   "source": [
    "from src.data_utils import load_raw_data\n",
    "\n",
    "# Calcular el último lunes y domingo (ya calculados arriba, pero los reutilizamos aquí)\n",
    "# Descargar y cargar solo los datos de esa semana (flujo integrado)\n",
    "df = load_raw_data(\n",
    "    fecha_inicio=ultimo_lunes.strftime(\"%Y-%m-%d\"),\n",
    "    fecha_fin=ultimo_domingo.strftime(\"%Y-%m-%d\"),\n",
    "    descargar_bq=True\n",
    " )\n",
    "\n",
    "print(\"Primeras filas de la semana cargada:\")\n",
    "print(df.head())"
>>>>>>> develop
   ]
  }
 ],
 "metadata": {
  "kernelspec": {
   "display_name": "mlops-project-py3.10",
   "language": "python",
   "name": "python3"
  },
  "language_info": {
   "codemirror_mode": {
    "name": "ipython",
    "version": 3
   },
   "file_extension": ".py",
   "mimetype": "text/x-python",
   "name": "python",
   "nbconvert_exporter": "python",
   "pygments_lexer": "ipython3",
   "version": "3.10.0"
  }
 },
 "nbformat": 4,
 "nbformat_minor": 5
}
