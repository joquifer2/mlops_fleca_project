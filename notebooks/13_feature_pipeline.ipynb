{
 "cells": [
  {
   "cell_type": "code",
   "execution_count": null,
   "id": "c9dd30a0",
   "metadata": {},
   "outputs": [],
   "source": [
    "import sys\n",
    "from pathlib import Path\n",
    "import pandas as pd\n",
    "from pathlib import Path\n",
    "import pyarrow.parquet as pq\n",
    "import numpy as np\n",
    "from google.cloud import bigquery\n",
    "\n",
    "# Añade src al path para importar los módulos\n",
    "sys.path.append(str(Path().resolve().parent / 'src'))"
   ]
  },
  {
   "cell_type": "code",
   "execution_count": 91,
   "id": "a6c4c6cf",
   "metadata": {},
   "outputs": [],
   "source": [
    "%reload_ext autoreload\n",
    "%autoreload 2"
   ]
  },
  {
   "cell_type": "code",
   "execution_count": 93,
   "id": "07bf27c0",
   "metadata": {},
   "outputs": [
    {
     "name": "stdout",
     "output_type": "stream",
     "text": [
      "Última semana completa: 2025-08-04 a 2025-08-10\n"
     ]
    }
   ],
   "source": [
    "from datetime import datetime, timedelta\n",
    "\n",
    "# Obtener la fecha de hoy\n",
    "hoy = datetime.now()\n",
    "\n",
    "# Calcular el último lunes (inicio de la semana pasada)\n",
    "ultimo_lunes = (hoy - timedelta(days=hoy.weekday() + 7)).replace(hour=0, minute=0, second=0, microsecond=0)\n",
    "\n",
    "# Calcular el último domingo (fin de la semana pasada)\n",
    "ultimo_domingo = ultimo_lunes + timedelta(days=6)\n",
    "\n",
    "print(f\"Última semana completa: {ultimo_lunes.date()} a {ultimo_domingo.date()}\")\n"
   ]
  },
  {
   "cell_type": "code",
   "execution_count": null,
   "id": "f601b467",
   "metadata": {},
   "outputs": [],
   "source": [
    "from src.data_utils import load_raw_data\n",
    "\n",
    "# Calcular el último lunes y domingo (ya calculados arriba, pero los reutilizamos aquí)\n",
    "# Descargar y cargar solo los datos de esa semana (flujo integrado)\n",
    "df = load_raw_data(\n",
    "    fecha_inicio=ultimo_lunes.strftime(\"%Y-%m-%d\"),\n",
    "    fecha_fin=ultimo_domingo.strftime(\"%Y-%m-%d\"),\n",
    "    descargar_bq=True\n",
    " )\n",
    "\n",
    "print(\"Primeras filas de la semana cargada:\")\n",
    "print(df.head())"
   ]
  }
 ],
 "metadata": {
  "kernelspec": {
   "display_name": "mlops-project-py3.10",
   "language": "python",
   "name": "python3"
  },
  "language_info": {
   "codemirror_mode": {
    "name": "ipython",
    "version": 3
   },
   "file_extension": ".py",
   "mimetype": "text/x-python",
   "name": "python",
   "nbconvert_exporter": "python",
   "pygments_lexer": "ipython3",
   "version": "3.10.0"
  }
 },
 "nbformat": 4,
 "nbformat_minor": 5
}
