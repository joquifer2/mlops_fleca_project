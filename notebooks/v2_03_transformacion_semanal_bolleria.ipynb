{
 "cells": [
  {
   "cell_type": "markdown",
   "id": "0923dc4a",
   "metadata": {},
   "source": [
    "# Presentación del Notebook\n",
    "## Transformación del Dataset Semanal para la Familia BOLLERIA\n",
    "\n",
    "Este notebook forma parte del proyecto de forecasting de ventas para un negocio de hostelería enfocado en productos de cafetería y panadería en una zona turística.\n",
    "\n",
    "Después de realizar un análisis exploratorio exhaustivo (EDA), identificamos que la familia **BOLLERIA** presenta un comportamiento estacional muy marcado, con incrementos significativos en verano y los fines de semana. Por ello, hemos decidido centrar el desarrollo del modelo predictivo en esta categoría concreta.\n",
    "\n",
    "## ¿Qué se realiza en este notebook?\n",
    "\n",
    "- **Transformación del dataset diario en un dataset semanal**, agregando las ventas y las principales variables exógenas que pueden influir en la demanda.\n",
    "- Generación de variables adicionales que capturan la estacionalidad de forma más eficiente, como las representaciones cíclicas de la semana del año.\n",
    "- **Filtrado específico de la familia BOLLERIA** para centrar el análisis y la futura predicción en esta categoría.\n",
    "- Validación visual del comportamiento de las ventas semanales.\n",
    "- Finalmente, **guardamos el dataset semanal de BOLLERIA listo para el desarrollo del modelo de predicción**, almacenándolo en la carpeta `processed` para garantizar trazabilidad y reutilización.\n",
    "\n",
    "---\n",
    "\n",
    "Este notebook constituye un paso clave en la preparación de los datos, permitiendo que la siguiente fase de **ingeniería de características avanzadas y modelado** se pueda abordar con una base de datos bien estructurada, limpia y enfocada al objetivo.\n"
   ]
  },
  {
   "cell_type": "markdown",
   "id": "e8ce97d0",
   "metadata": {},
   "source": [
    "# Paso 0: Cargar datos"
   ]
  },
  {
   "cell_type": "code",
   "execution_count": 2,
   "id": "f440e22d",
   "metadata": {},
   "outputs": [
    {
     "name": "stdout",
     "output_type": "stream",
     "text": [
      "Archivo 1 cargado con éxito: ../data/interim/validated_range_fecha_familia_20250630.parquet - Número de filas: 9989\n"
     ]
    }
   ],
   "source": [
    "import pandas as pd\n",
    "import os\n",
    "\n",
    "archivos = [\n",
    "    \"../data/interim/validated_range_fecha_familia_20250630.parquet\"\n",
    " ]\n",
    "# Cargar los datos de cada archivo en una lista de DataFrames\n",
    "dfs = []\n",
    "for archivo in archivos:\n",
    "    if os.path.exists(archivo):\n",
    "        df = pd.read_parquet(archivo)\n",
    "        dfs.append(df)\n",
    "    else:\n",
    "        print(f\"Archivo no encontrado: {archivo}\")\n",
    "\n",
    "# Mensajes de confirmación de que se cargaron los archivos\n",
    "for i, df in enumerate(dfs):\n",
    "    print(f\"Archivo {i+1} cargado con éxito: {archivos[i]} - Número de filas: {len(df)}\")"
   ]
  },
  {
   "cell_type": "markdown",
   "id": "32aed048",
   "metadata": {},
   "source": [
    "# Paso 1. Añadir columna year_week al dataframe diario"
   ]
  },
  {
   "cell_type": "code",
   "execution_count": 9,
   "id": "1251e248",
   "metadata": {},
   "outputs": [
    {
     "data": {
      "application/vnd.microsoft.datawrangler.viewer.v0+json": {
       "columns": [
        {
         "name": "index",
         "rawType": "int64",
         "type": "integer"
        },
        {
         "name": "fecha",
         "rawType": "datetime64[ns]",
         "type": "datetime"
        },
        {
         "name": "year_week",
         "rawType": "object",
         "type": "string"
        },
        {
         "name": "year",
         "rawType": "UInt32",
         "type": "integer"
        },
        {
         "name": "week_of_year",
         "rawType": "UInt32",
         "type": "integer"
        }
       ],
       "ref": "012a7eec-0c94-41fe-8f67-ec9e8fc9e496",
       "rows": [
        [
         "0",
         "2023-01-01 00:00:00",
         "2022-52",
         "2022",
         "52"
        ],
        [
         "1",
         "2023-01-02 00:00:00",
         "2023-01",
         "2023",
         "1"
        ],
        [
         "2",
         "2023-01-02 00:00:00",
         "2023-01",
         "2023",
         "1"
        ],
        [
         "3",
         "2023-01-02 00:00:00",
         "2023-01",
         "2023",
         "1"
        ],
        [
         "4",
         "2023-01-02 00:00:00",
         "2023-01",
         "2023",
         "1"
        ]
       ],
       "shape": {
        "columns": 4,
        "rows": 5
       }
      },
      "text/html": [
       "<div>\n",
       "<style scoped>\n",
       "    .dataframe tbody tr th:only-of-type {\n",
       "        vertical-align: middle;\n",
       "    }\n",
       "\n",
       "    .dataframe tbody tr th {\n",
       "        vertical-align: top;\n",
       "    }\n",
       "\n",
       "    .dataframe thead th {\n",
       "        text-align: right;\n",
       "    }\n",
       "</style>\n",
       "<table border=\"1\" class=\"dataframe\">\n",
       "  <thead>\n",
       "    <tr style=\"text-align: right;\">\n",
       "      <th></th>\n",
       "      <th>fecha</th>\n",
       "      <th>year_week</th>\n",
       "      <th>year</th>\n",
       "      <th>week_of_year</th>\n",
       "    </tr>\n",
       "  </thead>\n",
       "  <tbody>\n",
       "    <tr>\n",
       "      <th>0</th>\n",
       "      <td>2023-01-01</td>\n",
       "      <td>2022-52</td>\n",
       "      <td>2022</td>\n",
       "      <td>52</td>\n",
       "    </tr>\n",
       "    <tr>\n",
       "      <th>1</th>\n",
       "      <td>2023-01-02</td>\n",
       "      <td>2023-01</td>\n",
       "      <td>2023</td>\n",
       "      <td>1</td>\n",
       "    </tr>\n",
       "    <tr>\n",
       "      <th>2</th>\n",
       "      <td>2023-01-02</td>\n",
       "      <td>2023-01</td>\n",
       "      <td>2023</td>\n",
       "      <td>1</td>\n",
       "    </tr>\n",
       "    <tr>\n",
       "      <th>3</th>\n",
       "      <td>2023-01-02</td>\n",
       "      <td>2023-01</td>\n",
       "      <td>2023</td>\n",
       "      <td>1</td>\n",
       "    </tr>\n",
       "    <tr>\n",
       "      <th>4</th>\n",
       "      <td>2023-01-02</td>\n",
       "      <td>2023-01</td>\n",
       "      <td>2023</td>\n",
       "      <td>1</td>\n",
       "    </tr>\n",
       "  </tbody>\n",
       "</table>\n",
       "</div>"
      ],
      "text/plain": [
       "       fecha year_week  year  week_of_year\n",
       "0 2023-01-01   2022-52  2022            52\n",
       "1 2023-01-02   2023-01  2023             1\n",
       "2 2023-01-02   2023-01  2023             1\n",
       "3 2023-01-02   2023-01  2023             1\n",
       "4 2023-01-02   2023-01  2023             1"
      ]
     },
     "execution_count": 9,
     "metadata": {},
     "output_type": "execute_result"
    }
   ],
   "source": [
    "# Asegurar formato datetime\n",
    "df['fecha'] = pd.to_datetime(df['fecha'])\n",
    "\n",
    "# Crear columna con el año y la semana ISO\n",
    "df['year_week'] = df['fecha'].dt.isocalendar().year.astype(str) + '-' + df['fecha'].dt.isocalendar().week.astype(str).str.zfill(2)\n",
    "\n",
    "# Opcional: columna numérica separada para semana y año\n",
    "df['year'] = df['fecha'].dt.isocalendar().year\n",
    "df['week_of_year'] = df['fecha'].dt.isocalendar().week\n",
    "\n",
    "df[['fecha', 'year_week', 'year', 'week_of_year']].head()\n"
   ]
  },
  {
   "cell_type": "markdown",
   "id": "83028ac5",
   "metadata": {},
   "source": [
    "# Paso 2: Agregación semanal"
   ]
  },
  {
   "cell_type": "code",
   "execution_count": 7,
   "id": "0110aa75",
   "metadata": {},
   "outputs": [
    {
     "data": {
      "application/vnd.microsoft.datawrangler.viewer.v0+json": {
       "columns": [
        {
         "name": "index",
         "rawType": "int64",
         "type": "integer"
        },
        {
         "name": "year_week",
         "rawType": "object",
         "type": "string"
        },
        {
         "name": "familia",
         "rawType": "object",
         "type": "string"
        },
        {
         "name": "base_imponible",
         "rawType": "float64",
         "type": "float"
        },
        {
         "name": "total",
         "rawType": "float64",
         "type": "float"
        },
        {
         "name": "is_summer_peak",
         "rawType": "int64",
         "type": "integer"
        },
        {
         "name": "is_easter",
         "rawType": "int64",
         "type": "integer"
        },
        {
         "name": "is_weekend",
         "rawType": "int64",
         "type": "integer"
        },
        {
         "name": "year",
         "rawType": "UInt32",
         "type": "integer"
        },
        {
         "name": "week_of_year",
         "rawType": "UInt32",
         "type": "integer"
        }
       ],
       "ref": "f7ec7fa1-bf04-41f4-a49f-f221927fca4f",
       "rows": [
        [
         "0",
         "2022-52",
         "cerrado",
         "0.0",
         "0.0",
         "0",
         "0",
         "1",
         "2022",
         "52"
        ],
        [
         "1",
         "2023-01",
         "AÑADIDOS",
         "8.81",
         "9.6",
         "0",
         "0",
         "2",
         "2023",
         "1"
        ],
        [
         "2",
         "2023-01",
         "BEBIDAS",
         "467.96000000000004",
         "515.0",
         "0",
         "0",
         "2",
         "2023",
         "1"
        ],
        [
         "3",
         "2023-01",
         "BOCADILLOS",
         "864.0300000000001",
         "950.4",
         "0",
         "0",
         "2",
         "2023",
         "1"
        ],
        [
         "4",
         "2023-01",
         "BOLLERIA",
         "825.11",
         "907.13",
         "0",
         "0",
         "2",
         "2023",
         "1"
        ]
       ],
       "shape": {
        "columns": 9,
        "rows": 5
       }
      },
      "text/html": [
       "<div>\n",
       "<style scoped>\n",
       "    .dataframe tbody tr th:only-of-type {\n",
       "        vertical-align: middle;\n",
       "    }\n",
       "\n",
       "    .dataframe tbody tr th {\n",
       "        vertical-align: top;\n",
       "    }\n",
       "\n",
       "    .dataframe thead th {\n",
       "        text-align: right;\n",
       "    }\n",
       "</style>\n",
       "<table border=\"1\" class=\"dataframe\">\n",
       "  <thead>\n",
       "    <tr style=\"text-align: right;\">\n",
       "      <th></th>\n",
       "      <th>year_week</th>\n",
       "      <th>familia</th>\n",
       "      <th>base_imponible</th>\n",
       "      <th>total</th>\n",
       "      <th>is_summer_peak</th>\n",
       "      <th>is_easter</th>\n",
       "      <th>is_weekend</th>\n",
       "      <th>year</th>\n",
       "      <th>week_of_year</th>\n",
       "    </tr>\n",
       "  </thead>\n",
       "  <tbody>\n",
       "    <tr>\n",
       "      <th>0</th>\n",
       "      <td>2022-52</td>\n",
       "      <td>cerrado</td>\n",
       "      <td>0.00</td>\n",
       "      <td>0.00</td>\n",
       "      <td>0</td>\n",
       "      <td>0</td>\n",
       "      <td>1</td>\n",
       "      <td>2022</td>\n",
       "      <td>52</td>\n",
       "    </tr>\n",
       "    <tr>\n",
       "      <th>1</th>\n",
       "      <td>2023-01</td>\n",
       "      <td>AÑADIDOS</td>\n",
       "      <td>8.81</td>\n",
       "      <td>9.60</td>\n",
       "      <td>0</td>\n",
       "      <td>0</td>\n",
       "      <td>2</td>\n",
       "      <td>2023</td>\n",
       "      <td>1</td>\n",
       "    </tr>\n",
       "    <tr>\n",
       "      <th>2</th>\n",
       "      <td>2023-01</td>\n",
       "      <td>BEBIDAS</td>\n",
       "      <td>467.96</td>\n",
       "      <td>515.00</td>\n",
       "      <td>0</td>\n",
       "      <td>0</td>\n",
       "      <td>2</td>\n",
       "      <td>2023</td>\n",
       "      <td>1</td>\n",
       "    </tr>\n",
       "    <tr>\n",
       "      <th>3</th>\n",
       "      <td>2023-01</td>\n",
       "      <td>BOCADILLOS</td>\n",
       "      <td>864.03</td>\n",
       "      <td>950.40</td>\n",
       "      <td>0</td>\n",
       "      <td>0</td>\n",
       "      <td>2</td>\n",
       "      <td>2023</td>\n",
       "      <td>1</td>\n",
       "    </tr>\n",
       "    <tr>\n",
       "      <th>4</th>\n",
       "      <td>2023-01</td>\n",
       "      <td>BOLLERIA</td>\n",
       "      <td>825.11</td>\n",
       "      <td>907.13</td>\n",
       "      <td>0</td>\n",
       "      <td>0</td>\n",
       "      <td>2</td>\n",
       "      <td>2023</td>\n",
       "      <td>1</td>\n",
       "    </tr>\n",
       "  </tbody>\n",
       "</table>\n",
       "</div>"
      ],
      "text/plain": [
       "  year_week     familia  base_imponible   total  is_summer_peak  is_easter  \\\n",
       "0   2022-52     cerrado            0.00    0.00               0          0   \n",
       "1   2023-01    AÑADIDOS            8.81    9.60               0          0   \n",
       "2   2023-01     BEBIDAS          467.96  515.00               0          0   \n",
       "3   2023-01  BOCADILLOS          864.03  950.40               0          0   \n",
       "4   2023-01    BOLLERIA          825.11  907.13               0          0   \n",
       "\n",
       "   is_weekend  year  week_of_year  \n",
       "0           1  2022            52  \n",
       "1           2  2023             1  \n",
       "2           2  2023             1  \n",
       "3           2  2023             1  \n",
       "4           2  2023             1  "
      ]
     },
     "execution_count": 7,
     "metadata": {},
     "output_type": "execute_result"
    }
   ],
   "source": [
    "# Definir funciones de agregación para las exógenas\n",
    "def max_agg(series):\n",
    "    return series.max()\n",
    "\n",
    "def sum_agg(series):\n",
    "    return series.sum()\n",
    "\n",
    "# Agregar ventas y variables exógenas a nivel de semana y familia\n",
    "df_semanal = (\n",
    "    df.groupby(['year_week', 'familia']).agg({\n",
    "        'base_imponible': 'sum',\n",
    "        'total': 'sum',\n",
    "        'is_summer_peak': max_agg,     # Si algún día es verano, la semana es verano\n",
    "        'is_easter': max_agg,          # Si algún día es Semana Santa, la semana es Semana Santa\n",
    "        'is_weekend': sum_agg,         # Número de días de fin de semana en la semana\n",
    "        'year': max_agg,               # Extraer el año (todos los días de la semana tienen el mismo)\n",
    "        'week_of_year': max_agg        # Extraer la semana del año\n",
    "    })\n",
    "    .reset_index()\n",
    ")\n",
    "\n",
    "df_semanal.head()\n"
   ]
  },
  {
   "cell_type": "markdown",
   "id": "0c996c66",
   "metadata": {},
   "source": [
    "Con esto ya tendríamos:\n",
    "\n",
    "Suma de ventas y cantidades por semana y familia.\n",
    "\n",
    "Variables exógenas adecuadamente agregadas para la semana."
   ]
  },
  {
   "cell_type": "markdown",
   "id": "255911ae",
   "metadata": {},
   "source": [
    "# Paso 3: Generar columnas cíclicas para week_of_year"
   ]
  },
  {
   "cell_type": "code",
   "execution_count": 10,
   "id": "d1c8dabb",
   "metadata": {},
   "outputs": [
    {
     "data": {
      "application/vnd.microsoft.datawrangler.viewer.v0+json": {
       "columns": [
        {
         "name": "index",
         "rawType": "int64",
         "type": "integer"
        },
        {
         "name": "year_week",
         "rawType": "object",
         "type": "string"
        },
        {
         "name": "familia",
         "rawType": "object",
         "type": "string"
        },
        {
         "name": "week_of_year",
         "rawType": "UInt32",
         "type": "integer"
        },
        {
         "name": "week_of_year_sin",
         "rawType": "Float64",
         "type": "float"
        },
        {
         "name": "week_of_year_cos",
         "rawType": "Float64",
         "type": "float"
        }
       ],
       "ref": "26f8a411-6b75-4fec-aa4c-c968dc750f6f",
       "rows": [
        [
         "0",
         "2022-52",
         "cerrado",
         "52",
         "6.432490598706546e-16",
         "1.0"
        ],
        [
         "1",
         "2023-01",
         "AÑADIDOS",
         "1",
         "0.12053668025532305",
         "0.992708874098054"
        ],
        [
         "2",
         "2023-01",
         "BEBIDAS",
         "1",
         "0.12053668025532305",
         "0.992708874098054"
        ],
        [
         "3",
         "2023-01",
         "BOCADILLOS",
         "1",
         "0.12053668025532305",
         "0.992708874098054"
        ],
        [
         "4",
         "2023-01",
         "BOLLERIA",
         "1",
         "0.12053668025532305",
         "0.992708874098054"
        ]
       ],
       "shape": {
        "columns": 5,
        "rows": 5
       }
      },
      "text/html": [
       "<div>\n",
       "<style scoped>\n",
       "    .dataframe tbody tr th:only-of-type {\n",
       "        vertical-align: middle;\n",
       "    }\n",
       "\n",
       "    .dataframe tbody tr th {\n",
       "        vertical-align: top;\n",
       "    }\n",
       "\n",
       "    .dataframe thead th {\n",
       "        text-align: right;\n",
       "    }\n",
       "</style>\n",
       "<table border=\"1\" class=\"dataframe\">\n",
       "  <thead>\n",
       "    <tr style=\"text-align: right;\">\n",
       "      <th></th>\n",
       "      <th>year_week</th>\n",
       "      <th>familia</th>\n",
       "      <th>week_of_year</th>\n",
       "      <th>week_of_year_sin</th>\n",
       "      <th>week_of_year_cos</th>\n",
       "    </tr>\n",
       "  </thead>\n",
       "  <tbody>\n",
       "    <tr>\n",
       "      <th>0</th>\n",
       "      <td>2022-52</td>\n",
       "      <td>cerrado</td>\n",
       "      <td>52</td>\n",
       "      <td>0.0</td>\n",
       "      <td>1.0</td>\n",
       "    </tr>\n",
       "    <tr>\n",
       "      <th>1</th>\n",
       "      <td>2023-01</td>\n",
       "      <td>AÑADIDOS</td>\n",
       "      <td>1</td>\n",
       "      <td>0.120537</td>\n",
       "      <td>0.992709</td>\n",
       "    </tr>\n",
       "    <tr>\n",
       "      <th>2</th>\n",
       "      <td>2023-01</td>\n",
       "      <td>BEBIDAS</td>\n",
       "      <td>1</td>\n",
       "      <td>0.120537</td>\n",
       "      <td>0.992709</td>\n",
       "    </tr>\n",
       "    <tr>\n",
       "      <th>3</th>\n",
       "      <td>2023-01</td>\n",
       "      <td>BOCADILLOS</td>\n",
       "      <td>1</td>\n",
       "      <td>0.120537</td>\n",
       "      <td>0.992709</td>\n",
       "    </tr>\n",
       "    <tr>\n",
       "      <th>4</th>\n",
       "      <td>2023-01</td>\n",
       "      <td>BOLLERIA</td>\n",
       "      <td>1</td>\n",
       "      <td>0.120537</td>\n",
       "      <td>0.992709</td>\n",
       "    </tr>\n",
       "  </tbody>\n",
       "</table>\n",
       "</div>"
      ],
      "text/plain": [
       "  year_week     familia  week_of_year  week_of_year_sin  week_of_year_cos\n",
       "0   2022-52     cerrado            52               0.0               1.0\n",
       "1   2023-01    AÑADIDOS             1          0.120537          0.992709\n",
       "2   2023-01     BEBIDAS             1          0.120537          0.992709\n",
       "3   2023-01  BOCADILLOS             1          0.120537          0.992709\n",
       "4   2023-01    BOLLERIA             1          0.120537          0.992709"
      ]
     },
     "execution_count": 10,
     "metadata": {},
     "output_type": "execute_result"
    }
   ],
   "source": [
    "import numpy as np\n",
    "\n",
    "# Número total de semanas en el año (aprox)\n",
    "N_WEEKS = 52\n",
    "\n",
    "# Crear variables cíclicas\n",
    "df_semanal['week_of_year_sin'] = np.sin(2 * np.pi * df_semanal['week_of_year'] / N_WEEKS)\n",
    "df_semanal['week_of_year_cos'] = np.cos(2 * np.pi * df_semanal['week_of_year'] / N_WEEKS)\n",
    "\n",
    "df_semanal[['year_week', 'familia', 'week_of_year', 'week_of_year_sin', 'week_of_year_cos']].head()\n"
   ]
  },
  {
   "cell_type": "markdown",
   "id": "d711f222",
   "metadata": {},
   "source": [
    "# Paso 4: Filtrar el dataset semanal por la familia seleccionada"
   ]
  },
  {
   "cell_type": "code",
   "execution_count": 11,
   "id": "4393682f",
   "metadata": {},
   "outputs": [
    {
     "data": {
      "application/vnd.microsoft.datawrangler.viewer.v0+json": {
       "columns": [
        {
         "name": "index",
         "rawType": "int64",
         "type": "integer"
        },
        {
         "name": "year_week",
         "rawType": "object",
         "type": "string"
        },
        {
         "name": "familia",
         "rawType": "object",
         "type": "string"
        },
        {
         "name": "base_imponible",
         "rawType": "float64",
         "type": "float"
        },
        {
         "name": "total",
         "rawType": "float64",
         "type": "float"
        },
        {
         "name": "is_summer_peak",
         "rawType": "int64",
         "type": "integer"
        },
        {
         "name": "is_easter",
         "rawType": "int64",
         "type": "integer"
        },
        {
         "name": "is_weekend",
         "rawType": "int64",
         "type": "integer"
        },
        {
         "name": "year",
         "rawType": "UInt32",
         "type": "integer"
        },
        {
         "name": "week_of_year",
         "rawType": "UInt32",
         "type": "integer"
        },
        {
         "name": "week_of_year_sin",
         "rawType": "Float64",
         "type": "float"
        },
        {
         "name": "week_of_year_cos",
         "rawType": "Float64",
         "type": "float"
        }
       ],
       "ref": "ee605586-7be3-4837-b394-791be6219683",
       "rows": [
        [
         "0",
         "2023-01",
         "BOLLERIA",
         "825.11",
         "907.13",
         "0",
         "0",
         "2",
         "2023",
         "1",
         "0.12053668025532305",
         "0.992708874098054"
        ],
        [
         "1",
         "2023-02",
         "BOLLERIA",
         "658.4",
         "723.76",
         "0",
         "0",
         "2",
         "2023",
         "2",
         "0.23931566428755774",
         "0.970941817426052"
        ],
        [
         "2",
         "2023-03",
         "BOLLERIA",
         "741.4",
         "815.01",
         "0",
         "0",
         "2",
         "2023",
         "3",
         "0.3546048870425356",
         "0.9350162426854148"
        ],
        [
         "3",
         "2023-04",
         "BOLLERIA",
         "653.64",
         "718.5799999999999",
         "0",
         "0",
         "2",
         "2023",
         "4",
         "0.4647231720437685",
         "0.8854560256532099"
        ],
        [
         "4",
         "2023-05",
         "BOLLERIA",
         "680.46",
         "747.94",
         "0",
         "0",
         "2",
         "2023",
         "5",
         "0.5680647467311558",
         "0.8229838658936564"
        ]
       ],
       "shape": {
        "columns": 11,
        "rows": 5
       }
      },
      "text/html": [
       "<div>\n",
       "<style scoped>\n",
       "    .dataframe tbody tr th:only-of-type {\n",
       "        vertical-align: middle;\n",
       "    }\n",
       "\n",
       "    .dataframe tbody tr th {\n",
       "        vertical-align: top;\n",
       "    }\n",
       "\n",
       "    .dataframe thead th {\n",
       "        text-align: right;\n",
       "    }\n",
       "</style>\n",
       "<table border=\"1\" class=\"dataframe\">\n",
       "  <thead>\n",
       "    <tr style=\"text-align: right;\">\n",
       "      <th></th>\n",
       "      <th>year_week</th>\n",
       "      <th>familia</th>\n",
       "      <th>base_imponible</th>\n",
       "      <th>total</th>\n",
       "      <th>is_summer_peak</th>\n",
       "      <th>is_easter</th>\n",
       "      <th>is_weekend</th>\n",
       "      <th>year</th>\n",
       "      <th>week_of_year</th>\n",
       "      <th>week_of_year_sin</th>\n",
       "      <th>week_of_year_cos</th>\n",
       "    </tr>\n",
       "  </thead>\n",
       "  <tbody>\n",
       "    <tr>\n",
       "      <th>0</th>\n",
       "      <td>2023-01</td>\n",
       "      <td>BOLLERIA</td>\n",
       "      <td>825.11</td>\n",
       "      <td>907.13</td>\n",
       "      <td>0</td>\n",
       "      <td>0</td>\n",
       "      <td>2</td>\n",
       "      <td>2023</td>\n",
       "      <td>1</td>\n",
       "      <td>0.120537</td>\n",
       "      <td>0.992709</td>\n",
       "    </tr>\n",
       "    <tr>\n",
       "      <th>1</th>\n",
       "      <td>2023-02</td>\n",
       "      <td>BOLLERIA</td>\n",
       "      <td>658.40</td>\n",
       "      <td>723.76</td>\n",
       "      <td>0</td>\n",
       "      <td>0</td>\n",
       "      <td>2</td>\n",
       "      <td>2023</td>\n",
       "      <td>2</td>\n",
       "      <td>0.239316</td>\n",
       "      <td>0.970942</td>\n",
       "    </tr>\n",
       "    <tr>\n",
       "      <th>2</th>\n",
       "      <td>2023-03</td>\n",
       "      <td>BOLLERIA</td>\n",
       "      <td>741.40</td>\n",
       "      <td>815.01</td>\n",
       "      <td>0</td>\n",
       "      <td>0</td>\n",
       "      <td>2</td>\n",
       "      <td>2023</td>\n",
       "      <td>3</td>\n",
       "      <td>0.354605</td>\n",
       "      <td>0.935016</td>\n",
       "    </tr>\n",
       "    <tr>\n",
       "      <th>3</th>\n",
       "      <td>2023-04</td>\n",
       "      <td>BOLLERIA</td>\n",
       "      <td>653.64</td>\n",
       "      <td>718.58</td>\n",
       "      <td>0</td>\n",
       "      <td>0</td>\n",
       "      <td>2</td>\n",
       "      <td>2023</td>\n",
       "      <td>4</td>\n",
       "      <td>0.464723</td>\n",
       "      <td>0.885456</td>\n",
       "    </tr>\n",
       "    <tr>\n",
       "      <th>4</th>\n",
       "      <td>2023-05</td>\n",
       "      <td>BOLLERIA</td>\n",
       "      <td>680.46</td>\n",
       "      <td>747.94</td>\n",
       "      <td>0</td>\n",
       "      <td>0</td>\n",
       "      <td>2</td>\n",
       "      <td>2023</td>\n",
       "      <td>5</td>\n",
       "      <td>0.568065</td>\n",
       "      <td>0.822984</td>\n",
       "    </tr>\n",
       "  </tbody>\n",
       "</table>\n",
       "</div>"
      ],
      "text/plain": [
       "  year_week   familia  base_imponible   total  is_summer_peak  is_easter  \\\n",
       "0   2023-01  BOLLERIA          825.11  907.13               0          0   \n",
       "1   2023-02  BOLLERIA          658.40  723.76               0          0   \n",
       "2   2023-03  BOLLERIA          741.40  815.01               0          0   \n",
       "3   2023-04  BOLLERIA          653.64  718.58               0          0   \n",
       "4   2023-05  BOLLERIA          680.46  747.94               0          0   \n",
       "\n",
       "   is_weekend  year  week_of_year  week_of_year_sin  week_of_year_cos  \n",
       "0           2  2023             1          0.120537          0.992709  \n",
       "1           2  2023             2          0.239316          0.970942  \n",
       "2           2  2023             3          0.354605          0.935016  \n",
       "3           2  2023             4          0.464723          0.885456  \n",
       "4           2  2023             5          0.568065          0.822984  "
      ]
     },
     "execution_count": 11,
     "metadata": {},
     "output_type": "execute_result"
    }
   ],
   "source": [
    "# Paso 4: Filtrar el dataset semanal para la familia BOLLERIA\n",
    "df_bolleria = df_semanal[df_semanal['familia'] == 'BOLLERIA'].reset_index(drop=True)\n",
    "\n",
    "df_bolleria.head()\n"
   ]
  },
  {
   "cell_type": "markdown",
   "id": "7be21560",
   "metadata": {},
   "source": [
    "# Paso 5: Visualización"
   ]
  },
  {
   "cell_type": "code",
   "execution_count": 12,
   "id": "ff5ac987",
   "metadata": {},
   "outputs": [
    {
     "data": {
      "image/png": "[encoded data removed]",
      "text/plain": [
       "<Figure size 1400x600 with 1 Axes>"
      ]
     },
     "metadata": {},
     "output_type": "display_data"
    }
   ],
   "source": [
    "import matplotlib.pyplot as plt\n",
    "\n",
    "plt.figure(figsize=(14,6))\n",
    "plt.plot(df_bolleria['year_week'], df_bolleria['base_imponible'], marker='o')\n",
    "plt.title('Evolución Semanal de Ventas - BOLLERIA (Base Imponible)')\n",
    "plt.xlabel('Año-Semana')\n",
    "plt.ylabel('Base Imponible (€)')\n",
    "plt.xticks(rotation=45)\n",
    "plt.grid(True)\n",
    "plt.tight_layout()\n",
    "plt.show()\n"
   ]
  },
  {
   "cell_type": "markdown",
   "id": "99d0c46c",
   "metadata": {},
   "source": [
    "# Paso 6: Guardado en carpeta processed"
   ]
  },
  {
   "cell_type": "code",
   "execution_count": 15,
   "id": "858dc832",
   "metadata": {},
   "outputs": [
    {
     "name": "stdout",
     "output_type": "stream",
     "text": [
      "Dataset ts_df_bolleria_semanal guardado correctamente en 'data/processed'\n"
     ]
    }
   ],
   "source": [
    "import os\n",
    "\n",
    "# Crear la ruta si no existe\n",
    "processed_dir = '../data/processed'\n",
    "os.makedirs(processed_dir, exist_ok=True)\n",
    "\n",
    "# Guardar el dataset procesado\n",
    "df_bolleria.to_parquet(\n",
    "    os.path.join(processed_dir, 'ts_df_bolleria_semanal.parquet'),\n",
    "    index=False\n",
    ")\n",
    "\n",
    "print(\"Dataset ts_df_bolleria_semanal guardado correctamente en 'data/processed'\")\n"
   ]
  }
 ],
 "metadata": {
  "kernelspec": {
   "display_name": "mlops-project-py3.10",
   "language": "python",
   "name": "python3"
  },
  "language_info": {
   "codemirror_mode": {
    "name": "ipython",
    "version": 3
   },
   "file_extension": ".py",
   "mimetype": "text/x-python",
   "name": "python",
   "nbconvert_exporter": "python",
   "pygments_lexer": "ipython3",
   "version": "3.10.0"
  }
 },
 "nbformat": 4,
 "nbformat_minor": 5
}
