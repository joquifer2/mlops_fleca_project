{
 "cells": [
  {
   "cell_type": "code",
   "execution_count": 3,
   "id": "8cada8b5",
   "metadata": {},
   "outputs": [
    {
     "data": {
      "application/vnd.microsoft.datawrangler.viewer.v0+json": {
       "columns": [
        {
         "name": "index",
         "rawType": "int64",
         "type": "integer"
        },
        {
         "name": "fecha",
         "rawType": "object",
         "type": "unknown"
        },
        {
         "name": "hour",
         "rawType": "object",
         "type": "unknown"
        },
        {
         "name": "n_factura",
         "rawType": "object",
         "type": "string"
        },
        {
         "name": "zona_de_venta",
         "rawType": "object",
         "type": "string"
        },
        {
         "name": "producto",
         "rawType": "object",
         "type": "string"
        },
        {
         "name": "familia",
         "rawType": "object",
         "type": "string"
        },
        {
         "name": "cantidad",
         "rawType": "float64",
         "type": "float"
        },
        {
         "name": "base_imponible",
         "rawType": "float64",
         "type": "float"
        },
        {
         "name": "tipo_IVA",
         "rawType": "float64",
         "type": "float"
        },
        {
         "name": "total",
         "rawType": "float64",
         "type": "float"
        },
        {
         "name": "turno",
         "rawType": "object",
         "type": "unknown"
        }
       ],
       "ref": "c8f1f215-ca84-417a-86fd-f1f5bb6a4433",
       "rows": [
        [
         "0",
         "2025-06-13",
         null,
         "No facturado",
         "SALON",
         "CATALANA",
         "PAN",
         "1.0",
         "1.45",
         "10.0",
         "1.6",
         null
        ],
        [
         "1",
         "2025-06-05",
         null,
         "No facturado",
         "SALON",
         "CATALANA",
         "PAN",
         "1.0",
         "1.45",
         "10.0",
         "1.6",
         null
        ],
        [
         "2",
         "2025-06-27",
         null,
         "No facturado",
         "SALON",
         "CATALANA",
         "PAN",
         "1.0",
         "1.45",
         "10.0",
         "1.6",
         null
        ],
        [
         "3",
         "2025-06-04",
         null,
         "No facturado",
         "SALON",
         "CATALANA",
         "PAN",
         "1.0",
         "1.45",
         "10.0",
         "1.6",
         null
        ],
        [
         "4",
         "2025-05-28",
         null,
         "No facturado",
         "SALON",
         "CATALANA",
         "PAN",
         "1.0",
         "1.45",
         "10.0",
         "1.6",
         null
        ]
       ],
       "shape": {
        "columns": 11,
        "rows": 5
       }
      },
      "text/html": [
       "<div>\n",
       "<style scoped>\n",
       "    .dataframe tbody tr th:only-of-type {\n",
       "        vertical-align: middle;\n",
       "    }\n",
       "\n",
       "    .dataframe tbody tr th {\n",
       "        vertical-align: top;\n",
       "    }\n",
       "\n",
       "    .dataframe thead th {\n",
       "        text-align: right;\n",
       "    }\n",
       "</style>\n",
       "<table border=\"1\" class=\"dataframe\">\n",
       "  <thead>\n",
       "    <tr style=\"text-align: right;\">\n",
       "      <th></th>\n",
       "      <th>fecha</th>\n",
       "      <th>hour</th>\n",
       "      <th>n_factura</th>\n",
       "      <th>zona_de_venta</th>\n",
       "      <th>producto</th>\n",
       "      <th>familia</th>\n",
       "      <th>cantidad</th>\n",
       "      <th>base_imponible</th>\n",
       "      <th>tipo_IVA</th>\n",
       "      <th>total</th>\n",
       "      <th>turno</th>\n",
       "    </tr>\n",
       "  </thead>\n",
       "  <tbody>\n",
       "    <tr>\n",
       "      <th>0</th>\n",
       "      <td>2025-06-13</td>\n",
       "      <td>None</td>\n",
       "      <td>No facturado</td>\n",
       "      <td>SALON</td>\n",
       "      <td>CATALANA</td>\n",
       "      <td>PAN</td>\n",
       "      <td>1.0</td>\n",
       "      <td>1.45</td>\n",
       "      <td>10.0</td>\n",
       "      <td>1.6</td>\n",
       "      <td>None</td>\n",
       "    </tr>\n",
       "    <tr>\n",
       "      <th>1</th>\n",
       "      <td>2025-06-05</td>\n",
       "      <td>None</td>\n",
       "      <td>No facturado</td>\n",
       "      <td>SALON</td>\n",
       "      <td>CATALANA</td>\n",
       "      <td>PAN</td>\n",
       "      <td>1.0</td>\n",
       "      <td>1.45</td>\n",
       "      <td>10.0</td>\n",
       "      <td>1.6</td>\n",
       "      <td>None</td>\n",
       "    </tr>\n",
       "    <tr>\n",
       "      <th>2</th>\n",
       "      <td>2025-06-27</td>\n",
       "      <td>None</td>\n",
       "      <td>No facturado</td>\n",
       "      <td>SALON</td>\n",
       "      <td>CATALANA</td>\n",
       "      <td>PAN</td>\n",
       "      <td>1.0</td>\n",
       "      <td>1.45</td>\n",
       "      <td>10.0</td>\n",
       "      <td>1.6</td>\n",
       "      <td>None</td>\n",
       "    </tr>\n",
       "    <tr>\n",
       "      <th>3</th>\n",
       "      <td>2025-06-04</td>\n",
       "      <td>None</td>\n",
       "      <td>No facturado</td>\n",
       "      <td>SALON</td>\n",
       "      <td>CATALANA</td>\n",
       "      <td>PAN</td>\n",
       "      <td>1.0</td>\n",
       "      <td>1.45</td>\n",
       "      <td>10.0</td>\n",
       "      <td>1.6</td>\n",
       "      <td>None</td>\n",
       "    </tr>\n",
       "    <tr>\n",
       "      <th>4</th>\n",
       "      <td>2025-05-28</td>\n",
       "      <td>None</td>\n",
       "      <td>No facturado</td>\n",
       "      <td>SALON</td>\n",
       "      <td>CATALANA</td>\n",
       "      <td>PAN</td>\n",
       "      <td>1.0</td>\n",
       "      <td>1.45</td>\n",
       "      <td>10.0</td>\n",
       "      <td>1.6</td>\n",
       "      <td>None</td>\n",
       "    </tr>\n",
       "  </tbody>\n",
       "</table>\n",
       "</div>"
      ],
      "text/plain": [
       "        fecha  hour     n_factura zona_de_venta  producto familia  cantidad  \\\n",
       "0  2025-06-13  None  No facturado         SALON  CATALANA     PAN       1.0   \n",
       "1  2025-06-05  None  No facturado         SALON  CATALANA     PAN       1.0   \n",
       "2  2025-06-27  None  No facturado         SALON  CATALANA     PAN       1.0   \n",
       "3  2025-06-04  None  No facturado         SALON  CATALANA     PAN       1.0   \n",
       "4  2025-05-28  None  No facturado         SALON  CATALANA     PAN       1.0   \n",
       "\n",
       "   base_imponible  tipo_IVA  total turno  \n",
       "0            1.45      10.0    1.6  None  \n",
       "1            1.45      10.0    1.6  None  \n",
       "2            1.45      10.0    1.6  None  \n",
       "3            1.45      10.0    1.6  None  \n",
       "4            1.45      10.0    1.6  None  "
      ]
     },
     "execution_count": 3,
     "metadata": {},
     "output_type": "execute_result"
    }
   ],
   "source": [
    "# Cargar el archivo parquet en un DataFrame llamado df_fleca\n",
    "\n",
    "# Usamos pyarrow.parquet para poder acceder al schema y tipos de columnas del archivo parquet,\n",
    "# lo que permite detectar y convertir tipos especiales como 'dbdate' antes de cargar a pandas.\n",
    "import pandas as pd\n",
    "import pyarrow.parquet as pq  \n",
    "\n",
    "parquet_file = '../data/raw/raw_data_bq_forecasting_20250630.parquet'\n",
    "table = pq.read_table(parquet_file)\n",
    "schema = table.schema\n",
    "\n",
    "# Identificar columnas con tipo 'dbdate'\n",
    "dbdate_cols = [field.name for field in schema if str(field.type) == 'dbdate']\n",
    "\n",
    "# Convertir columnas 'dbdate' a string en el objeto Table de pyarrow\n",
    "for col in dbdate_cols:\n",
    "    table = table.set_column(table.schema.get_field_index(col), col, table.column(col).cast('string'))\n",
    "\n",
    "# Convertir a pandas desactivando la metadata de pandas\n",
    "df_fleca = table.to_pandas(ignore_metadata=True)\n",
    "\n",
    "df_fleca.head()"
   ]
  },
  {
   "cell_type": "code",
   "execution_count": 4,
   "id": "842612e3",
   "metadata": {},
   "outputs": [
    {
     "data": {
      "application/vnd.microsoft.datawrangler.viewer.v0+json": {
       "columns": [
        {
         "name": "index",
         "rawType": "int64",
         "type": "integer"
        },
        {
         "name": "fecha",
         "rawType": "object",
         "type": "unknown"
        },
        {
         "name": "familia",
         "rawType": "object",
         "type": "string"
        },
        {
         "name": "base_imponible",
         "rawType": "float64",
         "type": "float"
        }
       ],
       "ref": "850d6a23-debc-4cd9-bb2c-8f00e942823e",
       "rows": [
        [
         "0",
         "2025-06-13",
         "PAN",
         "1.45"
        ],
        [
         "1",
         "2025-06-05",
         "PAN",
         "1.45"
        ],
        [
         "2",
         "2025-06-27",
         "PAN",
         "1.45"
        ],
        [
         "3",
         "2025-06-04",
         "PAN",
         "1.45"
        ],
        [
         "4",
         "2025-05-28",
         "PAN",
         "1.45"
        ]
       ],
       "shape": {
        "columns": 3,
        "rows": 5
       }
      },
      "text/html": [
       "<div>\n",
       "<style scoped>\n",
       "    .dataframe tbody tr th:only-of-type {\n",
       "        vertical-align: middle;\n",
       "    }\n",
       "\n",
       "    .dataframe tbody tr th {\n",
       "        vertical-align: top;\n",
       "    }\n",
       "\n",
       "    .dataframe thead th {\n",
       "        text-align: right;\n",
       "    }\n",
       "</style>\n",
       "<table border=\"1\" class=\"dataframe\">\n",
       "  <thead>\n",
       "    <tr style=\"text-align: right;\">\n",
       "      <th></th>\n",
       "      <th>fecha</th>\n",
       "      <th>familia</th>\n",
       "      <th>base_imponible</th>\n",
       "    </tr>\n",
       "  </thead>\n",
       "  <tbody>\n",
       "    <tr>\n",
       "      <th>0</th>\n",
       "      <td>2025-06-13</td>\n",
       "      <td>PAN</td>\n",
       "      <td>1.45</td>\n",
       "    </tr>\n",
       "    <tr>\n",
       "      <th>1</th>\n",
       "      <td>2025-06-05</td>\n",
       "      <td>PAN</td>\n",
       "      <td>1.45</td>\n",
       "    </tr>\n",
       "    <tr>\n",
       "      <th>2</th>\n",
       "      <td>2025-06-27</td>\n",
       "      <td>PAN</td>\n",
       "      <td>1.45</td>\n",
       "    </tr>\n",
       "    <tr>\n",
       "      <th>3</th>\n",
       "      <td>2025-06-04</td>\n",
       "      <td>PAN</td>\n",
       "      <td>1.45</td>\n",
       "    </tr>\n",
       "    <tr>\n",
       "      <th>4</th>\n",
       "      <td>2025-05-28</td>\n",
       "      <td>PAN</td>\n",
       "      <td>1.45</td>\n",
       "    </tr>\n",
       "  </tbody>\n",
       "</table>\n",
       "</div>"
      ],
      "text/plain": [
       "        fecha familia  base_imponible\n",
       "0  2025-06-13     PAN            1.45\n",
       "1  2025-06-05     PAN            1.45\n",
       "2  2025-06-27     PAN            1.45\n",
       "3  2025-06-04     PAN            1.45\n",
       "4  2025-05-28     PAN            1.45"
      ]
     },
     "execution_count": 4,
     "metadata": {},
     "output_type": "execute_result"
    }
   ],
   "source": [
    "# Nos quedamos solo con las columnas de interés\n",
    "df_fleca = df_fleca[['fecha', 'familia', 'base_imponible']]\n",
    "df_fleca.head()"
   ]
  },
  {
   "cell_type": "code",
   "execution_count": 5,
   "id": "93a31d4d",
   "metadata": {},
   "outputs": [
    {
     "name": "stdout",
     "output_type": "stream",
     "text": [
      "<class 'pandas.core.frame.DataFrame'>\n",
      "RangeIndex: 187884 entries, 0 to 187883\n",
      "Data columns (total 3 columns):\n",
      " #   Column          Non-Null Count   Dtype  \n",
      "---  ------          --------------   -----  \n",
      " 0   fecha           187884 non-null  object \n",
      " 1   familia         187876 non-null  object \n",
      " 2   base_imponible  187876 non-null  float64\n",
      "dtypes: float64(1), object(2)\n",
      "memory usage: 4.3+ MB\n"
     ]
    }
   ],
   "source": [
    "# Verificar el tipo de datos de las columnas\n",
    "df_fleca.info()\n"
   ]
  },
  {
   "cell_type": "code",
   "execution_count": 6,
   "id": "1bb5fc0c",
   "metadata": {},
   "outputs": [
    {
     "name": "stdout",
     "output_type": "stream",
     "text": [
      "<class 'pandas.core.frame.DataFrame'>\n",
      "RangeIndex: 187884 entries, 0 to 187883\n",
      "Data columns (total 3 columns):\n",
      " #   Column          Non-Null Count   Dtype         \n",
      "---  ------          --------------   -----         \n",
      " 0   fecha           187884 non-null  datetime64[ns]\n",
      " 1   familia         187876 non-null  object        \n",
      " 2   base_imponible  187876 non-null  float64       \n",
      "dtypes: datetime64[ns](1), float64(1), object(1)\n",
      "memory usage: 4.3+ MB\n"
     ]
    }
   ],
   "source": [
    "#Cambiar el tipo de dato de la columna 'fecha' a datetime\n",
    "df_fleca['fecha'] = pd.to_datetime(df_fleca['fecha'], format='%Y-%m-%d', errors='coerce')\n",
    "df_fleca.info()"
   ]
  },
  {
   "cell_type": "code",
   "execution_count": 22,
   "id": "d9e9010c",
   "metadata": {},
   "outputs": [
    {
     "name": "stdout",
     "output_type": "stream",
     "text": [
      "<class 'pandas.core.frame.DataFrame'>\n",
      "RangeIndex: 187884 entries, 0 to 187883\n",
      "Data columns (total 3 columns):\n",
      " #   Column          Non-Null Count   Dtype         \n",
      "---  ------          --------------   -----         \n",
      " 0   fecha           187884 non-null  datetime64[ns]\n",
      " 1   familia         187884 non-null  object        \n",
      " 2   base_imponible  187876 non-null  float64       \n",
      "dtypes: datetime64[ns](1), float64(1), object(1)\n",
      "memory usage: 4.3+ MB\n"
     ]
    }
   ],
   "source": [
    "# Cambiar el tipo de dato de la columna 'familia' a string\n",
    "df_fleca['familia'] = df_fleca['familia'].astype(str)\n",
    "df_fleca.info()"
   ]
  },
  {
   "cell_type": "code",
   "execution_count": 24,
   "id": "c912479e",
   "metadata": {},
   "outputs": [
    {
     "data": {
      "application/vnd.microsoft.datawrangler.viewer.v0+json": {
       "columns": [
        {
         "name": "index",
         "rawType": "object",
         "type": "string"
        },
        {
         "name": "fecha",
         "rawType": "object",
         "type": "unknown"
        },
        {
         "name": "familia",
         "rawType": "object",
         "type": "unknown"
        },
        {
         "name": "base_imponible",
         "rawType": "float64",
         "type": "float"
        }
       ],
       "ref": "74340b65-c27c-4842-8d3d-95c47e6f2b58",
       "rows": [
        [
         "count",
         "187884",
         "187884",
         "187876.0"
        ],
        [
         "unique",
         null,
         "22",
         null
        ],
        [
         "top",
         null,
         "CAFES",
         null
        ],
        [
         "freq",
         null,
         "76728",
         null
        ],
        [
         "mean",
         "2024-09-24 20:59:18.382831872",
         null,
         "2.126538408311865"
        ],
        [
         "min",
         "2024-01-02 00:00:00",
         null,
         "0.0"
        ],
        [
         "25%",
         "2024-05-25 00:00:00",
         null,
         "1.36"
        ],
        [
         "50%",
         "2024-08-31 00:00:00",
         null,
         "1.64"
        ],
        [
         "75%",
         "2025-02-05 00:00:00",
         null,
         "2.36"
        ],
        [
         "max",
         "2025-06-30 00:00:00",
         null,
         "287.27"
        ],
        [
         "std",
         null,
         null,
         "1.7070122545779467"
        ]
       ],
       "shape": {
        "columns": 3,
        "rows": 11
       }
      },
      "text/html": [
       "<div>\n",
       "<style scoped>\n",
       "    .dataframe tbody tr th:only-of-type {\n",
       "        vertical-align: middle;\n",
       "    }\n",
       "\n",
       "    .dataframe tbody tr th {\n",
       "        vertical-align: top;\n",
       "    }\n",
       "\n",
       "    .dataframe thead th {\n",
       "        text-align: right;\n",
       "    }\n",
       "</style>\n",
       "<table border=\"1\" class=\"dataframe\">\n",
       "  <thead>\n",
       "    <tr style=\"text-align: right;\">\n",
       "      <th></th>\n",
       "      <th>fecha</th>\n",
       "      <th>familia</th>\n",
       "      <th>base_imponible</th>\n",
       "    </tr>\n",
       "  </thead>\n",
       "  <tbody>\n",
       "    <tr>\n",
       "      <th>count</th>\n",
       "      <td>187884</td>\n",
       "      <td>187884</td>\n",
       "      <td>187876.000000</td>\n",
       "    </tr>\n",
       "    <tr>\n",
       "      <th>unique</th>\n",
       "      <td>NaN</td>\n",
       "      <td>22</td>\n",
       "      <td>NaN</td>\n",
       "    </tr>\n",
       "    <tr>\n",
       "      <th>top</th>\n",
       "      <td>NaN</td>\n",
       "      <td>CAFES</td>\n",
       "      <td>NaN</td>\n",
       "    </tr>\n",
       "    <tr>\n",
       "      <th>freq</th>\n",
       "      <td>NaN</td>\n",
       "      <td>76728</td>\n",
       "      <td>NaN</td>\n",
       "    </tr>\n",
       "    <tr>\n",
       "      <th>mean</th>\n",
       "      <td>2024-09-24 20:59:18.382831872</td>\n",
       "      <td>NaN</td>\n",
       "      <td>2.126538</td>\n",
       "    </tr>\n",
       "    <tr>\n",
       "      <th>min</th>\n",
       "      <td>2024-01-02 00:00:00</td>\n",
       "      <td>NaN</td>\n",
       "      <td>0.000000</td>\n",
       "    </tr>\n",
       "    <tr>\n",
       "      <th>25%</th>\n",
       "      <td>2024-05-25 00:00:00</td>\n",
       "      <td>NaN</td>\n",
       "      <td>1.360000</td>\n",
       "    </tr>\n",
       "    <tr>\n",
       "      <th>50%</th>\n",
       "      <td>2024-08-31 00:00:00</td>\n",
       "      <td>NaN</td>\n",
       "      <td>1.640000</td>\n",
       "    </tr>\n",
       "    <tr>\n",
       "      <th>75%</th>\n",
       "      <td>2025-02-05 00:00:00</td>\n",
       "      <td>NaN</td>\n",
       "      <td>2.360000</td>\n",
       "    </tr>\n",
       "    <tr>\n",
       "      <th>max</th>\n",
       "      <td>2025-06-30 00:00:00</td>\n",
       "      <td>NaN</td>\n",
       "      <td>287.270000</td>\n",
       "    </tr>\n",
       "    <tr>\n",
       "      <th>std</th>\n",
       "      <td>NaN</td>\n",
       "      <td>NaN</td>\n",
       "      <td>1.707012</td>\n",
       "    </tr>\n",
       "  </tbody>\n",
       "</table>\n",
       "</div>"
      ],
      "text/plain": [
       "                                fecha familia  base_imponible\n",
       "count                          187884  187884   187876.000000\n",
       "unique                            NaN      22             NaN\n",
       "top                               NaN   CAFES             NaN\n",
       "freq                              NaN   76728             NaN\n",
       "mean    2024-09-24 20:59:18.382831872     NaN        2.126538\n",
       "min               2024-01-02 00:00:00     NaN        0.000000\n",
       "25%               2024-05-25 00:00:00     NaN        1.360000\n",
       "50%               2024-08-31 00:00:00     NaN        1.640000\n",
       "75%               2025-02-05 00:00:00     NaN        2.360000\n",
       "max               2025-06-30 00:00:00     NaN      287.270000\n",
       "std                               NaN     NaN        1.707012"
      ]
     },
     "execution_count": 24,
     "metadata": {},
     "output_type": "execute_result"
    }
   ],
   "source": [
    "# Ver que el DataFrame tiene los rangos de fecha de datos y los tipos de datos adecuados\n",
    "df_fleca.describe(include='all')"
   ]
  },
  {
   "cell_type": "code",
   "execution_count": 25,
   "id": "48b257d3",
   "metadata": {},
   "outputs": [],
   "source": [
    "# Guardar el DataFrame transformado en la carpeta interim\n",
    "df_fleca.to_parquet('../data/interim/validated_range_dates_20250630.parquet', index=False)"
   ]
  }
 ],
 "metadata": {
  "kernelspec": {
   "display_name": "mlops-project-py3.10",
   "language": "python",
   "name": "python3"
  },
  "language_info": {
   "codemirror_mode": {
    "name": "ipython",
    "version": 3
   },
   "file_extension": ".py",
   "mimetype": "text/x-python",
   "name": "python",
   "nbconvert_exporter": "python",
   "pygments_lexer": "ipython3",
   "version": "3.10.0"
  }
 },
 "nbformat": 4,
 "nbformat_minor": 5
}
