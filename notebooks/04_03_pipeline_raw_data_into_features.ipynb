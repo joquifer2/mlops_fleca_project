{
 "cells": [
  {
   "cell_type": "markdown",
   "id": "417820f2",
   "metadata": {},
   "source": [
    "# Preparación de datos MLOps (_todas las categorías)\n",
    "\n",
    "Este notebook permite transformar los datos a series temporales, filtrando por una categoría concreta (por ejemplo, 'BOLLERIA') o mostrando todas las categorías si no se especifica ninguna."
   ]
  },
  {
   "cell_type": "code",
   "execution_count": 11,
   "id": "cad71387",
   "metadata": {},
   "outputs": [],
   "source": [
    "import sys\n",
    "import importlib\n",
    "# Recargar el módulo data_utils_02 para asegurar que se carguen los cambios\n",
    "if 'src.data_utils_02' in sys.modules:\n",
    "    importlib.reload(sys.modules['src.data_utils_02'])"
   ]
  },
  {
   "cell_type": "markdown",
   "id": "216ddf91",
   "metadata": {},
   "source": [
    "## Carga de datos\n",
    "\n",
    "Este notebook encapsula el proceso de carga de datos, transformación a series temporales y creación de características y target en funciones reutilizables para forecasting."
   ]
  },
  {
   "cell_type": "code",
   "execution_count": 13,
   "id": "013ea151",
   "metadata": {},
   "outputs": [
    {
     "data": {
      "application/vnd.microsoft.datawrangler.viewer.v0+json": {
       "columns": [
        {
         "name": "index",
         "rawType": "object",
         "type": "string"
        },
        {
         "name": "fecha",
         "rawType": "object",
         "type": "unknown"
        },
        {
         "name": "cantidad",
         "rawType": "float64",
         "type": "float"
        },
        {
         "name": "base_imponible",
         "rawType": "float64",
         "type": "float"
        },
        {
         "name": "tipo_IVA",
         "rawType": "float64",
         "type": "float"
        },
        {
         "name": "total",
         "rawType": "float64",
         "type": "float"
        },
        {
         "name": "is_summer_peak",
         "rawType": "float64",
         "type": "float"
        },
        {
         "name": "is_easter",
         "rawType": "float64",
         "type": "float"
        }
       ],
       "ref": "8a07c3f3-b5bc-4246-82d5-91a77c5a62ea",
       "rows": [
        [
         "count",
         "337353",
         "337353.0",
         "337353.0",
         "335106.0",
         "337353.0",
         "337353.0",
         "337353.0"
        ],
        [
         "mean",
         "2024-03-10 00:54:30.032281344",
         "1.2093028519088314",
         "2.010885719113214",
         "9.084558318860301",
         "2.1991803244672496",
         "0.20847302380592436",
         "0.0"
        ],
        [
         "min",
         "2023-01-02 00:00:00",
         "0.0",
         "0.0",
         "0.0",
         "0.0",
         "0.0",
         "0.0"
        ],
        [
         "25%",
         "2023-07-28 00:00:00",
         "1.0",
         "1.35",
         "10.0",
         "1.45",
         "0.0",
         "0.0"
        ],
        [
         "50%",
         "2024-03-09 00:00:00",
         "1.0",
         "1.64",
         "10.0",
         "1.8",
         "0.0",
         "0.0"
        ],
        [
         "75%",
         "2024-09-25 00:00:00",
         "1.0",
         "2.32",
         "10.0",
         "2.55",
         "0.0",
         "0.0"
        ],
        [
         "max",
         "2025-06-30 00:00:00",
         "93.0",
         "287.27",
         "10.0",
         "316.0",
         "1.0",
         "0.0"
        ],
        [
         "std",
         null,
         "0.7332626326227984",
         "1.692277655958933",
         "2.7933666902854744",
         "1.86215607817965",
         "0.4062173202734535",
         "0.0"
        ]
       ],
       "shape": {
        "columns": 7,
        "rows": 8
       }
      },
      "text/html": [
       "<div>\n",
       "<style scoped>\n",
       "    .dataframe tbody tr th:only-of-type {\n",
       "        vertical-align: middle;\n",
       "    }\n",
       "\n",
       "    .dataframe tbody tr th {\n",
       "        vertical-align: top;\n",
       "    }\n",
       "\n",
       "    .dataframe thead th {\n",
       "        text-align: right;\n",
       "    }\n",
       "</style>\n",
       "<table border=\"1\" class=\"dataframe\">\n",
       "  <thead>\n",
       "    <tr style=\"text-align: right;\">\n",
       "      <th></th>\n",
       "      <th>fecha</th>\n",
       "      <th>cantidad</th>\n",
       "      <th>base_imponible</th>\n",
       "      <th>tipo_IVA</th>\n",
       "      <th>total</th>\n",
       "      <th>is_summer_peak</th>\n",
       "      <th>is_easter</th>\n",
       "    </tr>\n",
       "  </thead>\n",
       "  <tbody>\n",
       "    <tr>\n",
       "      <th>count</th>\n",
       "      <td>337353</td>\n",
       "      <td>337353.000000</td>\n",
       "      <td>337353.000000</td>\n",
       "      <td>335106.000000</td>\n",
       "      <td>337353.000000</td>\n",
       "      <td>337353.000000</td>\n",
       "      <td>337353.0</td>\n",
       "    </tr>\n",
       "    <tr>\n",
       "      <th>mean</th>\n",
       "      <td>2024-03-10 00:54:30.032281344</td>\n",
       "      <td>1.209303</td>\n",
       "      <td>2.010886</td>\n",
       "      <td>9.084558</td>\n",
       "      <td>2.199180</td>\n",
       "      <td>0.208473</td>\n",
       "      <td>0.0</td>\n",
       "    </tr>\n",
       "    <tr>\n",
       "      <th>min</th>\n",
       "      <td>2023-01-02 00:00:00</td>\n",
       "      <td>0.000000</td>\n",
       "      <td>0.000000</td>\n",
       "      <td>0.000000</td>\n",
       "      <td>0.000000</td>\n",
       "      <td>0.000000</td>\n",
       "      <td>0.0</td>\n",
       "    </tr>\n",
       "    <tr>\n",
       "      <th>25%</th>\n",
       "      <td>2023-07-28 00:00:00</td>\n",
       "      <td>1.000000</td>\n",
       "      <td>1.350000</td>\n",
       "      <td>10.000000</td>\n",
       "      <td>1.450000</td>\n",
       "      <td>0.000000</td>\n",
       "      <td>0.0</td>\n",
       "    </tr>\n",
       "    <tr>\n",
       "      <th>50%</th>\n",
       "      <td>2024-03-09 00:00:00</td>\n",
       "      <td>1.000000</td>\n",
       "      <td>1.640000</td>\n",
       "      <td>10.000000</td>\n",
       "      <td>1.800000</td>\n",
       "      <td>0.000000</td>\n",
       "      <td>0.0</td>\n",
       "    </tr>\n",
       "    <tr>\n",
       "      <th>75%</th>\n",
       "      <td>2024-09-25 00:00:00</td>\n",
       "      <td>1.000000</td>\n",
       "      <td>2.320000</td>\n",
       "      <td>10.000000</td>\n",
       "      <td>2.550000</td>\n",
       "      <td>0.000000</td>\n",
       "      <td>0.0</td>\n",
       "    </tr>\n",
       "    <tr>\n",
       "      <th>max</th>\n",
       "      <td>2025-06-30 00:00:00</td>\n",
       "      <td>93.000000</td>\n",
       "      <td>287.270000</td>\n",
       "      <td>10.000000</td>\n",
       "      <td>316.000000</td>\n",
       "      <td>1.000000</td>\n",
       "      <td>0.0</td>\n",
       "    </tr>\n",
       "    <tr>\n",
       "      <th>std</th>\n",
       "      <td>NaN</td>\n",
       "      <td>0.733263</td>\n",
       "      <td>1.692278</td>\n",
       "      <td>2.793367</td>\n",
       "      <td>1.862156</td>\n",
       "      <td>0.406217</td>\n",
       "      <td>0.0</td>\n",
       "    </tr>\n",
       "  </tbody>\n",
       "</table>\n",
       "</div>"
      ],
      "text/plain": [
       "                               fecha       cantidad  ...  is_summer_peak  is_easter\n",
       "count                         337353  337353.000000  ...   337353.000000   337353.0\n",
       "mean   2024-03-10 00:54:30.032281344       1.209303  ...        0.208473        0.0\n",
       "min              2023-01-02 00:00:00       0.000000  ...        0.000000        0.0\n",
       "25%              2023-07-28 00:00:00       1.000000  ...        0.000000        0.0\n",
       "50%              2024-03-09 00:00:00       1.000000  ...        0.000000        0.0\n",
       "75%              2024-09-25 00:00:00       1.000000  ...        0.000000        0.0\n",
       "max              2025-06-30 00:00:00      93.000000  ...        1.000000        0.0\n",
       "std                              NaN       0.733263  ...        0.406217        0.0\n",
       "\n",
       "[8 rows x 7 columns]"
      ]
     },
     "execution_count": 13,
     "metadata": {},
     "output_type": "execute_result"
    }
   ],
   "source": [
    "from src.data_utils_02 import load_raw_data \n",
    "# Descarga y carga datos raw desde BigQuery para el rango de fechas especificado\n",
    "df_raw = load_raw_data(\n",
    "    fecha_inicio=\"2023-01-02\", \n",
    "    fecha_fin=\"2025-06-30\", \n",
    "    descargar_bq=False)\n",
    "df_raw.describe()"
   ]
  },
  {
   "cell_type": "markdown",
   "id": "17fdad43",
   "metadata": {},
   "source": [
    "## Transformación a series temporales por categoría"
   ]
  },
  {
   "cell_type": "code",
   "execution_count": 36,
   "id": "94314dc2",
   "metadata": {},
   "outputs": [
    {
     "name": "stdout",
     "output_type": "stream",
     "text": [
      "Mostrando todas las categorías\n",
      "Archivo guardado en: C:\\Workspace\\mlops_fleca_project\\data\\interim\\time_series_TODAS_weekly_20250804.parquet\n"
     ]
    },
    {
     "data": {
      "application/vnd.microsoft.datawrangler.viewer.v0+json": {
       "columns": [
        {
         "name": "index",
         "rawType": "int64",
         "type": "integer"
        },
        {
         "name": "year",
         "rawType": "UInt32",
         "type": "integer"
        },
        {
         "name": "week",
         "rawType": "UInt32",
         "type": "integer"
        },
        {
         "name": "base_imponible",
         "rawType": "float64",
         "type": "float"
        },
        {
         "name": "is_summer_peak",
         "rawType": "int64",
         "type": "integer"
        },
        {
         "name": "is_easter",
         "rawType": "int64",
         "type": "integer"
        },
        {
         "name": "dias_semana",
         "rawType": "int64",
         "type": "integer"
        },
        {
         "name": "week_start",
         "rawType": "datetime64[ns]",
         "type": "datetime"
        }
       ],
       "ref": "eb02ed2c-d5d2-4b8d-9bdb-25749ab62630",
       "rows": [
        [
         "0",
         "2023",
         "1",
         "5200.02",
         "0",
         "0",
         "7",
         "2023-01-02 00:00:00"
        ],
        [
         "1",
         "2023",
         "2",
         "4020.09",
         "0",
         "0",
         "7",
         "2023-01-09 00:00:00"
        ],
        [
         "2",
         "2023",
         "3",
         "4406.36",
         "0",
         "0",
         "7",
         "2023-01-16 00:00:00"
        ],
        [
         "3",
         "2023",
         "4",
         "4022.09",
         "0",
         "0",
         "7",
         "2023-01-23 00:00:00"
        ],
        [
         "4",
         "2023",
         "5",
         "3952.34",
         "0",
         "0",
         "7",
         "2023-01-30 00:00:00"
        ],
        [
         "5",
         "2023",
         "6",
         "3732.84",
         "0",
         "0",
         "7",
         "2023-02-06 00:00:00"
        ],
        [
         "6",
         "2023",
         "7",
         "4173.84",
         "0",
         "0",
         "7",
         "2023-02-13 00:00:00"
        ],
        [
         "7",
         "2023",
         "8",
         "3986.09",
         "0",
         "0",
         "7",
         "2023-02-20 00:00:00"
        ],
        [
         "8",
         "2023",
         "9",
         "4575.75",
         "0",
         "0",
         "7",
         "2023-02-27 00:00:00"
        ],
        [
         "9",
         "2023",
         "10",
         "4075.4",
         "0",
         "0",
         "7",
         "2023-03-06 00:00:00"
        ],
        [
         "10",
         "2023",
         "11",
         "4604.77",
         "0",
         "0",
         "7",
         "2023-03-13 00:00:00"
        ],
        [
         "11",
         "2023",
         "12",
         "4476.88",
         "0",
         "0",
         "7",
         "2023-03-20 00:00:00"
        ],
        [
         "12",
         "2023",
         "13",
         "4892.79",
         "0",
         "0",
         "7",
         "2023-03-27 00:00:00"
        ],
        [
         "13",
         "2023",
         "14",
         "9146.539999999999",
         "0",
         "1",
         "7",
         "2023-04-03 00:00:00"
        ],
        [
         "14",
         "2023",
         "15",
         "5647.79",
         "0",
         "0",
         "7",
         "2023-04-10 00:00:00"
        ],
        [
         "15",
         "2023",
         "16",
         "4416.02",
         "0",
         "0",
         "7",
         "2023-04-17 00:00:00"
        ],
        [
         "16",
         "2023",
         "17",
         "5247.66",
         "0",
         "0",
         "7",
         "2023-04-24 00:00:00"
        ],
        [
         "17",
         "2023",
         "18",
         "5827.58",
         "0",
         "0",
         "7",
         "2023-05-01 00:00:00"
        ],
        [
         "18",
         "2023",
         "19",
         "5097.56",
         "0",
         "0",
         "7",
         "2023-05-08 00:00:00"
        ],
        [
         "19",
         "2023",
         "20",
         "4970.24",
         "0",
         "0",
         "7",
         "2023-05-15 00:00:00"
        ],
        [
         "20",
         "2023",
         "21",
         "5343.63",
         "0",
         "0",
         "7",
         "2023-05-22 00:00:00"
        ],
        [
         "21",
         "2023",
         "22",
         "5236.07",
         "0",
         "0",
         "7",
         "2023-05-29 00:00:00"
        ],
        [
         "22",
         "2023",
         "23",
         "5364.98",
         "0",
         "0",
         "7",
         "2023-06-05 00:00:00"
        ],
        [
         "23",
         "2023",
         "24",
         "6054.21",
         "0",
         "0",
         "7",
         "2023-06-12 00:00:00"
        ],
        [
         "24",
         "2023",
         "25",
         "6629.31",
         "0",
         "0",
         "7",
         "2023-06-19 00:00:00"
        ],
        [
         "25",
         "2023",
         "26",
         "7619.07",
         "1",
         "0",
         "7",
         "2023-06-26 00:00:00"
        ],
        [
         "26",
         "2023",
         "27",
         "7076.15",
         "1",
         "0",
         "7",
         "2023-07-03 00:00:00"
        ],
        [
         "27",
         "2023",
         "28",
         "7357.62",
         "1",
         "0",
         "7",
         "2023-07-10 00:00:00"
        ],
        [
         "28",
         "2023",
         "29",
         "7390.06",
         "1",
         "0",
         "7",
         "2023-07-17 00:00:00"
        ],
        [
         "29",
         "2023",
         "30",
         "7617.69",
         "1",
         "0",
         "7",
         "2023-07-24 00:00:00"
        ],
        [
         "30",
         "2023",
         "31",
         "7864.86",
         "1",
         "0",
         "7",
         "2023-07-31 00:00:00"
        ],
        [
         "31",
         "2023",
         "32",
         "9201.22",
         "1",
         "0",
         "7",
         "2023-08-07 00:00:00"
        ],
        [
         "32",
         "2023",
         "33",
         "9771.9",
         "1",
         "0",
         "7",
         "2023-08-14 00:00:00"
        ],
        [
         "33",
         "2023",
         "34",
         "8309.95",
         "1",
         "0",
         "7",
         "2023-08-21 00:00:00"
        ],
        [
         "34",
         "2023",
         "35",
         "6160.4",
         "1",
         "0",
         "7",
         "2023-08-28 00:00:00"
        ],
        [
         "35",
         "2023",
         "36",
         "5984.26",
         "0",
         "0",
         "7",
         "2023-09-04 00:00:00"
        ],
        [
         "36",
         "2023",
         "37",
         "5622.81",
         "0",
         "0",
         "7",
         "2023-09-11 00:00:00"
        ],
        [
         "37",
         "2023",
         "38",
         "5451.86",
         "0",
         "0",
         "7",
         "2023-09-18 00:00:00"
        ],
        [
         "38",
         "2023",
         "39",
         "5208.35",
         "0",
         "0",
         "7",
         "2023-09-25 00:00:00"
        ],
        [
         "39",
         "2023",
         "40",
         "5153.77",
         "0",
         "0",
         "7",
         "2023-10-02 00:00:00"
        ],
        [
         "40",
         "2023",
         "41",
         "5718.31",
         "0",
         "0",
         "7",
         "2023-10-09 00:00:00"
        ],
        [
         "41",
         "2023",
         "42",
         "4550.95",
         "0",
         "0",
         "7",
         "2023-10-16 00:00:00"
        ],
        [
         "42",
         "2023",
         "43",
         "4627.06",
         "0",
         "0",
         "7",
         "2023-10-23 00:00:00"
        ],
        [
         "43",
         "2023",
         "44",
         "3919.71",
         "0",
         "0",
         "7",
         "2023-10-30 00:00:00"
        ],
        [
         "44",
         "2023",
         "45",
         "1683.93",
         "0",
         "0",
         "7",
         "2023-11-06 00:00:00"
        ],
        [
         "45",
         "2023",
         "46",
         "4547.02",
         "0",
         "0",
         "7",
         "2023-11-13 00:00:00"
        ],
        [
         "46",
         "2023",
         "47",
         "3946.75",
         "0",
         "0",
         "7",
         "2023-11-20 00:00:00"
        ],
        [
         "47",
         "2023",
         "48",
         "3888.56",
         "0",
         "0",
         "7",
         "2023-11-27 00:00:00"
        ],
        [
         "48",
         "2023",
         "49",
         "4603.02",
         "0",
         "0",
         "7",
         "2023-12-04 00:00:00"
        ],
        [
         "49",
         "2023",
         "50",
         "3434.63",
         "0",
         "0",
         "7",
         "2023-12-11 00:00:00"
        ]
       ],
       "shape": {
        "columns": 7,
        "rows": 126
       }
      },
      "text/html": [
       "<div>\n",
       "<style scoped>\n",
       "    .dataframe tbody tr th:only-of-type {\n",
       "        vertical-align: middle;\n",
       "    }\n",
       "\n",
       "    .dataframe tbody tr th {\n",
       "        vertical-align: top;\n",
       "    }\n",
       "\n",
       "    .dataframe thead th {\n",
       "        text-align: right;\n",
       "    }\n",
       "</style>\n",
       "<table border=\"1\" class=\"dataframe\">\n",
       "  <thead>\n",
       "    <tr style=\"text-align: right;\">\n",
       "      <th></th>\n",
       "      <th>year</th>\n",
       "      <th>week</th>\n",
       "      <th>base_imponible</th>\n",
       "      <th>is_summer_peak</th>\n",
       "      <th>is_easter</th>\n",
       "      <th>dias_semana</th>\n",
       "      <th>week_start</th>\n",
       "    </tr>\n",
       "  </thead>\n",
       "  <tbody>\n",
       "    <tr>\n",
       "      <th>0</th>\n",
       "      <td>2023</td>\n",
       "      <td>1</td>\n",
       "      <td>5200.02</td>\n",
       "      <td>0</td>\n",
       "      <td>0</td>\n",
       "      <td>7</td>\n",
       "      <td>2023-01-02</td>\n",
       "    </tr>\n",
       "    <tr>\n",
       "      <th>1</th>\n",
       "      <td>2023</td>\n",
       "      <td>2</td>\n",
       "      <td>4020.09</td>\n",
       "      <td>0</td>\n",
       "      <td>0</td>\n",
       "      <td>7</td>\n",
       "      <td>2023-01-09</td>\n",
       "    </tr>\n",
       "    <tr>\n",
       "      <th>2</th>\n",
       "      <td>2023</td>\n",
       "      <td>3</td>\n",
       "      <td>4406.36</td>\n",
       "      <td>0</td>\n",
       "      <td>0</td>\n",
       "      <td>7</td>\n",
       "      <td>2023-01-16</td>\n",
       "    </tr>\n",
       "    <tr>\n",
       "      <th>3</th>\n",
       "      <td>2023</td>\n",
       "      <td>4</td>\n",
       "      <td>4022.09</td>\n",
       "      <td>0</td>\n",
       "      <td>0</td>\n",
       "      <td>7</td>\n",
       "      <td>2023-01-23</td>\n",
       "    </tr>\n",
       "    <tr>\n",
       "      <th>4</th>\n",
       "      <td>2023</td>\n",
       "      <td>5</td>\n",
       "      <td>3952.34</td>\n",
       "      <td>0</td>\n",
       "      <td>0</td>\n",
       "      <td>7</td>\n",
       "      <td>2023-01-30</td>\n",
       "    </tr>\n",
       "    <tr>\n",
       "      <th>...</th>\n",
       "      <td>...</td>\n",
       "      <td>...</td>\n",
       "      <td>...</td>\n",
       "      <td>...</td>\n",
       "      <td>...</td>\n",
       "      <td>...</td>\n",
       "      <td>...</td>\n",
       "    </tr>\n",
       "    <tr>\n",
       "      <th>121</th>\n",
       "      <td>2025</td>\n",
       "      <td>22</td>\n",
       "      <td>5300.39</td>\n",
       "      <td>0</td>\n",
       "      <td>0</td>\n",
       "      <td>7</td>\n",
       "      <td>2025-05-26</td>\n",
       "    </tr>\n",
       "    <tr>\n",
       "      <th>122</th>\n",
       "      <td>2025</td>\n",
       "      <td>23</td>\n",
       "      <td>5296.86</td>\n",
       "      <td>0</td>\n",
       "      <td>0</td>\n",
       "      <td>7</td>\n",
       "      <td>2025-06-02</td>\n",
       "    </tr>\n",
       "    <tr>\n",
       "      <th>123</th>\n",
       "      <td>2025</td>\n",
       "      <td>24</td>\n",
       "      <td>6010.64</td>\n",
       "      <td>0</td>\n",
       "      <td>0</td>\n",
       "      <td>7</td>\n",
       "      <td>2025-06-09</td>\n",
       "    </tr>\n",
       "    <tr>\n",
       "      <th>124</th>\n",
       "      <td>2025</td>\n",
       "      <td>25</td>\n",
       "      <td>5705.66</td>\n",
       "      <td>0</td>\n",
       "      <td>0</td>\n",
       "      <td>7</td>\n",
       "      <td>2025-06-16</td>\n",
       "    </tr>\n",
       "    <tr>\n",
       "      <th>125</th>\n",
       "      <td>2025</td>\n",
       "      <td>26</td>\n",
       "      <td>7198.16</td>\n",
       "      <td>0</td>\n",
       "      <td>0</td>\n",
       "      <td>7</td>\n",
       "      <td>2025-06-23</td>\n",
       "    </tr>\n",
       "  </tbody>\n",
       "</table>\n",
       "<p>126 rows × 7 columns</p>\n",
       "</div>"
      ],
      "text/plain": [
       "     year  week  base_imponible  is_summer_peak  is_easter  dias_semana  \\\n",
       "0    2023     1         5200.02               0          0            7   \n",
       "1    2023     2         4020.09               0          0            7   \n",
       "2    2023     3         4406.36               0          0            7   \n",
       "3    2023     4         4022.09               0          0            7   \n",
       "4    2023     5         3952.34               0          0            7   \n",
       "..    ...   ...             ...             ...        ...          ...   \n",
       "121  2025    22         5300.39               0          0            7   \n",
       "122  2025    23         5296.86               0          0            7   \n",
       "123  2025    24         6010.64               0          0            7   \n",
       "124  2025    25         5705.66               0          0            7   \n",
       "125  2025    26         7198.16               0          0            7   \n",
       "\n",
       "    week_start  \n",
       "0   2023-01-02  \n",
       "1   2023-01-09  \n",
       "2   2023-01-16  \n",
       "3   2023-01-23  \n",
       "4   2023-01-30  \n",
       "..         ...  \n",
       "121 2025-05-26  \n",
       "122 2025-06-02  \n",
       "123 2025-06-09  \n",
       "124 2025-06-16  \n",
       "125 2025-06-23  \n",
       "\n",
       "[126 rows x 7 columns]"
      ]
     },
     "execution_count": 36,
     "metadata": {},
     "output_type": "execute_result"
    }
   ],
   "source": [
    "from src.data_utils_02 import transformar_a_series_temporales, guardar_time_series_interim # type: ignore\n",
    "\n",
    "# Selecciona la categoría (por ejemplo, 'BOLLERIA'). Si es None, se muestran todas las categorías.\n",
    "categoria = None  # Cambia a None (sin comillas) para mostrar todas las categorías\n",
    "\n",
    "if categoria is not None and isinstance(categoria, str) and categoria != '':\n",
    "    df_filtrado = df_raw[df_raw['familia'] == categoria]\n",
    "    print(f'Filtrando por categoría: {categoria}')\n",
    "else:\n",
    "    df_filtrado = df_raw\n",
    "    print('Mostrando todas las categorías')\n",
    "\n",
    "df_familia_semanal = transformar_a_series_temporales(\n",
    "    df_filtrado, \n",
    "    familia=categoria, \n",
    "    guardar_interim=True\n",
    ")\n",
    "df_familia_semanal.head(150)"
   ]
  },
  {
   "cell_type": "code",
   "execution_count": 37,
   "id": "a8cf29c7",
   "metadata": {},
   "outputs": [
    {
     "name": "stdout",
     "output_type": "stream",
     "text": [
      "Fechas con is_easter > 0:\n",
      "     year  week  is_easter\n",
      "13   2023    14          1\n",
      "62   2024    13          1\n",
      "115  2025    16          1\n",
      "Semana 14 del 2023 marcada como Semana Santa: True\n",
      "Semana 13 del 2024 marcada como Semana Santa: True\n",
      "Semana 16 del 2025 marcada como Semana Santa: True\n"
     ]
    }
   ],
   "source": [
    "# Verificar los valores de is_easter en las fechas de Semana Santa\n",
    "easter_dates = df_familia_semanal[df_familia_semanal['is_easter'] > 0]\n",
    "print(\"Fechas con is_easter > 0:\")\n",
    "print(easter_dates[['year', 'week', 'is_easter']])\n",
    "\n",
    "# Verificar que tenemos las 3 semanas de Semana Santa correctas\n",
    "expected_easter_weeks = [\n",
    "    (2023, 14),  # Semana Santa 2023\n",
    "    (2024, 13),  # Semana Santa 2024\n",
    "    (2025, 16)   # Semana Santa 2025\n",
    "]\n",
    "\n",
    "for year, week in expected_easter_weeks:\n",
    "    is_marked = ((df_familia_semanal['year'] == year) & \n",
    "                 (df_familia_semanal['week'] == week) & \n",
    "                 (df_familia_semanal['is_easter'] == 1)).any()\n",
    "    print(f\"Semana {week} del {year} marcada como Semana Santa: {is_marked}\")"
   ]
  },
  {
   "cell_type": "code",
   "execution_count": 38,
   "id": "0a933553",
   "metadata": {},
   "outputs": [
    {
     "name": "stdout",
     "output_type": "stream",
     "text": [
      "<class 'pandas.core.frame.DataFrame'>\n",
      "RangeIndex: 126 entries, 0 to 125\n",
      "Data columns (total 7 columns):\n",
      " #   Column          Non-Null Count  Dtype         \n",
      "---  ------          --------------  -----         \n",
      " 0   year            126 non-null    UInt32        \n",
      " 1   week            126 non-null    UInt32        \n",
      " 2   base_imponible  126 non-null    float64       \n",
      " 3   is_summer_peak  126 non-null    int64         \n",
      " 4   is_easter       126 non-null    int64         \n",
      " 5   dias_semana     126 non-null    int64         \n",
      " 6   week_start      126 non-null    datetime64[ns]\n",
      "dtypes: UInt32(2), datetime64[ns](1), float64(1), int64(3)\n",
      "memory usage: 6.3 KB\n"
     ]
    }
   ],
   "source": [
    "df_familia_semanal.info()"
   ]
  },
  {
   "cell_type": "markdown",
   "id": "a7e1761e",
   "metadata": {},
   "source": [
    "## Transformación a features y target"
   ]
  },
  {
   "cell_type": "code",
   "execution_count": 40,
   "id": "b8715f7c",
   "metadata": {},
   "outputs": [
    {
     "name": "stdout",
     "output_type": "stream",
     "text": [
      "Dimensión de X (features): (73, 7)\n",
      "Dimensión de y (target): (73,)\n",
      "Primeras filas de X:\n"
     ]
    },
    {
     "data": {
      "application/vnd.microsoft.datawrangler.viewer.v0+json": {
       "columns": [
        {
         "name": "index",
         "rawType": "int64",
         "type": "integer"
        },
        {
         "name": "base_imponible_lag1",
         "rawType": "float64",
         "type": "float"
        },
        {
         "name": "base_imponible_lag2",
         "rawType": "float64",
         "type": "float"
        },
        {
         "name": "base_imponible_lag3",
         "rawType": "float64",
         "type": "float"
        },
        {
         "name": "base_imponible_lag52",
         "rawType": "float64",
         "type": "float"
        },
        {
         "name": "is_summer_peak",
         "rawType": "int64",
         "type": "integer"
        },
        {
         "name": "is_easter",
         "rawType": "int64",
         "type": "integer"
        },
        {
         "name": "week_start",
         "rawType": "datetime64[ns]",
         "type": "datetime"
        }
       ],
       "ref": "0c690b08-b7d1-43f3-bf00-846efd6c0403",
       "rows": [
        [
         "52",
         "3578.16",
         "3240.28",
         "3434.63",
         "5200.02",
         "0",
         "0",
         "2024-01-15 00:00:00"
        ],
        [
         "53",
         "3790.88",
         "3578.16",
         "3240.28",
         "4020.09",
         "0",
         "0",
         "2024-01-22 00:00:00"
        ],
        [
         "54",
         "4096.18",
         "3790.88",
         "3578.16",
         "4406.36",
         "0",
         "0",
         "2024-01-29 00:00:00"
        ],
        [
         "55",
         "3750.64",
         "4096.18",
         "3790.88",
         "4022.09",
         "0",
         "0",
         "2024-02-05 00:00:00"
        ],
        [
         "56",
         "3977.76",
         "3750.64",
         "4096.18",
         "3952.34",
         "0",
         "0",
         "2024-02-12 00:00:00"
        ],
        [
         "57",
         "4243.04",
         "3977.76",
         "3750.64",
         "3732.84",
         "0",
         "0",
         "2024-02-19 00:00:00"
        ],
        [
         "58",
         "3986.91",
         "4243.04",
         "3977.76",
         "4173.84",
         "0",
         "0",
         "2024-02-26 00:00:00"
        ],
        [
         "59",
         "4027.12",
         "3986.91",
         "4243.04",
         "3986.09",
         "0",
         "0",
         "2024-03-04 00:00:00"
        ],
        [
         "60",
         "3973.31",
         "4027.12",
         "3986.91",
         "4575.75",
         "0",
         "0",
         "2024-03-11 00:00:00"
        ],
        [
         "61",
         "4315.62",
         "3973.31",
         "4027.12",
         "4075.4",
         "0",
         "0",
         "2024-03-18 00:00:00"
        ],
        [
         "62",
         "4651.66",
         "4315.62",
         "3973.31",
         "4604.77",
         "0",
         "1",
         "2024-03-25 00:00:00"
        ],
        [
         "63",
         "8205.65",
         "4651.66",
         "4315.62",
         "4476.88",
         "0",
         "0",
         "2024-04-01 00:00:00"
        ],
        [
         "64",
         "5176.25",
         "8205.65",
         "4651.66",
         "4892.79",
         "0",
         "0",
         "2024-04-08 00:00:00"
        ],
        [
         "65",
         "4336.33",
         "5176.25",
         "8205.65",
         "9146.539999999999",
         "0",
         "0",
         "2024-04-15 00:00:00"
        ],
        [
         "66",
         "4897.75",
         "4336.33",
         "5176.25",
         "5647.79",
         "0",
         "0",
         "2024-04-22 00:00:00"
        ],
        [
         "67",
         "4509.47",
         "4897.75",
         "4336.33",
         "4416.02",
         "0",
         "0",
         "2024-04-29 00:00:00"
        ],
        [
         "68",
         "5670.09",
         "4509.47",
         "4897.75",
         "5247.66",
         "0",
         "0",
         "2024-05-06 00:00:00"
        ],
        [
         "69",
         "5599.05",
         "5670.09",
         "4509.47",
         "5827.58",
         "0",
         "0",
         "2024-05-13 00:00:00"
        ],
        [
         "70",
         "5305.38",
         "5599.05",
         "5670.09",
         "5097.56",
         "0",
         "0",
         "2024-05-20 00:00:00"
        ],
        [
         "71",
         "4844.84",
         "5305.38",
         "5599.05",
         "4970.24",
         "0",
         "0",
         "2024-05-27 00:00:00"
        ],
        [
         "72",
         "5107.76",
         "4844.84",
         "5305.38",
         "5343.63",
         "0",
         "0",
         "2024-06-03 00:00:00"
        ],
        [
         "73",
         "4783.8",
         "5107.76",
         "4844.84",
         "5236.07",
         "0",
         "0",
         "2024-06-10 00:00:00"
        ],
        [
         "74",
         "5652.61",
         "4783.8",
         "5107.76",
         "5364.98",
         "0",
         "0",
         "2024-06-17 00:00:00"
        ],
        [
         "75",
         "6746.27",
         "5652.61",
         "4783.8",
         "6054.21",
         "0",
         "0",
         "2024-06-24 00:00:00"
        ],
        [
         "76",
         "6917.88",
         "6746.27",
         "5652.61",
         "6629.31",
         "1",
         "0",
         "2024-07-01 00:00:00"
        ],
        [
         "77",
         "6680.16",
         "6917.88",
         "6746.27",
         "7619.07",
         "1",
         "0",
         "2024-07-08 00:00:00"
        ],
        [
         "78",
         "7082.97",
         "6680.16",
         "6917.88",
         "7076.15",
         "1",
         "0",
         "2024-07-15 00:00:00"
        ],
        [
         "79",
         "7419.28",
         "7082.97",
         "6680.16",
         "7357.62",
         "1",
         "0",
         "2024-07-22 00:00:00"
        ],
        [
         "80",
         "8375.35",
         "7419.28",
         "7082.97",
         "7390.06",
         "1",
         "0",
         "2024-07-29 00:00:00"
        ],
        [
         "81",
         "8160.44",
         "8375.35",
         "7419.28",
         "7617.69",
         "1",
         "0",
         "2024-08-05 00:00:00"
        ],
        [
         "82",
         "8775.07",
         "8160.44",
         "8375.35",
         "7864.86",
         "1",
         "0",
         "2024-08-12 00:00:00"
        ],
        [
         "83",
         "9591.81",
         "8775.07",
         "8160.44",
         "9201.22",
         "1",
         "0",
         "2024-08-19 00:00:00"
        ],
        [
         "84",
         "8884.63",
         "9591.81",
         "8775.07",
         "9771.9",
         "1",
         "0",
         "2024-08-26 00:00:00"
        ],
        [
         "85",
         "6871.75",
         "8884.63",
         "9591.81",
         "8309.95",
         "0",
         "0",
         "2024-09-02 00:00:00"
        ],
        [
         "86",
         "6334.96",
         "6871.75",
         "8884.63",
         "6160.4",
         "0",
         "0",
         "2024-09-09 00:00:00"
        ],
        [
         "87",
         "6196.03",
         "6334.96",
         "6871.75",
         "5984.26",
         "0",
         "0",
         "2024-09-16 00:00:00"
        ],
        [
         "88",
         "5035.13",
         "6196.03",
         "6334.96",
         "5622.81",
         "0",
         "0",
         "2024-09-23 00:00:00"
        ],
        [
         "89",
         "5271.61",
         "5035.13",
         "6196.03",
         "5451.86",
         "0",
         "0",
         "2024-09-30 00:00:00"
        ],
        [
         "90",
         "5034.65",
         "5271.61",
         "5035.13",
         "5208.35",
         "0",
         "0",
         "2024-10-07 00:00:00"
        ],
        [
         "91",
         "4828.03",
         "5034.65",
         "5271.61",
         "5153.77",
         "0",
         "0",
         "2024-10-14 00:00:00"
        ],
        [
         "92",
         "5006.2",
         "4828.03",
         "5034.65",
         "5718.31",
         "0",
         "0",
         "2024-10-21 00:00:00"
        ],
        [
         "93",
         "4456.49",
         "5006.2",
         "4828.03",
         "4550.95",
         "0",
         "0",
         "2024-10-28 00:00:00"
        ],
        [
         "94",
         "4478.53",
         "4456.49",
         "5006.2",
         "4627.06",
         "0",
         "0",
         "2024-11-04 00:00:00"
        ],
        [
         "95",
         "3980.51",
         "4478.53",
         "4456.49",
         "3919.71",
         "0",
         "0",
         "2024-11-11 00:00:00"
        ],
        [
         "96",
         "4037.64",
         "3980.51",
         "4478.53",
         "1683.93",
         "0",
         "0",
         "2024-11-18 00:00:00"
        ],
        [
         "97",
         "4036.04",
         "4037.64",
         "3980.51",
         "4547.02",
         "0",
         "0",
         "2024-11-25 00:00:00"
        ],
        [
         "98",
         "3735.84",
         "4036.04",
         "4037.64",
         "3946.75",
         "0",
         "0",
         "2024-12-02 00:00:00"
        ],
        [
         "99",
         "3851.23",
         "3735.84",
         "4036.04",
         "3888.56",
         "0",
         "0",
         "2024-12-09 00:00:00"
        ],
        [
         "100",
         "3324.69",
         "3851.23",
         "3735.84",
         "4603.02",
         "0",
         "0",
         "2024-12-16 00:00:00"
        ],
        [
         "101",
         "3378.51",
         "3324.69",
         "3851.23",
         "3434.63",
         "0",
         "0",
         "2025-01-06 00:00:00"
        ]
       ],
       "shape": {
        "columns": 7,
        "rows": 73
       }
      },
      "text/html": [
       "<div>\n",
       "<style scoped>\n",
       "    .dataframe tbody tr th:only-of-type {\n",
       "        vertical-align: middle;\n",
       "    }\n",
       "\n",
       "    .dataframe tbody tr th {\n",
       "        vertical-align: top;\n",
       "    }\n",
       "\n",
       "    .dataframe thead th {\n",
       "        text-align: right;\n",
       "    }\n",
       "</style>\n",
       "<table border=\"1\" class=\"dataframe\">\n",
       "  <thead>\n",
       "    <tr style=\"text-align: right;\">\n",
       "      <th></th>\n",
       "      <th>base_imponible_lag1</th>\n",
       "      <th>base_imponible_lag2</th>\n",
       "      <th>base_imponible_lag3</th>\n",
       "      <th>base_imponible_lag52</th>\n",
       "      <th>is_summer_peak</th>\n",
       "      <th>is_easter</th>\n",
       "      <th>week_start</th>\n",
       "    </tr>\n",
       "  </thead>\n",
       "  <tbody>\n",
       "    <tr>\n",
       "      <th>52</th>\n",
       "      <td>3578.16</td>\n",
       "      <td>3240.28</td>\n",
       "      <td>3434.63</td>\n",
       "      <td>5200.02</td>\n",
       "      <td>0</td>\n",
       "      <td>0</td>\n",
       "      <td>2024-01-15</td>\n",
       "    </tr>\n",
       "    <tr>\n",
       "      <th>53</th>\n",
       "      <td>3790.88</td>\n",
       "      <td>3578.16</td>\n",
       "      <td>3240.28</td>\n",
       "      <td>4020.09</td>\n",
       "      <td>0</td>\n",
       "      <td>0</td>\n",
       "      <td>2024-01-22</td>\n",
       "    </tr>\n",
       "    <tr>\n",
       "      <th>54</th>\n",
       "      <td>4096.18</td>\n",
       "      <td>3790.88</td>\n",
       "      <td>3578.16</td>\n",
       "      <td>4406.36</td>\n",
       "      <td>0</td>\n",
       "      <td>0</td>\n",
       "      <td>2024-01-29</td>\n",
       "    </tr>\n",
       "    <tr>\n",
       "      <th>55</th>\n",
       "      <td>3750.64</td>\n",
       "      <td>4096.18</td>\n",
       "      <td>3790.88</td>\n",
       "      <td>4022.09</td>\n",
       "      <td>0</td>\n",
       "      <td>0</td>\n",
       "      <td>2024-02-05</td>\n",
       "    </tr>\n",
       "    <tr>\n",
       "      <th>56</th>\n",
       "      <td>3977.76</td>\n",
       "      <td>3750.64</td>\n",
       "      <td>4096.18</td>\n",
       "      <td>3952.34</td>\n",
       "      <td>0</td>\n",
       "      <td>0</td>\n",
       "      <td>2024-02-12</td>\n",
       "    </tr>\n",
       "    <tr>\n",
       "      <th>...</th>\n",
       "      <td>...</td>\n",
       "      <td>...</td>\n",
       "      <td>...</td>\n",
       "      <td>...</td>\n",
       "      <td>...</td>\n",
       "      <td>...</td>\n",
       "      <td>...</td>\n",
       "    </tr>\n",
       "    <tr>\n",
       "      <th>120</th>\n",
       "      <td>5118.78</td>\n",
       "      <td>4969.73</td>\n",
       "      <td>5165.66</td>\n",
       "      <td>5599.05</td>\n",
       "      <td>0</td>\n",
       "      <td>0</td>\n",
       "      <td>2025-05-19</td>\n",
       "    </tr>\n",
       "    <tr>\n",
       "      <th>121</th>\n",
       "      <td>4464.67</td>\n",
       "      <td>5118.78</td>\n",
       "      <td>4969.73</td>\n",
       "      <td>5305.38</td>\n",
       "      <td>0</td>\n",
       "      <td>0</td>\n",
       "      <td>2025-05-26</td>\n",
       "    </tr>\n",
       "    <tr>\n",
       "      <th>122</th>\n",
       "      <td>5300.39</td>\n",
       "      <td>4464.67</td>\n",
       "      <td>5118.78</td>\n",
       "      <td>4844.84</td>\n",
       "      <td>0</td>\n",
       "      <td>0</td>\n",
       "      <td>2025-06-02</td>\n",
       "    </tr>\n",
       "    <tr>\n",
       "      <th>123</th>\n",
       "      <td>5296.86</td>\n",
       "      <td>5300.39</td>\n",
       "      <td>4464.67</td>\n",
       "      <td>5107.76</td>\n",
       "      <td>0</td>\n",
       "      <td>0</td>\n",
       "      <td>2025-06-09</td>\n",
       "    </tr>\n",
       "    <tr>\n",
       "      <th>124</th>\n",
       "      <td>6010.64</td>\n",
       "      <td>5296.86</td>\n",
       "      <td>5300.39</td>\n",
       "      <td>4783.80</td>\n",
       "      <td>0</td>\n",
       "      <td>0</td>\n",
       "      <td>2025-06-16</td>\n",
       "    </tr>\n",
       "  </tbody>\n",
       "</table>\n",
       "<p>73 rows × 7 columns</p>\n",
       "</div>"
      ],
      "text/plain": [
       "     base_imponible_lag1  base_imponible_lag2  base_imponible_lag3  \\\n",
       "52               3578.16              3240.28              3434.63   \n",
       "53               3790.88              3578.16              3240.28   \n",
       "54               4096.18              3790.88              3578.16   \n",
       "55               3750.64              4096.18              3790.88   \n",
       "56               3977.76              3750.64              4096.18   \n",
       "..                   ...                  ...                  ...   \n",
       "120              5118.78              4969.73              5165.66   \n",
       "121              4464.67              5118.78              4969.73   \n",
       "122              5300.39              4464.67              5118.78   \n",
       "123              5296.86              5300.39              4464.67   \n",
       "124              6010.64              5296.86              5300.39   \n",
       "\n",
       "     base_imponible_lag52  is_summer_peak  is_easter week_start  \n",
       "52                5200.02               0          0 2024-01-15  \n",
       "53                4020.09               0          0 2024-01-22  \n",
       "54                4406.36               0          0 2024-01-29  \n",
       "55                4022.09               0          0 2024-02-05  \n",
       "56                3952.34               0          0 2024-02-12  \n",
       "..                    ...             ...        ...        ...  \n",
       "120               5599.05               0          0 2025-05-19  \n",
       "121               5305.38               0          0 2025-05-26  \n",
       "122               4844.84               0          0 2025-06-02  \n",
       "123               5107.76               0          0 2025-06-09  \n",
       "124               4783.80               0          0 2025-06-16  \n",
       "\n",
       "[73 rows x 7 columns]"
      ]
     },
     "execution_count": 40,
     "metadata": {},
     "output_type": "execute_result"
    }
   ],
   "source": [
    "from src.data_utils_02 import transformar_features_target, guardar_datos_procesados # type: ignore\n",
    "# Generación de features y target para modelado\n",
    "X, y, df_completo = transformar_features_target(\n",
    "    df_familia_semanal,\n",
    "    lags_list=[1, 2, 3, 52],\n",
    "    columna_target='base_imponible',\n",
    "    cols_exogenas=['is_summer_peak', 'is_easter'],\n",
    "    eliminar_nulos=True\n",
    ")\n",
    "print(f'Dimensión de X (features): {X.shape}')\n",
    "print(f'Dimensión de y (target): {y.shape}')\n",
    "print('Primeras filas de X:')\n",
    "X.head(200)"
   ]
  },
  {
   "cell_type": "code",
   "execution_count": 41,
   "id": "5e21b526",
   "metadata": {},
   "outputs": [
    {
     "name": "stdout",
     "output_type": "stream",
     "text": [
      "['base_imponible', 'is_summer_peak', 'is_easter', 'week_start', 'base_imponible_lag1', 'base_imponible_lag2', 'base_imponible_lag3', 'base_imponible_lag52', 'base_imponible_next1']\n"
     ]
    }
   ],
   "source": [
    "print(df_completo.columns.tolist())"
   ]
  },
  {
   "cell_type": "code",
   "execution_count": 42,
   "id": "4ab14142",
   "metadata": {},
   "outputs": [
    {
     "name": "stdout",
     "output_type": "stream",
     "text": [
      "Datos procesados guardados en la carpeta: C:\\Workspace\\mlops_fleca_project\\data\\processed\n",
      "- Features (X): ts_X_todas_20250804.parquet\n",
      "- Target (y): ts_y_todas_20250804.parquet\n",
      "- Dataset completo: ts_df_todas_20250804.parquet\n",
      "Archivo X: C:\\Workspace\\mlops_fleca_project\\data\\processed\\ts_X_todas_20250804.parquet\n",
      "Archivo y: C:\\Workspace\\mlops_fleca_project\\data\\processed\\ts_y_todas_20250804.parquet\n",
      "Archivo df_completo: C:\\Workspace\\mlops_fleca_project\\data\\processed\\ts_df_todas_20250804.parquet\n"
     ]
    }
   ],
   "source": [
    "# Guardar los datasets en la carpeta processed\n",
    "archivos_guardados = guardar_datos_procesados(\n",
    "    X=X, \n",
    "    y=y, \n",
    "    df_completo=df_completo,\n",
    "    familia=categoria if categoria else 'TODAS'\n",
    ")\n",
    "for tipo_datos, ruta in archivos_guardados.items():\n",
    "    print(f'Archivo {tipo_datos}: {ruta}')"
   ]
  }
 ],
 "metadata": {
  "kernelspec": {
   "display_name": "mlops-project-py3.10",
   "language": "python",
   "name": "python3"
  },
  "language_info": {
   "codemirror_mode": {
    "name": "ipython",
    "version": 3
   },
   "file_extension": ".py",
   "mimetype": "text/x-python",
   "name": "python",
   "nbconvert_exporter": "python",
   "pygments_lexer": "ipython3",
   "version": "3.10.0"
  }
 },
 "nbformat": 4,
 "nbformat_minor": 5
}
