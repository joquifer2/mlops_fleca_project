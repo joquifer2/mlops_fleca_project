{
 "cells": [
  {
   "cell_type": "markdown",
   "id": "59bea545",
   "metadata": {},
   "source": [
    "# Preparación de datos MLOps\n",
    "\n",
    "Con reducción de lags que empeoraban el rendimiento de los modelos testados."
   ]
  },
  {
   "cell_type": "code",
   "execution_count": 71,
   "id": "99cf43e2",
   "metadata": {},
   "outputs": [],
   "source": [
    "import sys\n",
    "import importlib\n",
    "\n",
    "# Recargar el módulo data_utils para asegurar que se carguen los cambios\n",
    "if 'src.data_utils' in sys.modules:\n",
    "    importlib.reload(sys.modules['src.data_utils'])"
   ]
  },
  {
   "cell_type": "markdown",
   "id": "e4c92dd3",
   "metadata": {},
   "source": [
    "## Carga de datos\n",
    "\n",
    "Este notebook encapsula el proceso de carga de datos, transformación a series temporales y creación de características y target en funciones reutilizables para forecasting."
   ]
  },
  {
   "cell_type": "code",
   "execution_count": 72,
   "id": "2d8e0af3",
   "metadata": {},
   "outputs": [
    {
     "name": "stdout",
     "output_type": "stream",
     "text": [
      "Cargando datos desde: C:\\Workspace\\mlops_fleca_project\\data\\raw\\raw_data_bq_forecasting_20250630.parquet\n",
      "Total de fechas faltantes: 4\n",
      "Fechas faltantes: ['2023-12-25T00:00:00.000000000' '2024-01-01T00:00:00.000000000'\n",
      " '2024-12-25T00:00:00.000000000' '2025-01-01T00:00:00.000000000']\n"
     ]
    },
    {
     "data": {
      "application/vnd.microsoft.datawrangler.viewer.v0+json": {
       "columns": [
        {
         "name": "index",
         "rawType": "object",
         "type": "string"
        },
        {
         "name": "fecha",
         "rawType": "object",
         "type": "unknown"
        },
        {
         "name": "cantidad",
         "rawType": "float64",
         "type": "float"
        },
        {
         "name": "base_imponible",
         "rawType": "float64",
         "type": "float"
        },
        {
         "name": "tipo_IVA",
         "rawType": "float64",
         "type": "float"
        },
        {
         "name": "total",
         "rawType": "float64",
         "type": "float"
        },
        {
         "name": "is_summer_peak",
         "rawType": "float64",
         "type": "float"
        },
        {
         "name": "is_easter",
         "rawType": "float64",
         "type": "float"
        }
       ],
       "ref": "98bbfa94-ee88-4f71-802f-14f8402ac5dc",
       "rows": [
        [
         "count",
         "337353",
         "337353.0",
         "337353.0",
         "335106.0",
         "337353.0",
         "337353.0",
         "337353.0"
        ],
        [
         "mean",
         "2024-03-10 00:54:30.032281344",
         "1.2093028519088314",
         "2.010885719113214",
         "9.084558318860301",
         "2.1991803244672496",
         "0.20847302380592436",
         "0.0"
        ],
        [
         "min",
         "2023-01-02 00:00:00",
         "0.0",
         "0.0",
         "0.0",
         "0.0",
         "0.0",
         "0.0"
        ],
        [
         "25%",
         "2023-07-28 00:00:00",
         "1.0",
         "1.35",
         "10.0",
         "1.45",
         "0.0",
         "0.0"
        ],
        [
         "50%",
         "2024-03-09 00:00:00",
         "1.0",
         "1.64",
         "10.0",
         "1.8",
         "0.0",
         "0.0"
        ],
        [
         "75%",
         "2024-09-25 00:00:00",
         "1.0",
         "2.32",
         "10.0",
         "2.55",
         "0.0",
         "0.0"
        ],
        [
         "max",
         "2025-06-30 00:00:00",
         "93.0",
         "287.27",
         "10.0",
         "316.0",
         "1.0",
         "0.0"
        ],
        [
         "std",
         null,
         "0.7332626326227984",
         "1.692277655958933",
         "2.7933666902854744",
         "1.86215607817965",
         "0.4062173202734535",
         "0.0"
        ]
       ],
       "shape": {
        "columns": 7,
        "rows": 8
       }
      },
      "text/html": [
       "<div>\n",
       "<style scoped>\n",
       "    .dataframe tbody tr th:only-of-type {\n",
       "        vertical-align: middle;\n",
       "    }\n",
       "\n",
       "    .dataframe tbody tr th {\n",
       "        vertical-align: top;\n",
       "    }\n",
       "\n",
       "    .dataframe thead th {\n",
       "        text-align: right;\n",
       "    }\n",
       "</style>\n",
       "<table border=\"1\" class=\"dataframe\">\n",
       "  <thead>\n",
       "    <tr style=\"text-align: right;\">\n",
       "      <th></th>\n",
       "      <th>fecha</th>\n",
       "      <th>cantidad</th>\n",
       "      <th>base_imponible</th>\n",
       "      <th>tipo_IVA</th>\n",
       "      <th>total</th>\n",
       "      <th>is_summer_peak</th>\n",
       "      <th>is_easter</th>\n",
       "    </tr>\n",
       "  </thead>\n",
       "  <tbody>\n",
       "    <tr>\n",
       "      <th>count</th>\n",
       "      <td>337353</td>\n",
       "      <td>337353.000000</td>\n",
       "      <td>337353.000000</td>\n",
       "      <td>335106.000000</td>\n",
       "      <td>337353.000000</td>\n",
       "      <td>337353.000000</td>\n",
       "      <td>337353.0</td>\n",
       "    </tr>\n",
       "    <tr>\n",
       "      <th>mean</th>\n",
       "      <td>2024-03-10 00:54:30.032281344</td>\n",
       "      <td>1.209303</td>\n",
       "      <td>2.010886</td>\n",
       "      <td>9.084558</td>\n",
       "      <td>2.199180</td>\n",
       "      <td>0.208473</td>\n",
       "      <td>0.0</td>\n",
       "    </tr>\n",
       "    <tr>\n",
       "      <th>min</th>\n",
       "      <td>2023-01-02 00:00:00</td>\n",
       "      <td>0.000000</td>\n",
       "      <td>0.000000</td>\n",
       "      <td>0.000000</td>\n",
       "      <td>0.000000</td>\n",
       "      <td>0.000000</td>\n",
       "      <td>0.0</td>\n",
       "    </tr>\n",
       "    <tr>\n",
       "      <th>25%</th>\n",
       "      <td>2023-07-28 00:00:00</td>\n",
       "      <td>1.000000</td>\n",
       "      <td>1.350000</td>\n",
       "      <td>10.000000</td>\n",
       "      <td>1.450000</td>\n",
       "      <td>0.000000</td>\n",
       "      <td>0.0</td>\n",
       "    </tr>\n",
       "    <tr>\n",
       "      <th>50%</th>\n",
       "      <td>2024-03-09 00:00:00</td>\n",
       "      <td>1.000000</td>\n",
       "      <td>1.640000</td>\n",
       "      <td>10.000000</td>\n",
       "      <td>1.800000</td>\n",
       "      <td>0.000000</td>\n",
       "      <td>0.0</td>\n",
       "    </tr>\n",
       "    <tr>\n",
       "      <th>75%</th>\n",
       "      <td>2024-09-25 00:00:00</td>\n",
       "      <td>1.000000</td>\n",
       "      <td>2.320000</td>\n",
       "      <td>10.000000</td>\n",
       "      <td>2.550000</td>\n",
       "      <td>0.000000</td>\n",
       "      <td>0.0</td>\n",
       "    </tr>\n",
       "    <tr>\n",
       "      <th>max</th>\n",
       "      <td>2025-06-30 00:00:00</td>\n",
       "      <td>93.000000</td>\n",
       "      <td>287.270000</td>\n",
       "      <td>10.000000</td>\n",
       "      <td>316.000000</td>\n",
       "      <td>1.000000</td>\n",
       "      <td>0.0</td>\n",
       "    </tr>\n",
       "    <tr>\n",
       "      <th>std</th>\n",
       "      <td>NaN</td>\n",
       "      <td>0.733263</td>\n",
       "      <td>1.692278</td>\n",
       "      <td>2.793367</td>\n",
       "      <td>1.862156</td>\n",
       "      <td>0.406217</td>\n",
       "      <td>0.0</td>\n",
       "    </tr>\n",
       "  </tbody>\n",
       "</table>\n",
       "</div>"
      ],
      "text/plain": [
       "                               fecha       cantidad  base_imponible  \\\n",
       "count                         337353  337353.000000   337353.000000   \n",
       "mean   2024-03-10 00:54:30.032281344       1.209303        2.010886   \n",
       "min              2023-01-02 00:00:00       0.000000        0.000000   \n",
       "25%              2023-07-28 00:00:00       1.000000        1.350000   \n",
       "50%              2024-03-09 00:00:00       1.000000        1.640000   \n",
       "75%              2024-09-25 00:00:00       1.000000        2.320000   \n",
       "max              2025-06-30 00:00:00      93.000000      287.270000   \n",
       "std                              NaN       0.733263        1.692278   \n",
       "\n",
       "            tipo_IVA          total  is_summer_peak  is_easter  \n",
       "count  335106.000000  337353.000000   337353.000000   337353.0  \n",
       "mean        9.084558       2.199180        0.208473        0.0  \n",
       "min         0.000000       0.000000        0.000000        0.0  \n",
       "25%        10.000000       1.450000        0.000000        0.0  \n",
       "50%        10.000000       1.800000        0.000000        0.0  \n",
       "75%        10.000000       2.550000        0.000000        0.0  \n",
       "max        10.000000     316.000000        1.000000        0.0  \n",
       "std         2.793367       1.862156        0.406217        0.0  "
      ]
     },
     "execution_count": 72,
     "metadata": {},
     "output_type": "execute_result"
    }
   ],
   "source": [
    "from src.data_utils import load_raw_data # type: ignore\n",
    "\n",
    "# Descarga y carga datos raw desde BigQuery para el rango de fechas especificado\n",
    "df_raw = load_raw_data(\n",
    "    fecha_inicio=\"2023-01-02\", \n",
    "    fecha_fin=\"2025-06-30\", \n",
    "    descargar_bq=False)\n",
    "\n",
    "df_raw.describe()"
   ]
  },
  {
   "cell_type": "markdown",
   "id": "70f71719",
   "metadata": {},
   "source": [
    "## Transformación a series temporales"
   ]
  },
  {
   "cell_type": "code",
   "execution_count": 73,
   "id": "1c16a2ba",
   "metadata": {},
   "outputs": [
    {
     "name": "stdout",
     "output_type": "stream",
     "text": [
      "Archivo guardado en: C:\\Workspace\\mlops_fleca_project\\data\\interim\\time_series_BOLLERIA_weekly_20250803.parquet\n"
     ]
    },
    {
     "data": {
      "application/vnd.microsoft.datawrangler.viewer.v0+json": {
       "columns": [
        {
         "name": "index",
         "rawType": "int64",
         "type": "integer"
        },
        {
         "name": "year",
         "rawType": "UInt32",
         "type": "integer"
        },
        {
         "name": "week",
         "rawType": "UInt32",
         "type": "integer"
        },
        {
         "name": "familia",
         "rawType": "object",
         "type": "string"
        },
        {
         "name": "base_imponible",
         "rawType": "float64",
         "type": "float"
        },
        {
         "name": "is_summer_peak",
         "rawType": "int64",
         "type": "integer"
        },
        {
         "name": "is_easter",
         "rawType": "int64",
         "type": "integer"
        },
        {
         "name": "dias_semana",
         "rawType": "int64",
         "type": "integer"
        },
        {
         "name": "week_start",
         "rawType": "datetime64[ns]",
         "type": "datetime"
        }
       ],
       "ref": "ad147049-46a6-410a-ab52-6d0a71fed312",
       "rows": [
        [
         "0",
         "2023",
         "1",
         "BOLLERIA",
         "825.11",
         "0",
         "0",
         "7",
         "2023-01-02 00:00:00"
        ],
        [
         "1",
         "2023",
         "2",
         "BOLLERIA",
         "658.4",
         "0",
         "0",
         "7",
         "2023-01-09 00:00:00"
        ],
        [
         "2",
         "2023",
         "3",
         "BOLLERIA",
         "741.4",
         "0",
         "0",
         "7",
         "2023-01-16 00:00:00"
        ],
        [
         "3",
         "2023",
         "4",
         "BOLLERIA",
         "653.64",
         "0",
         "0",
         "7",
         "2023-01-23 00:00:00"
        ],
        [
         "4",
         "2023",
         "5",
         "BOLLERIA",
         "680.46",
         "0",
         "0",
         "7",
         "2023-01-30 00:00:00"
        ],
        [
         "5",
         "2023",
         "6",
         "BOLLERIA",
         "641.56",
         "0",
         "0",
         "7",
         "2023-02-06 00:00:00"
        ],
        [
         "6",
         "2023",
         "7",
         "BOLLERIA",
         "649.83",
         "0",
         "0",
         "7",
         "2023-02-13 00:00:00"
        ],
        [
         "7",
         "2023",
         "8",
         "BOLLERIA",
         "713.33",
         "0",
         "0",
         "7",
         "2023-02-20 00:00:00"
        ],
        [
         "8",
         "2023",
         "9",
         "BOLLERIA",
         "785.98",
         "0",
         "0",
         "7",
         "2023-02-27 00:00:00"
        ],
        [
         "9",
         "2023",
         "10",
         "BOLLERIA",
         "697.63",
         "0",
         "0",
         "7",
         "2023-03-06 00:00:00"
        ],
        [
         "10",
         "2023",
         "11",
         "BOLLERIA",
         "736.05",
         "0",
         "0",
         "7",
         "2023-03-13 00:00:00"
        ],
        [
         "11",
         "2023",
         "12",
         "BOLLERIA",
         "781.08",
         "0",
         "0",
         "7",
         "2023-03-20 00:00:00"
        ],
        [
         "12",
         "2023",
         "13",
         "BOLLERIA",
         "804.82",
         "0",
         "0",
         "7",
         "2023-03-27 00:00:00"
        ],
        [
         "13",
         "2023",
         "14",
         "BOLLERIA",
         "1739.91",
         "0",
         "1",
         "7",
         "2023-04-03 00:00:00"
        ],
        [
         "14",
         "2023",
         "15",
         "BOLLERIA",
         "995.13",
         "0",
         "0",
         "7",
         "2023-04-10 00:00:00"
        ],
        [
         "15",
         "2023",
         "16",
         "BOLLERIA",
         "755.85",
         "0",
         "0",
         "7",
         "2023-04-17 00:00:00"
        ],
        [
         "16",
         "2023",
         "17",
         "BOLLERIA",
         "828.31",
         "0",
         "0",
         "7",
         "2023-04-24 00:00:00"
        ],
        [
         "17",
         "2023",
         "18",
         "BOLLERIA",
         "1075.1299999999999",
         "0",
         "0",
         "7",
         "2023-05-01 00:00:00"
        ],
        [
         "18",
         "2023",
         "19",
         "BOLLERIA",
         "794.65",
         "0",
         "0",
         "7",
         "2023-05-08 00:00:00"
        ],
        [
         "19",
         "2023",
         "20",
         "BOLLERIA",
         "876.26",
         "0",
         "0",
         "7",
         "2023-05-15 00:00:00"
        ],
        [
         "20",
         "2023",
         "21",
         "BOLLERIA",
         "953.08",
         "0",
         "0",
         "7",
         "2023-05-22 00:00:00"
        ],
        [
         "21",
         "2023",
         "22",
         "BOLLERIA",
         "953.75",
         "0",
         "0",
         "7",
         "2023-05-29 00:00:00"
        ],
        [
         "22",
         "2023",
         "23",
         "BOLLERIA",
         "954.84",
         "0",
         "0",
         "7",
         "2023-06-05 00:00:00"
        ],
        [
         "23",
         "2023",
         "24",
         "BOLLERIA",
         "1061.14",
         "0",
         "0",
         "7",
         "2023-06-12 00:00:00"
        ],
        [
         "24",
         "2023",
         "25",
         "BOLLERIA",
         "1223.61",
         "0",
         "0",
         "7",
         "2023-06-19 00:00:00"
        ],
        [
         "25",
         "2023",
         "26",
         "BOLLERIA",
         "1580.45",
         "1",
         "0",
         "7",
         "2023-06-26 00:00:00"
        ],
        [
         "26",
         "2023",
         "27",
         "BOLLERIA",
         "1506.51",
         "1",
         "0",
         "7",
         "2023-07-03 00:00:00"
        ],
        [
         "27",
         "2023",
         "28",
         "BOLLERIA",
         "1666.39",
         "1",
         "0",
         "7",
         "2023-07-10 00:00:00"
        ],
        [
         "28",
         "2023",
         "29",
         "BOLLERIA",
         "1745.97",
         "1",
         "0",
         "7",
         "2023-07-17 00:00:00"
        ],
        [
         "29",
         "2023",
         "30",
         "BOLLERIA",
         "1681.41",
         "1",
         "0",
         "7",
         "2023-07-24 00:00:00"
        ],
        [
         "30",
         "2023",
         "31",
         "BOLLERIA",
         "1753.02",
         "1",
         "0",
         "7",
         "2023-07-31 00:00:00"
        ],
        [
         "31",
         "2023",
         "32",
         "BOLLERIA",
         "1835.18",
         "1",
         "0",
         "7",
         "2023-08-07 00:00:00"
        ],
        [
         "32",
         "2023",
         "33",
         "BOLLERIA",
         "2127.71",
         "1",
         "0",
         "7",
         "2023-08-14 00:00:00"
        ],
        [
         "33",
         "2023",
         "34",
         "BOLLERIA",
         "1841.08",
         "1",
         "0",
         "7",
         "2023-08-21 00:00:00"
        ],
        [
         "34",
         "2023",
         "35",
         "BOLLERIA",
         "1256.44",
         "1",
         "0",
         "7",
         "2023-08-28 00:00:00"
        ],
        [
         "35",
         "2023",
         "36",
         "BOLLERIA",
         "1102.32",
         "0",
         "0",
         "7",
         "2023-09-04 00:00:00"
        ],
        [
         "36",
         "2023",
         "37",
         "BOLLERIA",
         "988.49",
         "0",
         "0",
         "7",
         "2023-09-11 00:00:00"
        ],
        [
         "37",
         "2023",
         "38",
         "BOLLERIA",
         "950.7",
         "0",
         "0",
         "7",
         "2023-09-18 00:00:00"
        ],
        [
         "38",
         "2023",
         "39",
         "BOLLERIA",
         "856.21",
         "0",
         "0",
         "7",
         "2023-09-25 00:00:00"
        ],
        [
         "39",
         "2023",
         "40",
         "BOLLERIA",
         "842.85",
         "0",
         "0",
         "7",
         "2023-10-02 00:00:00"
        ],
        [
         "40",
         "2023",
         "41",
         "BOLLERIA",
         "912.13",
         "0",
         "0",
         "7",
         "2023-10-09 00:00:00"
        ],
        [
         "41",
         "2023",
         "42",
         "BOLLERIA",
         "750.99",
         "0",
         "0",
         "7",
         "2023-10-16 00:00:00"
        ],
        [
         "42",
         "2023",
         "43",
         "BOLLERIA",
         "821.84",
         "0",
         "0",
         "7",
         "2023-10-23 00:00:00"
        ],
        [
         "43",
         "2023",
         "44",
         "BOLLERIA",
         "607.02",
         "0",
         "0",
         "7",
         "2023-10-30 00:00:00"
        ],
        [
         "44",
         "2023",
         "45",
         "BOLLERIA",
         "304.73",
         "0",
         "0",
         "7",
         "2023-11-06 00:00:00"
        ],
        [
         "45",
         "2023",
         "46",
         "BOLLERIA",
         "744.1899999999999",
         "0",
         "0",
         "7",
         "2023-11-13 00:00:00"
        ],
        [
         "46",
         "2023",
         "47",
         "BOLLERIA",
         "632.35",
         "0",
         "0",
         "7",
         "2023-11-20 00:00:00"
        ],
        [
         "47",
         "2023",
         "48",
         "BOLLERIA",
         "622.22",
         "0",
         "0",
         "7",
         "2023-11-27 00:00:00"
        ],
        [
         "48",
         "2023",
         "49",
         "BOLLERIA",
         "806.54",
         "0",
         "0",
         "7",
         "2023-12-04 00:00:00"
        ],
        [
         "49",
         "2023",
         "50",
         "BOLLERIA",
         "563.18",
         "0",
         "0",
         "7",
         "2023-12-11 00:00:00"
        ]
       ],
       "shape": {
        "columns": 8,
        "rows": 126
       }
      },
      "text/html": [
       "<div>\n",
       "<style scoped>\n",
       "    .dataframe tbody tr th:only-of-type {\n",
       "        vertical-align: middle;\n",
       "    }\n",
       "\n",
       "    .dataframe tbody tr th {\n",
       "        vertical-align: top;\n",
       "    }\n",
       "\n",
       "    .dataframe thead th {\n",
       "        text-align: right;\n",
       "    }\n",
       "</style>\n",
       "<table border=\"1\" class=\"dataframe\">\n",
       "  <thead>\n",
       "    <tr style=\"text-align: right;\">\n",
       "      <th></th>\n",
       "      <th>year</th>\n",
       "      <th>week</th>\n",
       "      <th>familia</th>\n",
       "      <th>base_imponible</th>\n",
       "      <th>is_summer_peak</th>\n",
       "      <th>is_easter</th>\n",
       "      <th>dias_semana</th>\n",
       "      <th>week_start</th>\n",
       "    </tr>\n",
       "  </thead>\n",
       "  <tbody>\n",
       "    <tr>\n",
       "      <th>0</th>\n",
       "      <td>2023</td>\n",
       "      <td>1</td>\n",
       "      <td>BOLLERIA</td>\n",
       "      <td>825.11</td>\n",
       "      <td>0</td>\n",
       "      <td>0</td>\n",
       "      <td>7</td>\n",
       "      <td>2023-01-02</td>\n",
       "    </tr>\n",
       "    <tr>\n",
       "      <th>1</th>\n",
       "      <td>2023</td>\n",
       "      <td>2</td>\n",
       "      <td>BOLLERIA</td>\n",
       "      <td>658.40</td>\n",
       "      <td>0</td>\n",
       "      <td>0</td>\n",
       "      <td>7</td>\n",
       "      <td>2023-01-09</td>\n",
       "    </tr>\n",
       "    <tr>\n",
       "      <th>2</th>\n",
       "      <td>2023</td>\n",
       "      <td>3</td>\n",
       "      <td>BOLLERIA</td>\n",
       "      <td>741.40</td>\n",
       "      <td>0</td>\n",
       "      <td>0</td>\n",
       "      <td>7</td>\n",
       "      <td>2023-01-16</td>\n",
       "    </tr>\n",
       "    <tr>\n",
       "      <th>3</th>\n",
       "      <td>2023</td>\n",
       "      <td>4</td>\n",
       "      <td>BOLLERIA</td>\n",
       "      <td>653.64</td>\n",
       "      <td>0</td>\n",
       "      <td>0</td>\n",
       "      <td>7</td>\n",
       "      <td>2023-01-23</td>\n",
       "    </tr>\n",
       "    <tr>\n",
       "      <th>4</th>\n",
       "      <td>2023</td>\n",
       "      <td>5</td>\n",
       "      <td>BOLLERIA</td>\n",
       "      <td>680.46</td>\n",
       "      <td>0</td>\n",
       "      <td>0</td>\n",
       "      <td>7</td>\n",
       "      <td>2023-01-30</td>\n",
       "    </tr>\n",
       "    <tr>\n",
       "      <th>...</th>\n",
       "      <td>...</td>\n",
       "      <td>...</td>\n",
       "      <td>...</td>\n",
       "      <td>...</td>\n",
       "      <td>...</td>\n",
       "      <td>...</td>\n",
       "      <td>...</td>\n",
       "      <td>...</td>\n",
       "    </tr>\n",
       "    <tr>\n",
       "      <th>121</th>\n",
       "      <td>2025</td>\n",
       "      <td>22</td>\n",
       "      <td>BOLLERIA</td>\n",
       "      <td>802.16</td>\n",
       "      <td>0</td>\n",
       "      <td>0</td>\n",
       "      <td>7</td>\n",
       "      <td>2025-05-26</td>\n",
       "    </tr>\n",
       "    <tr>\n",
       "      <th>122</th>\n",
       "      <td>2025</td>\n",
       "      <td>23</td>\n",
       "      <td>BOLLERIA</td>\n",
       "      <td>881.72</td>\n",
       "      <td>0</td>\n",
       "      <td>0</td>\n",
       "      <td>7</td>\n",
       "      <td>2025-06-02</td>\n",
       "    </tr>\n",
       "    <tr>\n",
       "      <th>123</th>\n",
       "      <td>2025</td>\n",
       "      <td>24</td>\n",
       "      <td>BOLLERIA</td>\n",
       "      <td>1015.97</td>\n",
       "      <td>0</td>\n",
       "      <td>0</td>\n",
       "      <td>7</td>\n",
       "      <td>2025-06-09</td>\n",
       "    </tr>\n",
       "    <tr>\n",
       "      <th>124</th>\n",
       "      <td>2025</td>\n",
       "      <td>25</td>\n",
       "      <td>BOLLERIA</td>\n",
       "      <td>1014.76</td>\n",
       "      <td>0</td>\n",
       "      <td>0</td>\n",
       "      <td>7</td>\n",
       "      <td>2025-06-16</td>\n",
       "    </tr>\n",
       "    <tr>\n",
       "      <th>125</th>\n",
       "      <td>2025</td>\n",
       "      <td>26</td>\n",
       "      <td>BOLLERIA</td>\n",
       "      <td>1296.61</td>\n",
       "      <td>0</td>\n",
       "      <td>0</td>\n",
       "      <td>7</td>\n",
       "      <td>2025-06-23</td>\n",
       "    </tr>\n",
       "  </tbody>\n",
       "</table>\n",
       "<p>126 rows × 8 columns</p>\n",
       "</div>"
      ],
      "text/plain": [
       "     year  week   familia  base_imponible  is_summer_peak  is_easter  \\\n",
       "0    2023     1  BOLLERIA          825.11               0          0   \n",
       "1    2023     2  BOLLERIA          658.40               0          0   \n",
       "2    2023     3  BOLLERIA          741.40               0          0   \n",
       "3    2023     4  BOLLERIA          653.64               0          0   \n",
       "4    2023     5  BOLLERIA          680.46               0          0   \n",
       "..    ...   ...       ...             ...             ...        ...   \n",
       "121  2025    22  BOLLERIA          802.16               0          0   \n",
       "122  2025    23  BOLLERIA          881.72               0          0   \n",
       "123  2025    24  BOLLERIA         1015.97               0          0   \n",
       "124  2025    25  BOLLERIA         1014.76               0          0   \n",
       "125  2025    26  BOLLERIA         1296.61               0          0   \n",
       "\n",
       "     dias_semana week_start  \n",
       "0              7 2023-01-02  \n",
       "1              7 2023-01-09  \n",
       "2              7 2023-01-16  \n",
       "3              7 2023-01-23  \n",
       "4              7 2023-01-30  \n",
       "..           ...        ...  \n",
       "121            7 2025-05-26  \n",
       "122            7 2025-06-02  \n",
       "123            7 2025-06-09  \n",
       "124            7 2025-06-16  \n",
       "125            7 2025-06-23  \n",
       "\n",
       "[126 rows x 8 columns]"
      ]
     },
     "execution_count": 73,
     "metadata": {},
     "output_type": "execute_result"
    }
   ],
   "source": [
    "from src.data_utils import transformar_a_series_temporales, guardar_time_series_interim # type: ignore\n",
    "\n",
    "# Transformamos los datos raw a series temporales semanales para la familia BOLLERIA\n",
    "df_familia_semanal = transformar_a_series_temporales(\n",
    "    df_raw, \n",
    "    familia='BOLLERIA', \n",
    "    guardar_interim=True\n",
    ")\n",
    "\n",
    "# Visualiza las primeras filas\n",
    "df_familia_semanal.head(150)"
   ]
  },
  {
   "cell_type": "code",
   "execution_count": 74,
   "id": "7b2429c2",
   "metadata": {},
   "outputs": [
    {
     "name": "stdout",
     "output_type": "stream",
     "text": [
      "Fechas con is_easter > 0:\n",
      "     year  week  is_easter\n",
      "13   2023    14          1\n",
      "62   2024    13          1\n",
      "115  2025    16          1\n",
      "Semana 14 del 2023 marcada como Semana Santa: True\n",
      "Semana 13 del 2024 marcada como Semana Santa: True\n",
      "Semana 16 del 2025 marcada como Semana Santa: True\n"
     ]
    }
   ],
   "source": [
    "# Verificar los valores de is_easter en las fechas de Semana Santa\n",
    "easter_dates = df_familia_semanal[df_familia_semanal['is_easter'] > 0]\n",
    "print(\"Fechas con is_easter > 0:\")\n",
    "print(easter_dates[['year', 'week', 'is_easter']])\n",
    "\n",
    "# Verificar que tenemos las 3 semanas de Semana Santa correctas\n",
    "expected_easter_weeks = [\n",
    "    (2023, 14),  # Semana Santa 2023\n",
    "    (2024, 13),  # Semana Santa 2024\n",
    "    (2025, 16)   # Semana Santa 2025\n",
    "]\n",
    "\n",
    "for year, week in expected_easter_weeks:\n",
    "    is_marked = ((df_familia_semanal['year'] == year) & \n",
    "                 (df_familia_semanal['week'] == week) & \n",
    "                 (df_familia_semanal['is_easter'] == 1)).any()\n",
    "    print(f\"Semana {week} del {year} marcada como Semana Santa: {is_marked}\")"
   ]
  },
  {
   "cell_type": "code",
   "execution_count": 75,
   "id": "fca77180",
   "metadata": {},
   "outputs": [
    {
     "name": "stdout",
     "output_type": "stream",
     "text": [
      "<class 'pandas.core.frame.DataFrame'>\n",
      "RangeIndex: 126 entries, 0 to 125\n",
      "Data columns (total 8 columns):\n",
      " #   Column          Non-Null Count  Dtype         \n",
      "---  ------          --------------  -----         \n",
      " 0   year            126 non-null    UInt32        \n",
      " 1   week            126 non-null    UInt32        \n",
      " 2   familia         126 non-null    object        \n",
      " 3   base_imponible  126 non-null    float64       \n",
      " 4   is_summer_peak  126 non-null    int64         \n",
      " 5   is_easter       126 non-null    int64         \n",
      " 6   dias_semana     126 non-null    int64         \n",
      " 7   week_start      126 non-null    datetime64[ns]\n",
      "dtypes: UInt32(2), datetime64[ns](1), float64(1), int64(3), object(1)\n",
      "memory usage: 7.3+ KB\n"
     ]
    }
   ],
   "source": [
    "df_familia_semanal.info()"
   ]
  },
  {
   "cell_type": "markdown",
   "id": "5bd1762a",
   "metadata": {},
   "source": [
    "## Transformación a features y target"
   ]
  },
  {
   "cell_type": "code",
   "execution_count": 76,
   "id": "7dccadf1",
   "metadata": {},
   "outputs": [
    {
     "name": "stdout",
     "output_type": "stream",
     "text": [
      "Dimensión de X (features): (73, 7)\n",
      "Dimensión de y (target): (73,)\n",
      "\n",
      "Primeras filas de X:\n"
     ]
    },
    {
     "data": {
      "application/vnd.microsoft.datawrangler.viewer.v0+json": {
       "columns": [
        {
         "name": "index",
         "rawType": "int64",
         "type": "integer"
        },
        {
         "name": "base_imponible_lag1",
         "rawType": "float64",
         "type": "float"
        },
        {
         "name": "base_imponible_lag2",
         "rawType": "float64",
         "type": "float"
        },
        {
         "name": "base_imponible_lag3",
         "rawType": "float64",
         "type": "float"
        },
        {
         "name": "base_imponible_lag52",
         "rawType": "float64",
         "type": "float"
        },
        {
         "name": "is_summer_peak",
         "rawType": "int64",
         "type": "integer"
        },
        {
         "name": "is_easter",
         "rawType": "int64",
         "type": "integer"
        },
        {
         "name": "week_start",
         "rawType": "datetime64[ns]",
         "type": "datetime"
        }
       ],
       "ref": "b93c8db8-7530-49e9-823e-170df886c384",
       "rows": [
        [
         "52",
         "572.51",
         "534.79",
         "563.18",
         "825.11",
         "0",
         "0",
         "2024-01-15 00:00:00"
        ],
        [
         "53",
         "597.65",
         "572.51",
         "534.79",
         "658.4",
         "0",
         "0",
         "2024-01-22 00:00:00"
        ],
        [
         "54",
         "680.3",
         "597.65",
         "572.51",
         "741.4",
         "0",
         "0",
         "2024-01-29 00:00:00"
        ],
        [
         "55",
         "603.99",
         "680.3",
         "597.65",
         "653.64",
         "0",
         "0",
         "2024-02-05 00:00:00"
        ],
        [
         "56",
         "600.14",
         "603.99",
         "680.3",
         "680.46",
         "0",
         "0",
         "2024-02-12 00:00:00"
        ],
        [
         "57",
         "689.32",
         "600.14",
         "603.99",
         "641.56",
         "0",
         "0",
         "2024-02-19 00:00:00"
        ],
        [
         "58",
         "627.76",
         "689.32",
         "600.14",
         "649.83",
         "0",
         "0",
         "2024-02-26 00:00:00"
        ],
        [
         "59",
         "561.28",
         "627.76",
         "689.32",
         "713.33",
         "0",
         "0",
         "2024-03-04 00:00:00"
        ],
        [
         "60",
         "569.6899999999999",
         "561.28",
         "627.76",
         "785.98",
         "0",
         "0",
         "2024-03-11 00:00:00"
        ],
        [
         "61",
         "639.09",
         "569.6899999999999",
         "561.28",
         "697.63",
         "0",
         "0",
         "2024-03-18 00:00:00"
        ],
        [
         "62",
         "706.42",
         "639.09",
         "569.6899999999999",
         "736.05",
         "0",
         "1",
         "2024-03-25 00:00:00"
        ],
        [
         "63",
         "1460.7",
         "706.42",
         "639.09",
         "781.08",
         "0",
         "0",
         "2024-04-01 00:00:00"
        ],
        [
         "64",
         "823.62",
         "1460.7",
         "706.42",
         "804.82",
         "0",
         "0",
         "2024-04-08 00:00:00"
        ],
        [
         "65",
         "679.21",
         "823.62",
         "1460.7",
         "1739.91",
         "0",
         "0",
         "2024-04-15 00:00:00"
        ],
        [
         "66",
         "744.58",
         "679.21",
         "823.62",
         "995.13",
         "0",
         "0",
         "2024-04-22 00:00:00"
        ],
        [
         "67",
         "677.46",
         "744.58",
         "679.21",
         "755.85",
         "0",
         "0",
         "2024-04-29 00:00:00"
        ],
        [
         "68",
         "915.18",
         "677.46",
         "744.58",
         "828.31",
         "0",
         "0",
         "2024-05-06 00:00:00"
        ],
        [
         "69",
         "828.3",
         "915.18",
         "677.46",
         "1075.1299999999999",
         "0",
         "0",
         "2024-05-13 00:00:00"
        ],
        [
         "70",
         "854.34",
         "828.3",
         "915.18",
         "794.65",
         "0",
         "0",
         "2024-05-20 00:00:00"
        ],
        [
         "71",
         "782.38",
         "854.34",
         "828.3",
         "876.26",
         "0",
         "0",
         "2024-05-27 00:00:00"
        ],
        [
         "72",
         "708.74",
         "782.38",
         "854.34",
         "953.08",
         "0",
         "0",
         "2024-06-03 00:00:00"
        ],
        [
         "73",
         "737.77",
         "708.74",
         "782.38",
         "953.75",
         "0",
         "0",
         "2024-06-10 00:00:00"
        ],
        [
         "74",
         "914.24",
         "737.77",
         "708.74",
         "954.84",
         "0",
         "0",
         "2024-06-17 00:00:00"
        ],
        [
         "75",
         "1062.32",
         "914.24",
         "737.77",
         "1061.14",
         "0",
         "0",
         "2024-06-24 00:00:00"
        ],
        [
         "76",
         "1236.19",
         "1062.32",
         "914.24",
         "1223.61",
         "1",
         "0",
         "2024-07-01 00:00:00"
        ],
        [
         "77",
         "1486.56",
         "1236.19",
         "1062.32",
         "1580.45",
         "1",
         "0",
         "2024-07-08 00:00:00"
        ],
        [
         "78",
         "1503.58",
         "1486.56",
         "1236.19",
         "1506.51",
         "1",
         "0",
         "2024-07-15 00:00:00"
        ],
        [
         "79",
         "1560.75",
         "1503.58",
         "1486.56",
         "1666.39",
         "1",
         "0",
         "2024-07-22 00:00:00"
        ],
        [
         "80",
         "1714.05",
         "1560.75",
         "1503.58",
         "1745.97",
         "1",
         "0",
         "2024-07-29 00:00:00"
        ],
        [
         "81",
         "1709.82",
         "1714.05",
         "1560.75",
         "1681.41",
         "1",
         "0",
         "2024-08-05 00:00:00"
        ],
        [
         "82",
         "1899.2",
         "1709.82",
         "1714.05",
         "1753.02",
         "1",
         "0",
         "2024-08-12 00:00:00"
        ],
        [
         "83",
         "2270.25",
         "1899.2",
         "1709.82",
         "1835.18",
         "1",
         "0",
         "2024-08-19 00:00:00"
        ],
        [
         "84",
         "1959.96",
         "2270.25",
         "1899.2",
         "2127.71",
         "1",
         "0",
         "2024-08-26 00:00:00"
        ],
        [
         "85",
         "1379.46",
         "1959.96",
         "2270.25",
         "1841.08",
         "0",
         "0",
         "2024-09-02 00:00:00"
        ],
        [
         "86",
         "946.92",
         "1379.46",
         "1959.96",
         "1256.44",
         "0",
         "0",
         "2024-09-09 00:00:00"
        ],
        [
         "87",
         "1049.57",
         "946.92",
         "1379.46",
         "1102.32",
         "0",
         "0",
         "2024-09-16 00:00:00"
        ],
        [
         "88",
         "784.12",
         "1049.57",
         "946.92",
         "988.49",
         "0",
         "0",
         "2024-09-23 00:00:00"
        ],
        [
         "89",
         "846.54",
         "784.12",
         "1049.57",
         "950.7",
         "0",
         "0",
         "2024-09-30 00:00:00"
        ],
        [
         "90",
         "809.93",
         "846.54",
         "784.12",
         "856.21",
         "0",
         "0",
         "2024-10-07 00:00:00"
        ],
        [
         "91",
         "808.1899999999999",
         "809.93",
         "846.54",
         "842.85",
         "0",
         "0",
         "2024-10-14 00:00:00"
        ],
        [
         "92",
         "811.07",
         "808.1899999999999",
         "809.93",
         "912.13",
         "0",
         "0",
         "2024-10-21 00:00:00"
        ],
        [
         "93",
         "711.88",
         "811.07",
         "808.1899999999999",
         "750.99",
         "0",
         "0",
         "2024-10-28 00:00:00"
        ],
        [
         "94",
         "740.06",
         "711.88",
         "811.07",
         "821.84",
         "0",
         "0",
         "2024-11-04 00:00:00"
        ],
        [
         "95",
         "677.2",
         "740.06",
         "711.88",
         "607.02",
         "0",
         "0",
         "2024-11-11 00:00:00"
        ],
        [
         "96",
         "770.13",
         "677.2",
         "740.06",
         "304.73",
         "0",
         "0",
         "2024-11-18 00:00:00"
        ],
        [
         "97",
         "756.58",
         "770.13",
         "677.2",
         "744.1899999999999",
         "0",
         "0",
         "2024-11-25 00:00:00"
        ],
        [
         "98",
         "604.75",
         "756.58",
         "770.13",
         "632.35",
         "0",
         "0",
         "2024-12-02 00:00:00"
        ],
        [
         "99",
         "636.84",
         "604.75",
         "756.58",
         "622.22",
         "0",
         "0",
         "2024-12-09 00:00:00"
        ],
        [
         "100",
         "571.22",
         "636.84",
         "604.75",
         "806.54",
         "0",
         "0",
         "2024-12-16 00:00:00"
        ],
        [
         "101",
         "534.36",
         "571.22",
         "636.84",
         "563.18",
         "0",
         "0",
         "2025-01-06 00:00:00"
        ]
       ],
       "shape": {
        "columns": 7,
        "rows": 73
       }
      },
      "text/html": [
       "<div>\n",
       "<style scoped>\n",
       "    .dataframe tbody tr th:only-of-type {\n",
       "        vertical-align: middle;\n",
       "    }\n",
       "\n",
       "    .dataframe tbody tr th {\n",
       "        vertical-align: top;\n",
       "    }\n",
       "\n",
       "    .dataframe thead th {\n",
       "        text-align: right;\n",
       "    }\n",
       "</style>\n",
       "<table border=\"1\" class=\"dataframe\">\n",
       "  <thead>\n",
       "    <tr style=\"text-align: right;\">\n",
       "      <th></th>\n",
       "      <th>base_imponible_lag1</th>\n",
       "      <th>base_imponible_lag2</th>\n",
       "      <th>base_imponible_lag3</th>\n",
       "      <th>base_imponible_lag52</th>\n",
       "      <th>is_summer_peak</th>\n",
       "      <th>is_easter</th>\n",
       "      <th>week_start</th>\n",
       "    </tr>\n",
       "  </thead>\n",
       "  <tbody>\n",
       "    <tr>\n",
       "      <th>52</th>\n",
       "      <td>572.51</td>\n",
       "      <td>534.79</td>\n",
       "      <td>563.18</td>\n",
       "      <td>825.11</td>\n",
       "      <td>0</td>\n",
       "      <td>0</td>\n",
       "      <td>2024-01-15</td>\n",
       "    </tr>\n",
       "    <tr>\n",
       "      <th>53</th>\n",
       "      <td>597.65</td>\n",
       "      <td>572.51</td>\n",
       "      <td>534.79</td>\n",
       "      <td>658.40</td>\n",
       "      <td>0</td>\n",
       "      <td>0</td>\n",
       "      <td>2024-01-22</td>\n",
       "    </tr>\n",
       "    <tr>\n",
       "      <th>54</th>\n",
       "      <td>680.30</td>\n",
       "      <td>597.65</td>\n",
       "      <td>572.51</td>\n",
       "      <td>741.40</td>\n",
       "      <td>0</td>\n",
       "      <td>0</td>\n",
       "      <td>2024-01-29</td>\n",
       "    </tr>\n",
       "    <tr>\n",
       "      <th>55</th>\n",
       "      <td>603.99</td>\n",
       "      <td>680.30</td>\n",
       "      <td>597.65</td>\n",
       "      <td>653.64</td>\n",
       "      <td>0</td>\n",
       "      <td>0</td>\n",
       "      <td>2024-02-05</td>\n",
       "    </tr>\n",
       "    <tr>\n",
       "      <th>56</th>\n",
       "      <td>600.14</td>\n",
       "      <td>603.99</td>\n",
       "      <td>680.30</td>\n",
       "      <td>680.46</td>\n",
       "      <td>0</td>\n",
       "      <td>0</td>\n",
       "      <td>2024-02-12</td>\n",
       "    </tr>\n",
       "    <tr>\n",
       "      <th>...</th>\n",
       "      <td>...</td>\n",
       "      <td>...</td>\n",
       "      <td>...</td>\n",
       "      <td>...</td>\n",
       "      <td>...</td>\n",
       "      <td>...</td>\n",
       "      <td>...</td>\n",
       "    </tr>\n",
       "    <tr>\n",
       "      <th>120</th>\n",
       "      <td>810.97</td>\n",
       "      <td>842.62</td>\n",
       "      <td>891.38</td>\n",
       "      <td>828.30</td>\n",
       "      <td>0</td>\n",
       "      <td>0</td>\n",
       "      <td>2025-05-19</td>\n",
       "    </tr>\n",
       "    <tr>\n",
       "      <th>121</th>\n",
       "      <td>756.42</td>\n",
       "      <td>810.97</td>\n",
       "      <td>842.62</td>\n",
       "      <td>854.34</td>\n",
       "      <td>0</td>\n",
       "      <td>0</td>\n",
       "      <td>2025-05-26</td>\n",
       "    </tr>\n",
       "    <tr>\n",
       "      <th>122</th>\n",
       "      <td>802.16</td>\n",
       "      <td>756.42</td>\n",
       "      <td>810.97</td>\n",
       "      <td>782.38</td>\n",
       "      <td>0</td>\n",
       "      <td>0</td>\n",
       "      <td>2025-06-02</td>\n",
       "    </tr>\n",
       "    <tr>\n",
       "      <th>123</th>\n",
       "      <td>881.72</td>\n",
       "      <td>802.16</td>\n",
       "      <td>756.42</td>\n",
       "      <td>708.74</td>\n",
       "      <td>0</td>\n",
       "      <td>0</td>\n",
       "      <td>2025-06-09</td>\n",
       "    </tr>\n",
       "    <tr>\n",
       "      <th>124</th>\n",
       "      <td>1015.97</td>\n",
       "      <td>881.72</td>\n",
       "      <td>802.16</td>\n",
       "      <td>737.77</td>\n",
       "      <td>0</td>\n",
       "      <td>0</td>\n",
       "      <td>2025-06-16</td>\n",
       "    </tr>\n",
       "  </tbody>\n",
       "</table>\n",
       "<p>73 rows × 7 columns</p>\n",
       "</div>"
      ],
      "text/plain": [
       "     base_imponible_lag1  base_imponible_lag2  base_imponible_lag3  \\\n",
       "52                572.51               534.79               563.18   \n",
       "53                597.65               572.51               534.79   \n",
       "54                680.30               597.65               572.51   \n",
       "55                603.99               680.30               597.65   \n",
       "56                600.14               603.99               680.30   \n",
       "..                   ...                  ...                  ...   \n",
       "120               810.97               842.62               891.38   \n",
       "121               756.42               810.97               842.62   \n",
       "122               802.16               756.42               810.97   \n",
       "123               881.72               802.16               756.42   \n",
       "124              1015.97               881.72               802.16   \n",
       "\n",
       "     base_imponible_lag52  is_summer_peak  is_easter week_start  \n",
       "52                 825.11               0          0 2024-01-15  \n",
       "53                 658.40               0          0 2024-01-22  \n",
       "54                 741.40               0          0 2024-01-29  \n",
       "55                 653.64               0          0 2024-02-05  \n",
       "56                 680.46               0          0 2024-02-12  \n",
       "..                    ...             ...        ...        ...  \n",
       "120                828.30               0          0 2025-05-19  \n",
       "121                854.34               0          0 2025-05-26  \n",
       "122                782.38               0          0 2025-06-02  \n",
       "123                708.74               0          0 2025-06-09  \n",
       "124                737.77               0          0 2025-06-16  \n",
       "\n",
       "[73 rows x 7 columns]"
      ]
     },
     "execution_count": 76,
     "metadata": {},
     "output_type": "execute_result"
    }
   ],
   "source": [
    "from src.data_utils import transformar_features_target # type: ignore\n",
    "\n",
    "# Demostración de generación de features y target para modelado\n",
    "# Usamos la función centralizada que ya maneja los lags y prepara el target\n",
    "X, y, df_completo = transformar_features_target(\n",
    "    df_familia_semanal,\n",
    "    lags_list=[1,2,3,52], # Selección de mejores lags (excluidos lags 4,12,24,52)\n",
    "    columna_target='base_imponible',\n",
    "    cols_exogenas=['is_summer_peak', 'is_easter'],\n",
    "    eliminar_nulos=True\n",
    ")\n",
    "\n",
    "# Mostramos las dimensiones y primeras filas\n",
    "print(f\"Dimensión de X (features): {X.shape}\")\n",
    "print(f\"Dimensión de y (target): {y.shape}\")\n",
    "print(\"\\nPrimeras filas de X:\")\n",
    "X.head(200)"
   ]
  },
  {
   "cell_type": "code",
   "execution_count": 77,
   "id": "f73f5cf9",
   "metadata": {},
   "outputs": [
    {
     "name": "stdout",
     "output_type": "stream",
     "text": [
      "['base_imponible', 'is_summer_peak', 'is_easter', 'week_start', 'base_imponible_lag1', 'base_imponible_lag2', 'base_imponible_lag3', 'base_imponible_lag52', 'base_imponible_next1']\n"
     ]
    }
   ],
   "source": [
    "print(df_completo.columns.tolist())"
   ]
  },
  {
   "cell_type": "code",
   "execution_count": 78,
   "id": "f6d93739",
   "metadata": {},
   "outputs": [
    {
     "name": "stdout",
     "output_type": "stream",
     "text": [
      "Semanas de Semana Santa en el conjunto final de datos:\n",
      "     is_easter  is_summer_peak  base_imponible_lag1  base_imponible_next1\n",
      "62           1               0               706.42                823.62\n",
      "115          1               0               620.41                894.20\n"
     ]
    }
   ],
   "source": [
    "# Verificar que las semanas de Semana Santa están correctamente representadas en el conjunto de datos final\n",
    "easter_weeks_in_final = df_completo[df_completo['is_easter'] == 1]\n",
    "print(\"Semanas de Semana Santa en el conjunto final de datos:\")\n",
    "print(easter_weeks_in_final[['is_easter', 'is_summer_peak', 'base_imponible_lag1', 'base_imponible_next1']])"
   ]
  },
  {
   "cell_type": "markdown",
   "id": "78cf2e4e",
   "metadata": {},
   "source": [
    "# Guardado de datos procesados\n",
    "\n",
    "Vamos a guardar los datasets finales (X, y, df_completo) en la carpeta `processed` ya que estos datos están listos para ser utilizados en el modelado."
   ]
  },
  {
   "cell_type": "code",
   "execution_count": 79,
   "id": "ea21fadb",
   "metadata": {},
   "outputs": [
    {
     "name": "stdout",
     "output_type": "stream",
     "text": [
      "Datos procesados guardados en la carpeta: C:\\Workspace\\mlops_fleca_project\\data\\processed\n",
      "- Features (X): ts_X_bolleria_20250803.parquet\n",
      "- Target (y): ts_y_bolleria_20250803.parquet\n",
      "- Dataset completo: ts_df_bolleria_20250803.parquet\n",
      "Archivo X: C:\\Workspace\\mlops_fleca_project\\data\\processed\\ts_X_bolleria_20250803.parquet\n",
      "Archivo y: C:\\Workspace\\mlops_fleca_project\\data\\processed\\ts_y_bolleria_20250803.parquet\n",
      "Archivo df_completo: C:\\Workspace\\mlops_fleca_project\\data\\processed\\ts_df_bolleria_20250803.parquet\n"
     ]
    }
   ],
   "source": [
    "# Importar la nueva función para guardar datos procesados\n",
    "from src.data_utils import guardar_datos_procesados # type: ignore\n",
    "\n",
    "# Guardar los datasets en la carpeta processed\n",
    "archivos_guardados = guardar_datos_procesados(\n",
    "    X=X, \n",
    "    y=y, \n",
    "    df_completo=df_completo,\n",
    "    familia='BOLLERIA'\n",
    ")\n",
    "\n",
    "# Verificar las rutas donde se guardaron los archivos\n",
    "for tipo_datos, ruta in archivos_guardados.items():\n",
    "    print(f\"Archivo {tipo_datos}: {ruta}\")"
   ]
  },
  {
   "cell_type": "code",
   "execution_count": 80,
   "id": "b7b2f29b",
   "metadata": {},
   "outputs": [
    {
     "name": "stdout",
     "output_type": "stream",
     "text": [
      "['base_imponible', 'is_summer_peak', 'is_easter', 'week_start', 'base_imponible_lag1', 'base_imponible_lag2', 'base_imponible_lag3', 'base_imponible_lag52', 'base_imponible_next1']\n"
     ]
    }
   ],
   "source": [
    "print(df_completo.columns.tolist())"
   ]
  }
 ],
 "metadata": {
  "kernelspec": {
   "display_name": "mlops-project-py3.10",
   "language": "python",
   "name": "python3"
  },
  "language_info": {
   "codemirror_mode": {
    "name": "ipython",
    "version": 3
   },
   "file_extension": ".py",
   "mimetype": "text/x-python",
   "name": "python",
   "nbconvert_exporter": "python",
   "pygments_lexer": "ipython3",
   "version": "3.10.0"
  }
 },
 "nbformat": 4,
 "nbformat_minor": 5
}
