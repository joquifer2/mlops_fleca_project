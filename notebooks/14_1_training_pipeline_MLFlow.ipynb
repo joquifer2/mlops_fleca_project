{
 "cells": [
  {
   "cell_type": "code",
   "execution_count": 50,
   "id": "3a5c4504",
   "metadata": {},
   "outputs": [],
   "source": [
    "from datetime import datetime\n",
    "from src import config\n",
    "import hopsworks\n",
    "import pandas as pd\n",
    "import logging\n",
    "import mlflow\n",
    "from xgboost import XGBRegressor\n",
    "from sklearn.linear_model import LinearRegression, Ridge, Lasso\n",
    "from sklearn.ensemble import RandomForestRegressor, GradientBoostingRegressor\n",
    "from sklearn.metrics import mean_absolute_error, mean_squared_error, r2_score\n",
    "\n",
    "import sys\n",
    "from pathlib import Path\n",
    "\n",
    "# Añade src al path para importar los módulos\n",
    "sys.path.append(str(Path().resolve().parent / 'src'))"
   ]
  },
  {
   "cell_type": "code",
   "execution_count": 51,
   "id": "e412d564",
   "metadata": {},
   "outputs": [],
   "source": [
    "%reload_ext autoreload\n",
    "%autoreload 2"
   ]
  },
  {
   "cell_type": "code",
   "execution_count": 52,
   "id": "fc80d657",
   "metadata": {},
   "outputs": [],
   "source": [
    "# Configuración básica de logging\n",
    "logging.basicConfig(level=logging.INFO, format='%(asctime)s - %(levelname)s - %(message)s')\n",
    "logger = logging.getLogger('feature_view_creation')"
   ]
  },
  {
   "cell_type": "code",
   "execution_count": 53,
   "id": "ddad7052",
   "metadata": {},
   "outputs": [
    {
     "name": "stdout",
     "output_type": "stream",
     "text": [
      "2025-08-24 13:06:37,082 INFO: Closing external client and cleaning up certificates.\n",
      "Connection closed.\n",
      "2025-08-24 13:06:37,086 INFO: Initializing external client\n",
      "2025-08-24 13:06:37,086 INFO: Base URL: https://c.app.hopsworks.ai:443\n"
     ]
    },
    {
     "name": "stderr",
     "output_type": "stream",
     "text": [
      "\n",
      "\n",
      "UserWarning: The installed hopsworks client version 4.3.1 may not be compatible with the connected Hopsworks backend version 4.2.2. \n",
      "To ensure compatibility please install the latest bug fix release matching the minor version of your backend (4.2) by running 'pip install hopsworks==4.2.*'\n"
     ]
    },
    {
     "name": "stdout",
     "output_type": "stream",
     "text": [
      "2025-08-24 13:06:38,125 INFO: Python Engine initialized.\n",
      "\n",
      "Logged in to project, explore it here https://c.app.hopsworks.ai:443/p/1242272\n",
      "2025-08-24 13:06:39,403 INFO: Conexión exitosa al Feature Group: times_series_bolleria_feature_group (v1)\n"
     ]
    }
   ],
   "source": [
    "# Conectar a Hopsworks y al Feature Store\n",
    "try:\n",
    "    # Login y conexión al proyecto\n",
    "    project = hopsworks.login(\n",
    "        api_key_value=config.HOPSWORKS_API_KEY, \n",
    "        project=config.HOPSWORKS_PROJECT_NAME)\n",
    "    \n",
    "    # Conexión al feature store\n",
    "    feature_store = project.get_feature_store()\n",
    "    \n",
    "    # Conexión al feature group\n",
    "    feature_group = feature_store.get_feature_group(\n",
    "        name=config.FEATURE_GROUP_NAME,\n",
    "        version=config.FEATURE_GROUP_VERSION\n",
    "    )\n",
    "    \n",
    "    logger.info(f\"Conexión exitosa al Feature Group: {feature_group.name} (v{feature_group.version})\")\n",
    "    \n",
    "except Exception as e:\n",
    "    logger.error(f\"Error en conexión: {e}\")\n",
    "    raise"
   ]
  },
  {
   "cell_type": "code",
   "execution_count": 54,
   "id": "dc46d4fd",
   "metadata": {},
   "outputs": [
    {
     "name": "stdout",
     "output_type": "stream",
     "text": [
      "2025-08-24 13:06:42,204 INFO: Feature view existente recuperada: times_series_bolleria_feature_view (v1)\n"
     ]
    }
   ],
   "source": [
    "# Crear/obtener feature view con características seleccionadas\n",
    "try:\n",
    "    # Características específicas a incluir\n",
    "    selected_features = ['familia', 'base_imponible', 'is_summer_peak', 'is_easter', 'week_start']\n",
    "    feature_view_name = config.FEATURE_VIEW_NAME\n",
    "    feature_view_version = 1\n",
    "    \n",
    "    # Intentar obtener la feature view existente primero\n",
    "    try:\n",
    "        feature_view = feature_store.get_feature_view(\n",
    "            name=feature_view_name,\n",
    "            version=feature_view_version\n",
    "        )\n",
    "        logger.info(f\"Feature view existente recuperada: {feature_view.name} (v{feature_view.version})\")\n",
    "    \n",
    "    except:\n",
    "        # Si no existe, crear una nueva\n",
    "        # Obtener objetos Feature para las características seleccionadas\n",
    "        selected_feature_objects = [f for f in feature_group.features if f.name in selected_features]\n",
    "        \n",
    "        # Crear query con características seleccionadas\n",
    "        specific_query = feature_group.select(selected_feature_objects)\n",
    "        \n",
    "        # Crear la feature view\n",
    "        feature_view = feature_store.create_feature_view(\n",
    "            name=feature_view_name,\n",
    "            version=feature_view_version,\n",
    "            query=specific_query,\n",
    "            description=f\"Feature view con características: {', '.join(selected_features)}\"\n",
    "        )\n",
    "        logger.info(f\"Nueva feature view creada: {feature_view.name} (v{feature_view.version})\")\n",
    "    \n",
    "except Exception as e:\n",
    "    logger.error(f\"Error al crear/obtener feature view: {e}\")\n",
    "    raise"
   ]
  },
  {
   "cell_type": "code",
   "execution_count": 55,
   "id": "0eb477b3",
   "metadata": {},
   "outputs": [
    {
     "name": "stdout",
     "output_type": "stream",
     "text": [
      "Finished: Reading data from Hopsworks, using Hopsworks Feature Query Service (0.63s) \n",
      "2025-08-24 13:06:50,564 INFO: Datos obtenidos: 133 filas, 5 columnas\n",
      "2025-08-24 13:06:50,565 INFO: Columnas disponibles: ['familia', 'base_imponible', 'is_summer_peak', 'is_easter', 'week_start']\n",
      "Muestra de datos:\n",
      "    familia  base_imponible  is_summer_peak  is_easter  \\\n",
      "0  BOLLERIA          641.56               0          0   \n",
      "1  BOLLERIA          725.72               0          0   \n",
      "2  BOLLERIA          950.70               0          0   \n",
      "\n",
      "                 week_start  \n",
      "0 2023-02-06 00:00:00+00:00  \n",
      "1 2025-02-24 00:00:00+00:00  \n",
      "2 2023-09-18 00:00:00+00:00  \n"
     ]
    }
   ],
   "source": [
    "# Obtener datos de la feature view\n",
    "try:\n",
    "    # Obtener datos en batch normal\n",
    "    df_ts = feature_view.get_batch_data()\n",
    "    \n",
    "    # Mostrar resumen de los datos obtenidos\n",
    "    logger.info(f\"Datos obtenidos: {df_ts.shape[0]} filas, {df_ts.shape[1]} columnas\")\n",
    "    logger.info(f\"Columnas disponibles: {list(df_ts.columns)}\")\n",
    "    print(\"Muestra de datos:\")\n",
    "    print(df_ts.head(3))\n",
    "    \n",
    "except Exception as e:\n",
    "    logger.error(f\"Error al obtener datos: {e}\")\n",
    "    raise"
   ]
  },
  {
   "cell_type": "code",
   "execution_count": 56,
   "id": "e0f1a467",
   "metadata": {},
   "outputs": [
    {
     "name": "stdout",
     "output_type": "stream",
     "text": [
      "Finished: Reading data from Hopsworks, using Hopsworks Feature Query Service (0.64s) \n"
     ]
    },
    {
     "name": "stderr",
     "output_type": "stream",
     "text": [
      "VersionWarning: Incremented version to `20`.\n"
     ]
    }
   ],
   "source": [
    "# Obtener datos de entrenamiento (training_data)\n",
    "try:\n",
    "    # Obtener datos de entrenamiento (X, y) desde la feature view\n",
    "    df_ts = feature_view.training_data()\n",
    "\n",
    "except Exception as e:\n",
    "    print(f\"Error al obtener datos de entrenamiento: {e}\")"
   ]
  },
  {
   "cell_type": "code",
   "execution_count": 57,
   "id": "09821c86",
   "metadata": {},
   "outputs": [
    {
     "name": "stdout",
     "output_type": "stream",
     "text": [
      "2025-08-24 13:06:59,140 INFO: Detectada entrada tipo tupla con 2 elementos\n",
      "2025-08-24 13:06:59,140 INFO: Usando el primer elemento de la tupla como DataFrame: (133, 5)\n",
      "2025-08-24 13:06:59,144 INFO: Retornando DataFrame combinado: (80, 8)\n",
      "2025-08-24 13:06:59,144 INFO: Datos procesados: 80 filas, 8 columnas\n",
      "2025-08-24 13:06:59,145 INFO: Variables disponibles: ['base_imponible_lag1', 'base_imponible_lag2', 'base_imponible_lag3', 'base_imponible_lag52', 'is_easter', 'is_summer_peak', 'week_start', 'target']\n",
      "\n",
      "Muestra de datos procesados:\n",
      "     base_imponible_lag1  base_imponible_lag2  base_imponible_lag3  \\\n",
      "41                572.51               534.79               563.18   \n",
      "72                597.65               572.51               534.79   \n",
      "114               680.30               597.65               572.51   \n",
      "\n",
      "     base_imponible_lag52  is_easter  is_summer_peak  \\\n",
      "41                 825.11          0               0   \n",
      "72                 658.40          0               0   \n",
      "114                741.40          0               0   \n",
      "\n",
      "                   week_start  target  \n",
      "41  2024-01-15 00:00:00+00:00  680.30  \n",
      "72  2024-01-22 00:00:00+00:00  603.99  \n",
      "114 2024-01-29 00:00:00+00:00  600.14  \n"
     ]
    }
   ],
   "source": [
    "# Procesar datos para entrenamiento\n",
    "from src.data_utils import transformar_features_target\n",
    "\n",
    "try:\n",
    "       \n",
    "    # Procesar datos usando la función mejorada que acepta tuplas directamente\n",
    "    features_and_target = transformar_features_target(\n",
    "        df_ts,\n",
    "        lags_list=[1, 2, 3, 52], \n",
    "        columna_target='base_imponible',\n",
    "        cols_exogenas=['is_easter', 'is_summer_peak'],\n",
    "        periodos_adelante=1,\n",
    "        eliminar_nulos=True,\n",
    "        return_format='dataframe'  # Obtenemos un único DataFrame con features y target\n",
    "    )\n",
    "    \n",
    "    # Mostrar información de los datos procesados\n",
    "    logger.info(f\"Datos procesados: {features_and_target.shape[0]} filas, {features_and_target.shape[1]} columnas\")\n",
    "    logger.info(f\"Variables disponibles: {list(features_and_target.columns)}\")\n",
    "    print(\"\\nMuestra de datos procesados:\")\n",
    "    print(features_and_target.head(3))\n",
    "    \n",
    "except Exception as e:\n",
    "    logger.error(f\"Error al procesar datos: {e}\")\n",
    "    raise"
   ]
  },
  {
   "cell_type": "code",
   "execution_count": 58,
   "id": "6418c91a",
   "metadata": {},
   "outputs": [
    {
     "name": "stdout",
     "output_type": "stream",
     "text": [
      "Train: (65, 7), Test: (15, 7)\n"
     ]
    }
   ],
   "source": [
    "# Split temporal (automático 80/20 ya incluido en la función)\n",
    "from src.data_split import train_test_split\n",
    "\n",
    "try:\n",
    "    X_train, y_train, X_test, y_test = train_test_split(\n",
    "        features_and_target,\n",
    "        target='target'  # o 'base_imponible' según tu pipeline\n",
    "        # split_ratio=0.8  # puedes cambiar el porcentaje si lo necesitas\n",
    "    )\n",
    "    print(f\"Train: {X_train.shape}, Test: {X_test.shape}\")\n",
    "except Exception as e:\n",
    "    logger.error(f\"Error en el split temporal: {e}\")\n",
    "    raise\n"
   ]
  },
  {
   "cell_type": "code",
   "execution_count": 60,
   "id": "931d109b",
   "metadata": {},
   "outputs": [
    {
     "name": "stderr",
     "output_type": "stream",
     "text": [
      "2025/08/24 13:08:16 INFO mlflow.tracking.fluent: Experiment with name 'fleca_bolleria_experiments' does not exist. Creating a new experiment.\n"
     ]
    },
    {
     "data": {
      "text/plain": [
       "<Experiment: artifact_location='file:///C:/Workspace/mlops_fleca_project/mlruns/5', creation_time=1756033696637, experiment_id='5', last_update_time=1756033696637, lifecycle_stage='active', name='fleca_bolleria_experiments', tags={}>"
      ]
     },
     "execution_count": 60,
     "metadata": {},
     "output_type": "execute_result"
    }
   ],
   "source": [
    "# Configuración de MLflow para registrar todo en el servidor web y visualizar en la UI\n",
    "mlflow.set_tracking_uri('http://127.0.0.1:5000')\n",
    "mlflow.set_experiment(\"fleca_bolleria_experiments\")"
   ]
  },
  {
   "cell_type": "code",
   "execution_count": 61,
   "id": "54263c9a",
   "metadata": {},
   "outputs": [],
   "source": [
    "# Eliminar columnas datetime antes de entrenar\n",
    "for df in [X_train, X_test]:\n",
    "    if 'week_start' in df.columns:\n",
    "        df.drop('week_start', axis=1, inplace=True)"
   ]
  },
  {
   "cell_type": "code",
   "execution_count": 62,
   "id": "032d4bf3",
   "metadata": {},
   "outputs": [
    {
     "name": "stderr",
     "output_type": "stream",
     "text": [
      "2025/08/24 13:08:33 WARNING mlflow.models.model: `artifact_path` is deprecated. Please use `name` instead.\n",
      "UserWarning: [13:08:33] WARNING: C:\\actions-runner\\_work\\xgboost\\xgboost\\src\\c_api\\c_api.cc:1427: Saving model in the UBJSON format as default.  You can use file extension: `json`, `ubj` or `deprecated` to choose between formats.\n",
      "2025/08/24 13:08:35 WARNING mlflow.models.model: Model logged without a signature and input example. Please set `input_example` parameter when logging the model to auto infer the model signature.\n"
     ]
    },
    {
     "name": "stdout",
     "output_type": "stream",
     "text": [
      "MAE: 194.05842610677084\n",
      "MSE: 54390.89484225258\n",
      "R2: 0.4041277259384527\n",
      "🏃 View run xgboost at: http://127.0.0.1:5000/#/experiments/5/runs/a77c5b57d1fc44ca92865140f4f09e5f\n",
      "🧪 View experiment at: http://127.0.0.1:5000/#/experiments/5\n"
     ]
    }
   ],
   "source": [
    "# Importar XGBoost y métricas\n",
    "from xgboost import XGBRegressor\n",
    "from sklearn.metrics import mean_absolute_error, mean_squared_error, r2_score\n",
    "\n",
    "# Definimos los modelos a entrenar\n",
    "with mlflow.start_run(run_name=\"xgboost\"):\n",
    "    # Entrenamos el modelo\n",
    "    model = XGBRegressor()\n",
    "    model.fit(X_train, y_train)\n",
    "\n",
    "    # Realizamos predicciones\n",
    "    predictions = model.predict(X_test)\n",
    "\n",
    "    # Calcular métricas\n",
    "    mae = mean_absolute_error(y_test, predictions)\n",
    "    mse = mean_squared_error(y_test, predictions)\n",
    "    r2 = r2_score(y_test, predictions)\n",
    "\n",
    "    # Log de los parámetros\n",
    "    mlflow.log_param(\"model\", \"xgboost\")\n",
    "    for param, value in model.get_params().items():\n",
    "        mlflow.log_param(param, value)\n",
    "\n",
    "    # Log de las métricas\n",
    "    mlflow.log_metric(\"mae\", mae)\n",
    "    mlflow.log_metric(\"mse\", mse)\n",
    "    mlflow.log_metric(\"r2\", r2)\n",
    "\n",
    "    # Log del modelo\n",
    "    mlflow.xgboost.log_model(model, \"model\")\n",
    "\n",
    "    # Imprimir resultados\n",
    "    print(f\"MAE: {mae}\")\n",
    "    print(f\"MSE: {mse}\")\n",
    "    print(f\"R2: {r2}\")"
   ]
  },
  {
   "cell_type": "code",
   "execution_count": 63,
   "id": "2cf70eea",
   "metadata": {},
   "outputs": [],
   "source": [
    "# Definimos los modelos a entrenar\n",
    "\n",
    "models ={\n",
    "    \"LinearRegresion\": LinearRegression(),\n",
    "    \"Ridge\": Ridge(alpha=1.0),\n",
    "    \"Lasso\": Lasso(alpha=0.1),\n",
    "    \"RandomForest\": RandomForestRegressor(n_estimators=100),\n",
    "    \"GradientBoosting\": GradientBoostingRegressor(n_estimators=100)\n",
    "    }"
   ]
  },
  {
   "cell_type": "code",
   "execution_count": 64,
   "id": "6c5776d8",
   "metadata": {},
   "outputs": [
    {
     "name": "stderr",
     "output_type": "stream",
     "text": [
      "2025/08/24 13:08:40 WARNING mlflow.models.model: `artifact_path` is deprecated. Please use `name` instead.\n",
      "2025/08/24 13:08:41 WARNING mlflow.models.model: Model logged without a signature and input example. Please set `input_example` parameter when logging the model to auto infer the model signature.\n"
     ]
    },
    {
     "name": "stdout",
     "output_type": "stream",
     "text": [
      "2025-08-24 13:08:41,933 INFO: Modelo: LinearRegresion - MAE: 205.51486658938077, MSE: 63302.69911598183, R2: 0.30649562972125177\n"
     ]
    },
    {
     "name": "stderr",
     "output_type": "stream",
     "text": [
      "2025/08/24 13:08:42 WARNING mlflow.models.model: `artifact_path` is deprecated. Please use `name` instead.\n"
     ]
    },
    {
     "name": "stdout",
     "output_type": "stream",
     "text": [
      "🏃 View run LinearRegresion at: http://127.0.0.1:5000/#/experiments/5/runs/f7b95367dfb947b3bc537c1be408341f\n",
      "🧪 View experiment at: http://127.0.0.1:5000/#/experiments/5\n"
     ]
    },
    {
     "name": "stderr",
     "output_type": "stream",
     "text": [
      "2025/08/24 13:08:43 WARNING mlflow.models.model: Model logged without a signature and input example. Please set `input_example` parameter when logging the model to auto infer the model signature.\n"
     ]
    },
    {
     "name": "stdout",
     "output_type": "stream",
     "text": [
      "2025-08-24 13:08:43,349 INFO: Modelo: Ridge - MAE: 181.89402786424205, MSE: 53159.90578118782, R2: 0.41761366422442714\n"
     ]
    },
    {
     "name": "stderr",
     "output_type": "stream",
     "text": [
      "2025/08/24 13:08:43 WARNING mlflow.models.model: `artifact_path` is deprecated. Please use `name` instead.\n"
     ]
    },
    {
     "name": "stdout",
     "output_type": "stream",
     "text": [
      "🏃 View run Ridge at: http://127.0.0.1:5000/#/experiments/5/runs/6ee80be4b3c6483c8570b7a353d7ded1\n",
      "🧪 View experiment at: http://127.0.0.1:5000/#/experiments/5\n"
     ]
    },
    {
     "name": "stderr",
     "output_type": "stream",
     "text": [
      "2025/08/24 13:08:44 WARNING mlflow.models.model: Model logged without a signature and input example. Please set `input_example` parameter when logging the model to auto infer the model signature.\n"
     ]
    },
    {
     "name": "stdout",
     "output_type": "stream",
     "text": [
      "2025-08-24 13:08:44,790 INFO: Modelo: Lasso - MAE: 205.03036855412086, MSE: 63018.17331888658, R2: 0.30961271456120576\n"
     ]
    },
    {
     "name": "stderr",
     "output_type": "stream",
     "text": [
      "2025/08/24 13:08:44 WARNING mlflow.models.model: `artifact_path` is deprecated. Please use `name` instead.\n"
     ]
    },
    {
     "name": "stdout",
     "output_type": "stream",
     "text": [
      "🏃 View run Lasso at: http://127.0.0.1:5000/#/experiments/5/runs/82af7dd5b61546d5ae32291ec7edb506\n",
      "🧪 View experiment at: http://127.0.0.1:5000/#/experiments/5\n"
     ]
    },
    {
     "name": "stderr",
     "output_type": "stream",
     "text": [
      "2025/08/24 13:08:46 WARNING mlflow.models.model: Model logged without a signature and input example. Please set `input_example` parameter when logging the model to auto infer the model signature.\n"
     ]
    },
    {
     "name": "stdout",
     "output_type": "stream",
     "text": [
      "2025-08-24 13:08:46,297 INFO: Modelo: RandomForest - MAE: 179.26747999999995, MSE: 52840.631879115994, R2: 0.42111142734503415\n"
     ]
    },
    {
     "name": "stderr",
     "output_type": "stream",
     "text": [
      "2025/08/24 13:08:46 WARNING mlflow.models.model: `artifact_path` is deprecated. Please use `name` instead.\n"
     ]
    },
    {
     "name": "stdout",
     "output_type": "stream",
     "text": [
      "🏃 View run RandomForest at: http://127.0.0.1:5000/#/experiments/5/runs/2e4c1ecb6ff34f778d1ee9df56566402\n",
      "🧪 View experiment at: http://127.0.0.1:5000/#/experiments/5\n"
     ]
    },
    {
     "name": "stderr",
     "output_type": "stream",
     "text": [
      "2025/08/24 13:08:47 WARNING mlflow.models.model: Model logged without a signature and input example. Please set `input_example` parameter when logging the model to auto infer the model signature.\n"
     ]
    },
    {
     "name": "stdout",
     "output_type": "stream",
     "text": [
      "2025-08-24 13:08:47,733 INFO: Modelo: GradientBoosting - MAE: 194.46300570564398, MSE: 59422.45294565838, R2: 0.3490051548198002\n",
      "🏃 View run GradientBoosting at: http://127.0.0.1:5000/#/experiments/5/runs/3f758d9d527b4400b70685c15d72875a\n",
      "🧪 View experiment at: http://127.0.0.1:5000/#/experiments/5\n"
     ]
    }
   ],
   "source": [
    "# Entrenamos y evaluamos varios modelos a la vez\n",
    "for model_name, model in models.items():\n",
    "    with mlflow.start_run(run_name=model_name):\n",
    "        # Entrenamos el modelo\n",
    "        model.fit(X_train, y_train)\n",
    "        # Realizamos predicciones\n",
    "        y_pred = model.predict(X_test)\n",
    "\n",
    "        # Calculamos las métricas\n",
    "        mae = mean_absolute_error(y_test, y_pred)\n",
    "        mse = mean_squared_error(y_test, y_pred)\n",
    "        r2 = r2_score(y_test, y_pred)\n",
    "\n",
    "        # Registramos las métricas en mlflow\n",
    "        mlflow.log_metrics({\n",
    "            \"mae\": mae,\n",
    "            \"mse\": mse,\n",
    "            \"r2\": r2_score(y_test, y_pred)\n",
    "        })\n",
    "        # Registramos los hiperparámetros en mlflow\n",
    "        mlflow.log_params({\n",
    "            \"model\": model_name,\n",
    "            \"n_estimators\": model.n_estimators if hasattr(model, \"n_estimators\") else None,\n",
    "            \"max_depth\": model.max_depth if hasattr(model, \"max_depth\") else None,\n",
    "            \"learning_rate\": model.learning_rate if hasattr(model, \"learning_rate\") else None\n",
    "        })\n",
    "\n",
    "        # Registramos el modelo en mlflow\n",
    "        mlflow.sklearn.log_model(model, \"model\")\n",
    "\n",
    "        logger.info(f\"Modelo: {model_name} - MAE: {mae}, MSE: {mse}, R2: {r2}\")\n"
   ]
  },
  {
   "cell_type": "code",
   "execution_count": 66,
   "id": "fbaa70b2",
   "metadata": {},
   "outputs": [
    {
     "name": "stdout",
     "output_type": "stream",
     "text": [
      "Mejor modelo: RandomForest\n",
      "Run ID del mejor modelo: 2e4c1ecb6ff34f778d1ee9df56566402\n"
     ]
    }
   ],
   "source": [
    "# Buscar el mejor modelo por menor MAE y registrar automáticamente en MLflow Model Registry\n",
    "import mlflow\n",
    "from mlflow.tracking import MlflowClient\n",
    "client = MlflowClient()\n",
    "experiment = client.get_experiment_by_name('fleca_bolleria_experiments')\n",
    "runs = client.search_runs(experiment_ids=[experiment.experiment_id], order_by=['metrics.mae ASC'])\n",
    "best_run = runs[0]  # El de menor MAE\n",
    "print('Mejor modelo:', best_run.data.params['model'])\n",
    "print('Run ID del mejor modelo:', best_run.info.run_id)\n"
   ]
  },
  {
   "cell_type": "code",
   "execution_count": 67,
   "id": "71cb0a71",
   "metadata": {},
   "outputs": [
    {
     "name": "stderr",
     "output_type": "stream",
     "text": [
      "Successfully registered model 'RandomForest'.\n",
      "2025/08/24 13:09:38 WARNING mlflow.tracking._model_registry.fluent: Run with id 2e4c1ecb6ff34f778d1ee9df56566402 has no artifacts at artifact path 'model', registering model based on models:/m-ba35a128968c4b91a5792e5e52edc8b2 instead\n",
      "2025/08/24 13:09:38 INFO mlflow.store.model_registry.abstract_store: Waiting up to 300 seconds for model version to finish creation. Model name: RandomForest, version 1\n",
      "Created version '1' of model 'RandomForest'.\n"
     ]
    },
    {
     "data": {
      "text/plain": [
       "<ModelVersion: aliases=[], creation_timestamp=1756033778212, current_stage='None', deployment_job_state=<ModelVersionDeploymentJobState: current_task_name='', job_id='', job_state='DEPLOYMENT_JOB_CONNECTION_STATE_UNSPECIFIED', run_id='', run_state='DEPLOYMENT_JOB_RUN_STATE_UNSPECIFIED'>, description='', last_updated_timestamp=1756033778212, metrics=None, model_id=None, name='RandomForest', params=None, run_id='2e4c1ecb6ff34f778d1ee9df56566402', run_link='', source='models:/m-ba35a128968c4b91a5792e5e52edc8b2', status='READY', status_message=None, tags={}, user_id='', version='1'>"
      ]
     },
     "execution_count": 67,
     "metadata": {},
     "output_type": "execute_result"
    }
   ],
   "source": [
    "# Registramos el mejor modelo\n",
    "# Id del run del mejor modelo (puedes cogerlo de la UI)\n",
    "run_id = \"2e4c1ecb6ff34f778d1ee9df56566402\"  # Este es el run_id real\n",
    "model_uri = f'runs:/{run_id}/model'  # Sintaxis correcta para MLflow\n",
    "model_description = 'Modelo de Random Forest entrenado con 1,2,3,52 Lags'\n",
    "mlflow.register_model(model_uri, 'RandomForest')"
   ]
  },
  {
   "cell_type": "code",
   "execution_count": 36,
   "id": "8b287194",
   "metadata": {},
   "outputs": [
    {
     "name": "stdout",
     "output_type": "stream",
     "text": [
      "2025-08-24 13:04:42,285 WARNING: Malformed experiment '4'. Detailed error Yaml file 'C:\\Workspace\\mlops_fleca_project\\mlruns\\4\\meta.yaml' does not exist.\n",
      "Traceback (most recent call last):\n",
      "  File \"c:\\Workspace\\mlops_fleca_project\\.venv\\lib\\site-packages\\mlflow\\store\\tracking\\file_store.py\", line 366, in search_experiments\n",
      "    exp = self._get_experiment(exp_id, view_type)\n",
      "  File \"c:\\Workspace\\mlops_fleca_project\\.venv\\lib\\site-packages\\mlflow\\store\\tracking\\file_store.py\", line 464, in _get_experiment\n",
      "    meta = FileStore._read_yaml(experiment_dir, FileStore.META_DATA_FILE_NAME)\n",
      "  File \"c:\\Workspace\\mlops_fleca_project\\.venv\\lib\\site-packages\\mlflow\\store\\tracking\\file_store.py\", line 1634, in _read_yaml\n",
      "    return _read_helper(root, file_name, attempts_remaining=retries)\n",
      "  File \"c:\\Workspace\\mlops_fleca_project\\.venv\\lib\\site-packages\\mlflow\\store\\tracking\\file_store.py\", line 1627, in _read_helper\n",
      "    result = read_yaml(root, file_name)\n",
      "  File \"c:\\Workspace\\mlops_fleca_project\\.venv\\lib\\site-packages\\mlflow\\utils\\yaml_utils.py\", line 107, in read_yaml\n",
      "    raise MissingConfigException(f\"Yaml file '{file_path}' does not exist.\")\n",
      "mlflow.exceptions.MissingConfigException: Yaml file 'C:\\Workspace\\mlops_fleca_project\\mlruns\\4\\meta.yaml' does not exist.\n"
     ]
    },
    {
     "name": "stderr",
     "output_type": "stream",
     "text": [
      "2025/08/24 13:04:42 WARNING mlflow.models.model: `artifact_path` is deprecated. Please use `name` instead.\n",
      "2025/08/24 13:04:43 WARNING mlflow.models.model: Model logged without a signature and input example. Please set `input_example` parameter when logging the model to auto infer the model signature.\n",
      "Registered model 'RandomForest' already exists. Creating a new version of this model...\n",
      "Created version '3' of model 'RandomForest'.\n"
     ]
    }
   ],
   "source": [
    "import mlflow\n",
    "mlflow.set_tracking_uri(\"file:///c:/Workspace/mlops_fleca_project/mlruns\")\n",
    "mlflow.set_experiment(\"bolleria_predicts\")\n",
    "\n",
    "with mlflow.start_run() as run:\n",
    "    import mlflow.sklearn\n",
    "    mlflow.sklearn.log_model(model, \"model\", registered_model_name=\"RandomForest\")"
   ]
  },
  {
   "cell_type": "markdown",
   "id": "bad61e19",
   "metadata": {},
   "source": [
    "# ESte no funciona (hay que investigar por qué)"
   ]
  },
  {
   "cell_type": "code",
   "execution_count": 61,
   "id": "3ebe5d13",
   "metadata": {},
   "outputs": [
    {
     "name": "stderr",
     "output_type": "stream",
     "text": [
      "2025/08/23 12:24:56 WARNING mlflow.models.model: `artifact_path` is deprecated. Please use `name` instead.\n",
      "UserWarning: [12:24:56] WARNING: C:\\actions-runner\\_work\\xgboost\\xgboost\\src\\c_api\\c_api.cc:1427: Saving model in the UBJSON format as default.  You can use file extension: `json`, `ubj` or `deprecated` to choose between formats.\n",
      "UserWarning: [12:24:56] WARNING: C:\\actions-runner\\_work\\xgboost\\xgboost\\src\\c_api\\c_api.cc:1427: Saving model in the UBJSON format as default.  You can use file extension: `json`, `ubj` or `deprecated` to choose between formats.\n",
      "2025/08/23 12:24:58 WARNING mlflow.models.model: Model logged without a signature and input example. Please set `input_example` parameter when logging the model to auto infer the model signature.\n",
      "2025/08/23 12:24:58 WARNING mlflow.models.model: Model logged without a signature and input example. Please set `input_example` parameter when logging the model to auto infer the model signature.\n"
     ]
    },
    {
     "name": "stdout",
     "output_type": "stream",
     "text": [
      "MAE: 236.2600927734375\n",
      "R2: 0.08752420359999014\n",
      "🏃 View run xgboost at: http://localhost:5000/#/experiments/1/runs/65ddfe3dd1954b21a34ab0388987d4e4\n",
      "🧪 View experiment at: http://localhost:5000/#/experiments/1\n"
     ]
    }
   ],
   "source": [
    "# Entrenamiento y evaluación con XGBoost\n",
    "from src.model import train_evaluate_xgboost\n",
    "\n",
    "# Eliminar columnas datetime antes de entrenar\n",
    "for df in [X_train, X_test]:\n",
    "    if 'week_start' in df.columns:\n",
    "        df.drop('week_start', axis=1, inplace=True)\n",
    "\n",
    "with mlflow.start_run(run_name=\"xgboost\"):\n",
    "    resultados = train_evaluate_xgboost(X_train, y_train, X_test, y_test)\n",
    "    model = resultados[\"model\"]\n",
    "\n",
    "    # Log de los parámetros del modelo\n",
    "    mlflow.log_param(\"model\", \"xgboost\")\n",
    "    for param, value in model.get_params().items():\n",
    "        mlflow.log_param(param, value)\n",
    "\n",
    "    # Log de las métricas\n",
    "    mlflow.log_metric(\"mae\", resultados[\"mae\"])\n",
    "    \n",
    "    mlflow.log_metric(\"r2\", resultados[\"r2\"])\n",
    "\n",
    "    # Log del modelo\n",
    "    mlflow.xgboost.log_model(model, \"model\")\n",
    "\n",
    "    # Imprimir resultados\n",
    "    print(f\"MAE: {resultados['mae']}\")\n",
    "   \n",
    "    print(f\"R2: {resultados['r2']}\")\n"
   ]
  },
  {
   "cell_type": "code",
   "execution_count": 18,
   "id": "06a2ed6b",
   "metadata": {},
   "outputs": [
    {
     "name": "stdout",
     "output_type": "stream",
     "text": [
      "Modelo cargado desde el Model Registry: models:/RandomForest/1\n"
     ]
    }
   ],
   "source": [
    "# Ejemplo: cargar el modelo registrado desde el Model Registry\n",
    "import mlflow\n",
    "\n",
    "# Cambia 'RandomForest' y versión si corresponde\n",
    "model_uri = 'models:/RandomForest/1'\n",
    "model = mlflow.pyfunc.load_model(model_uri)\n",
    "\n",
    "# Realizar predicciones (ejemplo con X_test)\n",
    "# y_pred = model.predict(X_test)\n",
    "\n",
    "print('Modelo cargado desde el Model Registry:', model_uri)"
   ]
  }
 ],
 "metadata": {
  "kernelspec": {
   "display_name": "mlops-project-py3.10",
   "language": "python",
   "name": "python3"
  },
  "language_info": {
   "codemirror_mode": {
    "name": "ipython",
    "version": 3
   },
   "file_extension": ".py",
   "mimetype": "text/x-python",
   "name": "python",
   "nbconvert_exporter": "python",
   "pygments_lexer": "ipython3",
   "version": "3.10.0"
  }
 },
 "nbformat": 4,
 "nbformat_minor": 5
}
