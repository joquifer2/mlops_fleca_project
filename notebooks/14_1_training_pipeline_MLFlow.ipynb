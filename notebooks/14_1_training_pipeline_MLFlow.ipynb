{
 "cells": [
  {
   "cell_type": "code",
   "execution_count": 42,
   "id": "3a5c4504",
   "metadata": {},
   "outputs": [],
   "source": [
    "from datetime import datetime\n",
    "from src import config\n",
    "import hopsworks\n",
    "import pandas as pd\n",
    "import logging\n",
    "import mlflow\n",
    "from xgboost import XGBRegressor\n",
    "from sklearn.linear_model import LinearRegression, Ridge, Lasso\n",
    "from sklearn.ensemble import RandomForestRegressor, GradientBoostingRegressor\n",
    "from sklearn.metrics import mean_absolute_error, mean_squared_error, r2_score\n",
    "\n",
    "import sys\n",
    "from pathlib import Path\n",
    "\n",
    "# Añade src al path para importar los módulos\n",
    "sys.path.append(str(Path().resolve().parent / 'src'))"
   ]
  },
  {
   "cell_type": "code",
   "execution_count": 43,
   "id": "e412d564",
   "metadata": {},
   "outputs": [],
   "source": [
    "%reload_ext autoreload\n",
    "%autoreload 2"
   ]
  },
  {
   "cell_type": "code",
   "execution_count": 44,
   "id": "fc80d657",
   "metadata": {},
   "outputs": [],
   "source": [
    "# Configuración básica de logging\n",
    "logging.basicConfig(level=logging.INFO, format='%(asctime)s - %(levelname)s - %(message)s')\n",
    "logger = logging.getLogger('feature_view_creation')"
   ]
  },
  {
   "cell_type": "code",
   "execution_count": null,
   "id": "ddad7052",
   "metadata": {},
   "outputs": [],
   "source": [
    "# Conectar a Hopsworks y al Feature Store\n",
    "try:\n",
    "    # Login y conexión al proyecto\n",
    "    project = hopsworks.login(\n",
    "        api_key_value=config.HOPSWORKS_API_KEY, \n",
    "        project=config.HOPSWORKS_PROJECT_NAME)\n",
    "    \n",
    "    # Conexión al feature store\n",
    "    feature_store = project.get_feature_store()\n",
    "    \n",
    "    # Conexión al feature group\n",
    "    feature_group = feature_store.get_feature_group(\n",
    "        name=config.FEATURE_GROUP_NAME,\n",
    "        version=config.FEATURE_GROUP_VERSION\n",
    "    )\n",
    "    \n",
    "    logger.info(f\"Conexión exitosa al Feature Group: {feature_group.name} (v{feature_group.version})\")\n",
    "    \n",
    "except Exception as e:\n",
    "    logger.error(f\"Error en conexión: {e}\")\n",
    "    raise"
   ]
  },
  {
   "cell_type": "code",
   "execution_count": 46,
   "id": "dc46d4fd",
   "metadata": {},
   "outputs": [
    {
     "name": "stdout",
     "output_type": "stream",
     "text": [
      "2025-08-23 19:26:39,528 INFO: Feature view existente recuperada: times_series_bolleria_feature_view (v1)\n"
     ]
    }
   ],
   "source": [
    "# Crear/obtener feature view con características seleccionadas\n",
    "try:\n",
    "    # Características específicas a incluir\n",
    "    selected_features = ['familia', 'base_imponible', 'is_summer_peak', 'is_easter', 'week_start']\n",
    "    feature_view_name = config.FEATURE_VIEW_NAME\n",
    "    feature_view_version = 1\n",
    "    \n",
    "    # Intentar obtener la feature view existente primero\n",
    "    try:\n",
    "        feature_view = feature_store.get_feature_view(\n",
    "            name=feature_view_name,\n",
    "            version=feature_view_version\n",
    "        )\n",
    "        logger.info(f\"Feature view existente recuperada: {feature_view.name} (v{feature_view.version})\")\n",
    "    \n",
    "    except:\n",
    "        # Si no existe, crear una nueva\n",
    "        # Obtener objetos Feature para las características seleccionadas\n",
    "        selected_feature_objects = [f for f in feature_group.features if f.name in selected_features]\n",
    "        \n",
    "        # Crear query con características seleccionadas\n",
    "        specific_query = feature_group.select(selected_feature_objects)\n",
    "        \n",
    "        # Crear la feature view\n",
    "        feature_view = feature_store.create_feature_view(\n",
    "            name=feature_view_name,\n",
    "            version=feature_view_version,\n",
    "            query=specific_query,\n",
    "            description=f\"Feature view con características: {', '.join(selected_features)}\"\n",
    "        )\n",
    "        logger.info(f\"Nueva feature view creada: {feature_view.name} (v{feature_view.version})\")\n",
    "    \n",
    "except Exception as e:\n",
    "    logger.error(f\"Error al crear/obtener feature view: {e}\")\n",
    "    raise"
   ]
  },
  {
   "cell_type": "code",
   "execution_count": null,
   "id": "0eb477b3",
   "metadata": {},
   "outputs": [],
   "source": [
    "# Obtener datos de la feature view\n",
    "try:\n",
    "    # Obtener datos en batch normal\n",
    "    df_ts = feature_view.get_batch_data()\n",
    "    \n",
    "    # Mostrar resumen de los datos obtenidos\n",
    "    logger.info(f\"Datos obtenidos: {df_ts.shape[0]} filas, {df_ts.shape[1]} columnas\")\n",
    "    logger.info(f\"Columnas disponibles: {list(df_ts.columns)}\")\n",
    "    print(\"Muestra de datos:\")\n",
    "    print(df_ts.head(3))\n",
    "    \n",
    "except Exception as e:\n",
    "    logger.error(f\"Error al obtener datos: {e}\")\n",
    "    raise"
   ]
  },
  {
   "cell_type": "code",
   "execution_count": null,
   "id": "e0f1a467",
   "metadata": {},
   "outputs": [],
   "source": [
    "# Obtener datos de entrenamiento (training_data)\n",
    "try:\n",
    "    # Obtener datos de entrenamiento (X, y) desde la feature view\n",
    "    df_ts = feature_view.training_data()\n",
    "\n",
    "except Exception as e:\n",
    "    print(f\"Error al obtener datos de entrenamiento: {e}\")"
   ]
  },
  {
   "cell_type": "code",
   "execution_count": null,
   "id": "09821c86",
   "metadata": {},
   "outputs": [],
   "source": [
    "# Procesar datos para entrenamiento\n",
    "from src.data_utils import transformar_features_target\n",
    "\n",
    "try:\n",
    "       \n",
    "    # Procesar datos usando la función mejorada que acepta tuplas directamente\n",
    "    features_and_target = transformar_features_target(\n",
    "        df_ts,\n",
    "        lags_list=[1, 2, 3, 52], \n",
    "        columna_target='base_imponible',\n",
    "        cols_exogenas=['is_easter', 'is_summer_peak'],\n",
    "        periodos_adelante=1,\n",
    "        eliminar_nulos=True,\n",
    "        return_format='dataframe'  # Obtenemos un único DataFrame con features y target\n",
    "    )\n",
    "    \n",
    "    # Mostrar información de los datos procesados\n",
    "    logger.info(f\"Datos procesados: {features_and_target.shape[0]} filas, {features_and_target.shape[1]} columnas\")\n",
    "    logger.info(f\"Variables disponibles: {list(features_and_target.columns)}\")\n",
    "    print(\"\\nMuestra de datos procesados:\")\n",
    "    print(features_and_target.head(3))\n",
    "    \n",
    "except Exception as e:\n",
    "    logger.error(f\"Error al procesar datos: {e}\")\n",
    "    raise"
   ]
  },
  {
   "cell_type": "code",
   "execution_count": null,
   "id": "6418c91a",
   "metadata": {},
   "outputs": [],
   "source": [
    "# Split temporal (automático 80/20 ya incluido en la función)\n",
    "from src.data_split import train_test_split\n",
    "\n",
    "try:\n",
    "    X_train, y_train, X_test, y_test = train_test_split(\n",
    "        features_and_target,\n",
    "        target='target'  # o 'base_imponible' según tu pipeline\n",
    "        # split_ratio=0.8  # puedes cambiar el porcentaje si lo necesitas\n",
    "    )\n",
    "    print(f\"Train: {X_train.shape}, Test: {X_test.shape}\")\n",
    "except Exception as e:\n",
    "    logger.error(f\"Error en el split temporal: {e}\")\n",
    "    raise\n"
   ]
  },
  {
   "cell_type": "code",
   "execution_count": null,
   "id": "931d109b",
   "metadata": {},
   "outputs": [],
   "source": [
    "# Configuración de MLflow para registrar todo en el servidor web y visualizar en la UI\n",
    "mlflow.set_tracking_uri('http://127.0.0.1:5000')\n",
    "mlflow.set_experiment(\"fleca_bolleria_v2\")"
   ]
  },
  {
   "cell_type": "code",
   "execution_count": 53,
   "id": "54263c9a",
   "metadata": {},
   "outputs": [],
   "source": [
    "# Eliminar columnas datetime antes de entrenar\n",
    "for df in [X_train, X_test]:\n",
    "    if 'week_start' in df.columns:\n",
    "        df.drop('week_start', axis=1, inplace=True)"
   ]
  },
  {
   "cell_type": "code",
   "execution_count": null,
   "id": "032d4bf3",
   "metadata": {},
   "outputs": [],
   "source": [
    "# Importar XGBoost y métricas\n",
    "from xgboost import XGBRegressor\n",
    "from sklearn.metrics import mean_absolute_error, mean_squared_error, r2_score\n",
    "\n",
    "# Definimos los modelos a entrenar\n",
    "with mlflow.start_run(run_name=\"xgboost\"):\n",
    "    # Entrenamos el modelo\n",
    "    model = XGBRegressor()\n",
    "    model.fit(X_train, y_train)\n",
    "\n",
    "    # Realizamos predicciones\n",
    "    predictions = model.predict(X_test)\n",
    "\n",
    "    # Calcular métricas\n",
    "    mae = mean_absolute_error(y_test, predictions)\n",
    "    mse = mean_squared_error(y_test, predictions)\n",
    "    r2 = r2_score(y_test, predictions)\n",
    "\n",
    "    # Log de los parámetros\n",
    "    mlflow.log_param(\"model\", \"xgboost\")\n",
    "    for param, value in model.get_params().items():\n",
    "        mlflow.log_param(param, value)\n",
    "\n",
    "    # Log de las métricas\n",
    "    mlflow.log_metric(\"mae\", mae)\n",
    "    mlflow.log_metric(\"mse\", mse)\n",
    "    mlflow.log_metric(\"r2\", r2)\n",
    "\n",
    "    # Log del modelo\n",
    "    mlflow.xgboost.log_model(model, \"model\")\n",
    "\n",
    "    # Imprimir resultados\n",
    "    print(f\"MAE: {mae}\")\n",
    "    print(f\"MSE: {mse}\")\n",
    "    print(f\"R2: {r2}\")"
   ]
  },
  {
   "cell_type": "code",
   "execution_count": 55,
   "id": "2cf70eea",
   "metadata": {},
   "outputs": [],
   "source": [
    "# Definimos los modelos a entrenar\n",
    "\n",
    "models ={\n",
    "    \"LinearRegresion\": LinearRegression(),\n",
    "    \"Ridge\": Ridge(alpha=1.0),\n",
    "    \"Lasso\": Lasso(alpha=0.1),\n",
    "    \"RandomForest\": RandomForestRegressor(n_estimators=100),\n",
    "    \"GradientBoosting\": GradientBoostingRegressor(n_estimators=100)\n",
    "    }"
   ]
  },
  {
   "cell_type": "code",
   "execution_count": null,
   "id": "6c5776d8",
   "metadata": {},
   "outputs": [],
   "source": [
    "# Entrenamos y evaluamos varios modelos a la vez\n",
    "for model_name, model in models.items():\n",
    "    with mlflow.start_run(run_name=model_name):\n",
    "        # Entrenamos el modelo\n",
    "        model.fit(X_train, y_train)\n",
    "        # Realizamos predicciones\n",
    "        y_pred = model.predict(X_test)\n",
    "\n",
    "        # Calculamos las métricas\n",
    "        mae = mean_absolute_error(y_test, y_pred)\n",
    "        mse = mean_squared_error(y_test, y_pred)\n",
    "        r2 = r2_score(y_test, y_pred)\n",
    "\n",
    "        # Registramos las métricas en mlflow\n",
    "        mlflow.log_metrics({\n",
    "            \"mae\": mae,\n",
    "            \"mse\": mse,\n",
    "            \"r2\": r2_score(y_test, y_pred)\n",
    "        })\n",
    "        # Registramos los hiperparámetros en mlflow\n",
    "        mlflow.log_params({\n",
    "            \"model\": model_name,\n",
    "            \"n_estimators\": model.n_estimators if hasattr(model, \"n_estimators\") else None,\n",
    "            \"max_depth\": model.max_depth if hasattr(model, \"max_depth\") else None,\n",
    "            \"learning_rate\": model.learning_rate if hasattr(model, \"learning_rate\") else None\n",
    "        })\n",
    "\n",
    "        # Registramos el modelo en mlflow\n",
    "        mlflow.sklearn.log_model(model, \"model\")\n",
    "\n",
    "        logger.info(f\"Modelo: {model_name} - MAE: {mae}, MSE: {mse}, R2: {r2}\")\n"
   ]
  },
  {
   "cell_type": "code",
   "execution_count": null,
   "id": "fbaa70b2",
   "metadata": {},
   "outputs": [],
   "source": [
    "# Buscar el mejor modelo por menor MAE y registrar automáticamente en MLflow Model Registry\n",
    "import mlflow\n",
    "from mlflow.tracking import MlflowClient\n",
    "client = MlflowClient()\n",
    "experiment = client.get_experiment_by_name('fleca_bolleria_v2')\n",
    "runs = client.search_runs(experiment_ids=[experiment.experiment_id], order_by=['metrics.mae ASC'])\n",
    "best_run = runs[0]  # El de menor MAE\n",
    "print('Mejor modelo:', best_run.data.params['model'])\n",
    "print('Run ID del mejor modelo:', best_run.info.run_id)\n"
   ]
  },
  {
   "cell_type": "code",
   "execution_count": null,
   "id": "71cb0a71",
   "metadata": {},
   "outputs": [],
   "source": [
    "# Registramos el mejor modelo\n",
    "# Id del run del mejor modelo (puedes cogerlo de la UI)\n",
    "run_id = \"062e601e74e9491cac10fa8dd90f2cff\"  # Este es el run_id real\n",
    "model_uri = f'runs:/{run_id}/model'  # Sintaxis correcta para MLflow\n",
    "model_description = 'Modelo de Random Forest entrenado con 1,2,3,52 Lags'\n",
    "mlflow.register_model(model_uri, 'RandomForest')"
   ]
  },
  {
   "cell_type": "markdown",
   "id": "bad61e19",
   "metadata": {},
   "source": [
    "# ESte no funciona (hay que investigar por qué)"
   ]
  },
  {
   "cell_type": "code",
   "execution_count": 61,
   "id": "3ebe5d13",
   "metadata": {},
   "outputs": [
    {
     "name": "stderr",
     "output_type": "stream",
     "text": [
      "2025/08/23 12:24:56 WARNING mlflow.models.model: `artifact_path` is deprecated. Please use `name` instead.\n",
      "UserWarning: [12:24:56] WARNING: C:\\actions-runner\\_work\\xgboost\\xgboost\\src\\c_api\\c_api.cc:1427: Saving model in the UBJSON format as default.  You can use file extension: `json`, `ubj` or `deprecated` to choose between formats.\n",
      "UserWarning: [12:24:56] WARNING: C:\\actions-runner\\_work\\xgboost\\xgboost\\src\\c_api\\c_api.cc:1427: Saving model in the UBJSON format as default.  You can use file extension: `json`, `ubj` or `deprecated` to choose between formats.\n",
      "2025/08/23 12:24:58 WARNING mlflow.models.model: Model logged without a signature and input example. Please set `input_example` parameter when logging the model to auto infer the model signature.\n",
      "2025/08/23 12:24:58 WARNING mlflow.models.model: Model logged without a signature and input example. Please set `input_example` parameter when logging the model to auto infer the model signature.\n"
     ]
    },
    {
     "name": "stdout",
     "output_type": "stream",
     "text": [
      "MAE: 236.2600927734375\n",
      "R2: 0.08752420359999014\n",
      "🏃 View run xgboost at: http://localhost:5000/#/experiments/1/runs/65ddfe3dd1954b21a34ab0388987d4e4\n",
      "🧪 View experiment at: http://localhost:5000/#/experiments/1\n"
     ]
    }
   ],
   "source": [
    "# Entrenamiento y evaluación con XGBoost\n",
    "from src.model import train_evaluate_xgboost\n",
    "\n",
    "# Eliminar columnas datetime antes de entrenar\n",
    "for df in [X_train, X_test]:\n",
    "    if 'week_start' in df.columns:\n",
    "        df.drop('week_start', axis=1, inplace=True)\n",
    "\n",
    "with mlflow.start_run(run_name=\"xgboost\"):\n",
    "    resultados = train_evaluate_xgboost(X_train, y_train, X_test, y_test)\n",
    "    model = resultados[\"model\"]\n",
    "\n",
    "    # Log de los parámetros del modelo\n",
    "    mlflow.log_param(\"model\", \"xgboost\")\n",
    "    for param, value in model.get_params().items():\n",
    "        mlflow.log_param(param, value)\n",
    "\n",
    "    # Log de las métricas\n",
    "    mlflow.log_metric(\"mae\", resultados[\"mae\"])\n",
    "    \n",
    "    mlflow.log_metric(\"r2\", resultados[\"r2\"])\n",
    "\n",
    "    # Log del modelo\n",
    "    mlflow.xgboost.log_model(model, \"model\")\n",
    "\n",
    "    # Imprimir resultados\n",
    "    print(f\"MAE: {resultados['mae']}\")\n",
    "   \n",
    "    print(f\"R2: {resultados['r2']}\")\n"
   ]
  },
  {
   "cell_type": "code",
   "execution_count": 18,
   "id": "06a2ed6b",
   "metadata": {},
   "outputs": [
    {
     "name": "stdout",
     "output_type": "stream",
     "text": [
      "Modelo cargado desde el Model Registry: models:/RandomForest/1\n"
     ]
    }
   ],
   "source": [
    "# Ejemplo: cargar el modelo registrado desde el Model Registry\n",
    "import mlflow\n",
    "\n",
    "# Cambia 'RandomForest' y versión si corresponde\n",
    "model_uri = 'models:/RandomForest/1'\n",
    "model = mlflow.pyfunc.load_model(model_uri)\n",
    "\n",
    "# Realizar predicciones (ejemplo con X_test)\n",
    "# y_pred = model.predict(X_test)\n",
    "\n",
    "print('Modelo cargado desde el Model Registry:', model_uri)"
   ]
  }
 ],
 "metadata": {
  "kernelspec": {
   "display_name": "mlops-project-py3.10",
   "language": "python",
   "name": "python3"
  },
  "language_info": {
   "codemirror_mode": {
    "name": "ipython",
    "version": 3
   },
   "file_extension": ".py",
   "mimetype": "text/x-python",
   "name": "python",
   "nbconvert_exporter": "python",
   "pygments_lexer": "ipython3",
   "version": "3.10.0"
  }
 },
 "nbformat": 4,
 "nbformat_minor": 5
}
