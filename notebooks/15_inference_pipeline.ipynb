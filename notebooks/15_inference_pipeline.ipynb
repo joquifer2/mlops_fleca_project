{
 "cells": [
  {
   "cell_type": "code",
   "execution_count": 35,
   "id": "e804a5b9",
   "metadata": {},
   "outputs": [],
   "source": [
    "import sys\n",
    "from pathlib import Path\n",
    "\n",
    "# Añade src al path para importar los módulos\n",
    "sys.path.append(str(Path().resolve().parent / 'src'))"
   ]
  },
  {
   "cell_type": "code",
   "execution_count": 36,
   "id": "8109c7e8",
   "metadata": {},
   "outputs": [],
   "source": [
    "%reload_ext autoreload\n",
    "%autoreload 2"
   ]
  },
  {
   "cell_type": "markdown",
   "id": "0cb04071",
   "metadata": {},
   "source": [
    "(opcional) Este código permite conocer lo que hay en hopsworks"
   ]
  },
  {
   "cell_type": "code",
   "execution_count": 37,
   "id": "fcbf6bd2",
   "metadata": {},
   "outputs": [
    {
     "name": "stdout",
     "output_type": "stream",
     "text": [
      "2025-08-22 16:46:22,680 INFO: Closing external client and cleaning up certificates.\n",
      "Connection closed.\n",
      "2025-08-22 16:46:22,684 INFO: Initializing external client\n",
      "2025-08-22 16:46:22,685 INFO: Base URL: https://c.app.hopsworks.ai:443\n",
      "Connection closed.\n",
      "2025-08-22 16:46:22,684 INFO: Initializing external client\n",
      "2025-08-22 16:46:22,685 INFO: Base URL: https://c.app.hopsworks.ai:443\n"
     ]
    },
    {
     "name": "stderr",
     "output_type": "stream",
     "text": [
      "\n",
      "\n",
      "UserWarning: The installed hopsworks client version 4.3.1 may not be compatible with the connected Hopsworks backend version 4.2.2. \n",
      "To ensure compatibility please install the latest bug fix release matching the minor version of your backend (4.2) by running 'pip install hopsworks==4.2.*'\n"
     ]
    },
    {
     "name": "stdout",
     "output_type": "stream",
     "text": [
      "2025-08-22 16:46:23,807 INFO: Python Engine initialized.\n",
      "\n",
      "Logged in to project, explore it here https://c.app.hopsworks.ai:443/p/1242272\n",
      "\n",
      "Logged in to project, explore it here https://c.app.hopsworks.ai:443/p/1242272\n",
      "Feature groups encontrados: 1\n",
      " - times_series_bolleria_feature_group\n",
      "Feature groups encontrados: 1\n",
      " - times_series_bolleria_feature_group\n"
     ]
    }
   ],
   "source": [
    "# Conocer que datos hay en el feature store\n",
    "import hopsworks\n",
    "import pandas as pd\n",
    "import config\n",
    "\n",
    "FG_NAME = \"times_series_bolleria_feature_group\"\n",
    "FV_NAME = \"times_series_bolleria_feature_view\"\n",
    "FV_VERSION = 1\n",
    "\n",
    "# Conectar con el proyecto de Hopsworks y al feature store\n",
    "project = hopsworks.login(project=config.HOPSWORKS_PROJECT_NAME, api_key_value=config.HOPSWORKS_API_KEY)\n",
    "\n",
    "\n",
    "# Obtener el feature store\n",
    "feature_store = project.get_feature_store()\n",
    "\n",
    "# Listar los feature groups\n",
    "feature_groups = feature_store.get_feature_groups(name=FG_NAME)\n",
    "print(f\"Feature groups encontrados: {len(feature_groups)}\")\n",
    "for fg in feature_groups:\n",
    "    print(f\" - {fg.name}\")\n",
    "\n"
   ]
  },
  {
   "cell_type": "code",
   "execution_count": 38,
   "id": "54f55664",
   "metadata": {},
   "outputs": [
    {
     "name": "stdout",
     "output_type": "stream",
     "text": [
      "Feature group: times_series_bolleria_feature_group\n",
      "Finished: Reading data from Hopsworks, using Hopsworks Feature Query Service (0.62s) \n",
      " - Número de filas: 133\n",
      " - Rango de week_start: 2023-01-02 00:00:00+00:00 a 2025-08-11 00:00:00+00:00\n",
      "Finished: Reading data from Hopsworks, using Hopsworks Feature Query Service (0.62s) \n",
      " - Número de filas: 133\n",
      " - Rango de week_start: 2023-01-02 00:00:00+00:00 a 2025-08-11 00:00:00+00:00\n"
     ]
    }
   ],
   "source": [
    "# Para cada FG, saca numero de filas y rango de timestamp\n",
    "for fg in feature_groups:\n",
    "    print(f\"Feature group: {fg.name}\")\n",
    "    df = fg.read()\n",
    "    print(f\" - Número de filas: {len(df)}\")\n",
    "    if not df.empty:\n",
    "        print(f\" - Rango de week_start: {df['week_start'].min()} a {df['week_start'].max()}\")\n",
    "    else:\n",
    "        print(\" - No hay datos en este feature group.\")"
   ]
  },
  {
   "cell_type": "code",
   "execution_count": 39,
   "id": "293b7bac",
   "metadata": {},
   "outputs": [
    {
     "name": "stdout",
     "output_type": "stream",
     "text": [
      "Feature views encontrados: 1\n",
      " - times_series_bolleria_feature_view\n",
      " - Version: 1\n",
      "Finished: Reading data from Hopsworks, using Hopsworks Feature Query Service (0.64s) \n",
      "Feature view times_series_bolleria_feature_view:\n",
      " - Número de filas: 133\n",
      " - Rango de week_start: 2023-01-02 00:00:00+00:00 a 2025-08-11 00:00:00+00:00\n",
      " - Columnas: ['familia', 'base_imponible', 'is_summer_peak', 'is_easter', 'week_start']\n",
      "Finished: Reading data from Hopsworks, using Hopsworks Feature Query Service (0.64s) \n",
      "Feature view times_series_bolleria_feature_view:\n",
      " - Número de filas: 133\n",
      " - Rango de week_start: 2023-01-02 00:00:00+00:00 a 2025-08-11 00:00:00+00:00\n",
      " - Columnas: ['familia', 'base_imponible', 'is_summer_peak', 'is_easter', 'week_start']\n"
     ]
    }
   ],
   "source": [
    "# Listas los features views\n",
    "feature_views = feature_store.get_feature_views(name=FV_NAME)\n",
    "# Filtrar por versión\n",
    "feature_views = [fv for fv in feature_views if fv.version == FV_VERSION]\n",
    "print(f\"Feature views encontrados: {len(feature_views)}\")\n",
    "for fv in feature_views:\n",
    "    print(f\" - {fv.name}\")\n",
    "    print(f\" - Version: {fv.version}\")\n",
    "\n",
    "# Para cada feature view saca el número de filas y rango de timestamp\n",
    "batch_data = []\n",
    "for fv in feature_views:\n",
    "    df = fv.get_batch_data()\n",
    "    batch_data.append(df)\n",
    "\n",
    "# Imprimir información sobre los datos de cada feature view y las columnas\n",
    "for i, df in enumerate(batch_data):\n",
    "    print(f\"Feature view {feature_views[i].name}:\")\n",
    "    print(f\" - Número de filas: {len(df)}\")\n",
    "    if not df.empty:\n",
    "        print(f\" - Rango de week_start: {df['week_start'].min()} a {df['week_start'].max()}\")\n",
    "        print(f\" - Columnas: {list(df.columns)}\")\n",
    "    else:\n",
    "        print(\" - No hay datos en este feature view.\")"
   ]
  },
  {
   "cell_type": "markdown",
   "id": "ae83664d",
   "metadata": {},
   "source": [
    "# Conexión al proyecto, feature store y model registry en hopsworks"
   ]
  },
  {
   "cell_type": "code",
   "execution_count": 40,
   "id": "60c94213",
   "metadata": {},
   "outputs": [
    {
     "name": "stdout",
     "output_type": "stream",
     "text": [
      "2025-08-22 16:46:31,319 INFO: Closing external client and cleaning up certificates.\n",
      "Connection closed.\n",
      "2025-08-22 16:46:31,325 INFO: Initializing external client\n",
      "2025-08-22 16:46:31,326 INFO: Base URL: https://c.app.hopsworks.ai:443\n",
      "Connection closed.\n",
      "2025-08-22 16:46:31,325 INFO: Initializing external client\n",
      "2025-08-22 16:46:31,326 INFO: Base URL: https://c.app.hopsworks.ai:443\n"
     ]
    },
    {
     "name": "stderr",
     "output_type": "stream",
     "text": [
      "\n",
      "\n"
     ]
    },
    {
     "name": "stdout",
     "output_type": "stream",
     "text": [
      "2025-08-22 16:46:32,451 INFO: Python Engine initialized.\n",
      "\n",
      "Logged in to project, explore it here https://c.app.hopsworks.ai:443/p/1242272\n",
      "\n",
      "Logged in to project, explore it here https://c.app.hopsworks.ai:443/p/1242272\n",
      "Conectado a proyecto: fleca_mlops\n",
      "Conectado al feature store: fleca_mlops_featurestore\n",
      "Conectado al model registry: ModelRegistry(project: 'fleca_mlops')\n",
      "Conectado a proyecto: fleca_mlops\n",
      "Conectado al feature store: fleca_mlops_featurestore\n",
      "Conectado al model registry: ModelRegistry(project: 'fleca_mlops')\n"
     ]
    }
   ],
   "source": [
    "import hopsworks\n",
    "\n",
    "# Conexión a hopsworks y proyecto   \n",
    "project = hopsworks.login(project=config.HOPSWORKS_PROJECT_NAME, api_key_value=config.HOPSWORKS_API_KEY)\n",
    "feature_store = project.get_feature_store()\n",
    "\n",
    "# Conexión al model registry\n",
    "model_registry = project.get_model_registry()\n",
    "\n",
    "print(\"Conectado a proyecto:\", project.name)\n",
    "print(\"Conectado al feature store:\", feature_store.name)\n",
    "print(\"Conectado al model registry:\", model_registry)\n"
   ]
  },
  {
   "cell_type": "markdown",
   "id": "4984646d",
   "metadata": {},
   "source": [
    "# Leemos Batch Score del Feature View"
   ]
  },
  {
   "cell_type": "code",
   "execution_count": 41,
   "id": "44ec365c",
   "metadata": {},
   "outputs": [
    {
     "name": "stdout",
     "output_type": "stream",
     "text": [
      "Finished: Reading data from Hopsworks, using Hopsworks Feature Query Service (0.61s) \n",
      "Finished: Reading data from Hopsworks, using Hopsworks Feature Query Service (0.61s) \n"
     ]
    },
    {
     "data": {
      "application/vnd.microsoft.datawrangler.viewer.v0+json": {
       "columns": [
        {
         "name": "index",
         "rawType": "int64",
         "type": "integer"
        },
        {
         "name": "familia",
         "rawType": "object",
         "type": "string"
        },
        {
         "name": "base_imponible",
         "rawType": "float64",
         "type": "float"
        },
        {
         "name": "is_summer_peak",
         "rawType": "int32",
         "type": "integer"
        },
        {
         "name": "is_easter",
         "rawType": "int64",
         "type": "integer"
        },
        {
         "name": "week_start",
         "rawType": "datetime64[us, Etc/UTC]",
         "type": "unknown"
        }
       ],
       "ref": "7f6252c5-4662-4efd-860c-6f865db45bb8",
       "rows": [
        [
         "0",
         "BOLLERIA",
         "825.11",
         "0",
         "0",
         "2023-01-02 00:00:00+00:00"
        ],
        [
         "1",
         "BOLLERIA",
         "658.4",
         "0",
         "0",
         "2023-01-09 00:00:00+00:00"
        ],
        [
         "2",
         "BOLLERIA",
         "741.4",
         "0",
         "0",
         "2023-01-16 00:00:00+00:00"
        ],
        [
         "3",
         "BOLLERIA",
         "653.64",
         "0",
         "0",
         "2023-01-23 00:00:00+00:00"
        ],
        [
         "4",
         "BOLLERIA",
         "680.46",
         "0",
         "0",
         "2023-01-30 00:00:00+00:00"
        ]
       ],
       "shape": {
        "columns": 5,
        "rows": 5
       }
      },
      "text/html": [
       "<div>\n",
       "<style scoped>\n",
       "    .dataframe tbody tr th:only-of-type {\n",
       "        vertical-align: middle;\n",
       "    }\n",
       "\n",
       "    .dataframe tbody tr th {\n",
       "        vertical-align: top;\n",
       "    }\n",
       "\n",
       "    .dataframe thead th {\n",
       "        text-align: right;\n",
       "    }\n",
       "</style>\n",
       "<table border=\"1\" class=\"dataframe\">\n",
       "  <thead>\n",
       "    <tr style=\"text-align: right;\">\n",
       "      <th></th>\n",
       "      <th>familia</th>\n",
       "      <th>base_imponible</th>\n",
       "      <th>is_summer_peak</th>\n",
       "      <th>is_easter</th>\n",
       "      <th>week_start</th>\n",
       "    </tr>\n",
       "  </thead>\n",
       "  <tbody>\n",
       "    <tr>\n",
       "      <th>0</th>\n",
       "      <td>BOLLERIA</td>\n",
       "      <td>825.11</td>\n",
       "      <td>0</td>\n",
       "      <td>0</td>\n",
       "      <td>2023-01-02 00:00:00+00:00</td>\n",
       "    </tr>\n",
       "    <tr>\n",
       "      <th>1</th>\n",
       "      <td>BOLLERIA</td>\n",
       "      <td>658.40</td>\n",
       "      <td>0</td>\n",
       "      <td>0</td>\n",
       "      <td>2023-01-09 00:00:00+00:00</td>\n",
       "    </tr>\n",
       "    <tr>\n",
       "      <th>2</th>\n",
       "      <td>BOLLERIA</td>\n",
       "      <td>741.40</td>\n",
       "      <td>0</td>\n",
       "      <td>0</td>\n",
       "      <td>2023-01-16 00:00:00+00:00</td>\n",
       "    </tr>\n",
       "    <tr>\n",
       "      <th>3</th>\n",
       "      <td>BOLLERIA</td>\n",
       "      <td>653.64</td>\n",
       "      <td>0</td>\n",
       "      <td>0</td>\n",
       "      <td>2023-01-23 00:00:00+00:00</td>\n",
       "    </tr>\n",
       "    <tr>\n",
       "      <th>4</th>\n",
       "      <td>BOLLERIA</td>\n",
       "      <td>680.46</td>\n",
       "      <td>0</td>\n",
       "      <td>0</td>\n",
       "      <td>2023-01-30 00:00:00+00:00</td>\n",
       "    </tr>\n",
       "  </tbody>\n",
       "</table>\n",
       "</div>"
      ],
      "text/plain": [
       "    familia  base_imponible  is_summer_peak  is_easter  \\\n",
       "0  BOLLERIA          825.11               0          0   \n",
       "1  BOLLERIA          658.40               0          0   \n",
       "2  BOLLERIA          741.40               0          0   \n",
       "3  BOLLERIA          653.64               0          0   \n",
       "4  BOLLERIA          680.46               0          0   \n",
       "\n",
       "                 week_start  \n",
       "0 2023-01-02 00:00:00+00:00  \n",
       "1 2023-01-09 00:00:00+00:00  \n",
       "2 2023-01-16 00:00:00+00:00  \n",
       "3 2023-01-23 00:00:00+00:00  \n",
       "4 2023-01-30 00:00:00+00:00  "
      ]
     },
     "execution_count": 41,
     "metadata": {},
     "output_type": "execute_result"
    }
   ],
   "source": [
    "from datetime import timedelta\n",
    "import pandas as pd\n",
    "\n",
    "# Lectura batch cruda de feature views\n",
    "feature_views= feature_store.get_feature_view(name=FV_NAME, version=FV_VERSION)\n",
    "ts_df = feature_views.get_batch_data(\n",
    "    start_date=None,\n",
    "    end_date=None,\n",
    "    features=None,\n",
    "    )\n",
    "\n",
    "# Ordenar por la columna de fecha antes de visualizar\n",
    "ts_df = ts_df.sort_values('week_start').reset_index(drop=True)\n",
    "ts_df.head(5)"
   ]
  },
  {
   "cell_type": "markdown",
   "id": "50e38be0",
   "metadata": {},
   "source": [
    "# Añadimos features (lags, variables exógenas) y target"
   ]
  },
  {
   "cell_type": "code",
   "execution_count": 42,
   "id": "29b2ee23",
   "metadata": {},
   "outputs": [
    {
     "name": "stdout",
     "output_type": "stream",
     "text": [
      "2025-08-22 16:46:38,335 INFO: Usando DataFrame de entrada: (133, 5)\n",
      "2025-08-22 16:46:38,339 INFO: Retornando DataFrame combinado: (80, 8)\n",
      "2025-08-22 16:46:38,339 INFO: Retornando DataFrame combinado: (80, 8)\n"
     ]
    },
    {
     "data": {
      "application/vnd.microsoft.datawrangler.viewer.v0+json": {
       "columns": [
        {
         "name": "index",
         "rawType": "int64",
         "type": "integer"
        },
        {
         "name": "base_imponible_lag1",
         "rawType": "float64",
         "type": "float"
        },
        {
         "name": "base_imponible_lag2",
         "rawType": "float64",
         "type": "float"
        },
        {
         "name": "base_imponible_lag3",
         "rawType": "float64",
         "type": "float"
        },
        {
         "name": "base_imponible_lag52",
         "rawType": "float64",
         "type": "float"
        },
        {
         "name": "is_easter",
         "rawType": "int64",
         "type": "integer"
        },
        {
         "name": "is_summer_peak",
         "rawType": "int32",
         "type": "integer"
        },
        {
         "name": "week_start",
         "rawType": "datetime64[us, Etc/UTC]",
         "type": "unknown"
        },
        {
         "name": "target",
         "rawType": "float64",
         "type": "float"
        }
       ],
       "ref": "6d4c9962-d32b-4faf-ad96-4d787c02fb9e",
       "rows": [
        [
         "0",
         "572.51",
         "534.79",
         "563.18",
         "825.11",
         "0",
         "0",
         "2024-01-15 00:00:00+00:00",
         "680.3"
        ],
        [
         "1",
         "597.65",
         "572.51",
         "534.79",
         "658.4",
         "0",
         "0",
         "2024-01-22 00:00:00+00:00",
         "603.99"
        ],
        [
         "2",
         "680.3",
         "597.65",
         "572.51",
         "741.4",
         "0",
         "0",
         "2024-01-29 00:00:00+00:00",
         "600.14"
        ],
        [
         "3",
         "603.99",
         "680.3",
         "597.65",
         "653.64",
         "0",
         "0",
         "2024-02-05 00:00:00+00:00",
         "689.32"
        ],
        [
         "4",
         "600.14",
         "603.99",
         "680.3",
         "680.46",
         "0",
         "0",
         "2024-02-12 00:00:00+00:00",
         "627.76"
        ]
       ],
       "shape": {
        "columns": 8,
        "rows": 5
       }
      },
      "text/html": [
       "<div>\n",
       "<style scoped>\n",
       "    .dataframe tbody tr th:only-of-type {\n",
       "        vertical-align: middle;\n",
       "    }\n",
       "\n",
       "    .dataframe tbody tr th {\n",
       "        vertical-align: top;\n",
       "    }\n",
       "\n",
       "    .dataframe thead th {\n",
       "        text-align: right;\n",
       "    }\n",
       "</style>\n",
       "<table border=\"1\" class=\"dataframe\">\n",
       "  <thead>\n",
       "    <tr style=\"text-align: right;\">\n",
       "      <th></th>\n",
       "      <th>base_imponible_lag1</th>\n",
       "      <th>base_imponible_lag2</th>\n",
       "      <th>base_imponible_lag3</th>\n",
       "      <th>base_imponible_lag52</th>\n",
       "      <th>is_easter</th>\n",
       "      <th>is_summer_peak</th>\n",
       "      <th>week_start</th>\n",
       "      <th>target</th>\n",
       "    </tr>\n",
       "  </thead>\n",
       "  <tbody>\n",
       "    <tr>\n",
       "      <th>0</th>\n",
       "      <td>572.51</td>\n",
       "      <td>534.79</td>\n",
       "      <td>563.18</td>\n",
       "      <td>825.11</td>\n",
       "      <td>0</td>\n",
       "      <td>0</td>\n",
       "      <td>2024-01-15 00:00:00+00:00</td>\n",
       "      <td>680.30</td>\n",
       "    </tr>\n",
       "    <tr>\n",
       "      <th>1</th>\n",
       "      <td>597.65</td>\n",
       "      <td>572.51</td>\n",
       "      <td>534.79</td>\n",
       "      <td>658.40</td>\n",
       "      <td>0</td>\n",
       "      <td>0</td>\n",
       "      <td>2024-01-22 00:00:00+00:00</td>\n",
       "      <td>603.99</td>\n",
       "    </tr>\n",
       "    <tr>\n",
       "      <th>2</th>\n",
       "      <td>680.30</td>\n",
       "      <td>597.65</td>\n",
       "      <td>572.51</td>\n",
       "      <td>741.40</td>\n",
       "      <td>0</td>\n",
       "      <td>0</td>\n",
       "      <td>2024-01-29 00:00:00+00:00</td>\n",
       "      <td>600.14</td>\n",
       "    </tr>\n",
       "    <tr>\n",
       "      <th>3</th>\n",
       "      <td>603.99</td>\n",
       "      <td>680.30</td>\n",
       "      <td>597.65</td>\n",
       "      <td>653.64</td>\n",
       "      <td>0</td>\n",
       "      <td>0</td>\n",
       "      <td>2024-02-05 00:00:00+00:00</td>\n",
       "      <td>689.32</td>\n",
       "    </tr>\n",
       "    <tr>\n",
       "      <th>4</th>\n",
       "      <td>600.14</td>\n",
       "      <td>603.99</td>\n",
       "      <td>680.30</td>\n",
       "      <td>680.46</td>\n",
       "      <td>0</td>\n",
       "      <td>0</td>\n",
       "      <td>2024-02-12 00:00:00+00:00</td>\n",
       "      <td>627.76</td>\n",
       "    </tr>\n",
       "  </tbody>\n",
       "</table>\n",
       "</div>"
      ],
      "text/plain": [
       "   base_imponible_lag1  base_imponible_lag2  base_imponible_lag3  \\\n",
       "0               572.51               534.79               563.18   \n",
       "1               597.65               572.51               534.79   \n",
       "2               680.30               597.65               572.51   \n",
       "3               603.99               680.30               597.65   \n",
       "4               600.14               603.99               680.30   \n",
       "\n",
       "   base_imponible_lag52  is_easter  is_summer_peak                week_start  \\\n",
       "0                825.11          0               0 2024-01-15 00:00:00+00:00   \n",
       "1                658.40          0               0 2024-01-22 00:00:00+00:00   \n",
       "2                741.40          0               0 2024-01-29 00:00:00+00:00   \n",
       "3                653.64          0               0 2024-02-05 00:00:00+00:00   \n",
       "4                680.46          0               0 2024-02-12 00:00:00+00:00   \n",
       "\n",
       "   target  \n",
       "0  680.30  \n",
       "1  603.99  \n",
       "2  600.14  \n",
       "3  689.32  \n",
       "4  627.76  "
      ]
     },
     "execution_count": 42,
     "metadata": {},
     "output_type": "execute_result"
    }
   ],
   "source": [
    "from src.model import transformar_features_target\n",
    "\n",
    "# Procesar datos usando la función mejorada que acepta tuplas directamente\n",
    "ts_df = transformar_features_target(\n",
    "    ts_df,\n",
    "    lags_list=[1, 2, 3, 52], \n",
    "    columna_target='base_imponible',\n",
    "    cols_exogenas=['is_easter', 'is_summer_peak'],\n",
    "    periodos_adelante=1,\n",
    "    eliminar_nulos=True,\n",
    "    return_format='dataframe'  # Obtenemos un único DataFrame con features y target\n",
    ")\n",
    "\n",
    "# Resetear el índice\n",
    "ts_df = ts_df.reset_index(drop=True)\n",
    "\n",
    "# Mostrar las primeras filas del DataFrame transformado\n",
    "ts_df.head(5)"
   ]
  },
  {
   "cell_type": "markdown",
   "id": "421af7e3",
   "metadata": {},
   "source": [
    "# Cargamos el modelo"
   ]
  },
  {
   "cell_type": "code",
   "execution_count": 43,
   "id": "8457b9f1",
   "metadata": {},
   "outputs": [
    {
     "data": {
      "application/vnd.jupyter.widget-view+json": {
       "model_id": "45803e7ed24c48baa278cb0ddd7032b0",
       "version_major": 2,
       "version_minor": 0
      },
      "text/plain": [
       "Downloading: 0.000%|          | 0/78699 elapsed<00:00 remaining<?"
      ]
     },
     "metadata": {},
     "output_type": "display_data"
    },
    {
     "name": "stdout",
     "output_type": "stream",
     "text": [
      "Modelo fleca_bolleria_predictor_next_week V1 cargado correctamente\n"
     ]
    }
   ],
   "source": [
    "import joblib\n",
    "# Cargar el modelo del model registry\n",
    "## se obtiene del config\n",
    "\n",
    "MODEL_NAME = \"fleca_bolleria_predictor_next_week\"\n",
    "MODEL_VERSION = 1\n",
    "MODEL_FILE ='xgboost_hopsworks.pkl'\n",
    "\n",
    "\n",
    "model_registry = project.get_model_registry()\n",
    "model = model_registry.get_model(name=MODEL_NAME, version=MODEL_VERSION)    \n",
    "from pathlib import Path\n",
    "\n",
    "model_dir = model.download()\n",
    "model = joblib.load(Path(model_dir) / MODEL_FILE)\n",
    "\n",
    "print(f'Modelo {MODEL_NAME} V{MODEL_VERSION} cargado correctamente')"
   ]
  },
  {
   "cell_type": "code",
   "execution_count": 44,
   "id": "987e2772",
   "metadata": {},
   "outputs": [
    {
     "name": "stdout",
     "output_type": "stream",
     "text": [
      "Columnas después de transformar_features_target:\n",
      "['base_imponible_lag1', 'base_imponible_lag2', 'base_imponible_lag3', 'base_imponible_lag52', 'is_easter', 'is_summer_peak', 'week_start', 'target']\n",
      "\n",
      "Features que espera el modelo:\n",
      "['base_imponible_lag1' 'base_imponible_lag2' 'base_imponible_lag3'\n",
      " 'base_imponible_lag52' 'is_easter' 'is_summer_peak']\n",
      "\n",
      "Comparación:\n",
      "✅ base_imponible_lag1: EXISTE\n",
      "✅ base_imponible_lag2: EXISTE\n",
      "✅ base_imponible_lag3: EXISTE\n",
      "✅ base_imponible_lag52: EXISTE\n",
      "✅ is_easter: EXISTE\n",
      "✅ is_summer_peak: EXISTE\n",
      "\n",
      "Columnas target_lag encontradas: []\n"
     ]
    }
   ],
   "source": [
    "# Verificar qué columnas tenemos después de transformar_features_target\n",
    "print(\"Columnas después de transformar_features_target:\")\n",
    "print(ts_df.columns.tolist())\n",
    "\n",
    "print(\"\\nFeatures que espera el modelo:\")\n",
    "if 'model' in globals():\n",
    "    print(model.feature_names_in_)\n",
    "else:\n",
    "    print(\"❌ El modelo no está definido. Por favor, ejecuta la celda que carga el modelo antes de continuar.\")\n",
    "\n",
    "print(\"\\nComparación:\")\n",
    "for feature in model.feature_names_in_:\n",
    "    if feature in ts_df.columns:\n",
    "        print(f\"✅ {feature}: EXISTE\")\n",
    "    else:\n",
    "        print(f\"❌ {feature}: NO EXISTE\")\n",
    "        \n",
    "# Verificar si existen las versiones con 'target_lag'\n",
    "target_lags = [col for col in ts_df.columns if 'target_lag' in col]\n",
    "print(f\"\\nColumnas target_lag encontradas: {target_lags}\")"
   ]
  },
  {
   "cell_type": "code",
   "execution_count": 45,
   "id": "cb5a25b7",
   "metadata": {},
   "outputs": [
    {
     "data": {
      "text/plain": [
       "array(['base_imponible_lag1', 'base_imponible_lag2',\n",
       "       'base_imponible_lag3', 'base_imponible_lag52', 'is_easter',\n",
       "       'is_summer_peak'], dtype='<U20')"
      ]
     },
     "execution_count": 45,
     "metadata": {},
     "output_type": "execute_result"
    }
   ],
   "source": [
    "model.feature_names_in_\n"
   ]
  },
  {
   "cell_type": "code",
   "execution_count": 46,
   "id": "3383da7a",
   "metadata": {},
   "outputs": [],
   "source": [
    "# Limpiar columnas innecesarias\n",
    "features = ts_df.drop(columns=['week_start'])"
   ]
  },
  {
   "cell_type": "markdown",
   "id": "a70d435e",
   "metadata": {},
   "source": [
    "# Hacemos predicciones"
   ]
  },
  {
   "cell_type": "code",
   "execution_count": 47,
   "id": "0df8e6bf",
   "metadata": {},
   "outputs": [
    {
     "name": "stdout",
     "output_type": "stream",
     "text": [
      "=== PREDICCIÓN DIRECTA DE LA PRÓXIMA SEMANA ===\n",
      "Fecha predicha: 2025-08-11\n",
      "Predicción base_imponible: 1310.64\n",
      "                 week_start  predicted_base_imponible\n",
      "0 2025-08-11 00:00:00+00:00               1310.636108\n"
     ]
    }
   ],
   "source": [
    "# Predicción directa para la próxima semana (sin autoregresión)\n",
    "from datetime import timedelta\n",
    "\n",
    "print(\"=== PREDICCIÓN DIRECTA DE LA PRÓXIMA SEMANA ===\")\n",
    "\n",
    "# Tomar la última fila de datos históricos\n",
    "ultimo_lunes = ts_df['week_start'].max()\n",
    "last_row = ts_df.iloc[-1].copy()\n",
    "feature_names = model.feature_names_in_\n",
    "\n",
    "# Calcular la fecha de la próxima semana\n",
    "fecha_siguiente = ultimo_lunes + timedelta(days=7)\n",
    "last_row['week_start'] = fecha_siguiente\n",
    "\n",
    "# Preparar los features para el modelo\n",
    "X = last_row[feature_names].values.reshape(1, -1)\n",
    "prediccion = model.predict(X)[0]\n",
    "\n",
    "print(f\"Fecha predicha: {fecha_siguiente.date()}\")\n",
    "print(f\"Predicción base_imponible: {prediccion:.2f}\")\n",
    "\n",
    "# Mostrar resultado en DataFrame\n",
    "resultado = pd.DataFrame({\n",
    "    'week_start': [fecha_siguiente],\n",
    "    'predicted_base_imponible': [prediccion]\n",
    "})\n",
    "print(resultado)\n"
   ]
  },
  {
   "cell_type": "markdown",
   "id": "13ceadb9",
   "metadata": {},
   "source": [
    "# Crear el feature group y subir las predicciones"
   ]
  },
  {
   "cell_type": "code",
   "execution_count": 53,
   "id": "f3feee82",
   "metadata": {},
   "outputs": [
    {
     "name": "stdout",
     "output_type": "stream",
     "text": [
      "DataFrame que se va a insertar:\n",
      "                 week_start  predicted_base_imponible\n",
      "0 2025-08-11 00:00:00+00:00               1310.636108\n",
      "2025-08-22 16:53:42,740 INFO: Feature group 'bolleria_predicciones_feature_group' creado correctamente.\n",
      "Feature Group created successfully, explore it at \n",
      "https://c.app.hopsworks.ai:443/p/1242272/fs/1224799/fg/1504659\n",
      "Feature Group created successfully, explore it at \n",
      "https://c.app.hopsworks.ai:443/p/1242272/fs/1224799/fg/1504659\n"
     ]
    },
    {
     "name": "stderr",
     "output_type": "stream",
     "text": [
      "Uploading Dataframe: 100.00% |██████████| Rows 1/1 | Elapsed Time: 00:00 | Remaining Time: 00:00\n",
      "\n"
     ]
    },
    {
     "name": "stdout",
     "output_type": "stream",
     "text": [
      "Launching job: bolleria_predicciones_feature_group_1_offline_fg_materialization\n",
      "Job started successfully, you can follow the progress at \n",
      "https://c.app.hopsworks.ai:443/p/1242272/jobs/named/bolleria_predicciones_feature_group_1_offline_fg_materialization/executions\n",
      "Job started successfully, you can follow the progress at \n",
      "https://c.app.hopsworks.ai:443/p/1242272/jobs/named/bolleria_predicciones_feature_group_1_offline_fg_materialization/executions\n",
      "2025-08-22 16:53:58,231 INFO: Waiting for execution to finish. Current state: SUBMITTED. Final status: UNDEFINED\n",
      "2025-08-22 16:53:58,231 INFO: Waiting for execution to finish. Current state: SUBMITTED. Final status: UNDEFINED\n",
      "2025-08-22 16:54:04,556 INFO: Waiting for execution to finish. Current state: RUNNING. Final status: UNDEFINED\n",
      "2025-08-22 16:54:04,556 INFO: Waiting for execution to finish. Current state: RUNNING. Final status: UNDEFINED\n",
      "2025-08-22 16:55:48,890 INFO: Waiting for execution to finish. Current state: AGGREGATING_LOGS. Final status: SUCCEEDED\n",
      "2025-08-22 16:55:48,890 INFO: Waiting for execution to finish. Current state: AGGREGATING_LOGS. Final status: SUCCEEDED\n",
      "2025-08-22 16:55:49,034 INFO: Waiting for log aggregation to finish.\n",
      "2025-08-22 16:55:49,034 INFO: Waiting for log aggregation to finish.\n",
      "2025-08-22 16:56:07,531 INFO: Execution finished successfully.\n",
      "2025-08-22 16:56:07,532 INFO: Datos insertados en el feature group recién creado. Job: (Job('bolleria_predicciones_feature_group_1_offline_fg_materialization', 'SPARK'), None)\n",
      "2025-08-22 16:56:07,531 INFO: Execution finished successfully.\n",
      "2025-08-22 16:56:07,532 INFO: Datos insertados en el feature group recién creado. Job: (Job('bolleria_predicciones_feature_group_1_offline_fg_materialization', 'SPARK'), None)\n",
      "✅ Feature group operativo: bolleria_predicciones_feature_group (versión 1)\n",
      "✅ Feature view 'bolleria_predicciones_feature_group' ya existe.\n",
      "✅ Feature group operativo: bolleria_predicciones_feature_group (versión 1)\n",
      "✅ Feature view 'bolleria_predicciones_feature_group' ya existe.\n"
     ]
    }
   ],
   "source": [
    "# Subir predicción semanal (variable 'resultado') al feature group y feature view de Hopsworks\n",
    "from hsfs.feature_group import FeatureGroup\n",
    "from hsfs.feature_view import FeatureView\n",
    "import logging\n",
    "\n",
    "# Configuración básica de logging\n",
    "logging.basicConfig(level=logging.INFO, format='%(asctime)s - %(levelname)s - %(message)s')\n",
    "logger = logging.getLogger('feature_group_creation')\n",
    "\n",
    "PRED_FG_NAME = \"bolleria_predicciones_feature_group\"\n",
    "PRED_FG_VERSION = 1\n",
    "\n",
    "# Usar la variable 'resultado' como DataFrame de predicción\n",
    "df_pred = resultado.copy()  # Debe tener columnas 'week_start' y 'predicted_base_imponible'\n",
    "\n",
    "# Mostrar los datos que se van a insertar\n",
    "print(\"DataFrame que se va a insertar:\")\n",
    "print(df_pred)\n",
    "\n",
    "# 1. Primero intentamos crear el feature group explícitamente\n",
    "try:\n",
    "    # Si ya existe, esto lanzará una excepción que capturaremos después\n",
    "    fg_pred = feature_store.create_feature_group(\n",
    "        name=PRED_FG_NAME,\n",
    "        version=PRED_FG_VERSION,\n",
    "        description=\"Predicciones semanales de base_imponible para bolleria\",\n",
    "        primary_key=[\"week_start\"],\n",
    "        online_enabled=False,\n",
    "        statistics_config={\"enabled\": True},\n",
    "        event_time='week_start'\n",
    "    )\n",
    "    logger.info(f\"Feature group '{PRED_FG_NAME}' creado correctamente.\")\n",
    "    \n",
    "    # Al crear un nuevo feature group, necesitamos hacer insert con el DataFrame\n",
    "    insert_job = fg_pred.insert(df_pred, write_options={'wait_for_job': True})\n",
    "    logger.info(f\"Datos insertados en el feature group recién creado. Job: {insert_job}\")\n",
    "    \n",
    "except Exception as create_error:\n",
    "    logger.warning(f\"No se pudo crear el feature group: {create_error}\")\n",
    "    logger.info(\"Intentando obtener el feature group existente...\")\n",
    "    \n",
    "    # 2. Si el feature group ya existe, lo obtenemos\n",
    "    try:\n",
    "        fg_pred = feature_store.get_feature_group(\n",
    "            name=PRED_FG_NAME,\n",
    "            version=PRED_FG_VERSION\n",
    "        )\n",
    "        logger.info(f\"Feature group existente recuperado: {fg_pred.name} v{fg_pred.version}\")\n",
    "        \n",
    "        # Insertamos los nuevos datos en el feature group existente\n",
    "        insert_job = fg_pred.insert(df_pred, write_options={'wait_for_job': True})\n",
    "        logger.info(f\"Datos insertados en el feature group existente. Job: {insert_job}\")\n",
    "        \n",
    "    except Exception as get_error:\n",
    "        logger.error(f\"Error al recuperar el feature group: {get_error}\")\n",
    "        logger.error(\"No se pudo ni crear ni recuperar el feature group.\")\n",
    "        import traceback\n",
    "        traceback.print_exc()\n",
    "        fg_pred = None\n",
    "\n",
    "# 3. Verificación final\n",
    "if fg_pred is not None:\n",
    "    print(f\"✅ Feature group operativo: {fg_pred.name} (versión {fg_pred.version})\")\n",
    "    \n",
    "    # 4. (Opcional) Crear el feature view si no existe\n",
    "    try:\n",
    "        # Primero intentar recuperar\n",
    "        try:\n",
    "            fv_pred = feature_store.get_feature_view(name=PRED_FG_NAME, version=PRED_FG_VERSION)\n",
    "            print(f\"✅ Feature view '{PRED_FG_NAME}' ya existe.\")\n",
    "        except:\n",
    "            # Si no existe, crear uno nuevo\n",
    "            query = fg_pred.select_all()\n",
    "            fv_pred = feature_store.create_feature_view(\n",
    "                name=PRED_FG_NAME,\n",
    "                version=PRED_FG_VERSION,\n",
    "                query=query,\n",
    "                description=\"Vista de predicciones semanales de bolleria\"\n",
    "            )\n",
    "            print(\"✅ Feature view creado correctamente.\")\n",
    "    except Exception as fv_error:\n",
    "        print(f\"⚠️ Error con el feature view: {fv_error}\")\n",
    "else:\n",
    "    print(\"❌ Error: No se pudo operar con el feature group de predicciones.\")"
   ]
  },
  {
   "cell_type": "markdown",
   "id": "8a3e9613",
   "metadata": {},
   "source": [
    "# Verificación del feature group y creación del feature view\n",
    "\n",
    "Después de crear el feature group, verificamos su existencia y creamos un feature view asociado."
   ]
  },
  {
   "cell_type": "code",
   "execution_count": 54,
   "id": "a809f9a2",
   "metadata": {},
   "outputs": [
    {
     "name": "stdout",
     "output_type": "stream",
     "text": [
      "✅ Feature group encontrado: bolleria_predicciones_feature_group (versión 1)\n",
      "\n",
      "Datos actuales en el feature group:\n",
      "Finished: Reading data from Hopsworks, using Hopsworks Feature Query Service (1.04s) \n",
      "                 week_start  predicted_base_imponible\n",
      "0 2025-08-11 00:00:00+00:00               1310.636108\n",
      "\n",
      "Creando feature view...\n",
      "Creando nuevo feature view...\n",
      "Feature view created successfully, explore it at \n",
      "https://c.app.hopsworks.ai:443/p/1242272/fs/1224799/fv/bolleria_predicciones_feature_view/version/1\n",
      "✅ Nuevo feature view creado: bolleria_predicciones_feature_view (versión 1)\n",
      "\n",
      "Verificando datos en el feature view:\n",
      "Finished: Reading data from Hopsworks, using Hopsworks Feature Query Service (0.62s) \n",
      "                 week_start  predicted_base_imponible\n",
      "0 2025-08-11 00:00:00+00:00               1310.636108\n"
     ]
    }
   ],
   "source": [
    "# Verificar que el feature group existe y crear feature view\n",
    "import logging\n",
    "from hsfs.feature_group import FeatureGroup\n",
    "from hsfs.feature_view import FeatureView\n",
    "\n",
    "# Configuración de logging\n",
    "logging.basicConfig(level=logging.INFO, format='%(asctime)s - %(levelname)s - %(message)s')\n",
    "logger = logging.getLogger('feature_view_creation')\n",
    "\n",
    "# Definir constantes\n",
    "PRED_FG_NAME = \"bolleria_predicciones_feature_group\"\n",
    "PRED_FG_VERSION = 1\n",
    "PRED_FV_NAME = \"bolleria_predicciones_feature_view\"\n",
    "PRED_FV_VERSION = 1\n",
    "\n",
    "# 1. Verificar que el feature group existe\n",
    "try:\n",
    "    fg_pred = feature_store.get_feature_group(name=PRED_FG_NAME, version=PRED_FG_VERSION)\n",
    "    print(f\"✅ Feature group encontrado: {fg_pred.name} (versión {fg_pred.version})\")\n",
    "    \n",
    "    # Mostrar los datos actuales en el feature group\n",
    "    print(\"\\nDatos actuales en el feature group:\")\n",
    "    df_fg = fg_pred.read()\n",
    "    print(df_fg)\n",
    "    \n",
    "    # 2. Crear feature view\n",
    "    print(\"\\nCreando feature view...\")\n",
    "    \n",
    "    try:\n",
    "        # Primero intentamos recuperar el feature view si existe\n",
    "        try:\n",
    "            fv_pred = feature_store.get_feature_view(name=PRED_FV_NAME, version=PRED_FV_VERSION)\n",
    "            print(f\"✅ Feature view existente: {fv_pred.name} (versión {fv_pred.version})\")\n",
    "        except:\n",
    "            # Si no existe, crear uno nuevo\n",
    "            query = fg_pred.select_all()  # Crear la query seleccionando todas las columnas\n",
    "            \n",
    "            print(\"Creando nuevo feature view...\")\n",
    "            fv_pred = feature_store.create_feature_view(\n",
    "                name=PRED_FV_NAME,\n",
    "                version=PRED_FV_VERSION,\n",
    "                query=query,\n",
    "                description=\"Vista de predicciones semanales de bolleria\"\n",
    "            )\n",
    "            print(f\"✅ Nuevo feature view creado: {fv_pred.name} (versión {fv_pred.version})\")\n",
    "        \n",
    "        # Verificar datos en el feature view\n",
    "        print(\"\\nVerificando datos en el feature view:\")\n",
    "        df_fv = fv_pred.get_batch_data()\n",
    "        print(df_fv)\n",
    "        \n",
    "    except Exception as fv_error:\n",
    "        print(f\"❌ Error al crear o recuperar el feature view: {fv_error}\")\n",
    "        logger.error(f\"Error detallado: {fv_error}\")\n",
    "        import traceback\n",
    "        traceback.print_exc()\n",
    "\n",
    "except Exception as e:\n",
    "    print(f\"❌ Error al recuperar el feature group: {e}\")\n",
    "    logger.error(f\"Error detallado: {e}\")\n",
    "    import traceback\n",
    "    traceback.print_exc()"
   ]
  },
  {
   "cell_type": "markdown",
   "id": "c446da1e",
   "metadata": {},
   "source": [
    "# Visualización de las predicciones\n",
    "\n",
    "Una vez tenemos las predicciones almacenadas en el feature store, podemos visualizarlas para comprender mejor las tendencias."
   ]
  },
  {
   "cell_type": "code",
   "execution_count": 55,
   "id": "95af7eee",
   "metadata": {},
   "outputs": [
    {
     "name": "stdout",
     "output_type": "stream",
     "text": [
      "Finished: Reading data from Hopsworks, using Hopsworks Feature Query Service (0.69s) \n",
      "Finished: Reading data from Hopsworks, using Hopsworks Feature Query Service (0.74s) \n"
     ]
    },
    {
     "data": {
      "application/vnd.plotly.v1+json": {
       "config": {
        "plotlyServerURL": "https://plot.ly"
       },
       "data": [
        {
         "line": {
          "color": "blue",
          "width": 2
         },
         "mode": "lines+markers",
         "name": "Histórico",
         "type": "scatter",
         "x": [
          "2023-01-02T00:00:00.000000",
          "2023-01-09T00:00:00.000000",
          "2023-01-16T00:00:00.000000",
          "2023-01-23T00:00:00.000000",
          "2023-01-30T00:00:00.000000",
          "2023-02-06T00:00:00.000000",
          "2023-02-13T00:00:00.000000",
          "2023-02-20T00:00:00.000000",
          "2023-02-27T00:00:00.000000",
          "2023-03-06T00:00:00.000000",
          "2023-03-13T00:00:00.000000",
          "2023-03-20T00:00:00.000000",
          "2023-03-27T00:00:00.000000",
          "2023-04-03T00:00:00.000000",
          "2023-04-10T00:00:00.000000",
          "2023-04-17T00:00:00.000000",
          "2023-04-24T00:00:00.000000",
          "2023-05-01T00:00:00.000000",
          "2023-05-08T00:00:00.000000",
          "2023-05-15T00:00:00.000000",
          "2023-05-22T00:00:00.000000",
          "2023-05-29T00:00:00.000000",
          "2023-06-05T00:00:00.000000",
          "2023-06-12T00:00:00.000000",
          "2023-06-19T00:00:00.000000",
          "2023-06-26T00:00:00.000000",
          "2023-07-03T00:00:00.000000",
          "2023-07-10T00:00:00.000000",
          "2023-07-17T00:00:00.000000",
          "2023-07-24T00:00:00.000000",
          "2023-07-31T00:00:00.000000",
          "2023-08-07T00:00:00.000000",
          "2023-08-14T00:00:00.000000",
          "2023-08-21T00:00:00.000000",
          "2023-08-28T00:00:00.000000",
          "2023-09-04T00:00:00.000000",
          "2023-09-11T00:00:00.000000",
          "2023-09-18T00:00:00.000000",
          "2023-09-25T00:00:00.000000",
          "2023-10-02T00:00:00.000000",
          "2023-10-09T00:00:00.000000",
          "2023-10-16T00:00:00.000000",
          "2023-10-23T00:00:00.000000",
          "2023-10-30T00:00:00.000000",
          "2023-11-06T00:00:00.000000",
          "2023-11-13T00:00:00.000000",
          "2023-11-20T00:00:00.000000",
          "2023-11-27T00:00:00.000000",
          "2023-12-04T00:00:00.000000",
          "2023-12-11T00:00:00.000000",
          "2023-12-18T00:00:00.000000",
          "2024-01-08T00:00:00.000000",
          "2024-01-15T00:00:00.000000",
          "2024-01-22T00:00:00.000000",
          "2024-01-29T00:00:00.000000",
          "2024-02-05T00:00:00.000000",
          "2024-02-12T00:00:00.000000",
          "2024-02-19T00:00:00.000000",
          "2024-02-26T00:00:00.000000",
          "2024-03-04T00:00:00.000000",
          "2024-03-11T00:00:00.000000",
          "2024-03-18T00:00:00.000000",
          "2024-03-25T00:00:00.000000",
          "2024-04-01T00:00:00.000000",
          "2024-04-08T00:00:00.000000",
          "2024-04-15T00:00:00.000000",
          "2024-04-22T00:00:00.000000",
          "2024-04-29T00:00:00.000000",
          "2024-05-06T00:00:00.000000",
          "2024-05-13T00:00:00.000000",
          "2024-05-20T00:00:00.000000",
          "2024-05-27T00:00:00.000000",
          "2024-06-03T00:00:00.000000",
          "2024-06-10T00:00:00.000000",
          "2024-06-17T00:00:00.000000",
          "2024-06-24T00:00:00.000000",
          "2024-07-01T00:00:00.000000",
          "2024-07-08T00:00:00.000000",
          "2024-07-15T00:00:00.000000",
          "2024-07-22T00:00:00.000000",
          "2024-07-29T00:00:00.000000",
          "2024-08-05T00:00:00.000000",
          "2024-08-12T00:00:00.000000",
          "2024-08-19T00:00:00.000000",
          "2024-08-26T00:00:00.000000",
          "2024-09-02T00:00:00.000000",
          "2024-09-09T00:00:00.000000",
          "2024-09-16T00:00:00.000000",
          "2024-09-23T00:00:00.000000",
          "2024-09-30T00:00:00.000000",
          "2024-10-07T00:00:00.000000",
          "2024-10-14T00:00:00.000000",
          "2024-10-21T00:00:00.000000",
          "2024-10-28T00:00:00.000000",
          "2024-11-04T00:00:00.000000",
          "2024-11-11T00:00:00.000000",
          "2024-11-18T00:00:00.000000",
          "2024-11-25T00:00:00.000000",
          "2024-12-02T00:00:00.000000",
          "2024-12-09T00:00:00.000000",
          "2024-12-16T00:00:00.000000",
          "2025-01-06T00:00:00.000000",
          "2025-01-13T00:00:00.000000",
          "2025-01-20T00:00:00.000000",
          "2025-01-27T00:00:00.000000",
          "2025-02-03T00:00:00.000000",
          "2025-02-10T00:00:00.000000",
          "2025-02-17T00:00:00.000000",
          "2025-02-24T00:00:00.000000",
          "2025-03-03T00:00:00.000000",
          "2025-03-10T00:00:00.000000",
          "2025-03-17T00:00:00.000000",
          "2025-03-24T00:00:00.000000",
          "2025-03-31T00:00:00.000000",
          "2025-04-07T00:00:00.000000",
          "2025-04-14T00:00:00.000000",
          "2025-04-21T00:00:00.000000",
          "2025-04-28T00:00:00.000000",
          "2025-05-05T00:00:00.000000",
          "2025-05-12T00:00:00.000000",
          "2025-05-19T00:00:00.000000",
          "2025-05-26T00:00:00.000000",
          "2025-06-02T00:00:00.000000",
          "2025-06-09T00:00:00.000000",
          "2025-06-16T00:00:00.000000",
          "2025-06-23T00:00:00.000000",
          "2025-06-30T00:00:00.000000",
          "2025-07-07T00:00:00.000000",
          "2025-07-14T00:00:00.000000",
          "2025-07-21T00:00:00.000000",
          "2025-07-28T00:00:00.000000",
          "2025-08-04T00:00:00.000000",
          "2025-08-11T00:00:00.000000"
         ],
         "y": {
          "bdata": "exSuR+HIiUAzMzMzM5OEQDMzMzMzK4dAhetRuB5thEBI4XoUrkOFQBSuR+F6DIRAcT0K16NOhEBxPQrXo0qGQKRwPQrXj4hA16NwPQrNhUBmZmZmZgCHQHE9CtejaIhAw/UoXI8miUBxPQrXoy+bQNejcD0KGY9AzczMzMyeh0AUrkfheuKJQOtRuB6FzJBAMzMzMzPViECuR+F6FGKLQHE9CtejyI1AAAAAAADOjUAfhetRuNaNQMP1KFyPlJBAPQrXo3Aek0DNzMzMzLGYQNejcD0KipdAw/UoXI8JmkB7FK5H4UebQHE9CtejRZpArkfhehRkm0AfhetRuKycQFK4HoVrn6BAuB6F61HEnED2KFyPwqGTQOF6FK5HOZFAUrgehevjjkCamZmZmbWNQEjhehSuwYpAzczMzMxWikDXo3A9CoGMQFK4HoXrd4dAH4XrUbiuiUCE6ArFafyLQJhRAxgGPIdA61G4HoVBh0DNzMzMzMKDQPYoXI/CcYNAuB6F61E0iUA9CtejcJmBQLgehetRtoBArkfhehTkgUAzMzMzM62CQGZmZmZmQoVAUrgehevfgkCF61G4HsGCQMP1KFyPioVArkfhehSeg0AK16NwPYqBQOtRuB6FzYFAH4XrUbj4g0CPwvUoXBOGQM3MzMzM0pZAKVyPwvW8iUBI4XoUrjmFQHE9CtejRIdASOF6FK4rhUA9CtejcJmMQGZmZmZm4olAH4XrUbiyikDXo3A9CnOIQFK4HoXrJYZAXI/C9SgOh0BSuB6F65GMQOF6FK5HmZBA9ihcj8JQk0AK16NwPTqXQLgehetRfpdAAAAAAABjmEAzMzMzM8iaQOF6FK5Ht5pAzczMzMysnUAAAAAAgLyhQKRwPQrXn55ApHA9CteNlUCPwvUoXJeNQOF6FK5HZpBAKVyPwvWAiEC4HoXrUXSKQD0K16NwT4lA61G4HoVBiUDD9Shcj1iJQNejcD0KP4ZAFK5H4Xogh0CamZmZmSmFQNejcD0KEYhAcT0K16Okh0AAAAAAAOaCQB+F61G45oNA9ihcj8LZgUB7FK5H4bKAQMP1KFyPpIFApHA9CtfvgEDsUbgehU2EQOxRuB6Fm4VAKVyPwvXahEDhehSuR1eGQFyPwvUo7oFA9ihcj8KthkBSuB6F69+DQM3MzMzMDIVAPQrXo3AXgUApXI/C9SaDQIXrUbgeU4ZA4XoUrkdjg0AUrkfheq+XQJqZmZmZ8YtA16NwPQrbi0ApXI/C9VSKQPYoXI/CV4lAj8L1KFyjh0DhehSuRxGJQPYoXI/CjYtA9ihcj8K/j0CuR+F6FLaPQD0K16NwQpRAMzMzMzN4kkApXI/C9XKUQOF6FK5HTpRAUrgeheublEBcj8L1KACWQIXrUbgeJJlACtejcD3am0A=",
          "dtype": "f8"
         }
        },
        {
         "line": {
          "color": "red",
          "dash": "dash",
          "width": 2
         },
         "mode": "lines+markers",
         "name": "Predicciones",
         "type": "scatter",
         "x": [
          "2025-08-11T00:00:00.000000"
         ],
         "y": {
          "bdata": "W9SjRA==",
          "dtype": "f4"
         }
        }
       ],
       "layout": {
        "height": 600,
        "legend": {
         "title": {
          "text": "Tipo de Dato"
         }
        },
        "template": {
         "data": {
          "bar": [
           {
            "error_x": {
             "color": "#2a3f5f"
            },
            "error_y": {
             "color": "#2a3f5f"
            },
            "marker": {
             "line": {
              "color": "white",
              "width": 0.5
             },
             "pattern": {
              "fillmode": "overlay",
              "size": 10,
              "solidity": 0.2
             }
            },
            "type": "bar"
           }
          ],
          "barpolar": [
           {
            "marker": {
             "line": {
              "color": "white",
              "width": 0.5
             },
             "pattern": {
              "fillmode": "overlay",
              "size": 10,
              "solidity": 0.2
             }
            },
            "type": "barpolar"
           }
          ],
          "carpet": [
           {
            "aaxis": {
             "endlinecolor": "#2a3f5f",
             "gridcolor": "#C8D4E3",
             "linecolor": "#C8D4E3",
             "minorgridcolor": "#C8D4E3",
             "startlinecolor": "#2a3f5f"
            },
            "baxis": {
             "endlinecolor": "#2a3f5f",
             "gridcolor": "#C8D4E3",
             "linecolor": "#C8D4E3",
             "minorgridcolor": "#C8D4E3",
             "startlinecolor": "#2a3f5f"
            },
            "type": "carpet"
           }
          ],
          "choropleth": [
           {
            "colorbar": {
             "outlinewidth": 0,
             "ticks": ""
            },
            "type": "choropleth"
           }
          ],
          "contour": [
           {
            "colorbar": {
             "outlinewidth": 0,
             "ticks": ""
            },
            "colorscale": [
             [
              0,
              "#0d0887"
             ],
             [
              0.1111111111111111,
              "#46039f"
             ],
             [
              0.2222222222222222,
              "#7201a8"
             ],
             [
              0.3333333333333333,
              "#9c179e"
             ],
             [
              0.4444444444444444,
              "#bd3786"
             ],
             [
              0.5555555555555556,
              "#d8576b"
             ],
             [
              0.6666666666666666,
              "#ed7953"
             ],
             [
              0.7777777777777778,
              "#fb9f3a"
             ],
             [
              0.8888888888888888,
              "#fdca26"
             ],
             [
              1,
              "#f0f921"
             ]
            ],
            "type": "contour"
           }
          ],
          "contourcarpet": [
           {
            "colorbar": {
             "outlinewidth": 0,
             "ticks": ""
            },
            "type": "contourcarpet"
           }
          ],
          "heatmap": [
           {
            "colorbar": {
             "outlinewidth": 0,
             "ticks": ""
            },
            "colorscale": [
             [
              0,
              "#0d0887"
             ],
             [
              0.1111111111111111,
              "#46039f"
             ],
             [
              0.2222222222222222,
              "#7201a8"
             ],
             [
              0.3333333333333333,
              "#9c179e"
             ],
             [
              0.4444444444444444,
              "#bd3786"
             ],
             [
              0.5555555555555556,
              "#d8576b"
             ],
             [
              0.6666666666666666,
              "#ed7953"
             ],
             [
              0.7777777777777778,
              "#fb9f3a"
             ],
             [
              0.8888888888888888,
              "#fdca26"
             ],
             [
              1,
              "#f0f921"
             ]
            ],
            "type": "heatmap"
           }
          ],
          "histogram": [
           {
            "marker": {
             "pattern": {
              "fillmode": "overlay",
              "size": 10,
              "solidity": 0.2
             }
            },
            "type": "histogram"
           }
          ],
          "histogram2d": [
           {
            "colorbar": {
             "outlinewidth": 0,
             "ticks": ""
            },
            "colorscale": [
             [
              0,
              "#0d0887"
             ],
             [
              0.1111111111111111,
              "#46039f"
             ],
             [
              0.2222222222222222,
              "#7201a8"
             ],
             [
              0.3333333333333333,
              "#9c179e"
             ],
             [
              0.4444444444444444,
              "#bd3786"
             ],
             [
              0.5555555555555556,
              "#d8576b"
             ],
             [
              0.6666666666666666,
              "#ed7953"
             ],
             [
              0.7777777777777778,
              "#fb9f3a"
             ],
             [
              0.8888888888888888,
              "#fdca26"
             ],
             [
              1,
              "#f0f921"
             ]
            ],
            "type": "histogram2d"
           }
          ],
          "histogram2dcontour": [
           {
            "colorbar": {
             "outlinewidth": 0,
             "ticks": ""
            },
            "colorscale": [
             [
              0,
              "#0d0887"
             ],
             [
              0.1111111111111111,
              "#46039f"
             ],
             [
              0.2222222222222222,
              "#7201a8"
             ],
             [
              0.3333333333333333,
              "#9c179e"
             ],
             [
              0.4444444444444444,
              "#bd3786"
             ],
             [
              0.5555555555555556,
              "#d8576b"
             ],
             [
              0.6666666666666666,
              "#ed7953"
             ],
             [
              0.7777777777777778,
              "#fb9f3a"
             ],
             [
              0.8888888888888888,
              "#fdca26"
             ],
             [
              1,
              "#f0f921"
             ]
            ],
            "type": "histogram2dcontour"
           }
          ],
          "mesh3d": [
           {
            "colorbar": {
             "outlinewidth": 0,
             "ticks": ""
            },
            "type": "mesh3d"
           }
          ],
          "parcoords": [
           {
            "line": {
             "colorbar": {
              "outlinewidth": 0,
              "ticks": ""
             }
            },
            "type": "parcoords"
           }
          ],
          "pie": [
           {
            "automargin": true,
            "type": "pie"
           }
          ],
          "scatter": [
           {
            "fillpattern": {
             "fillmode": "overlay",
             "size": 10,
             "solidity": 0.2
            },
            "type": "scatter"
           }
          ],
          "scatter3d": [
           {
            "line": {
             "colorbar": {
              "outlinewidth": 0,
              "ticks": ""
             }
            },
            "marker": {
             "colorbar": {
              "outlinewidth": 0,
              "ticks": ""
             }
            },
            "type": "scatter3d"
           }
          ],
          "scattercarpet": [
           {
            "marker": {
             "colorbar": {
              "outlinewidth": 0,
              "ticks": ""
             }
            },
            "type": "scattercarpet"
           }
          ],
          "scattergeo": [
           {
            "marker": {
             "colorbar": {
              "outlinewidth": 0,
              "ticks": ""
             }
            },
            "type": "scattergeo"
           }
          ],
          "scattergl": [
           {
            "marker": {
             "colorbar": {
              "outlinewidth": 0,
              "ticks": ""
             }
            },
            "type": "scattergl"
           }
          ],
          "scattermap": [
           {
            "marker": {
             "colorbar": {
              "outlinewidth": 0,
              "ticks": ""
             }
            },
            "type": "scattermap"
           }
          ],
          "scattermapbox": [
           {
            "marker": {
             "colorbar": {
              "outlinewidth": 0,
              "ticks": ""
             }
            },
            "type": "scattermapbox"
           }
          ],
          "scatterpolar": [
           {
            "marker": {
             "colorbar": {
              "outlinewidth": 0,
              "ticks": ""
             }
            },
            "type": "scatterpolar"
           }
          ],
          "scatterpolargl": [
           {
            "marker": {
             "colorbar": {
              "outlinewidth": 0,
              "ticks": ""
             }
            },
            "type": "scatterpolargl"
           }
          ],
          "scatterternary": [
           {
            "marker": {
             "colorbar": {
              "outlinewidth": 0,
              "ticks": ""
             }
            },
            "type": "scatterternary"
           }
          ],
          "surface": [
           {
            "colorbar": {
             "outlinewidth": 0,
             "ticks": ""
            },
            "colorscale": [
             [
              0,
              "#0d0887"
             ],
             [
              0.1111111111111111,
              "#46039f"
             ],
             [
              0.2222222222222222,
              "#7201a8"
             ],
             [
              0.3333333333333333,
              "#9c179e"
             ],
             [
              0.4444444444444444,
              "#bd3786"
             ],
             [
              0.5555555555555556,
              "#d8576b"
             ],
             [
              0.6666666666666666,
              "#ed7953"
             ],
             [
              0.7777777777777778,
              "#fb9f3a"
             ],
             [
              0.8888888888888888,
              "#fdca26"
             ],
             [
              1,
              "#f0f921"
             ]
            ],
            "type": "surface"
           }
          ],
          "table": [
           {
            "cells": {
             "fill": {
              "color": "#EBF0F8"
             },
             "line": {
              "color": "white"
             }
            },
            "header": {
             "fill": {
              "color": "#C8D4E3"
             },
             "line": {
              "color": "white"
             }
            },
            "type": "table"
           }
          ]
         },
         "layout": {
          "annotationdefaults": {
           "arrowcolor": "#2a3f5f",
           "arrowhead": 0,
           "arrowwidth": 1
          },
          "autotypenumbers": "strict",
          "coloraxis": {
           "colorbar": {
            "outlinewidth": 0,
            "ticks": ""
           }
          },
          "colorscale": {
           "diverging": [
            [
             0,
             "#8e0152"
            ],
            [
             0.1,
             "#c51b7d"
            ],
            [
             0.2,
             "#de77ae"
            ],
            [
             0.3,
             "#f1b6da"
            ],
            [
             0.4,
             "#fde0ef"
            ],
            [
             0.5,
             "#f7f7f7"
            ],
            [
             0.6,
             "#e6f5d0"
            ],
            [
             0.7,
             "#b8e186"
            ],
            [
             0.8,
             "#7fbc41"
            ],
            [
             0.9,
             "#4d9221"
            ],
            [
             1,
             "#276419"
            ]
           ],
           "sequential": [
            [
             0,
             "#0d0887"
            ],
            [
             0.1111111111111111,
             "#46039f"
            ],
            [
             0.2222222222222222,
             "#7201a8"
            ],
            [
             0.3333333333333333,
             "#9c179e"
            ],
            [
             0.4444444444444444,
             "#bd3786"
            ],
            [
             0.5555555555555556,
             "#d8576b"
            ],
            [
             0.6666666666666666,
             "#ed7953"
            ],
            [
             0.7777777777777778,
             "#fb9f3a"
            ],
            [
             0.8888888888888888,
             "#fdca26"
            ],
            [
             1,
             "#f0f921"
            ]
           ],
           "sequentialminus": [
            [
             0,
             "#0d0887"
            ],
            [
             0.1111111111111111,
             "#46039f"
            ],
            [
             0.2222222222222222,
             "#7201a8"
            ],
            [
             0.3333333333333333,
             "#9c179e"
            ],
            [
             0.4444444444444444,
             "#bd3786"
            ],
            [
             0.5555555555555556,
             "#d8576b"
            ],
            [
             0.6666666666666666,
             "#ed7953"
            ],
            [
             0.7777777777777778,
             "#fb9f3a"
            ],
            [
             0.8888888888888888,
             "#fdca26"
            ],
            [
             1,
             "#f0f921"
            ]
           ]
          },
          "colorway": [
           "#636efa",
           "#EF553B",
           "#00cc96",
           "#ab63fa",
           "#FFA15A",
           "#19d3f3",
           "#FF6692",
           "#B6E880",
           "#FF97FF",
           "#FECB52"
          ],
          "font": {
           "color": "#2a3f5f"
          },
          "geo": {
           "bgcolor": "white",
           "lakecolor": "white",
           "landcolor": "white",
           "showlakes": true,
           "showland": true,
           "subunitcolor": "#C8D4E3"
          },
          "hoverlabel": {
           "align": "left"
          },
          "hovermode": "closest",
          "mapbox": {
           "style": "light"
          },
          "paper_bgcolor": "white",
          "plot_bgcolor": "white",
          "polar": {
           "angularaxis": {
            "gridcolor": "#EBF0F8",
            "linecolor": "#EBF0F8",
            "ticks": ""
           },
           "bgcolor": "white",
           "radialaxis": {
            "gridcolor": "#EBF0F8",
            "linecolor": "#EBF0F8",
            "ticks": ""
           }
          },
          "scene": {
           "xaxis": {
            "backgroundcolor": "white",
            "gridcolor": "#DFE8F3",
            "gridwidth": 2,
            "linecolor": "#EBF0F8",
            "showbackground": true,
            "ticks": "",
            "zerolinecolor": "#EBF0F8"
           },
           "yaxis": {
            "backgroundcolor": "white",
            "gridcolor": "#DFE8F3",
            "gridwidth": 2,
            "linecolor": "#EBF0F8",
            "showbackground": true,
            "ticks": "",
            "zerolinecolor": "#EBF0F8"
           },
           "zaxis": {
            "backgroundcolor": "white",
            "gridcolor": "#DFE8F3",
            "gridwidth": 2,
            "linecolor": "#EBF0F8",
            "showbackground": true,
            "ticks": "",
            "zerolinecolor": "#EBF0F8"
           }
          },
          "shapedefaults": {
           "line": {
            "color": "#2a3f5f"
           }
          },
          "ternary": {
           "aaxis": {
            "gridcolor": "#DFE8F3",
            "linecolor": "#A2B1C6",
            "ticks": ""
           },
           "baxis": {
            "gridcolor": "#DFE8F3",
            "linecolor": "#A2B1C6",
            "ticks": ""
           },
           "bgcolor": "white",
           "caxis": {
            "gridcolor": "#DFE8F3",
            "linecolor": "#A2B1C6",
            "ticks": ""
           }
          },
          "title": {
           "x": 0.05
          },
          "xaxis": {
           "automargin": true,
           "gridcolor": "#EBF0F8",
           "linecolor": "#EBF0F8",
           "ticks": "",
           "title": {
            "standoff": 15
           },
           "zerolinecolor": "#EBF0F8",
           "zerolinewidth": 2
          },
          "yaxis": {
           "automargin": true,
           "gridcolor": "#EBF0F8",
           "linecolor": "#EBF0F8",
           "ticks": "",
           "title": {
            "standoff": 15
           },
           "zerolinecolor": "#EBF0F8",
           "zerolinewidth": 2
          }
         }
        },
        "title": {
         "text": "Ventas Históricas y Predicciones para Bollería"
        },
        "xaxis": {
         "title": {
          "text": "Fecha"
         }
        },
        "yaxis": {
         "title": {
          "text": "Base Imponible (€)"
         }
        }
       }
      }
     },
     "metadata": {},
     "output_type": "display_data"
    }
   ],
   "source": [
    "# Visualización de datos históricos y predicciones\n",
    "import matplotlib.pyplot as plt\n",
    "import plotly.express as px\n",
    "import plotly.graph_objects as go\n",
    "from datetime import datetime, timedelta\n",
    "\n",
    "# 1. Obtener datos históricos del feature view original\n",
    "try:\n",
    "    # Obtenemos los datos históricos\n",
    "    fv_historico = feature_store.get_feature_view(name=FV_NAME, version=FV_VERSION)\n",
    "    df_historico = fv_historico.get_batch_data()\n",
    "    df_historico = df_historico.sort_values('week_start')\n",
    "    \n",
    "    # 2. Obtenemos las predicciones del feature view de predicciones\n",
    "    fv_pred = feature_store.get_feature_view(name=PRED_FV_NAME, version=PRED_FV_VERSION)\n",
    "    df_pred = fv_pred.get_batch_data()\n",
    "    df_pred = df_pred.sort_values('week_start')\n",
    "    \n",
    "    # 3. Preparar datos para visualización\n",
    "    # Convertir a formato datetime si es necesario\n",
    "    if not pd.api.types.is_datetime64_any_dtype(df_historico['week_start']):\n",
    "        df_historico['week_start'] = pd.to_datetime(df_historico['week_start'])\n",
    "    \n",
    "    if not pd.api.types.is_datetime64_any_dtype(df_pred['week_start']):\n",
    "        df_pred['week_start'] = pd.to_datetime(df_pred['week_start'])\n",
    "    \n",
    "    # 4. Visualización con Plotly\n",
    "    fig = go.Figure()\n",
    "    \n",
    "    # Añadir datos históricos\n",
    "    fig.add_trace(go.Scatter(\n",
    "        x=df_historico['week_start'],\n",
    "        y=df_historico['base_imponible'],\n",
    "        mode='lines+markers',\n",
    "        name='Histórico',\n",
    "        line=dict(color='blue', width=2)\n",
    "    ))\n",
    "    \n",
    "    # Añadir predicciones\n",
    "    fig.add_trace(go.Scatter(\n",
    "        x=df_pred['week_start'],\n",
    "        y=df_pred['predicted_base_imponible'],\n",
    "        mode='lines+markers',\n",
    "        name='Predicciones',\n",
    "        line=dict(color='red', width=2, dash='dash')\n",
    "    ))\n",
    "    \n",
    "    # Configurar diseño\n",
    "    fig.update_layout(\n",
    "        title='Ventas Históricas y Predicciones para Bollería',\n",
    "        xaxis_title='Fecha',\n",
    "        yaxis_title='Base Imponible (€)',\n",
    "        legend_title='Tipo de Dato',\n",
    "        height=600,\n",
    "        template='plotly_white'\n",
    "    )\n",
    "    \n",
    "    # Mostrar gráfico\n",
    "    fig.show()\n",
    "    \n",
    "except Exception as e:\n",
    "    print(f\"❌ Error al visualizar los datos: {e}\")\n",
    "    import traceback\n",
    "    traceback.print_exc()"
   ]
  },
  {
   "cell_type": "markdown",
   "id": "54916b89",
   "metadata": {},
   "source": [
    "## Inferencia regresiva (opcional)"
   ]
  },
  {
   "cell_type": "code",
   "execution_count": 150,
   "id": "214155ea",
   "metadata": {},
   "outputs": [
    {
     "name": "stdout",
     "output_type": "stream",
     "text": [
      "=== PIPELINE DE INFERENCIA AUTOREGRESIVA ===\n",
      "Última fecha histórica: 2025-07-28 00:00:00+00:00\n",
      "Valores iniciales de lags:\n",
      "  base_imponible_lag1: 1408.04\n",
      "  base_imponible_lag2: 1318.98\n",
      "  base_imponible_lag3: 1299.57\n",
      "  base_imponible_lag52: 1714.05\n",
      "\n",
      "--- Semana 1 (2025-08-04) ---\n",
      "  base_imponible_lag1: 1408.04 (histórico)\n",
      "  base_imponible_lag2: 1318.98 (histórico)\n",
      "  base_imponible_lag3: 1299.57 (histórico)\n",
      "  base_imponible_lag52: 1714.05 (histórico)\n",
      "  Predicción: 1310.64\n",
      "\n",
      "--- Semana 2 (2025-08-11) ---\n",
      "  base_imponible_lag1: 1408.04 -> 1310.64\n",
      "  base_imponible_lag2: 1318.98 (histórico)\n",
      "  base_imponible_lag3: 1299.57 (histórico)\n",
      "  base_imponible_lag52: 1714.05 (histórico)\n",
      "  Predicción: 1329.65\n",
      "\n",
      "--- Semana 3 (2025-08-18) ---\n",
      "  base_imponible_lag1: 1408.04 -> 1329.65\n",
      "  base_imponible_lag2: 1318.98 -> 1310.64\n",
      "  base_imponible_lag3: 1299.57 (histórico)\n",
      "  base_imponible_lag52: 1714.05 (histórico)\n",
      "  Predicción: 1329.65\n",
      "\n",
      "--- Semana 4 (2025-08-25) ---\n",
      "  base_imponible_lag1: 1408.04 -> 1329.65\n",
      "  base_imponible_lag2: 1318.98 -> 1329.65\n",
      "  base_imponible_lag3: 1299.57 -> 1310.64\n",
      "  base_imponible_lag52: 1714.05 (histórico)\n",
      "  Predicción: 1329.65\n",
      "\n",
      "=== RESULTADOS FINALES ===\n",
      "                 week_start  predicted_base_imponible\n",
      "0 2025-08-18 00:00:00+00:00               1329.652954\n",
      "1 2025-08-25 00:00:00+00:00               1329.652954\n"
     ]
    }
   ],
   "source": [
    "import numpy as np\n",
    "from datetime import timedelta\n",
    "\n",
    "print(\"=== PIPELINE DE INFERENCIA AUTOREGRESIVA ===\")\n",
    "\n",
    "# 1. Preparar datos base\n",
    "ultimo_lunes = ts_df['week_start'].max()\n",
    "last_row = ts_df.iloc[-1].copy()\n",
    "feature_names = model.feature_names_in_\n",
    "\n",
    "print(f\"Última fecha histórica: {ultimo_lunes}\")\n",
    "print(\"Valores iniciales de lags:\")\n",
    "for lag in [1, 2, 3, 52]:\n",
    "    col_name = f'base_imponible_lag{lag}'\n",
    "    print(f\"  {col_name}: {last_row[col_name]:.2f}\")\n",
    "\n",
    "# 2. Pipeline de predicción autoregresiva\n",
    "predicciones_anteriores = []\n",
    "features_pred = []\n",
    "\n",
    "for semana in range(1, 5):  # 4 semanas futuras\n",
    "    fecha = ultimo_lunes + timedelta(days=7 * semana)\n",
    "    nueva_fila = last_row.copy()\n",
    "    nueva_fila['week_start'] = fecha\n",
    "    \n",
    "    print(f\"\\n--- Semana {semana} ({fecha.date()}) ---\")\n",
    "    \n",
    "    # Actualizar lags con predicciones anteriores\n",
    "    for lag in [1, 2, 3, 52]:\n",
    "        col_name = f'base_imponible_lag{lag}'\n",
    "        valor_anterior = nueva_fila[col_name]\n",
    "        \n",
    "        if lag <= len(predicciones_anteriores):\n",
    "            # Usar predicción anterior como lag\n",
    "            nuevo_valor = predicciones_anteriores[-lag]\n",
    "            nueva_fila[col_name] = nuevo_valor\n",
    "            print(f\"  {col_name}: {valor_anterior:.2f} -> {nuevo_valor:.2f}\")\n",
    "        else:\n",
    "            # Mantener valor histórico\n",
    "            print(f\"  {col_name}: {valor_anterior:.2f} (histórico)\")\n",
    "    \n",
    "    # Hacer predicción\n",
    "    X = nueva_fila[feature_names].values.reshape(1, -1)\n",
    "    prediccion = model.predict(X)[0]\n",
    "    print(f\"  Predicción: {prediccion:.2f}\")\n",
    "    \n",
    "    # Guardar para siguiente iteración\n",
    "    predicciones_anteriores.append(prediccion)\n",
    "    nueva_fila['predicted_base_imponible'] = prediccion\n",
    "    features_pred.append(nueva_fila.copy())\n",
    "\n",
    "# 3. Crear DataFrame de resultados\n",
    "results = pd.DataFrame(features_pred)[['week_start', 'predicted_base_imponible']]\n",
    "fecha_limite = pd.Timestamp('2025-08-11 00:00:00+00:00')\n",
    "results = results[results['week_start'] > fecha_limite].reset_index(drop=True)\n",
    "\n",
    "print(\"\\n=== RESULTADOS FINALES ===\")\n",
    "print(results)"
   ]
  },
  {
   "cell_type": "markdown",
   "id": "dfd93834",
   "metadata": {},
   "source": [
    "# Automatización de predicciones semanales\n",
    "\n",
    "Definimos una función para automatizar el proceso completo de predicción semanal y su almacenamiento en Hopsworks."
   ]
  },
  {
   "cell_type": "code",
   "execution_count": null,
   "id": "13934385",
   "metadata": {},
   "outputs": [],
   "source": [
    "# Función para automatizar la predicción semanal y su almacenamiento\n",
    "def prediccion_semanal_automatizada(\n",
    "    proyecto_hopsworks,\n",
    "    nombre_fg=\"bolleria_predicciones_feature_group\",\n",
    "    version_fg=1,\n",
    "    nombre_fv=\"bolleria_predicciones_feature_view\",\n",
    "    version_fv=1,\n",
    "    nombre_modelo=\"fleca_bolleria_predictor_next_week\",\n",
    "    version_modelo=1\n",
    "):\n",
    "    \"\"\"\n",
    "    Automatiza el proceso completo de:\n",
    "    1. Obtener datos históricos\n",
    "    2. Preparar features\n",
    "    3. Predecir siguiente semana\n",
    "    4. Almacenar predicción en feature store\n",
    "    \n",
    "    Args:\n",
    "        proyecto_hopsworks: Proyecto de Hopsworks ya conectado\n",
    "        nombre_fg: Nombre del feature group para almacenar predicciones\n",
    "        version_fg: Versión del feature group\n",
    "        nombre_fv: Nombre del feature view\n",
    "        version_fv: Versión del feature view\n",
    "        nombre_modelo: Nombre del modelo en el registry\n",
    "        version_modelo: Versión del modelo\n",
    "        \n",
    "    Returns:\n",
    "        DataFrame con la predicción realizada\n",
    "    \"\"\"\n",
    "    import logging\n",
    "    from datetime import datetime, timedelta\n",
    "    import pandas as pd\n",
    "    import numpy as np\n",
    "    from src.model import transformar_features_target\n",
    "    \n",
    "    # Configuración de logging\n",
    "    logging.basicConfig(level=logging.INFO, format='%(asctime)s - %(levelname)s - %(message)s')\n",
    "    logger = logging.getLogger('prediccion_semanal')\n",
    "    \n",
    "    try:\n",
    "        # 1. Conexiones a Hopsworks\n",
    "        feature_store = proyecto_hopsworks.get_feature_store()\n",
    "        model_registry = proyecto_hopsworks.get_model_registry()\n",
    "        \n",
    "        logger.info(\"Conexión a Hopsworks establecida\")\n",
    "        \n",
    "        # 2. Obtener datos históricos\n",
    "        feature_view = feature_store.get_feature_view(name=\"times_series_bolleria_feature_view\", version=1)\n",
    "        ts_df = feature_view.get_batch_data()\n",
    "        ts_df = ts_df.sort_values('week_start').reset_index(drop=True)\n",
    "        \n",
    "        logger.info(f\"Datos históricos obtenidos: {len(ts_df)} registros\")\n",
    "        \n",
    "        # 3. Preparar features\n",
    "        ts_df = transformar_features_target(\n",
    "            ts_df,\n",
    "            lags_list=[1, 2, 3, 52], \n",
    "            columna_target='base_imponible',\n",
    "            cols_exogenas=['is_easter', 'is_summer_peak'],\n",
    "            periodos_adelante=1,\n",
    "            eliminar_nulos=True,\n",
    "            return_format='dataframe'\n",
    "        )\n",
    "        \n",
    "        logger.info(\"Features preparados correctamente\")\n",
    "        \n",
    "        # 4. Cargar modelo\n",
    "        model = model_registry.get_model(name=nombre_modelo, version=version_modelo)\n",
    "        from pathlib import Path\n",
    "        import joblib\n",
    "        model_dir = model.download()\n",
    "        model_obj = joblib.load(Path(model_dir) / 'xgboost_hopsworks.pkl')\n",
    "        \n",
    "        logger.info(f\"Modelo {nombre_modelo} v{version_modelo} cargado correctamente\")\n",
    "        \n",
    "        # 5. Obtener la última fecha y predecir siguiente semana\n",
    "        ultimo_lunes = ts_df['week_start'].max()\n",
    "        fecha_siguiente = ultimo_lunes + timedelta(days=7)\n",
    "        \n",
    "        last_row = ts_df.iloc[-1].copy()\n",
    "        last_row['week_start'] = fecha_siguiente\n",
    "        \n",
    "        feature_names = model_obj.feature_names_in_\n",
    "        X = last_row[feature_names].values.reshape(1, -1)\n",
    "        prediccion = model_obj.predict(X)[0]\n",
    "        \n",
    "        # 6. Crear DataFrame de resultados\n",
    "        resultado = pd.DataFrame({\n",
    "            'week_start': [fecha_siguiente],\n",
    "            'predicted_base_imponible': [prediccion]\n",
    "        })\n",
    "        \n",
    "        logger.info(f\"Predicción para {fecha_siguiente.date()}: {prediccion:.2f}\")\n",
    "        \n",
    "        # 7. Almacenar en feature store\n",
    "        fg_pred = None\n",
    "        \n",
    "        # Intentar obtener feature group existente\n",
    "        try:\n",
    "            fg_pred = feature_store.get_feature_group(name=nombre_fg, version=version_fg)\n",
    "            logger.info(f\"Feature group '{nombre_fg}' existente encontrado\")\n",
    "        except:\n",
    "            # Si no existe, crearlo\n",
    "            fg_pred = feature_store.create_feature_group(\n",
    "                name=nombre_fg,\n",
    "                version=version_fg,\n",
    "                description=\"Predicciones semanales de base_imponible para bolleria\",\n",
    "                primary_key=[\"week_start\"],\n",
    "                online_enabled=False,\n",
    "                statistics_config={\"enabled\": True},\n",
    "                event_time='week_start'\n",
    "            )\n",
    "            logger.info(f\"Feature group '{nombre_fg}' creado correctamente\")\n",
    "        \n",
    "        # Insertar predicción\n",
    "        if fg_pred is not None:\n",
    "            fg_pred.insert(resultado, write_options={'wait_for_job': True})\n",
    "            logger.info(\"Predicción insertada en feature group\")\n",
    "            \n",
    "            # 8. Crear feature view si no existe\n",
    "            try:\n",
    "                fv_pred = feature_store.get_feature_view(name=nombre_fv, version=version_fv)\n",
    "                logger.info(f\"Feature view '{nombre_fv}' existente encontrado\")\n",
    "            except:\n",
    "                query = fg_pred.select_all()\n",
    "                fv_pred = feature_store.create_feature_view(\n",
    "                    name=nombre_fv,\n",
    "                    version=version_fv,\n",
    "                    query=query,\n",
    "                    description=\"Vista de predicciones semanales de bolleria\"\n",
    "                )\n",
    "                logger.info(f\"Feature view '{nombre_fv}' creado correctamente\")\n",
    "        \n",
    "        return resultado\n",
    "        \n",
    "    except Exception as e:\n",
    "        logger.error(f\"Error en predicción automatizada: {e}\")\n",
    "        import traceback\n",
    "        traceback.print_exc()\n",
    "        return None\n",
    "\n",
    "# Ejemplo de uso (comentado para no ejecutarlo accidentalmente)\n",
    "\"\"\"\n",
    "# Para ejecutar una predicción automatizada, descomenta y ejecuta:\n",
    "nueva_prediccion = prediccion_semanal_automatizada(\n",
    "    proyecto_hopsworks=project\n",
    ")\n",
    "print(\"Nueva predicción realizada:\")\n",
    "print(nueva_prediccion)\n",
    "\"\"\""
   ]
  },
  {
   "cell_type": "markdown",
   "id": "81812cba",
   "metadata": {},
   "source": [
    "# Conclusiones\n",
    "\n",
    "En este notebook hemos implementado un pipeline completo de inferencia para predecir ventas semanales de bollería:\n",
    "\n",
    "1. **Conexión a Hopsworks**: Nos conectamos al feature store y al model registry.\n",
    "2. **Carga de datos históricos**: Obtenemos datos del feature view existente.\n",
    "3. **Preparación de features**: Transformamos los datos añadiendo lags y variables exógenas.\n",
    "4. **Predicción**: Utilizamos el modelo XGBoost entrenado para predecir la próxima semana.\n",
    "5. **Almacenamiento en Feature Store**: Guardamos las predicciones en un feature group específico.\n",
    "6. **Feature View**: Creamos un feature view para acceder fácilmente a las predicciones.\n",
    "7. **Visualización**: Representamos gráficamente los datos históricos y las predicciones.\n",
    "8. **Automatización**: Implementamos una función para automatizar todo el proceso.\n",
    "\n",
    "Este pipeline se puede programar para ejecutarse semanalmente, generando predicciones automáticas que se almacenan en Hopsworks para su posterior visualización y análisis."
   ]
  }
 ],
 "metadata": {
  "kernelspec": {
   "display_name": "mlops-project-py3.10",
   "language": "python",
   "name": "python3"
  },
  "language_info": {
   "codemirror_mode": {
    "name": "ipython",
    "version": 3
   },
   "file_extension": ".py",
   "mimetype": "text/x-python",
   "name": "python",
   "nbconvert_exporter": "python",
   "pygments_lexer": "ipython3",
   "version": "3.10.0"
  }
 },
 "nbformat": 4,
 "nbformat_minor": 5
}
