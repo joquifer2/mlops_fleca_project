{
 "cells": [
  {
   "cell_type": "code",
   "execution_count": 11,
   "id": "e804a5b9",
   "metadata": {},
   "outputs": [],
   "source": [
    "import sys\n",
    "from pathlib import Path\n",
    "\n",
    "# Añade src al path para importar los módulos\n",
    "sys.path.append(str(Path().resolve().parent / 'src'))"
   ]
  },
  {
   "cell_type": "code",
   "execution_count": 12,
   "id": "8109c7e8",
   "metadata": {},
   "outputs": [],
   "source": [
    "%reload_ext autoreload\n",
    "%autoreload 2"
   ]
  },
  {
   "cell_type": "markdown",
   "id": "0cb04071",
   "metadata": {},
   "source": [
    "(opcional) Este código permite conocer lo que hay en hopsworks"
   ]
  },
  {
   "cell_type": "code",
   "execution_count": 13,
   "id": "fcbf6bd2",
   "metadata": {},
   "outputs": [
    {
     "name": "stdout",
     "output_type": "stream",
     "text": [
      "2025-08-21 17:54:26,729 INFO: Closing external client and cleaning up certificates.\n",
      "Connection closed.\n",
      "2025-08-21 17:54:26,733 INFO: Initializing external client\n",
      "2025-08-21 17:54:26,733 INFO: Base URL: https://c.app.hopsworks.ai:443\n",
      "Connection closed.\n",
      "2025-08-21 17:54:26,733 INFO: Initializing external client\n",
      "2025-08-21 17:54:26,733 INFO: Base URL: https://c.app.hopsworks.ai:443\n",
      "2025-08-21 17:54:28,011 INFO: Python Engine initialized.\n",
      "2025-08-21 17:54:28,011 INFO: Python Engine initialized.\n",
      "\n",
      "Logged in to project, explore it here https://c.app.hopsworks.ai:443/p/1242272\n",
      "\n",
      "Logged in to project, explore it here https://c.app.hopsworks.ai:443/p/1242272\n",
      "Feature groups encontrados: 1\n",
      " - times_series_bolleria_feature_group\n",
      "Feature groups encontrados: 1\n",
      " - times_series_bolleria_feature_group\n"
     ]
    }
   ],
   "source": [
    "# Conocer que datos hay en el feature store\n",
    "import hopsworks\n",
    "import pandas as pd\n",
    "import config\n",
    "\n",
    "FG_NAME = \"times_series_bolleria_feature_group\"\n",
    "FV_NAME = \"times_series_bolleria_feature_view\"\n",
    "FV_VERSION = 1\n",
    "\n",
    "# Conectar con el proyecto de Hopsworks y al feature store\n",
    "project = hopsworks.login(project=config.HOPSWORKS_PROJECT_NAME, api_key_value=config.HOPSWORKS_API_KEY)\n",
    "\n",
    "\n",
    "# Obtener el feature store\n",
    "feature_store = project.get_feature_store()\n",
    "\n",
    "# Listar los feature groups\n",
    "feature_groups = feature_store.get_feature_groups(name=FG_NAME)\n",
    "print(f\"Feature groups encontrados: {len(feature_groups)}\")\n",
    "for fg in feature_groups:\n",
    "    print(f\" - {fg.name}\")\n",
    "\n"
   ]
  },
  {
   "cell_type": "code",
   "execution_count": 14,
   "id": "54f55664",
   "metadata": {},
   "outputs": [
    {
     "name": "stdout",
     "output_type": "stream",
     "text": [
      "Feature group: times_series_bolleria_feature_group\n",
      "Finished: Reading data from Hopsworks, using Hopsworks Feature Query Service (0.64s) \n",
      " - Número de filas: 133\n",
      " - Rango de week_start: 2023-01-02 00:00:00+00:00 a 2025-08-11 00:00:00+00:00\n",
      "Finished: Reading data from Hopsworks, using Hopsworks Feature Query Service (0.64s) \n",
      " - Número de filas: 133\n",
      " - Rango de week_start: 2023-01-02 00:00:00+00:00 a 2025-08-11 00:00:00+00:00\n"
     ]
    }
   ],
   "source": [
    "# Para cada FG, saca numero de filas y rango de timestamp\n",
    "for fg in feature_groups:\n",
    "    print(f\"Feature group: {fg.name}\")\n",
    "    df = fg.read()\n",
    "    print(f\" - Número de filas: {len(df)}\")\n",
    "    if not df.empty:\n",
    "        print(f\" - Rango de week_start: {df['week_start'].min()} a {df['week_start'].max()}\")\n",
    "    else:\n",
    "        print(\" - No hay datos en este feature group.\")"
   ]
  },
  {
   "cell_type": "code",
   "execution_count": 15,
   "id": "293b7bac",
   "metadata": {},
   "outputs": [
    {
     "name": "stdout",
     "output_type": "stream",
     "text": [
      "Feature views encontrados: 1\n",
      " - times_series_bolleria_feature_view\n",
      " - Version: 1\n",
      "Finished: Reading data from Hopsworks, using Hopsworks Feature Query Service (0.64s) \n",
      "Feature view times_series_bolleria_feature_view:\n",
      " - Número de filas: 133\n",
      " - Rango de week_start: 2023-01-02 00:00:00+00:00 a 2025-08-11 00:00:00+00:00\n",
      " - Columnas: ['familia', 'base_imponible', 'is_summer_peak', 'is_easter', 'week_start']\n",
      "Finished: Reading data from Hopsworks, using Hopsworks Feature Query Service (0.64s) \n",
      "Feature view times_series_bolleria_feature_view:\n",
      " - Número de filas: 133\n",
      " - Rango de week_start: 2023-01-02 00:00:00+00:00 a 2025-08-11 00:00:00+00:00\n",
      " - Columnas: ['familia', 'base_imponible', 'is_summer_peak', 'is_easter', 'week_start']\n"
     ]
    }
   ],
   "source": [
    "# Listas los features views\n",
    "feature_views = feature_store.get_feature_views(name=FV_NAME)\n",
    "# Filtrar por versión\n",
    "feature_views = [fv for fv in feature_views if fv.version == FV_VERSION]\n",
    "print(f\"Feature views encontrados: {len(feature_views)}\")\n",
    "for fv in feature_views:\n",
    "    print(f\" - {fv.name}\")\n",
    "    print(f\" - Version: {fv.version}\")\n",
    "\n",
    "# Para cada feature view saca el número de filas y rango de timestamp\n",
    "batch_data = []\n",
    "for fv in feature_views:\n",
    "    df = fv.get_batch_data()\n",
    "    batch_data.append(df)\n",
    "\n",
    "# Imprimir información sobre los datos de cada feature view y las columnas\n",
    "for i, df in enumerate(batch_data):\n",
    "    print(f\"Feature view {feature_views[i].name}:\")\n",
    "    print(f\" - Número de filas: {len(df)}\")\n",
    "    if not df.empty:\n",
    "        print(f\" - Rango de week_start: {df['week_start'].min()} a {df['week_start'].max()}\")\n",
    "        print(f\" - Columnas: {list(df.columns)}\")\n",
    "    else:\n",
    "        print(\" - No hay datos en este feature view.\")"
   ]
  },
  {
   "cell_type": "markdown",
   "id": "ae83664d",
   "metadata": {},
   "source": [
    "# Conexión al proyecto, feature store y model registry en hopsworks"
   ]
  },
  {
   "cell_type": "code",
   "execution_count": 16,
   "id": "60c94213",
   "metadata": {},
   "outputs": [
    {
     "name": "stdout",
     "output_type": "stream",
     "text": [
      "2025-08-21 17:54:43,723 INFO: Closing external client and cleaning up certificates.\n",
      "Connection closed.\n",
      "2025-08-21 17:54:43,727 INFO: Initializing external client\n",
      "2025-08-21 17:54:43,727 INFO: Base URL: https://c.app.hopsworks.ai:443\n",
      "Connection closed.\n",
      "2025-08-21 17:54:43,727 INFO: Initializing external client\n",
      "2025-08-21 17:54:43,727 INFO: Base URL: https://c.app.hopsworks.ai:443\n",
      "2025-08-21 17:54:44,869 INFO: Python Engine initialized.\n",
      "2025-08-21 17:54:44,869 INFO: Python Engine initialized.\n",
      "\n",
      "Logged in to project, explore it here https://c.app.hopsworks.ai:443/p/1242272\n",
      "\n",
      "Logged in to project, explore it here https://c.app.hopsworks.ai:443/p/1242272\n",
      "Conectado a proyecto: fleca_mlops\n",
      "Conectado al feature store: fleca_mlops_featurestore\n",
      "Conectado al model registry: ModelRegistry(project: 'fleca_mlops')\n",
      "Conectado a proyecto: fleca_mlops\n",
      "Conectado al feature store: fleca_mlops_featurestore\n",
      "Conectado al model registry: ModelRegistry(project: 'fleca_mlops')\n"
     ]
    }
   ],
   "source": [
    "import hopsworks\n",
    "\n",
    "# Conexión a hopsworks y proyecto   \n",
    "project = hopsworks.login(project=config.HOPSWORKS_PROJECT_NAME, api_key_value=config.HOPSWORKS_API_KEY)\n",
    "feature_store = project.get_feature_store()\n",
    "\n",
    "# Conexión al model registry\n",
    "model_registry = project.get_model_registry()\n",
    "\n",
    "print(\"Conectado a proyecto:\", project.name)\n",
    "print(\"Conectado al feature store:\", feature_store.name)\n",
    "print(\"Conectado al model registry:\", model_registry)\n"
   ]
  },
  {
   "cell_type": "markdown",
   "id": "4984646d",
   "metadata": {},
   "source": [
    "# Leemos Batch Score del Feature View"
   ]
  },
  {
   "cell_type": "code",
   "execution_count": 17,
   "id": "44ec365c",
   "metadata": {},
   "outputs": [
    {
     "name": "stdout",
     "output_type": "stream",
     "text": [
      "Finished: Reading data from Hopsworks, using Hopsworks Feature Query Service (0.91s) \n",
      "Finished: Reading data from Hopsworks, using Hopsworks Feature Query Service (0.91s) \n"
     ]
    },
    {
     "data": {
      "application/vnd.microsoft.datawrangler.viewer.v0+json": {
       "columns": [
        {
         "name": "index",
         "rawType": "int64",
         "type": "integer"
        },
        {
         "name": "familia",
         "rawType": "object",
         "type": "string"
        },
        {
         "name": "base_imponible",
         "rawType": "float64",
         "type": "float"
        },
        {
         "name": "is_summer_peak",
         "rawType": "int32",
         "type": "integer"
        },
        {
         "name": "is_easter",
         "rawType": "int64",
         "type": "integer"
        },
        {
         "name": "week_start",
         "rawType": "datetime64[us, Etc/UTC]",
         "type": "unknown"
        }
       ],
       "ref": "cffe3d16-ff59-44e8-8752-47c46030830d",
       "rows": [
        [
         "0",
         "BOLLERIA",
         "825.11",
         "0",
         "0",
         "2023-01-02 00:00:00+00:00"
        ],
        [
         "1",
         "BOLLERIA",
         "658.4",
         "0",
         "0",
         "2023-01-09 00:00:00+00:00"
        ],
        [
         "2",
         "BOLLERIA",
         "741.4",
         "0",
         "0",
         "2023-01-16 00:00:00+00:00"
        ],
        [
         "3",
         "BOLLERIA",
         "653.64",
         "0",
         "0",
         "2023-01-23 00:00:00+00:00"
        ],
        [
         "4",
         "BOLLERIA",
         "680.46",
         "0",
         "0",
         "2023-01-30 00:00:00+00:00"
        ]
       ],
       "shape": {
        "columns": 5,
        "rows": 5
       }
      },
      "text/html": [
       "<div>\n",
       "<style scoped>\n",
       "    .dataframe tbody tr th:only-of-type {\n",
       "        vertical-align: middle;\n",
       "    }\n",
       "\n",
       "    .dataframe tbody tr th {\n",
       "        vertical-align: top;\n",
       "    }\n",
       "\n",
       "    .dataframe thead th {\n",
       "        text-align: right;\n",
       "    }\n",
       "</style>\n",
       "<table border=\"1\" class=\"dataframe\">\n",
       "  <thead>\n",
       "    <tr style=\"text-align: right;\">\n",
       "      <th></th>\n",
       "      <th>familia</th>\n",
       "      <th>base_imponible</th>\n",
       "      <th>is_summer_peak</th>\n",
       "      <th>is_easter</th>\n",
       "      <th>week_start</th>\n",
       "    </tr>\n",
       "  </thead>\n",
       "  <tbody>\n",
       "    <tr>\n",
       "      <th>0</th>\n",
       "      <td>BOLLERIA</td>\n",
       "      <td>825.11</td>\n",
       "      <td>0</td>\n",
       "      <td>0</td>\n",
       "      <td>2023-01-02 00:00:00+00:00</td>\n",
       "    </tr>\n",
       "    <tr>\n",
       "      <th>1</th>\n",
       "      <td>BOLLERIA</td>\n",
       "      <td>658.40</td>\n",
       "      <td>0</td>\n",
       "      <td>0</td>\n",
       "      <td>2023-01-09 00:00:00+00:00</td>\n",
       "    </tr>\n",
       "    <tr>\n",
       "      <th>2</th>\n",
       "      <td>BOLLERIA</td>\n",
       "      <td>741.40</td>\n",
       "      <td>0</td>\n",
       "      <td>0</td>\n",
       "      <td>2023-01-16 00:00:00+00:00</td>\n",
       "    </tr>\n",
       "    <tr>\n",
       "      <th>3</th>\n",
       "      <td>BOLLERIA</td>\n",
       "      <td>653.64</td>\n",
       "      <td>0</td>\n",
       "      <td>0</td>\n",
       "      <td>2023-01-23 00:00:00+00:00</td>\n",
       "    </tr>\n",
       "    <tr>\n",
       "      <th>4</th>\n",
       "      <td>BOLLERIA</td>\n",
       "      <td>680.46</td>\n",
       "      <td>0</td>\n",
       "      <td>0</td>\n",
       "      <td>2023-01-30 00:00:00+00:00</td>\n",
       "    </tr>\n",
       "  </tbody>\n",
       "</table>\n",
       "</div>"
      ],
      "text/plain": [
       "    familia  base_imponible  is_summer_peak  is_easter  \\\n",
       "0  BOLLERIA          825.11               0          0   \n",
       "1  BOLLERIA          658.40               0          0   \n",
       "2  BOLLERIA          741.40               0          0   \n",
       "3  BOLLERIA          653.64               0          0   \n",
       "4  BOLLERIA          680.46               0          0   \n",
       "\n",
       "                 week_start  \n",
       "0 2023-01-02 00:00:00+00:00  \n",
       "1 2023-01-09 00:00:00+00:00  \n",
       "2 2023-01-16 00:00:00+00:00  \n",
       "3 2023-01-23 00:00:00+00:00  \n",
       "4 2023-01-30 00:00:00+00:00  "
      ]
     },
     "execution_count": 17,
     "metadata": {},
     "output_type": "execute_result"
    }
   ],
   "source": [
    "from datetime import timedelta\n",
    "import pandas as pd\n",
    "\n",
    "# Lectura batch cruda de feature views\n",
    "feature_views= feature_store.get_feature_view(name=FV_NAME, version=FV_VERSION)\n",
    "ts_df = feature_views.get_batch_data(\n",
    "    start_date=None,\n",
    "    end_date=None,\n",
    "    features=None,\n",
    "    )\n",
    "\n",
    "# Ordenar por la columna de fecha antes de visualizar\n",
    "ts_df = ts_df.sort_values('week_start').reset_index(drop=True)\n",
    "ts_df.head(5)"
   ]
  },
  {
   "cell_type": "markdown",
   "id": "50e38be0",
   "metadata": {},
   "source": [
    "# Añadimos features (lags, variables exógenas) y target"
   ]
  },
  {
   "cell_type": "code",
   "execution_count": 18,
   "id": "29b2ee23",
   "metadata": {},
   "outputs": [
    {
     "name": "stdout",
     "output_type": "stream",
     "text": [
      "2025-08-21 17:54:57,566 INFO: Usando DataFrame de entrada: (133, 5)\n",
      "2025-08-21 17:54:57,569 INFO: Retornando DataFrame combinado: (80, 8)\n",
      "2025-08-21 17:54:57,569 INFO: Retornando DataFrame combinado: (80, 8)\n"
     ]
    },
    {
     "data": {
      "application/vnd.microsoft.datawrangler.viewer.v0+json": {
       "columns": [
        {
         "name": "index",
         "rawType": "int64",
         "type": "integer"
        },
        {
         "name": "base_imponible_lag1",
         "rawType": "float64",
         "type": "float"
        },
        {
         "name": "base_imponible_lag2",
         "rawType": "float64",
         "type": "float"
        },
        {
         "name": "base_imponible_lag3",
         "rawType": "float64",
         "type": "float"
        },
        {
         "name": "base_imponible_lag52",
         "rawType": "float64",
         "type": "float"
        },
        {
         "name": "is_easter",
         "rawType": "int64",
         "type": "integer"
        },
        {
         "name": "is_summer_peak",
         "rawType": "int32",
         "type": "integer"
        },
        {
         "name": "week_start",
         "rawType": "datetime64[us, Etc/UTC]",
         "type": "unknown"
        },
        {
         "name": "target",
         "rawType": "float64",
         "type": "float"
        }
       ],
       "ref": "ee0e3312-b4c0-4295-bbe2-2e3d6d73004a",
       "rows": [
        [
         "0",
         "572.51",
         "534.79",
         "563.18",
         "825.11",
         "0",
         "0",
         "2024-01-15 00:00:00+00:00",
         "680.3"
        ],
        [
         "1",
         "597.65",
         "572.51",
         "534.79",
         "658.4",
         "0",
         "0",
         "2024-01-22 00:00:00+00:00",
         "603.99"
        ],
        [
         "2",
         "680.3",
         "597.65",
         "572.51",
         "741.4",
         "0",
         "0",
         "2024-01-29 00:00:00+00:00",
         "600.14"
        ],
        [
         "3",
         "603.99",
         "680.3",
         "597.65",
         "653.64",
         "0",
         "0",
         "2024-02-05 00:00:00+00:00",
         "689.32"
        ],
        [
         "4",
         "600.14",
         "603.99",
         "680.3",
         "680.46",
         "0",
         "0",
         "2024-02-12 00:00:00+00:00",
         "627.76"
        ]
       ],
       "shape": {
        "columns": 8,
        "rows": 5
       }
      },
      "text/html": [
       "<div>\n",
       "<style scoped>\n",
       "    .dataframe tbody tr th:only-of-type {\n",
       "        vertical-align: middle;\n",
       "    }\n",
       "\n",
       "    .dataframe tbody tr th {\n",
       "        vertical-align: top;\n",
       "    }\n",
       "\n",
       "    .dataframe thead th {\n",
       "        text-align: right;\n",
       "    }\n",
       "</style>\n",
       "<table border=\"1\" class=\"dataframe\">\n",
       "  <thead>\n",
       "    <tr style=\"text-align: right;\">\n",
       "      <th></th>\n",
       "      <th>base_imponible_lag1</th>\n",
       "      <th>base_imponible_lag2</th>\n",
       "      <th>base_imponible_lag3</th>\n",
       "      <th>base_imponible_lag52</th>\n",
       "      <th>is_easter</th>\n",
       "      <th>is_summer_peak</th>\n",
       "      <th>week_start</th>\n",
       "      <th>target</th>\n",
       "    </tr>\n",
       "  </thead>\n",
       "  <tbody>\n",
       "    <tr>\n",
       "      <th>0</th>\n",
       "      <td>572.51</td>\n",
       "      <td>534.79</td>\n",
       "      <td>563.18</td>\n",
       "      <td>825.11</td>\n",
       "      <td>0</td>\n",
       "      <td>0</td>\n",
       "      <td>2024-01-15 00:00:00+00:00</td>\n",
       "      <td>680.30</td>\n",
       "    </tr>\n",
       "    <tr>\n",
       "      <th>1</th>\n",
       "      <td>597.65</td>\n",
       "      <td>572.51</td>\n",
       "      <td>534.79</td>\n",
       "      <td>658.40</td>\n",
       "      <td>0</td>\n",
       "      <td>0</td>\n",
       "      <td>2024-01-22 00:00:00+00:00</td>\n",
       "      <td>603.99</td>\n",
       "    </tr>\n",
       "    <tr>\n",
       "      <th>2</th>\n",
       "      <td>680.30</td>\n",
       "      <td>597.65</td>\n",
       "      <td>572.51</td>\n",
       "      <td>741.40</td>\n",
       "      <td>0</td>\n",
       "      <td>0</td>\n",
       "      <td>2024-01-29 00:00:00+00:00</td>\n",
       "      <td>600.14</td>\n",
       "    </tr>\n",
       "    <tr>\n",
       "      <th>3</th>\n",
       "      <td>603.99</td>\n",
       "      <td>680.30</td>\n",
       "      <td>597.65</td>\n",
       "      <td>653.64</td>\n",
       "      <td>0</td>\n",
       "      <td>0</td>\n",
       "      <td>2024-02-05 00:00:00+00:00</td>\n",
       "      <td>689.32</td>\n",
       "    </tr>\n",
       "    <tr>\n",
       "      <th>4</th>\n",
       "      <td>600.14</td>\n",
       "      <td>603.99</td>\n",
       "      <td>680.30</td>\n",
       "      <td>680.46</td>\n",
       "      <td>0</td>\n",
       "      <td>0</td>\n",
       "      <td>2024-02-12 00:00:00+00:00</td>\n",
       "      <td>627.76</td>\n",
       "    </tr>\n",
       "  </tbody>\n",
       "</table>\n",
       "</div>"
      ],
      "text/plain": [
       "   base_imponible_lag1  base_imponible_lag2  base_imponible_lag3  \\\n",
       "0               572.51               534.79               563.18   \n",
       "1               597.65               572.51               534.79   \n",
       "2               680.30               597.65               572.51   \n",
       "3               603.99               680.30               597.65   \n",
       "4               600.14               603.99               680.30   \n",
       "\n",
       "   base_imponible_lag52  is_easter  is_summer_peak                week_start  \\\n",
       "0                825.11          0               0 2024-01-15 00:00:00+00:00   \n",
       "1                658.40          0               0 2024-01-22 00:00:00+00:00   \n",
       "2                741.40          0               0 2024-01-29 00:00:00+00:00   \n",
       "3                653.64          0               0 2024-02-05 00:00:00+00:00   \n",
       "4                680.46          0               0 2024-02-12 00:00:00+00:00   \n",
       "\n",
       "   target  \n",
       "0  680.30  \n",
       "1  603.99  \n",
       "2  600.14  \n",
       "3  689.32  \n",
       "4  627.76  "
      ]
     },
     "execution_count": 18,
     "metadata": {},
     "output_type": "execute_result"
    }
   ],
   "source": [
    "from src.model import transformar_features_target\n",
    "\n",
    "# Procesar datos usando la función mejorada que acepta tuplas directamente\n",
    "ts_df = transformar_features_target(\n",
    "    ts_df,\n",
    "    lags_list=[1, 2, 3, 52], \n",
    "    columna_target='base_imponible',\n",
    "    cols_exogenas=['is_easter', 'is_summer_peak'],\n",
    "    periodos_adelante=1,\n",
    "    eliminar_nulos=True,\n",
    "    return_format='dataframe'  # Obtenemos un único DataFrame con features y target\n",
    ")\n",
    "\n",
    "# Resetear el índice\n",
    "ts_df = ts_df.reset_index(drop=True)\n",
    "\n",
    "# Mostrar las primeras filas del DataFrame transformado\n",
    "ts_df.head(5)"
   ]
  },
  {
   "cell_type": "markdown",
   "id": "421af7e3",
   "metadata": {},
   "source": [
    "# Cargamos el modelo"
   ]
  },
  {
   "cell_type": "code",
   "execution_count": 21,
   "id": "8457b9f1",
   "metadata": {},
   "outputs": [
    {
     "data": {
      "application/vnd.jupyter.widget-view+json": {
       "model_id": "a63ef7f3cef44564891f1a7a0e315f1e",
       "version_major": 2,
       "version_minor": 0
      },
      "text/plain": [
       "Downloading: 0.000%|          | 0/78699 elapsed<00:00 remaining<?"
      ]
     },
     "metadata": {},
     "output_type": "display_data"
    },
    {
     "name": "stdout",
     "output_type": "stream",
     "text": [
      "Modelo fleca_bolleria_predictor_next_week V1 cargado correctamente\n"
     ]
    }
   ],
   "source": [
    "import joblib\n",
    "# Cargar el modelo del model registry\n",
    "## se obtiene del config\n",
    "\n",
    "MODEL_NAME = \"fleca_bolleria_predictor_next_week\"\n",
    "MODEL_VERSION = 1\n",
    "MODEL_FILE ='xgboost_hopsworks.pkl'\n",
    "\n",
    "\n",
    "model_registry = project.get_model_registry()\n",
    "model = model_registry.get_model(name=MODEL_NAME, version=MODEL_VERSION)    \n",
    "from pathlib import Path\n",
    "\n",
    "model_dir = model.download()\n",
    "model = joblib.load(Path(model_dir) / MODEL_FILE)\n",
    "\n",
    "print(f'Modelo {MODEL_NAME} V{MODEL_VERSION} cargado correctamente')"
   ]
  },
  {
   "cell_type": "code",
   "execution_count": 22,
   "id": "987e2772",
   "metadata": {},
   "outputs": [
    {
     "name": "stdout",
     "output_type": "stream",
     "text": [
      "Columnas después de transformar_features_target:\n",
      "['base_imponible_lag1', 'base_imponible_lag2', 'base_imponible_lag3', 'base_imponible_lag52', 'is_easter', 'is_summer_peak', 'week_start', 'target']\n",
      "\n",
      "Features que espera el modelo:\n",
      "['base_imponible_lag1' 'base_imponible_lag2' 'base_imponible_lag3'\n",
      " 'base_imponible_lag52' 'is_easter' 'is_summer_peak']\n",
      "\n",
      "Comparación:\n",
      "✅ base_imponible_lag1: EXISTE\n",
      "✅ base_imponible_lag2: EXISTE\n",
      "✅ base_imponible_lag3: EXISTE\n",
      "✅ base_imponible_lag52: EXISTE\n",
      "✅ is_easter: EXISTE\n",
      "✅ is_summer_peak: EXISTE\n",
      "\n",
      "Columnas target_lag encontradas: []\n"
     ]
    }
   ],
   "source": [
    "# Verificar qué columnas tenemos después de transformar_features_target\n",
    "print(\"Columnas después de transformar_features_target:\")\n",
    "print(ts_df.columns.tolist())\n",
    "\n",
    "print(\"\\nFeatures que espera el modelo:\")\n",
    "if 'model' in globals():\n",
    "    print(model.feature_names_in_)\n",
    "else:\n",
    "    print(\"❌ El modelo no está definido. Por favor, ejecuta la celda que carga el modelo antes de continuar.\")\n",
    "\n",
    "print(\"\\nComparación:\")\n",
    "for feature in model.feature_names_in_:\n",
    "    if feature in ts_df.columns:\n",
    "        print(f\"✅ {feature}: EXISTE\")\n",
    "    else:\n",
    "        print(f\"❌ {feature}: NO EXISTE\")\n",
    "        \n",
    "# Verificar si existen las versiones con 'target_lag'\n",
    "target_lags = [col for col in ts_df.columns if 'target_lag' in col]\n",
    "print(f\"\\nColumnas target_lag encontradas: {target_lags}\")"
   ]
  },
  {
   "cell_type": "code",
   "execution_count": 23,
   "id": "cb5a25b7",
   "metadata": {},
   "outputs": [
    {
     "data": {
      "text/plain": [
       "array(['base_imponible_lag1', 'base_imponible_lag2',\n",
       "       'base_imponible_lag3', 'base_imponible_lag52', 'is_easter',\n",
       "       'is_summer_peak'], dtype='<U20')"
      ]
     },
     "execution_count": 23,
     "metadata": {},
     "output_type": "execute_result"
    }
   ],
   "source": [
    "model.feature_names_in_\n"
   ]
  },
  {
   "cell_type": "code",
   "execution_count": 24,
   "id": "3383da7a",
   "metadata": {},
   "outputs": [],
   "source": [
    "# Limpiar columnas innecesarias\n",
    "features = ts_df.drop(columns=['week_start'])"
   ]
  },
  {
   "cell_type": "markdown",
   "id": "a70d435e",
   "metadata": {},
   "source": [
    "# Hacemos predicciones"
   ]
  },
  {
   "cell_type": "code",
   "execution_count": 25,
   "metadata": {},
   "outputs": [
    {
     "name": "stdout",
     "output_type": "stream",
     "text": [
      "=== PREDICCIÓN DIRECTA DE LA PRÓXIMA SEMANA ===\n",
      "Fecha predicha: 2025-08-11\n",
      "Predicción base_imponible: 1310.64\n",
      "                 week_start  predicted_base_imponible\n",
      "0 2025-08-11 00:00:00+00:00               1310.636108\n"
     ]
    }
   ],
   "source": [
    "# Predicción directa para la próxima semana (sin autoregresión)\n",
    "from datetime import timedelta\n",
    "\n",
    "print(\"=== PREDICCIÓN DIRECTA DE LA PRÓXIMA SEMANA ===\")\n",
    "\n",
    "# Tomar la última fila de datos históricos\n",
    "ultimo_lunes = ts_df['week_start'].max()\n",
    "last_row = ts_df.iloc[-1].copy()\n",
    "feature_names = model.feature_names_in_\n",
    "\n",
    "# Calcular la fecha de la próxima semana\n",
    "fecha_siguiente = ultimo_lunes + timedelta(days=7)\n",
    "last_row['week_start'] = fecha_siguiente\n",
    "\n",
    "# Preparar los features para el modelo\n",
    "X = last_row[feature_names].values.reshape(1, -1)\n",
    "prediccion = model.predict(X)[0]\n",
    "\n",
    "print(f\"Fecha predicha: {fecha_siguiente.date()}\")\n",
    "print(f\"Predicción base_imponible: {prediccion:.2f}\")\n",
    "\n",
    "# Mostrar resultado en DataFrame\n",
    "resultado = pd.DataFrame({\n",
    "    'week_start': [fecha_siguiente],\n",
    "    'predicted_base_imponible': [prediccion]\n",
    "})\n",
    "print(resultado)\n"
   ]
  },
  {
   "cell_type": "markdown",
   "metadata": {},
   "source": [
    "## Inferencia regresiva (opcional)"
   ]
  },
  {
   "cell_type": "code",
   "execution_count": 150,
   "id": "214155ea",
   "metadata": {},
   "outputs": [
    {
     "name": "stdout",
     "output_type": "stream",
     "text": [
      "=== PIPELINE DE INFERENCIA AUTOREGRESIVA ===\n",
      "Última fecha histórica: 2025-07-28 00:00:00+00:00\n",
      "Valores iniciales de lags:\n",
      "  base_imponible_lag1: 1408.04\n",
      "  base_imponible_lag2: 1318.98\n",
      "  base_imponible_lag3: 1299.57\n",
      "  base_imponible_lag52: 1714.05\n",
      "\n",
      "--- Semana 1 (2025-08-04) ---\n",
      "  base_imponible_lag1: 1408.04 (histórico)\n",
      "  base_imponible_lag2: 1318.98 (histórico)\n",
      "  base_imponible_lag3: 1299.57 (histórico)\n",
      "  base_imponible_lag52: 1714.05 (histórico)\n",
      "  Predicción: 1310.64\n",
      "\n",
      "--- Semana 2 (2025-08-11) ---\n",
      "  base_imponible_lag1: 1408.04 -> 1310.64\n",
      "  base_imponible_lag2: 1318.98 (histórico)\n",
      "  base_imponible_lag3: 1299.57 (histórico)\n",
      "  base_imponible_lag52: 1714.05 (histórico)\n",
      "  Predicción: 1329.65\n",
      "\n",
      "--- Semana 3 (2025-08-18) ---\n",
      "  base_imponible_lag1: 1408.04 -> 1329.65\n",
      "  base_imponible_lag2: 1318.98 -> 1310.64\n",
      "  base_imponible_lag3: 1299.57 (histórico)\n",
      "  base_imponible_lag52: 1714.05 (histórico)\n",
      "  Predicción: 1329.65\n",
      "\n",
      "--- Semana 4 (2025-08-25) ---\n",
      "  base_imponible_lag1: 1408.04 -> 1329.65\n",
      "  base_imponible_lag2: 1318.98 -> 1329.65\n",
      "  base_imponible_lag3: 1299.57 -> 1310.64\n",
      "  base_imponible_lag52: 1714.05 (histórico)\n",
      "  Predicción: 1329.65\n",
      "\n",
      "=== RESULTADOS FINALES ===\n",
      "                 week_start  predicted_base_imponible\n",
      "0 2025-08-18 00:00:00+00:00               1329.652954\n",
      "1 2025-08-25 00:00:00+00:00               1329.652954\n"
     ]
    }
   ],
   "source": [
    "import numpy as np\n",
    "from datetime import timedelta\n",
    "\n",
    "print(\"=== PIPELINE DE INFERENCIA AUTOREGRESIVA ===\")\n",
    "\n",
    "# 1. Preparar datos base\n",
    "ultimo_lunes = ts_df['week_start'].max()\n",
    "last_row = ts_df.iloc[-1].copy()\n",
    "feature_names = model.feature_names_in_\n",
    "\n",
    "print(f\"Última fecha histórica: {ultimo_lunes}\")\n",
    "print(\"Valores iniciales de lags:\")\n",
    "for lag in [1, 2, 3, 52]:\n",
    "    col_name = f'base_imponible_lag{lag}'\n",
    "    print(f\"  {col_name}: {last_row[col_name]:.2f}\")\n",
    "\n",
    "# 2. Pipeline de predicción autoregresiva\n",
    "predicciones_anteriores = []\n",
    "features_pred = []\n",
    "\n",
    "for semana in range(1, 5):  # 4 semanas futuras\n",
    "    fecha = ultimo_lunes + timedelta(days=7 * semana)\n",
    "    nueva_fila = last_row.copy()\n",
    "    nueva_fila['week_start'] = fecha\n",
    "    \n",
    "    print(f\"\\n--- Semana {semana} ({fecha.date()}) ---\")\n",
    "    \n",
    "    # Actualizar lags con predicciones anteriores\n",
    "    for lag in [1, 2, 3, 52]:\n",
    "        col_name = f'base_imponible_lag{lag}'\n",
    "        valor_anterior = nueva_fila[col_name]\n",
    "        \n",
    "        if lag <= len(predicciones_anteriores):\n",
    "            # Usar predicción anterior como lag\n",
    "            nuevo_valor = predicciones_anteriores[-lag]\n",
    "            nueva_fila[col_name] = nuevo_valor\n",
    "            print(f\"  {col_name}: {valor_anterior:.2f} -> {nuevo_valor:.2f}\")\n",
    "        else:\n",
    "            # Mantener valor histórico\n",
    "            print(f\"  {col_name}: {valor_anterior:.2f} (histórico)\")\n",
    "    \n",
    "    # Hacer predicción\n",
    "    X = nueva_fila[feature_names].values.reshape(1, -1)\n",
    "    prediccion = model.predict(X)[0]\n",
    "    print(f\"  Predicción: {prediccion:.2f}\")\n",
    "    \n",
    "    # Guardar para siguiente iteración\n",
    "    predicciones_anteriores.append(prediccion)\n",
    "    nueva_fila['predicted_base_imponible'] = prediccion\n",
    "    features_pred.append(nueva_fila.copy())\n",
    "\n",
    "# 3. Crear DataFrame de resultados\n",
    "results = pd.DataFrame(features_pred)[['week_start', 'predicted_base_imponible']]\n",
    "fecha_limite = pd.Timestamp('2025-08-11 00:00:00+00:00')\n",
    "results = results[results['week_start'] > fecha_limite].reset_index(drop=True)\n",
    "\n",
    "print(\"\\n=== RESULTADOS FINALES ===\")\n",
    "print(results)"
   ]
  }
 ],
 "metadata": {
  "kernelspec": {
   "display_name": "mlops-project-py3.10",
   "language": "python",
   "name": "python3"
  },
  "language_info": {
   "codemirror_mode": {
    "name": "ipython",
    "version": 3
   },
   "file_extension": ".py",
   "mimetype": "text/x-python",
   "name": "python",
   "nbconvert_exporter": "python",
   "pygments_lexer": "ipython3",
   "version": "3.10.0"
  }
 },
 "nbformat": 4,
 "nbformat_minor": 5
}
