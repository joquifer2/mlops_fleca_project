{
 "cells": [
  {
   "cell_type": "markdown",
   "metadata": {},
   "source": [
    "# Cargar datos"
   ]
  },
  {
   "cell_type": "code",
   "execution_count": 1,
   "metadata": {},
   "outputs": [
    {
     "name": "stdout",
     "output_type": "stream",
     "text": [
      "Archivos encontrados: 4\n",
      " - raw_data_bq_forecasting_20250714.parquet\n",
      " - row_data_forecasting_2023-2025_02-000000000000.parquet\n",
      " - row_data_forecasting_2023-2025_02-000000000001.parquet\n",
      " - row_data_forecasting_2023-2025_02-000000000002.parquet\n",
      "❌ Error al leer los archivos .parquet: data type 'dbdate' not understood\n"
     ]
    }
   ],
   "source": [
    "import pandas as pd               # Librería para manipulación de datos en DataFrames\n",
    "from pathlib import Path          # Manejo de rutas de forma multiplataforma\n",
    "\n",
    "# Ruta absoluta a la carpeta que contiene los archivos .parquet\n",
    "carpeta = Path(\"c:/Workspace/mlops_fleca_project/data/raw\")\n",
    "\n",
    "# Buscar todos los archivos con extensión .parquet dentro de la carpeta\n",
    "ficheros_parquet = list(carpeta.glob(\"*.parquet\"))\n",
    "\n",
    "# Verificar si se encontraron archivos\n",
    "if not ficheros_parquet:\n",
    "    print(\"⚠️ No se encontraron archivos .parquet en la carpeta especificada.\")\n",
    "else:\n",
    "    # Imprimir los archivos encontrados para verificación\n",
    "    print(f\"Archivos encontrados: {len(ficheros_parquet)}\")\n",
    "    for f in ficheros_parquet:\n",
    "        print(f\" - {f.name}\")\n",
    "\n",
    "    # Leer y concatenar todos los archivos .parquet en un solo DataFrame\n",
    "    try:\n",
    "        df = pd.concat(\n",
    "            [pd.read_parquet(fichero, engine=\"pyarrow\") for fichero in ficheros_parquet],\n",
    "            ignore_index=True  # Evita mantener los índices originales de cada archivo\n",
    "        )\n",
    "\n",
    "        # Mostrar las primeras filas del DataFrame resultante\n",
    "        print(\"\\n✅ Datos cargados correctamente:\")\n",
    "        print(df.head())\n",
    "    except Exception as e:\n",
    "        print(f\"❌ Error al leer los archivos .parquet: {e}\")"
   ]
  },
  {
   "cell_type": "code",
   "execution_count": 9,
   "metadata": {},
   "outputs": [
    {
     "name": "stdout",
     "output_type": "stream",
     "text": [
      "<class 'pandas.core.frame.DataFrame'>\n",
      "RangeIndex: 295979 entries, 0 to 295978\n",
      "Data columns (total 7 columns):\n",
      " #   Column          Non-Null Count   Dtype  \n",
      "---  ------          --------------   -----  \n",
      " 0   fecha           295979 non-null  object \n",
      " 1   n_factura       295979 non-null  object \n",
      " 2   producto        295979 non-null  object \n",
      " 3   familia         295978 non-null  object \n",
      " 4   cantidad        295979 non-null  float64\n",
      " 5   base_imponible  293732 non-null  float64\n",
      " 6   total           293732 non-null  float64\n",
      "dtypes: float64(3), object(4)\n",
      "memory usage: 15.8+ MB\n"
     ]
    }
   ],
   "source": [
    "\n",
    "#analizamos valorese estadísticos de las columnas\n",
    "df.info()\n",
    "\n",
    "\n",
    "\n"
   ]
  },
  {
   "cell_type": "code",
   "execution_count": 10,
   "metadata": {},
   "outputs": [
    {
     "name": "stdout",
     "output_type": "stream",
     "text": [
      "<class 'pandas.core.frame.DataFrame'>\n",
      "RangeIndex: 295979 entries, 0 to 295978\n",
      "Data columns (total 7 columns):\n",
      " #   Column          Non-Null Count   Dtype         \n",
      "---  ------          --------------   -----         \n",
      " 0   fecha           295979 non-null  datetime64[ns]\n",
      " 1   n_factura       295979 non-null  object        \n",
      " 2   producto        295979 non-null  object        \n",
      " 3   familia         295978 non-null  object        \n",
      " 4   cantidad        295979 non-null  float64       \n",
      " 5   base_imponible  293732 non-null  float64       \n",
      " 6   total           293732 non-null  float64       \n",
      "dtypes: datetime64[ns](1), float64(3), object(3)\n",
      "memory usage: 15.8+ MB\n"
     ]
    }
   ],
   "source": [
    "# pasamos las fechas a datetime\n",
    "df['fecha'] = pd.to_datetime(df['fecha'], format='%Y-%m-%d %H:%M:%S.%f')\n",
    "df.info()"
   ]
  },
  {
   "cell_type": "code",
   "execution_count": 11,
   "metadata": {},
   "outputs": [
    {
     "data": {
      "application/vnd.microsoft.datawrangler.viewer.v0+json": {
       "columns": [
        {
         "name": "index",
         "rawType": "int64",
         "type": "integer"
        },
        {
         "name": "fecha",
         "rawType": "datetime64[ns]",
         "type": "datetime"
        },
        {
         "name": "familia",
         "rawType": "object",
         "type": "string"
        },
        {
         "name": "cantidad",
         "rawType": "float64",
         "type": "float"
        },
        {
         "name": "base_imponible",
         "rawType": "float64",
         "type": "float"
        },
        {
         "name": "total",
         "rawType": "float64",
         "type": "float"
        }
       ],
       "ref": "512df721-2873-4c21-93f3-cf4b0cbeaa87",
       "rows": [
        [
         "0",
         "2023-11-09 00:00:00",
         "PAN",
         "1.0",
         null,
         null
        ],
        [
         "1",
         "2023-11-07 00:00:00",
         "PAN",
         "1.0",
         null,
         null
        ],
        [
         "2",
         "2023-11-08 00:00:00",
         "PAN",
         "1.0",
         null,
         null
        ],
        [
         "3",
         "2023-07-24 00:00:00",
         "PAN",
         "0.8",
         "0.06",
         "0.06"
        ],
        [
         "4",
         "2023-08-13 00:00:00",
         "PAN",
         "1.0",
         "0.08",
         "0.08"
        ]
       ],
       "shape": {
        "columns": 5,
        "rows": 5
       }
      },
      "text/html": [
       "<div>\n",
       "<style scoped>\n",
       "    .dataframe tbody tr th:only-of-type {\n",
       "        vertical-align: middle;\n",
       "    }\n",
       "\n",
       "    .dataframe tbody tr th {\n",
       "        vertical-align: top;\n",
       "    }\n",
       "\n",
       "    .dataframe thead th {\n",
       "        text-align: right;\n",
       "    }\n",
       "</style>\n",
       "<table border=\"1\" class=\"dataframe\">\n",
       "  <thead>\n",
       "    <tr style=\"text-align: right;\">\n",
       "      <th></th>\n",
       "      <th>fecha</th>\n",
       "      <th>familia</th>\n",
       "      <th>cantidad</th>\n",
       "      <th>base_imponible</th>\n",
       "      <th>total</th>\n",
       "    </tr>\n",
       "  </thead>\n",
       "  <tbody>\n",
       "    <tr>\n",
       "      <th>0</th>\n",
       "      <td>2023-11-09</td>\n",
       "      <td>PAN</td>\n",
       "      <td>1.0</td>\n",
       "      <td>NaN</td>\n",
       "      <td>NaN</td>\n",
       "    </tr>\n",
       "    <tr>\n",
       "      <th>1</th>\n",
       "      <td>2023-11-07</td>\n",
       "      <td>PAN</td>\n",
       "      <td>1.0</td>\n",
       "      <td>NaN</td>\n",
       "      <td>NaN</td>\n",
       "    </tr>\n",
       "    <tr>\n",
       "      <th>2</th>\n",
       "      <td>2023-11-08</td>\n",
       "      <td>PAN</td>\n",
       "      <td>1.0</td>\n",
       "      <td>NaN</td>\n",
       "      <td>NaN</td>\n",
       "    </tr>\n",
       "    <tr>\n",
       "      <th>3</th>\n",
       "      <td>2023-07-24</td>\n",
       "      <td>PAN</td>\n",
       "      <td>0.8</td>\n",
       "      <td>0.06</td>\n",
       "      <td>0.06</td>\n",
       "    </tr>\n",
       "    <tr>\n",
       "      <th>4</th>\n",
       "      <td>2023-08-13</td>\n",
       "      <td>PAN</td>\n",
       "      <td>1.0</td>\n",
       "      <td>0.08</td>\n",
       "      <td>0.08</td>\n",
       "    </tr>\n",
       "  </tbody>\n",
       "</table>\n",
       "</div>"
      ],
      "text/plain": [
       "       fecha familia  cantidad  base_imponible  total\n",
       "0 2023-11-09     PAN       1.0             NaN    NaN\n",
       "1 2023-11-07     PAN       1.0             NaN    NaN\n",
       "2 2023-11-08     PAN       1.0             NaN    NaN\n",
       "3 2023-07-24     PAN       0.8            0.06   0.06\n",
       "4 2023-08-13     PAN       1.0            0.08   0.08"
      ]
     },
     "execution_count": 11,
     "metadata": {},
     "output_type": "execute_result"
    }
   ],
   "source": [
    "# nos quedamos con las columnas que nos interesan:\n",
    "# fecha, familia, cantidad, base_imponible\n",
    "df = df[['fecha', 'familia', 'cantidad', 'base_imponible','total']]\n",
    "df.head()\n"
   ]
  },
  {
   "cell_type": "code",
   "execution_count": 12,
   "metadata": {},
   "outputs": [],
   "source": [
    "# renombramos la columna cantidad a unidades_vendidas\n",
    "df.rename(columns={'cantidad': 'unidades_vendidas'}, inplace=True)\n",
    "# r"
   ]
  },
  {
   "cell_type": "code",
   "execution_count": 15,
   "metadata": {},
   "outputs": [],
   "source": [
    "# Guardamos el dataframe con el nombre df_fleca en un nuevo archivo parquet en la carpeta interim que se encuentra en la carpeta data\n",
    "# del proyecto\n",
    "\n",
    "carpeta = Path(\"c:/Workspace/mlops_fleca_project/data\")\n",
    "df.to_parquet(carpeta / \"interim\" / \"df_fleca\", index=False)"
   ]
  }
 ],
 "metadata": {
  "kernelspec": {
   "display_name": "mlops-project-py3.10",
   "language": "python",
   "name": "python3"
  },
  "language_info": {
   "codemirror_mode": {
    "name": "ipython",
    "version": 3
   },
   "file_extension": ".py",
   "mimetype": "text/x-python",
   "name": "python",
   "nbconvert_exporter": "python",
   "pygments_lexer": "ipython3",
   "version": "3.10.0"
  }
 },
 "nbformat": 4,
 "nbformat_minor": 2
}
