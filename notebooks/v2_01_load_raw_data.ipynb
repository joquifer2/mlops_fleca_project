{
 "cells": [
  {
   "cell_type": "code",
   "execution_count": null,
   "id": "caa5fc67",
   "metadata": {},
   "outputs": [],
   "source": [
    "# Cargar el archivo parquet en un DataFrame llamado df_fleca\n",
    "# Usamos pyarrow.parquet para poder acceder al schema y tipos de columnas del archivo parquet,\n",
    "# lo que permite detectar y convertir tipos especiales como 'dbdate' antes de cargar a pandas.\n",
    "import pandas as pd\n",
    "import pyarrow.parquet as pq\n",
    "\n",
    "parquet_file = '../data/raw/raw_data_bq_forecasting_20250630.parquet'\n",
    "table = pq.read_table(parquet_file)\n",
    "schema = table.schema\n",
    "\n",
    "# Identificar columnas con tipo 'dbdate'\n",
    "dbdate_cols = [field.name for field in schema if str(field.type) == 'dbdate']\n",
    "\n",
    "# Convertir columnas 'dbdate' a string en el objeto Table de pyarrow\n",
    "for col in dbdate_cols:\n",
    "    table = table.set_column(table.schema.get_field_index(col), col, table.column(col).cast('string'))\n",
    "\n",
    "# Convertir a pandas desactivando la metadata de pandas\n",
    "df_fleca = table.to_pandas(ignore_metadata=True)\n",
    "\n",
    "df_fleca.head()"
   ]
  },
  {
   "cell_type": "code",
   "execution_count": 56,
   "id": "8cada8b5",
   "metadata": {},
   "outputs": [
    {
     "data": {
      "application/vnd.microsoft.datawrangler.viewer.v0+json": {
       "columns": [
        {
         "name": "index",
         "rawType": "int64",
         "type": "integer"
        },
        {
         "name": "fecha",
         "rawType": "object",
         "type": "unknown"
        },
        {
         "name": "n_factura",
         "rawType": "object",
         "type": "string"
        },
        {
         "name": "zona_de_venta",
         "rawType": "object",
         "type": "string"
        },
        {
         "name": "producto",
         "rawType": "object",
         "type": "string"
        },
        {
         "name": "familia",
         "rawType": "object",
         "type": "string"
        },
        {
         "name": "cantidad",
         "rawType": "float64",
         "type": "float"
        },
        {
         "name": "base_imponible",
         "rawType": "float64",
         "type": "float"
        },
        {
         "name": "tipo_IVA",
         "rawType": "float64",
         "type": "float"
        },
        {
         "name": "total",
         "rawType": "float64",
         "type": "float"
        }
       ],
       "ref": "61616b64-7ad7-4879-8d50-231c7c0894e0",
       "rows": [
        [
         "0",
         "2025-06-30",
         "T/192239",
         "B1",
         "EXTRA HIELO",
         "CAFES",
         "1.0",
         "0.09",
         "10.0",
         "0.1"
        ],
        [
         "1",
         "2025-06-22",
         "T/190647",
         "B1",
         "EXTRA HIELO",
         "CAFES",
         "1.0",
         "0.09",
         "10.0",
         "0.1"
        ],
        [
         "2",
         "2025-06-23",
         "T/190781",
         "B1",
         "EXTRA HIELO",
         "CAFES",
         "1.0",
         "0.09",
         "10.0",
         "0.1"
        ],
        [
         "3",
         "2025-06-22",
         "T/190647",
         "B1",
         "BOLSA DE PLASTICO",
         "VARIOS",
         "1.0",
         "0.14",
         "10.0",
         "0.15"
        ],
        [
         "4",
         "2025-04-30",
         "T/182453",
         "B1",
         "EXTRA HIELO",
         "CAFES",
         "1.0",
         "0.18",
         "10.0",
         "0.2"
        ]
       ],
       "shape": {
        "columns": 9,
        "rows": 5
       }
      },
      "text/html": [
       "<div>\n",
       "<style scoped>\n",
       "    .dataframe tbody tr th:only-of-type {\n",
       "        vertical-align: middle;\n",
       "    }\n",
       "\n",
       "    .dataframe tbody tr th {\n",
       "        vertical-align: top;\n",
       "    }\n",
       "\n",
       "    .dataframe thead th {\n",
       "        text-align: right;\n",
       "    }\n",
       "</style>\n",
       "<table border=\"1\" class=\"dataframe\">\n",
       "  <thead>\n",
       "    <tr style=\"text-align: right;\">\n",
       "      <th></th>\n",
       "      <th>fecha</th>\n",
       "      <th>n_factura</th>\n",
       "      <th>zona_de_venta</th>\n",
       "      <th>producto</th>\n",
       "      <th>familia</th>\n",
       "      <th>cantidad</th>\n",
       "      <th>base_imponible</th>\n",
       "      <th>tipo_IVA</th>\n",
       "      <th>total</th>\n",
       "    </tr>\n",
       "  </thead>\n",
       "  <tbody>\n",
       "    <tr>\n",
       "      <th>0</th>\n",
       "      <td>2025-06-30</td>\n",
       "      <td>T/192239</td>\n",
       "      <td>B1</td>\n",
       "      <td>EXTRA HIELO</td>\n",
       "      <td>CAFES</td>\n",
       "      <td>1.0</td>\n",
       "      <td>0.09</td>\n",
       "      <td>10.0</td>\n",
       "      <td>0.10</td>\n",
       "    </tr>\n",
       "    <tr>\n",
       "      <th>1</th>\n",
       "      <td>2025-06-22</td>\n",
       "      <td>T/190647</td>\n",
       "      <td>B1</td>\n",
       "      <td>EXTRA HIELO</td>\n",
       "      <td>CAFES</td>\n",
       "      <td>1.0</td>\n",
       "      <td>0.09</td>\n",
       "      <td>10.0</td>\n",
       "      <td>0.10</td>\n",
       "    </tr>\n",
       "    <tr>\n",
       "      <th>2</th>\n",
       "      <td>2025-06-23</td>\n",
       "      <td>T/190781</td>\n",
       "      <td>B1</td>\n",
       "      <td>EXTRA HIELO</td>\n",
       "      <td>CAFES</td>\n",
       "      <td>1.0</td>\n",
       "      <td>0.09</td>\n",
       "      <td>10.0</td>\n",
       "      <td>0.10</td>\n",
       "    </tr>\n",
       "    <tr>\n",
       "      <th>3</th>\n",
       "      <td>2025-06-22</td>\n",
       "      <td>T/190647</td>\n",
       "      <td>B1</td>\n",
       "      <td>BOLSA DE PLASTICO</td>\n",
       "      <td>VARIOS</td>\n",
       "      <td>1.0</td>\n",
       "      <td>0.14</td>\n",
       "      <td>10.0</td>\n",
       "      <td>0.15</td>\n",
       "    </tr>\n",
       "    <tr>\n",
       "      <th>4</th>\n",
       "      <td>2025-04-30</td>\n",
       "      <td>T/182453</td>\n",
       "      <td>B1</td>\n",
       "      <td>EXTRA HIELO</td>\n",
       "      <td>CAFES</td>\n",
       "      <td>1.0</td>\n",
       "      <td>0.18</td>\n",
       "      <td>10.0</td>\n",
       "      <td>0.20</td>\n",
       "    </tr>\n",
       "  </tbody>\n",
       "</table>\n",
       "</div>"
      ],
      "text/plain": [
       "        fecha n_factura zona_de_venta           producto familia  cantidad  \\\n",
       "0  2025-06-30  T/192239            B1        EXTRA HIELO   CAFES       1.0   \n",
       "1  2025-06-22  T/190647            B1        EXTRA HIELO   CAFES       1.0   \n",
       "2  2025-06-23  T/190781            B1        EXTRA HIELO   CAFES       1.0   \n",
       "3  2025-06-22  T/190647            B1  BOLSA DE PLASTICO  VARIOS       1.0   \n",
       "4  2025-04-30  T/182453            B1        EXTRA HIELO   CAFES       1.0   \n",
       "\n",
       "   base_imponible  tipo_IVA  total  \n",
       "0            0.09      10.0   0.10  \n",
       "1            0.09      10.0   0.10  \n",
       "2            0.09      10.0   0.10  \n",
       "3            0.14      10.0   0.15  \n",
       "4            0.18      10.0   0.20  "
      ]
     },
     "execution_count": 56,
     "metadata": {},
     "output_type": "execute_result"
    }
   ],
   "source": [
    "# Cargar el archivo parquet en un DataFrame llamado df_fleca\n",
    "\n",
    "# Usamos pyarrow.parquet para poder acceder al schema y tipos de columnas del archivo parquet,\n",
    "\n",
    "# lo que permite detectar y convertir tipos especiales como 'dbdate' antes de cargar a pandas.\n",
    "import pandas as pd\n",
    "import pyarrow.parquet as pq  \n",
    "\n",
    "parquet_file = '../data/raw/raw_data_bq_forecasting_20250630.parquet'\n",
    "table = pq.read_table(parquet_file)\n",
    "schema = table.schema\n",
    "\n",
    "# Identificar columnas con tipo 'dbdate'\n",
    "dbdate_cols = [field.name for field in schema if str(field.type) == 'dbdate']\n",
    "\n",
    "# Convertir columnas 'dbdate' a string en el objeto Table de pyarrow\n",
    "for col in dbdate_cols:\n",
    "    table = table.set_column(table.schema.get_field_index(col), col, table.column(col).cast('string'))\n",
    "\n",
    "# Convertir a pandas desactivando la metadata de pandas\n",
    "df_fleca = table.to_pandas(ignore_metadata=True)\n",
    "\n",
    "df_fleca.head()"
   ]
  },
  {
   "cell_type": "code",
   "execution_count": 159,
   "id": "6468d5f9",
   "metadata": {},
   "outputs": [
    {
     "name": "stdout",
     "output_type": "stream",
     "text": [
      "fecha             0\n",
      "n_factura         0\n",
      "zona_de_venta     0\n",
      "producto          0\n",
      "familia           0\n",
      "cantidad          0\n",
      "base_imponible    0\n",
      "tipo_IVA          0\n",
      "total             0\n",
      "is_closed         0\n",
      "dtype: int64\n"
     ]
    }
   ],
   "source": [
    "# Valores nulos\n",
    "print(df_fleca.isnull().sum())\n"
   ]
  },
  {
   "cell_type": "code",
   "execution_count": 58,
   "id": "70a29651",
   "metadata": {},
   "outputs": [
    {
     "name": "stdout",
     "output_type": "stream",
     "text": [
      "             fecha n_factura zona_de_venta               producto     familia  \\\n",
      "24670   2025-06-04   #VALUE!         SALON  PETIT ARTESANO (UNID)    BOLLERIA   \n",
      "57562   2023-11-04  T/103357            B1                 TALLAT       CAFES   \n",
      "57563   2023-11-08  T/104091            B1                 TALLAT       CAFES   \n",
      "57564   2023-11-08  T/104096            B1              CAFE LLET       CAFES   \n",
      "57565   2023-11-07  T/103854            B1    PETIT ARTESANO (Kg)    BOLLERIA   \n",
      "...            ...       ...           ...                    ...         ...   \n",
      "176975  2023-11-05  T/103522           LL5              CAFE LLET       CAFES   \n",
      "176976  2023-11-08  T/104000           LL5         FLAUTI TONYINA  BOCADILLOS   \n",
      "176977  2023-11-05  T/103562           LL5       BAGUETTE RUSTICA         PAN   \n",
      "176978  2023-11-06  T/103769           LL5       7 CEREALS XORIÇO  BOCADILLOS   \n",
      "176979  2023-11-05  T/103604           LL5    BRAZO PQ TRUFA/XOCO  PASTELERIA   \n",
      "\n",
      "        cantidad  base_imponible  tipo_IVA  total  \n",
      "24670       2.00             NaN      10.0    NaN  \n",
      "57562       1.00             NaN       NaN    NaN  \n",
      "57563       1.00             NaN       NaN    NaN  \n",
      "57564       1.00             NaN       NaN    NaN  \n",
      "57565       0.04             NaN       NaN    NaN  \n",
      "...          ...             ...       ...    ...  \n",
      "176975      1.00             NaN       NaN    NaN  \n",
      "176976      1.00             NaN       NaN    NaN  \n",
      "176977      1.00             NaN       NaN    NaN  \n",
      "176978      1.00             NaN       NaN    NaN  \n",
      "176979      1.00             NaN       NaN    NaN  \n",
      "\n",
      "[2248 rows x 9 columns]\n"
     ]
    }
   ],
   "source": [
    "# Mostrar los registro de valores nulos de la columna base imponible\n",
    "print(df_fleca[df_fleca['base_imponible'].isnull()])\n",
    "\n"
   ]
  },
  {
   "cell_type": "code",
   "execution_count": 59,
   "id": "45a20d50",
   "metadata": {},
   "outputs": [],
   "source": [
    "df_fleca['fecha'] = pd.to_datetime(df_fleca['fecha'])"
   ]
  },
  {
   "cell_type": "code",
   "execution_count": 158,
   "id": "a521bdba",
   "metadata": {},
   "outputs": [
    {
     "ename": "NameError",
     "evalue": "name 'df' is not defined",
     "output_type": "error",
     "traceback": [
      "\u001b[1;31m---------------------------------------------------------------------------\u001b[0m",
      "\u001b[1;31mNameError\u001b[0m                                 Traceback (most recent call last)",
      "Cell \u001b[1;32mIn[158], line 5\u001b[0m\n\u001b[0;32m      2\u001b[0m df_fleca[df_fleca[\u001b[38;5;124m'\u001b[39m\u001b[38;5;124mfecha\u001b[39m\u001b[38;5;124m'\u001b[39m]\u001b[38;5;241m.\u001b[39mnotnull()]  \u001b[38;5;66;03m# Filtrar filas donde 'fecha' no es nula\u001b[39;00m\n\u001b[0;32m      4\u001b[0m \u001b[38;5;66;03m# Convertir la columna de fecha a periodos mensuales\u001b[39;00m\n\u001b[1;32m----> 5\u001b[0m df[\u001b[38;5;124m'\u001b[39m\u001b[38;5;124mmes\u001b[39m\u001b[38;5;124m'\u001b[39m] \u001b[38;5;241m=\u001b[39m \u001b[43mdf\u001b[49m[\u001b[38;5;124m'\u001b[39m\u001b[38;5;124mfecha\u001b[39m\u001b[38;5;124m'\u001b[39m]\u001b[38;5;241m.\u001b[39mdt\u001b[38;5;241m.\u001b[39mto_period(\u001b[38;5;124m'\u001b[39m\u001b[38;5;124mM\u001b[39m\u001b[38;5;124m'\u001b[39m)\n\u001b[0;32m      7\u001b[0m \u001b[38;5;66;03m# Calcular valores nulos en la columna 'base_imponible' por mes\u001b[39;00m\n\u001b[0;32m      8\u001b[0m valores_nulos_por_mes \u001b[38;5;241m=\u001b[39m df[df[\u001b[38;5;124m'\u001b[39m\u001b[38;5;124mbase_imponible\u001b[39m\u001b[38;5;124m'\u001b[39m]\u001b[38;5;241m.\u001b[39misnull()]\u001b[38;5;241m.\u001b[39mgroupby(\u001b[38;5;124m'\u001b[39m\u001b[38;5;124mmes\u001b[39m\u001b[38;5;124m'\u001b[39m)\u001b[38;5;241m.\u001b[39msize()\n",
      "\u001b[1;31mNameError\u001b[0m: name 'df' is not defined"
     ]
    }
   ],
   "source": [
    "# Asegurarse de que la columna 'fecha' no tenga valores nulos\n",
    "df_fleca[df_fleca['fecha'].notnull()]  # Filtrar filas donde 'fecha' no es nula\n",
    "\n",
    "# Convertir la columna de fecha a periodos mensuales\n",
    "df['mes'] = df['fecha'].dt.to_period('M')\n",
    "\n",
    "# Calcular valores nulos en la columna 'base_imponible' por mes\n",
    "valores_nulos_por_mes = df[df['base_imponible'].isnull()].groupby('mes').size()\n",
    "\n",
    "# Mostrar el resultado\n",
    "print(\"Valores nulos por mes:\")\n",
    "print(valores_nulos_por_mes)"
   ]
  },
  {
   "cell_type": "code",
   "execution_count": 61,
   "id": "be03c82e",
   "metadata": {},
   "outputs": [
    {
     "name": "stdout",
     "output_type": "stream",
     "text": [
      "Valores nulos por familia:\n",
      "familia\n",
      "AÑADIDOS             11\n",
      "BEBIDA               98\n",
      "BEBIDAS              87\n",
      "BOCADILLOS          329\n",
      "BOLLERIA            427\n",
      "CAFES               872\n",
      "CERVEZAS             24\n",
      "LICORES               8\n",
      "PAN                 260\n",
      "PASTELERIA           55\n",
      "TES & INFUSIONES     44\n",
      "TOSTADAS             21\n",
      "VARIOS               12\n",
      "dtype: int64\n"
     ]
    }
   ],
   "source": [
    "# Ver cuántos valores nulos hay por familia\n",
    "df_nulos_familiaa = df_fleca[df_fleca.isnull().any(axis=1)].groupby(\"familia\").size()\n",
    "print(\"Valores nulos por familia:\")\n",
    "print(df_nulos_familiaa)"
   ]
  },
  {
   "cell_type": "code",
   "execution_count": 64,
   "id": "dd7d91d1",
   "metadata": {},
   "outputs": [
    {
     "name": "stdout",
     "output_type": "stream",
     "text": [
      "Valores nulos después de la imputación:\n",
      "fecha             0\n",
      "n_factura         0\n",
      "zona_de_venta     0\n",
      "producto          0\n",
      "familia           1\n",
      "cantidad          0\n",
      "base_imponible    1\n",
      "tipo_IVA          0\n",
      "total             1\n",
      "mes               0\n",
      "dtype: int64\n"
     ]
    }
   ],
   "source": [
    "# Identificar los meses cercanos a noviembre 2023\n",
    "meses_cercanos = [\"2023-10\", \"2023-12\"]\n",
    "\n",
    "# Convertir a formato Periodo (mes-año) para facilitar la agrupación\n",
    "df_fleca['mes'] = df_fleca['fecha'].dt.to_period(\"M\")\n",
    "\n",
    "# Imputar valores nulos en 'base_imponible', 'tipo_IVA' y 'total' usando la media de la categoría en meses cercanos\n",
    "for columna in ['base_imponible', 'tipo_IVA', 'total']:\n",
    "    for categoria in df_fleca['familia'].unique():\n",
    "        for mes in meses_cercanos:\n",
    "            # Filtrar la media de la categoría en los meses cercanos\n",
    "            media_categoria = df_fleca[(df_fleca['familia'] == categoria) & (df_fleca['mes'] == mes)][columna].mean()\n",
    "            \n",
    "            # Verificar si la media es válida\n",
    "            if not pd.isna(media_categoria):\n",
    "                # Rellenar valores nulos solo en noviembre 2023 de esa categoría\n",
    "                df_fleca.loc[\n",
    "                    (df_fleca['familia'] == categoria) &\n",
    "                    (df_fleca['mes'] == \"2023-11\") &\n",
    "                    (df_fleca[columna].isnull()),\n",
    "                    columna\n",
    "                ] = media_categoria\n",
    "\n",
    "# Si sigue habiendo valores nulos, usar la media anual de la categoría en 2023\n",
    "for columna in ['base_imponible', 'tipo_IVA', 'total']:\n",
    "    for categoria in df_fleca['familia'].unique():\n",
    "        media_anual = df_fleca[(df_fleca['familia'] == categoria) & (df_fleca['mes'].dt.year == 2023)][columna].mean()\n",
    "        \n",
    "        # Verificar si la media anual es válida\n",
    "        if not pd.isna(media_anual):\n",
    "            df_fleca.loc[\n",
    "                (df_fleca['familia'] == categoria) &\n",
    "                (df_fleca['mes'] == \"2023-11\") &\n",
    "                (df_fleca[columna].isnull()),\n",
    "                columna\n",
    "            ] = media_anual\n",
    "\n",
    "# Verificar si quedan valores nulos\n",
    "print(\"Valores nulos después de la imputación:\")\n",
    "print(df_fleca.isnull().sum())"
   ]
  },
  {
   "cell_type": "code",
   "execution_count": 65,
   "id": "7652d40d",
   "metadata": {},
   "outputs": [
    {
     "name": "stdout",
     "output_type": "stream",
     "text": [
      "Valores nulos después de eliminar la fila con nulos restantes:\n",
      "fecha             0\n",
      "n_factura         0\n",
      "zona_de_venta     0\n",
      "producto          0\n",
      "familia           0\n",
      "cantidad          0\n",
      "base_imponible    0\n",
      "tipo_IVA          0\n",
      "total             0\n",
      "mes               0\n",
      "dtype: int64\n"
     ]
    }
   ],
   "source": [
    "# Eliminar cualquier fila que tenga un valor nulo en cualquier columna\n",
    "df_fleca = df_fleca.dropna()\n",
    "\n",
    "# Verificar que ya no haya valores nulos\n",
    "print(\"Valores nulos después de eliminar la fila con nulos restantes:\")\n",
    "print(df_fleca.isnull().sum())\n"
   ]
  },
  {
   "cell_type": "code",
   "execution_count": 66,
   "id": "7c3d7291",
   "metadata": {},
   "outputs": [
    {
     "name": "stdout",
     "output_type": "stream",
     "text": [
      "13138\n",
      "17173\n"
     ]
    }
   ],
   "source": [
    "# Mostrar el total de filas de la familia \"BEBIDAS\" Y \"BEBIDA\" por separado\n",
    "print(df_fleca[df_fleca['familia'] == 'BEBIDAS'].shape[0])\n",
    "print(df_fleca[df_fleca['familia'] == 'BEBIDA'].shape[0])   \n"
   ]
  },
  {
   "cell_type": "code",
   "execution_count": 67,
   "id": "4d80b2a6",
   "metadata": {},
   "outputs": [
    {
     "name": "stdout",
     "output_type": "stream",
     "text": [
      "['CAFES' 'VARIOS' 'AÑADIDOS' 'BOLLERIA' 'PAN' 'BEBIDAS' 'CERVEZAS'\n",
      " 'BOCADILLOS' 'LICORES' 'TOSTADAS' 'TES & INFUSIONES' 'PASTELERIA' '7'\n",
      " 'AIGU' 'AMERI' 'LLET' 'º' 'PETI' 'PETIT XOCO' '2']\n"
     ]
    }
   ],
   "source": [
    "# Cambiar el nombre de las observaciones de la familia \"BEBIDA\" a \"BEBIDAS\"\n",
    "df_fleca.loc[df_fleca['familia'] == 'BEBIDA', 'familia'] = 'BEBIDAS'\n",
    "# Verificar que se han cambiado los nombres\n",
    "print(df_fleca['familia'].unique())"
   ]
  },
  {
   "cell_type": "code",
   "execution_count": 68,
   "id": "1780ac52",
   "metadata": {},
   "outputs": [
    {
     "name": "stdout",
     "output_type": "stream",
     "text": [
      "1\n",
      "1\n",
      "1\n",
      "2\n",
      "1\n",
      "0\n",
      "1\n",
      "1\n",
      "1\n"
     ]
    }
   ],
   "source": [
    "# Contar los registros de la familia '7' 'AIGU'  'AMERI' 'LLET' 'º' None 'PETI' 'PETIT XOCO' '2']\n",
    "print(df_fleca[df_fleca['familia'] == '7'].shape[0])\n",
    "print(df_fleca[df_fleca['familia'] == 'AIGU'].shape[0])\n",
    "print(df_fleca[df_fleca['familia'] == 'AMERI'].shape[0])  \n",
    "print(df_fleca[df_fleca['familia'] == 'LLET'].shape[0])\n",
    "print(df_fleca[df_fleca['familia'] == 'º'].shape[0])\n",
    "print(df_fleca[df_fleca['familia'] == None].shape[0])\n",
    "print(df_fleca[df_fleca['familia'] == 'PETI'].shape[0])\n",
    "print(df_fleca[df_fleca['familia'] == 'PETIT XOCO'].shape[0])\n",
    "print(df_fleca[df_fleca['familia'] == '2'].shape[0])          "
   ]
  },
  {
   "cell_type": "code",
   "execution_count": 69,
   "id": "67a5148d",
   "metadata": {},
   "outputs": [
    {
     "name": "stdout",
     "output_type": "stream",
     "text": [
      "['CAFES' 'VARIOS' 'AÑADIDOS' 'BOLLERIA' 'PAN' 'BEBIDAS' 'CERVEZAS'\n",
      " 'BOCADILLOS' 'LICORES' 'TOSTADAS' 'TES & INFUSIONES' 'PASTELERIA']\n"
     ]
    }
   ],
   "source": [
    "#Eliminar los registros de la familia '7' 'AIGU'  'AMERI' 'LLET' 'º' None 'PETI' 'PETIT XOCO' '2']\n",
    "df_fleca = df_fleca[~df_fleca['familia'].isin(['7', 'AIGU', 'AMERI', 'LLET', 'º', None, 'PETI', 'PETIT XOCO', '2'])]\n",
    "# Verificar que se han eliminado los registros\n",
    "print(df_fleca['familia'].unique())"
   ]
  },
  {
   "cell_type": "code",
   "execution_count": 70,
   "id": "842612e3",
   "metadata": {},
   "outputs": [
    {
     "data": {
      "application/vnd.microsoft.datawrangler.viewer.v0+json": {
       "columns": [
        {
         "name": "index",
         "rawType": "int64",
         "type": "integer"
        },
        {
         "name": "fecha",
         "rawType": "datetime64[ns]",
         "type": "datetime"
        },
        {
         "name": "familia",
         "rawType": "object",
         "type": "string"
        },
        {
         "name": "base_imponible",
         "rawType": "float64",
         "type": "float"
        }
       ],
       "ref": "5fcea0fb-e53c-4d90-9aed-372e0201ed59",
       "rows": [
        [
         "0",
         "2025-06-30 00:00:00",
         "CAFES",
         "0.09"
        ],
        [
         "1",
         "2025-06-22 00:00:00",
         "CAFES",
         "0.09"
        ],
        [
         "2",
         "2025-06-23 00:00:00",
         "CAFES",
         "0.09"
        ],
        [
         "3",
         "2025-06-22 00:00:00",
         "VARIOS",
         "0.14"
        ],
        [
         "4",
         "2025-04-30 00:00:00",
         "CAFES",
         "0.18"
        ]
       ],
       "shape": {
        "columns": 3,
        "rows": 5
       }
      },
      "text/html": [
       "<div>\n",
       "<style scoped>\n",
       "    .dataframe tbody tr th:only-of-type {\n",
       "        vertical-align: middle;\n",
       "    }\n",
       "\n",
       "    .dataframe tbody tr th {\n",
       "        vertical-align: top;\n",
       "    }\n",
       "\n",
       "    .dataframe thead th {\n",
       "        text-align: right;\n",
       "    }\n",
       "</style>\n",
       "<table border=\"1\" class=\"dataframe\">\n",
       "  <thead>\n",
       "    <tr style=\"text-align: right;\">\n",
       "      <th></th>\n",
       "      <th>fecha</th>\n",
       "      <th>familia</th>\n",
       "      <th>base_imponible</th>\n",
       "    </tr>\n",
       "  </thead>\n",
       "  <tbody>\n",
       "    <tr>\n",
       "      <th>0</th>\n",
       "      <td>2025-06-30</td>\n",
       "      <td>CAFES</td>\n",
       "      <td>0.09</td>\n",
       "    </tr>\n",
       "    <tr>\n",
       "      <th>1</th>\n",
       "      <td>2025-06-22</td>\n",
       "      <td>CAFES</td>\n",
       "      <td>0.09</td>\n",
       "    </tr>\n",
       "    <tr>\n",
       "      <th>2</th>\n",
       "      <td>2025-06-23</td>\n",
       "      <td>CAFES</td>\n",
       "      <td>0.09</td>\n",
       "    </tr>\n",
       "    <tr>\n",
       "      <th>3</th>\n",
       "      <td>2025-06-22</td>\n",
       "      <td>VARIOS</td>\n",
       "      <td>0.14</td>\n",
       "    </tr>\n",
       "    <tr>\n",
       "      <th>4</th>\n",
       "      <td>2025-04-30</td>\n",
       "      <td>CAFES</td>\n",
       "      <td>0.18</td>\n",
       "    </tr>\n",
       "  </tbody>\n",
       "</table>\n",
       "</div>"
      ],
      "text/plain": [
       "       fecha familia  base_imponible\n",
       "0 2025-06-30   CAFES            0.09\n",
       "1 2025-06-22   CAFES            0.09\n",
       "2 2025-06-23   CAFES            0.09\n",
       "3 2025-06-22  VARIOS            0.14\n",
       "4 2025-04-30   CAFES            0.18"
      ]
     },
     "execution_count": 70,
     "metadata": {},
     "output_type": "execute_result"
    }
   ],
   "source": [
    "# Nos quedamos solo con las columnas de interés\n",
    "df_fleca = df_fleca[['fecha', 'familia', 'base_imponible']]\n",
    "df_fleca.head()"
   ]
  },
  {
   "cell_type": "code",
   "execution_count": 71,
   "id": "93a31d4d",
   "metadata": {},
   "outputs": [
    {
     "name": "stdout",
     "output_type": "stream",
     "text": [
      "<class 'pandas.core.frame.DataFrame'>\n",
      "Index: 309315 entries, 0 to 309325\n",
      "Data columns (total 3 columns):\n",
      " #   Column          Non-Null Count   Dtype         \n",
      "---  ------          --------------   -----         \n",
      " 0   fecha           309315 non-null  datetime64[ns]\n",
      " 1   familia         309315 non-null  object        \n",
      " 2   base_imponible  309315 non-null  float64       \n",
      "dtypes: datetime64[ns](1), float64(1), object(1)\n",
      "memory usage: 9.4+ MB\n"
     ]
    }
   ],
   "source": [
    "# Verificar el tipo de datos de las columnas\n",
    "df_fleca.info()\n"
   ]
  },
  {
   "cell_type": "code",
   "execution_count": 72,
   "id": "1bb5fc0c",
   "metadata": {},
   "outputs": [
    {
     "name": "stdout",
     "output_type": "stream",
     "text": [
      "<class 'pandas.core.frame.DataFrame'>\n",
      "Index: 309315 entries, 0 to 309325\n",
      "Data columns (total 3 columns):\n",
      " #   Column          Non-Null Count   Dtype         \n",
      "---  ------          --------------   -----         \n",
      " 0   fecha           309315 non-null  datetime64[ns]\n",
      " 1   familia         309315 non-null  object        \n",
      " 2   base_imponible  309315 non-null  float64       \n",
      "dtypes: datetime64[ns](1), float64(1), object(1)\n",
      "memory usage: 9.4+ MB\n"
     ]
    }
   ],
   "source": [
    "#Cambiar el tipo de dato de la columna 'fecha' a datetime\n",
    "df_fleca['fecha'] = pd.to_datetime(df_fleca['fecha'], format='%Y-%m-%d', errors='coerce')\n",
    "df_fleca.info()"
   ]
  },
  {
   "cell_type": "code",
   "execution_count": 73,
   "id": "c912479e",
   "metadata": {},
   "outputs": [
    {
     "data": {
      "application/vnd.microsoft.datawrangler.viewer.v0+json": {
       "columns": [
        {
         "name": "index",
         "rawType": "object",
         "type": "string"
        },
        {
         "name": "fecha",
         "rawType": "object",
         "type": "unknown"
        },
        {
         "name": "familia",
         "rawType": "object",
         "type": "unknown"
        },
        {
         "name": "base_imponible",
         "rawType": "float64",
         "type": "float"
        }
       ],
       "ref": "43edc716-04bb-4fac-9403-541eff250ca6",
       "rows": [
        [
         "count",
         "309315",
         "309315",
         "309315.0"
        ],
        [
         "unique",
         null,
         "12",
         null
        ],
        [
         "top",
         null,
         "CAFES",
         null
        ],
        [
         "freq",
         null,
         "120703",
         null
        ],
        [
         "mean",
         "2024-03-11 19:50:07.966635776",
         null,
         "2.0241481328429756"
        ],
        [
         "min",
         "2023-01-02 00:00:00",
         null,
         "0.0"
        ],
        [
         "25%",
         "2023-07-16 00:00:00",
         null,
         "1.36"
        ],
        [
         "50%",
         "2024-04-15 00:00:00",
         null,
         "1.64"
        ],
        [
         "75%",
         "2024-10-16 00:00:00",
         null,
         "2.32"
        ],
        [
         "max",
         "2025-06-30 00:00:00",
         null,
         "287.27"
        ],
        [
         "std",
         null,
         null,
         "1.6676317558776754"
        ]
       ],
       "shape": {
        "columns": 3,
        "rows": 11
       }
      },
      "text/html": [
       "<div>\n",
       "<style scoped>\n",
       "    .dataframe tbody tr th:only-of-type {\n",
       "        vertical-align: middle;\n",
       "    }\n",
       "\n",
       "    .dataframe tbody tr th {\n",
       "        vertical-align: top;\n",
       "    }\n",
       "\n",
       "    .dataframe thead th {\n",
       "        text-align: right;\n",
       "    }\n",
       "</style>\n",
       "<table border=\"1\" class=\"dataframe\">\n",
       "  <thead>\n",
       "    <tr style=\"text-align: right;\">\n",
       "      <th></th>\n",
       "      <th>fecha</th>\n",
       "      <th>familia</th>\n",
       "      <th>base_imponible</th>\n",
       "    </tr>\n",
       "  </thead>\n",
       "  <tbody>\n",
       "    <tr>\n",
       "      <th>count</th>\n",
       "      <td>309315</td>\n",
       "      <td>309315</td>\n",
       "      <td>309315.000000</td>\n",
       "    </tr>\n",
       "    <tr>\n",
       "      <th>unique</th>\n",
       "      <td>NaN</td>\n",
       "      <td>12</td>\n",
       "      <td>NaN</td>\n",
       "    </tr>\n",
       "    <tr>\n",
       "      <th>top</th>\n",
       "      <td>NaN</td>\n",
       "      <td>CAFES</td>\n",
       "      <td>NaN</td>\n",
       "    </tr>\n",
       "    <tr>\n",
       "      <th>freq</th>\n",
       "      <td>NaN</td>\n",
       "      <td>120703</td>\n",
       "      <td>NaN</td>\n",
       "    </tr>\n",
       "    <tr>\n",
       "      <th>mean</th>\n",
       "      <td>2024-03-11 19:50:07.966635776</td>\n",
       "      <td>NaN</td>\n",
       "      <td>2.024148</td>\n",
       "    </tr>\n",
       "    <tr>\n",
       "      <th>min</th>\n",
       "      <td>2023-01-02 00:00:00</td>\n",
       "      <td>NaN</td>\n",
       "      <td>0.000000</td>\n",
       "    </tr>\n",
       "    <tr>\n",
       "      <th>25%</th>\n",
       "      <td>2023-07-16 00:00:00</td>\n",
       "      <td>NaN</td>\n",
       "      <td>1.360000</td>\n",
       "    </tr>\n",
       "    <tr>\n",
       "      <th>50%</th>\n",
       "      <td>2024-04-15 00:00:00</td>\n",
       "      <td>NaN</td>\n",
       "      <td>1.640000</td>\n",
       "    </tr>\n",
       "    <tr>\n",
       "      <th>75%</th>\n",
       "      <td>2024-10-16 00:00:00</td>\n",
       "      <td>NaN</td>\n",
       "      <td>2.320000</td>\n",
       "    </tr>\n",
       "    <tr>\n",
       "      <th>max</th>\n",
       "      <td>2025-06-30 00:00:00</td>\n",
       "      <td>NaN</td>\n",
       "      <td>287.270000</td>\n",
       "    </tr>\n",
       "    <tr>\n",
       "      <th>std</th>\n",
       "      <td>NaN</td>\n",
       "      <td>NaN</td>\n",
       "      <td>1.667632</td>\n",
       "    </tr>\n",
       "  </tbody>\n",
       "</table>\n",
       "</div>"
      ],
      "text/plain": [
       "                                fecha familia  base_imponible\n",
       "count                          309315  309315   309315.000000\n",
       "unique                            NaN      12             NaN\n",
       "top                               NaN   CAFES             NaN\n",
       "freq                              NaN  120703             NaN\n",
       "mean    2024-03-11 19:50:07.966635776     NaN        2.024148\n",
       "min               2023-01-02 00:00:00     NaN        0.000000\n",
       "25%               2023-07-16 00:00:00     NaN        1.360000\n",
       "50%               2024-04-15 00:00:00     NaN        1.640000\n",
       "75%               2024-10-16 00:00:00     NaN        2.320000\n",
       "max               2025-06-30 00:00:00     NaN      287.270000\n",
       "std                               NaN     NaN        1.667632"
      ]
     },
     "execution_count": 73,
     "metadata": {},
     "output_type": "execute_result"
    }
   ],
   "source": [
    "# Ver que el DataFrame tiene los rangos de fecha de datos y los tipos de datos adecuados\n",
    "df_fleca.describe(include='all')"
   ]
  },
  {
   "cell_type": "code",
   "execution_count": 74,
   "id": "48b257d3",
   "metadata": {},
   "outputs": [],
   "source": [
    "# Guardar el DataFrame transformado en la carpeta interim\n",
    "df_fleca.to_parquet('../data/interim/validated_range_dates_20250630.parquet', index=False)"
   ]
  }
 ],
 "metadata": {
  "kernelspec": {
   "display_name": "mlops-project-py3.10",
   "language": "python",
   "name": "python3"
  },
  "language_info": {
   "codemirror_mode": {
    "name": "ipython",
    "version": 3
   },
   "file_extension": ".py",
   "mimetype": "text/x-python",
   "name": "python",
   "nbconvert_exporter": "python",
   "pygments_lexer": "ipython3",
   "version": "3.10.0"
  }
 },
 "nbformat": 4,
 "nbformat_minor": 5
}
