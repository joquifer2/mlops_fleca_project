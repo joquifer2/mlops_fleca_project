{
 "cells": [
  {
   "cell_type": "markdown",
   "metadata": {},
   "source": [
    "# Transformamos datos"
   ]
  },
  {
   "cell_type": "code",
   "execution_count": 1,
   "metadata": {},
   "outputs": [
    {
     "data": {
      "application/vnd.microsoft.datawrangler.viewer.v0+json": {
       "columns": [
        {
         "name": "index",
         "rawType": "int64",
         "type": "integer"
        },
        {
         "name": "fecha",
         "rawType": "object",
         "type": "unknown"
        },
        {
         "name": "familia",
         "rawType": "object",
         "type": "string"
        },
        {
         "name": "base_imponible",
         "rawType": "float64",
         "type": "float"
        }
       ],
       "ref": "93ff8954-6eaa-4b36-8973-1b92be34adc1",
       "rows": [
        [
         "87701",
         "2023-01-02",
         "VARIOS",
         "1.59"
        ],
        [
         "107847",
         "2023-01-02",
         "CERVEZAS",
         "1.41"
        ],
        [
         "107890",
         "2023-01-02",
         "BEBIDAS",
         "1.91"
        ],
        [
         "148547",
         "2023-01-02",
         "BOCADILLOS",
         "1.59"
        ],
        [
         "107979",
         "2023-01-02",
         "BOLLERIA",
         "1.91"
        ]
       ],
       "shape": {
        "columns": 3,
        "rows": 5
       }
      },
      "text/html": [
       "<div>\n",
       "<style scoped>\n",
       "    .dataframe tbody tr th:only-of-type {\n",
       "        vertical-align: middle;\n",
       "    }\n",
       "\n",
       "    .dataframe tbody tr th {\n",
       "        vertical-align: top;\n",
       "    }\n",
       "\n",
       "    .dataframe thead th {\n",
       "        text-align: right;\n",
       "    }\n",
       "</style>\n",
       "<table border=\"1\" class=\"dataframe\">\n",
       "  <thead>\n",
       "    <tr style=\"text-align: right;\">\n",
       "      <th></th>\n",
       "      <th>fecha</th>\n",
       "      <th>familia</th>\n",
       "      <th>base_imponible</th>\n",
       "    </tr>\n",
       "  </thead>\n",
       "  <tbody>\n",
       "    <tr>\n",
       "      <th>87701</th>\n",
       "      <td>2023-01-02</td>\n",
       "      <td>VARIOS</td>\n",
       "      <td>1.59</td>\n",
       "    </tr>\n",
       "    <tr>\n",
       "      <th>107847</th>\n",
       "      <td>2023-01-02</td>\n",
       "      <td>CERVEZAS</td>\n",
       "      <td>1.41</td>\n",
       "    </tr>\n",
       "    <tr>\n",
       "      <th>107890</th>\n",
       "      <td>2023-01-02</td>\n",
       "      <td>BEBIDAS</td>\n",
       "      <td>1.91</td>\n",
       "    </tr>\n",
       "    <tr>\n",
       "      <th>148547</th>\n",
       "      <td>2023-01-02</td>\n",
       "      <td>BOCADILLOS</td>\n",
       "      <td>1.59</td>\n",
       "    </tr>\n",
       "    <tr>\n",
       "      <th>107979</th>\n",
       "      <td>2023-01-02</td>\n",
       "      <td>BOLLERIA</td>\n",
       "      <td>1.91</td>\n",
       "    </tr>\n",
       "  </tbody>\n",
       "</table>\n",
       "</div>"
      ],
      "text/plain": [
       "             fecha     familia  base_imponible\n",
       "87701   2023-01-02      VARIOS            1.59\n",
       "107847  2023-01-02    CERVEZAS            1.41\n",
       "107890  2023-01-02     BEBIDAS            1.91\n",
       "148547  2023-01-02  BOCADILLOS            1.59\n",
       "107979  2023-01-02    BOLLERIA            1.91"
      ]
     },
     "execution_count": 1,
     "metadata": {},
     "output_type": "execute_result"
    }
   ],
   "source": [
    "\n",
    "import pandas as pd\n",
    "from pathlib import Path\n",
    "\n",
    "# Cargar el archivo parquet que contiene los datos validados\n",
    "file_path = '../data/interim/validated_range_dates_20250630.parquet'\n",
    "df_fleca = pd.read_parquet(file_path)\n",
    "\n",
    "# Ordenar la columna fecha de forma ascendente\n",
    "\n",
    "df_fleca = df_fleca.sort_values(by='fecha')\n",
    "\n",
    "# Eliminar la parte de horas, minutos y segundos de la columna 'fecha'\n",
    "df_fleca['fecha'] = df_fleca['fecha'].dt.date\n",
    "\n",
    "df_fleca.head()\n",
    "\n",
    "\n"
   ]
  },
  {
   "cell_type": "code",
   "execution_count": 2,
   "metadata": {},
   "outputs": [
    {
     "name": "stdout",
     "output_type": "stream",
     "text": [
      "fecha             datetime64[ns]\n",
      "familia                   object\n",
      "base_imponible           float64\n",
      "dtype: object\n"
     ]
    }
   ],
   "source": [
    "# Convertir la columna 'fecha' a tipo datetime\n",
    "df_fleca['fecha'] = pd.to_datetime(df_fleca['fecha'])\n",
    "\n",
    "print(df_fleca.dtypes)"
   ]
  },
  {
   "cell_type": "code",
   "execution_count": 3,
   "metadata": {},
   "outputs": [],
   "source": [
    "# Guardar el DataFrame en formato parquet en la carpeta de datos procesados para los datos diarios\n",
    "df_fleca_dia = df_fleca.to_parquet('../data/processed/ts_data_family_dia_00.parquet', index=False)"
   ]
  },
  {
   "cell_type": "code",
   "execution_count": 5,
   "metadata": {},
   "outputs": [
    {
     "data": {
      "application/vnd.microsoft.datawrangler.viewer.v0+json": {
       "columns": [
        {
         "name": "index",
         "rawType": "int64",
         "type": "integer"
        },
        {
         "name": "familia",
         "rawType": "object",
         "type": "string"
        },
        {
         "name": "base_imponible",
         "rawType": "float64",
         "type": "float"
        },
        {
         "name": "semana",
         "rawType": "datetime64[ns]",
         "type": "datetime"
        }
       ],
       "ref": "609d329f-5620-468b-8bb8-103f732f00ce",
       "rows": [
        [
         "87701",
         "VARIOS",
         "1.59",
         "2023-01-02 00:00:00"
        ],
        [
         "107847",
         "CERVEZAS",
         "1.41",
         "2023-01-02 00:00:00"
        ],
        [
         "107890",
         "BEBIDAS",
         "1.91",
         "2023-01-02 00:00:00"
        ],
        [
         "148547",
         "BOCADILLOS",
         "1.59",
         "2023-01-02 00:00:00"
        ],
        [
         "107979",
         "BOLLERIA",
         "1.91",
         "2023-01-02 00:00:00"
        ]
       ],
       "shape": {
        "columns": 3,
        "rows": 5
       }
      },
      "text/html": [
       "<div>\n",
       "<style scoped>\n",
       "    .dataframe tbody tr th:only-of-type {\n",
       "        vertical-align: middle;\n",
       "    }\n",
       "\n",
       "    .dataframe tbody tr th {\n",
       "        vertical-align: top;\n",
       "    }\n",
       "\n",
       "    .dataframe thead th {\n",
       "        text-align: right;\n",
       "    }\n",
       "</style>\n",
       "<table border=\"1\" class=\"dataframe\">\n",
       "  <thead>\n",
       "    <tr style=\"text-align: right;\">\n",
       "      <th></th>\n",
       "      <th>familia</th>\n",
       "      <th>base_imponible</th>\n",
       "      <th>semana</th>\n",
       "    </tr>\n",
       "  </thead>\n",
       "  <tbody>\n",
       "    <tr>\n",
       "      <th>87701</th>\n",
       "      <td>VARIOS</td>\n",
       "      <td>1.59</td>\n",
       "      <td>2023-01-02</td>\n",
       "    </tr>\n",
       "    <tr>\n",
       "      <th>107847</th>\n",
       "      <td>CERVEZAS</td>\n",
       "      <td>1.41</td>\n",
       "      <td>2023-01-02</td>\n",
       "    </tr>\n",
       "    <tr>\n",
       "      <th>107890</th>\n",
       "      <td>BEBIDAS</td>\n",
       "      <td>1.91</td>\n",
       "      <td>2023-01-02</td>\n",
       "    </tr>\n",
       "    <tr>\n",
       "      <th>148547</th>\n",
       "      <td>BOCADILLOS</td>\n",
       "      <td>1.59</td>\n",
       "      <td>2023-01-02</td>\n",
       "    </tr>\n",
       "    <tr>\n",
       "      <th>107979</th>\n",
       "      <td>BOLLERIA</td>\n",
       "      <td>1.91</td>\n",
       "      <td>2023-01-02</td>\n",
       "    </tr>\n",
       "  </tbody>\n",
       "</table>\n",
       "</div>"
      ],
      "text/plain": [
       "           familia  base_imponible     semana\n",
       "87701       VARIOS            1.59 2023-01-02\n",
       "107847    CERVEZAS            1.41 2023-01-02\n",
       "107890     BEBIDAS            1.91 2023-01-02\n",
       "148547  BOCADILLOS            1.59 2023-01-02\n",
       "107979    BOLLERIA            1.91 2023-01-02"
      ]
     },
     "execution_count": 5,
     "metadata": {},
     "output_type": "execute_result"
    }
   ],
   "source": [
    "# Convertir la columna 'fecha' a tipo datetime\n",
    "df_fleca['fecha'] = pd.to_datetime(df_fleca['fecha'])\n",
    "\n",
    "# Calcular el inicio de semana (lunes) para cada fecha\n",
    "df_fleca['semana'] = df_fleca['fecha'] - pd.to_timedelta(df_fleca['fecha'].dt.weekday, unit='d')\n",
    "\n",
    "# Eliminar la columna 'fecha' si no se necesita\n",
    "df_fleca_semana = df_fleca.drop(columns=['fecha'])\n",
    "\n",
    "\n",
    "df_fleca_semana.head()"
   ]
  },
  {
   "cell_type": "code",
   "execution_count": 6,
   "metadata": {},
   "outputs": [
    {
     "name": "stdout",
     "output_type": "stream",
     "text": [
      "       semana           familia  base_imponible\n",
      "0  2023-01-02          AÑADIDOS            8.81\n",
      "1  2023-01-02           BEBIDAS          467.96\n",
      "2  2023-01-02        BOCADILLOS          864.03\n",
      "3  2023-01-02          BOLLERIA          825.11\n",
      "4  2023-01-02             CAFES         1617.62\n",
      "5  2023-01-02          CERVEZAS           30.69\n",
      "6  2023-01-02           LICORES           50.46\n",
      "7  2023-01-02               PAN          366.92\n",
      "8  2023-01-02        PASTELERIA          783.20\n",
      "9  2023-01-02  TES & INFUSIONES           92.25\n",
      "10 2023-01-02          TOSTADAS           66.56\n",
      "11 2023-01-02            VARIOS           26.41\n",
      "12 2023-01-09          AÑADIDOS            9.99\n",
      "13 2023-01-09           BEBIDAS          393.39\n",
      "14 2023-01-09        BOCADILLOS          666.06\n",
      "15 2023-01-09          BOLLERIA          658.40\n",
      "16 2023-01-09             CAFES         1405.42\n",
      "17 2023-01-09          CERVEZAS           52.51\n",
      "18 2023-01-09           LICORES           21.22\n",
      "19 2023-01-09               PAN          341.39\n",
      "20 2023-01-09        PASTELERIA          289.08\n",
      "21 2023-01-09  TES & INFUSIONES          107.91\n",
      "22 2023-01-09          TOSTADAS           52.85\n",
      "23 2023-01-09            VARIOS           21.87\n",
      "24 2023-01-16          AÑADIDOS            7.69\n",
      "25 2023-01-16           BEBIDAS          417.84\n",
      "26 2023-01-16        BOCADILLOS          763.08\n",
      "27 2023-01-16          BOLLERIA          741.40\n",
      "28 2023-01-16             CAFES         1500.14\n",
      "29 2023-01-16          CERVEZAS           49.24\n",
      "30 2023-01-16           LICORES           11.39\n",
      "31 2023-01-16               PAN          479.83\n",
      "32 2023-01-16        PASTELERIA          312.70\n",
      "33 2023-01-16  TES & INFUSIONES           68.82\n",
      "34 2023-01-16          TOSTADAS           32.94\n",
      "35 2023-01-16            VARIOS           21.29\n",
      "36 2023-01-23          AÑADIDOS            7.25\n",
      "37 2023-01-23           BEBIDAS          417.89\n",
      "38 2023-01-23        BOCADILLOS          702.08\n",
      "39 2023-01-23          BOLLERIA          653.64\n",
      "40 2023-01-23             CAFES         1395.06\n",
      "41 2023-01-23          CERVEZAS           45.01\n",
      "42 2023-01-23           LICORES            9.24\n",
      "43 2023-01-23               PAN          314.16\n",
      "44 2023-01-23        PASTELERIA          325.42\n",
      "45 2023-01-23  TES & INFUSIONES          105.95\n",
      "46 2023-01-23          TOSTADAS           24.84\n",
      "47 2023-01-23            VARIOS           21.55\n",
      "48 2023-01-30          AÑADIDOS            7.54\n",
      "49 2023-01-30           BEBIDAS          411.47\n"
     ]
    }
   ],
   "source": [
    "# Agrupar por semana y familia y calcular la suma de las columnas numéricas \n",
    "df_fleca_semana_agg = df_fleca_semana.groupby(['semana', 'familia']).sum().reset_index()\n",
    "\n",
    "\n",
    "print(df_fleca_semana_agg.head(50))\n"
   ]
  },
  {
   "cell_type": "code",
   "execution_count": 8,
   "metadata": {},
   "outputs": [],
   "source": [
    "# Guardar el DataFrame agrupado en formato parquet en la carpeta de datos procesados para los datos semanales\n",
    "df_fleca_semana_agg.to_parquet('../data/processed/ts_data_family_semana_00.parquet', index=False)"
   ]
  },
  {
   "cell_type": "markdown",
   "metadata": {},
   "source": [
    "# A partir de aquí, es un ejemplo para poder agrupar por familias"
   ]
  },
  {
   "cell_type": "code",
   "execution_count": 90,
   "metadata": {},
   "outputs": [
    {
     "data": {
      "application/vnd.microsoft.datawrangler.viewer.v0+json": {
       "columns": [
        {
         "name": "index",
         "rawType": "int64",
         "type": "integer"
        },
        {
         "name": "semana",
         "rawType": "object",
         "type": "unknown"
        },
        {
         "name": "familia",
         "rawType": "object",
         "type": "string"
        },
        {
         "name": "base_imponible",
         "rawType": "float64",
         "type": "float"
        }
       ],
       "ref": "f8d91307-44ee-4e46-bf2b-2875936d336b",
       "rows": [
        [
         "0",
         "2024-01-01",
         "BOCADILLOS",
         "676.21"
        ],
        [
         "1",
         "2024-01-08",
         "BOCADILLOS",
         "704.53"
        ],
        [
         "2",
         "2024-01-15",
         "BOCADILLOS",
         "646.02"
        ],
        [
         "3",
         "2024-01-22",
         "BOCADILLOS",
         "726.73"
        ],
        [
         "4",
         "2024-01-29",
         "BOCADILLOS",
         "708.58"
        ],
        [
         "5",
         "2024-02-05",
         "BOCADILLOS",
         "760.37"
        ],
        [
         "6",
         "2024-02-12",
         "BOCADILLOS",
         "824.47"
        ],
        [
         "7",
         "2024-02-19",
         "BOCADILLOS",
         "737.55"
        ],
        [
         "8",
         "2024-02-26",
         "BOCADILLOS",
         "775.31"
        ],
        [
         "9",
         "2024-03-04",
         "BOCADILLOS",
         "705.43"
        ],
        [
         "10",
         "2024-03-11",
         "BOCADILLOS",
         "862.84"
        ],
        [
         "11",
         "2024-03-18",
         "BOCADILLOS",
         "893.28"
        ],
        [
         "12",
         "2024-03-25",
         "BOCADILLOS",
         "1257.86"
        ],
        [
         "13",
         "2024-04-01",
         "BOCADILLOS",
         "943.38"
        ],
        [
         "14",
         "2024-04-08",
         "BOCADILLOS",
         "822.62"
        ],
        [
         "15",
         "2024-04-15",
         "BOCADILLOS",
         "997.33"
        ],
        [
         "16",
         "2024-04-22",
         "BOCADILLOS",
         "917.4399999999999"
        ],
        [
         "17",
         "2024-04-29",
         "BOCADILLOS",
         "1131.65"
        ],
        [
         "18",
         "2024-05-06",
         "BOCADILLOS",
         "1072.06"
        ],
        [
         "19",
         "2024-05-13",
         "BOCADILLOS",
         "1161.5"
        ],
        [
         "20",
         "2024-05-20",
         "BOCADILLOS",
         "1106.76"
        ],
        [
         "21",
         "2024-05-27",
         "BOCADILLOS",
         "1190.51"
        ],
        [
         "22",
         "2024-06-03",
         "BOCADILLOS",
         "979.8"
        ],
        [
         "23",
         "2024-06-10",
         "BOCADILLOS",
         "1227.34"
        ],
        [
         "24",
         "2024-06-17",
         "BOCADILLOS",
         "1297.37"
        ],
        [
         "25",
         "2024-06-24",
         "BOCADILLOS",
         "1406.51"
        ],
        [
         "26",
         "2024-07-01",
         "BOCADILLOS",
         "1216.48"
        ],
        [
         "27",
         "2024-07-08",
         "BOCADILLOS",
         "1380.36"
        ],
        [
         "28",
         "2024-07-15",
         "BOCADILLOS",
         "1330.56"
        ],
        [
         "29",
         "2024-07-22",
         "BOCADILLOS",
         "1453.92"
        ],
        [
         "30",
         "2024-07-29",
         "BOCADILLOS",
         "1537.67"
        ],
        [
         "31",
         "2024-08-05",
         "BOCADILLOS",
         "1660.09"
        ],
        [
         "32",
         "2024-08-12",
         "BOCADILLOS",
         "1542.73"
        ],
        [
         "33",
         "2024-08-19",
         "BOCADILLOS",
         "1561.68"
        ],
        [
         "34",
         "2024-08-26",
         "BOCADILLOS",
         "1253.24"
        ],
        [
         "35",
         "2024-09-02",
         "BOCADILLOS",
         "1625.45"
        ],
        [
         "36",
         "2024-09-09",
         "BOCADILLOS",
         "1306.51"
        ],
        [
         "37",
         "2024-09-16",
         "BOCADILLOS",
         "980.6899999999999"
        ],
        [
         "38",
         "2024-09-23",
         "BOCADILLOS",
         "1010.3199999999999"
        ],
        [
         "39",
         "2024-09-30",
         "BOCADILLOS",
         "974.8"
        ],
        [
         "40",
         "2024-10-07",
         "BOCADILLOS",
         "849.36"
        ],
        [
         "41",
         "2024-10-14",
         "BOCADILLOS",
         "928.21"
        ],
        [
         "42",
         "2024-10-21",
         "BOCADILLOS",
         "864.42"
        ],
        [
         "43",
         "2024-10-28",
         "BOCADILLOS",
         "906.91"
        ],
        [
         "44",
         "2024-11-04",
         "BOCADILLOS",
         "743.14"
        ],
        [
         "45",
         "2024-11-11",
         "BOCADILLOS",
         "765.68"
        ],
        [
         "46",
         "2024-11-18",
         "BOCADILLOS",
         "765.24"
        ],
        [
         "47",
         "2024-11-25",
         "BOCADILLOS",
         "679.67"
        ],
        [
         "48",
         "2024-12-02",
         "BOCADILLOS",
         "718.36"
        ],
        [
         "49",
         "2024-12-09",
         "BOCADILLOS",
         "598.13"
        ]
       ],
       "shape": {
        "columns": 3,
        "rows": 50
       }
      },
      "text/html": [
       "<div>\n",
       "<style scoped>\n",
       "    .dataframe tbody tr th:only-of-type {\n",
       "        vertical-align: middle;\n",
       "    }\n",
       "\n",
       "    .dataframe tbody tr th {\n",
       "        vertical-align: top;\n",
       "    }\n",
       "\n",
       "    .dataframe thead th {\n",
       "        text-align: right;\n",
       "    }\n",
       "</style>\n",
       "<table border=\"1\" class=\"dataframe\">\n",
       "  <thead>\n",
       "    <tr style=\"text-align: right;\">\n",
       "      <th></th>\n",
       "      <th>semana</th>\n",
       "      <th>familia</th>\n",
       "      <th>base_imponible</th>\n",
       "    </tr>\n",
       "  </thead>\n",
       "  <tbody>\n",
       "    <tr>\n",
       "      <th>0</th>\n",
       "      <td>2024-01-01</td>\n",
       "      <td>BOCADILLOS</td>\n",
       "      <td>676.21</td>\n",
       "    </tr>\n",
       "    <tr>\n",
       "      <th>1</th>\n",
       "      <td>2024-01-08</td>\n",
       "      <td>BOCADILLOS</td>\n",
       "      <td>704.53</td>\n",
       "    </tr>\n",
       "    <tr>\n",
       "      <th>2</th>\n",
       "      <td>2024-01-15</td>\n",
       "      <td>BOCADILLOS</td>\n",
       "      <td>646.02</td>\n",
       "    </tr>\n",
       "    <tr>\n",
       "      <th>3</th>\n",
       "      <td>2024-01-22</td>\n",
       "      <td>BOCADILLOS</td>\n",
       "      <td>726.73</td>\n",
       "    </tr>\n",
       "    <tr>\n",
       "      <th>4</th>\n",
       "      <td>2024-01-29</td>\n",
       "      <td>BOCADILLOS</td>\n",
       "      <td>708.58</td>\n",
       "    </tr>\n",
       "    <tr>\n",
       "      <th>5</th>\n",
       "      <td>2024-02-05</td>\n",
       "      <td>BOCADILLOS</td>\n",
       "      <td>760.37</td>\n",
       "    </tr>\n",
       "    <tr>\n",
       "      <th>6</th>\n",
       "      <td>2024-02-12</td>\n",
       "      <td>BOCADILLOS</td>\n",
       "      <td>824.47</td>\n",
       "    </tr>\n",
       "    <tr>\n",
       "      <th>7</th>\n",
       "      <td>2024-02-19</td>\n",
       "      <td>BOCADILLOS</td>\n",
       "      <td>737.55</td>\n",
       "    </tr>\n",
       "    <tr>\n",
       "      <th>8</th>\n",
       "      <td>2024-02-26</td>\n",
       "      <td>BOCADILLOS</td>\n",
       "      <td>775.31</td>\n",
       "    </tr>\n",
       "    <tr>\n",
       "      <th>9</th>\n",
       "      <td>2024-03-04</td>\n",
       "      <td>BOCADILLOS</td>\n",
       "      <td>705.43</td>\n",
       "    </tr>\n",
       "    <tr>\n",
       "      <th>10</th>\n",
       "      <td>2024-03-11</td>\n",
       "      <td>BOCADILLOS</td>\n",
       "      <td>862.84</td>\n",
       "    </tr>\n",
       "    <tr>\n",
       "      <th>11</th>\n",
       "      <td>2024-03-18</td>\n",
       "      <td>BOCADILLOS</td>\n",
       "      <td>893.28</td>\n",
       "    </tr>\n",
       "    <tr>\n",
       "      <th>12</th>\n",
       "      <td>2024-03-25</td>\n",
       "      <td>BOCADILLOS</td>\n",
       "      <td>1257.86</td>\n",
       "    </tr>\n",
       "    <tr>\n",
       "      <th>13</th>\n",
       "      <td>2024-04-01</td>\n",
       "      <td>BOCADILLOS</td>\n",
       "      <td>943.38</td>\n",
       "    </tr>\n",
       "    <tr>\n",
       "      <th>14</th>\n",
       "      <td>2024-04-08</td>\n",
       "      <td>BOCADILLOS</td>\n",
       "      <td>822.62</td>\n",
       "    </tr>\n",
       "    <tr>\n",
       "      <th>15</th>\n",
       "      <td>2024-04-15</td>\n",
       "      <td>BOCADILLOS</td>\n",
       "      <td>997.33</td>\n",
       "    </tr>\n",
       "    <tr>\n",
       "      <th>16</th>\n",
       "      <td>2024-04-22</td>\n",
       "      <td>BOCADILLOS</td>\n",
       "      <td>917.44</td>\n",
       "    </tr>\n",
       "    <tr>\n",
       "      <th>17</th>\n",
       "      <td>2024-04-29</td>\n",
       "      <td>BOCADILLOS</td>\n",
       "      <td>1131.65</td>\n",
       "    </tr>\n",
       "    <tr>\n",
       "      <th>18</th>\n",
       "      <td>2024-05-06</td>\n",
       "      <td>BOCADILLOS</td>\n",
       "      <td>1072.06</td>\n",
       "    </tr>\n",
       "    <tr>\n",
       "      <th>19</th>\n",
       "      <td>2024-05-13</td>\n",
       "      <td>BOCADILLOS</td>\n",
       "      <td>1161.50</td>\n",
       "    </tr>\n",
       "    <tr>\n",
       "      <th>20</th>\n",
       "      <td>2024-05-20</td>\n",
       "      <td>BOCADILLOS</td>\n",
       "      <td>1106.76</td>\n",
       "    </tr>\n",
       "    <tr>\n",
       "      <th>21</th>\n",
       "      <td>2024-05-27</td>\n",
       "      <td>BOCADILLOS</td>\n",
       "      <td>1190.51</td>\n",
       "    </tr>\n",
       "    <tr>\n",
       "      <th>22</th>\n",
       "      <td>2024-06-03</td>\n",
       "      <td>BOCADILLOS</td>\n",
       "      <td>979.80</td>\n",
       "    </tr>\n",
       "    <tr>\n",
       "      <th>23</th>\n",
       "      <td>2024-06-10</td>\n",
       "      <td>BOCADILLOS</td>\n",
       "      <td>1227.34</td>\n",
       "    </tr>\n",
       "    <tr>\n",
       "      <th>24</th>\n",
       "      <td>2024-06-17</td>\n",
       "      <td>BOCADILLOS</td>\n",
       "      <td>1297.37</td>\n",
       "    </tr>\n",
       "    <tr>\n",
       "      <th>25</th>\n",
       "      <td>2024-06-24</td>\n",
       "      <td>BOCADILLOS</td>\n",
       "      <td>1406.51</td>\n",
       "    </tr>\n",
       "    <tr>\n",
       "      <th>26</th>\n",
       "      <td>2024-07-01</td>\n",
       "      <td>BOCADILLOS</td>\n",
       "      <td>1216.48</td>\n",
       "    </tr>\n",
       "    <tr>\n",
       "      <th>27</th>\n",
       "      <td>2024-07-08</td>\n",
       "      <td>BOCADILLOS</td>\n",
       "      <td>1380.36</td>\n",
       "    </tr>\n",
       "    <tr>\n",
       "      <th>28</th>\n",
       "      <td>2024-07-15</td>\n",
       "      <td>BOCADILLOS</td>\n",
       "      <td>1330.56</td>\n",
       "    </tr>\n",
       "    <tr>\n",
       "      <th>29</th>\n",
       "      <td>2024-07-22</td>\n",
       "      <td>BOCADILLOS</td>\n",
       "      <td>1453.92</td>\n",
       "    </tr>\n",
       "    <tr>\n",
       "      <th>30</th>\n",
       "      <td>2024-07-29</td>\n",
       "      <td>BOCADILLOS</td>\n",
       "      <td>1537.67</td>\n",
       "    </tr>\n",
       "    <tr>\n",
       "      <th>31</th>\n",
       "      <td>2024-08-05</td>\n",
       "      <td>BOCADILLOS</td>\n",
       "      <td>1660.09</td>\n",
       "    </tr>\n",
       "    <tr>\n",
       "      <th>32</th>\n",
       "      <td>2024-08-12</td>\n",
       "      <td>BOCADILLOS</td>\n",
       "      <td>1542.73</td>\n",
       "    </tr>\n",
       "    <tr>\n",
       "      <th>33</th>\n",
       "      <td>2024-08-19</td>\n",
       "      <td>BOCADILLOS</td>\n",
       "      <td>1561.68</td>\n",
       "    </tr>\n",
       "    <tr>\n",
       "      <th>34</th>\n",
       "      <td>2024-08-26</td>\n",
       "      <td>BOCADILLOS</td>\n",
       "      <td>1253.24</td>\n",
       "    </tr>\n",
       "    <tr>\n",
       "      <th>35</th>\n",
       "      <td>2024-09-02</td>\n",
       "      <td>BOCADILLOS</td>\n",
       "      <td>1625.45</td>\n",
       "    </tr>\n",
       "    <tr>\n",
       "      <th>36</th>\n",
       "      <td>2024-09-09</td>\n",
       "      <td>BOCADILLOS</td>\n",
       "      <td>1306.51</td>\n",
       "    </tr>\n",
       "    <tr>\n",
       "      <th>37</th>\n",
       "      <td>2024-09-16</td>\n",
       "      <td>BOCADILLOS</td>\n",
       "      <td>980.69</td>\n",
       "    </tr>\n",
       "    <tr>\n",
       "      <th>38</th>\n",
       "      <td>2024-09-23</td>\n",
       "      <td>BOCADILLOS</td>\n",
       "      <td>1010.32</td>\n",
       "    </tr>\n",
       "    <tr>\n",
       "      <th>39</th>\n",
       "      <td>2024-09-30</td>\n",
       "      <td>BOCADILLOS</td>\n",
       "      <td>974.80</td>\n",
       "    </tr>\n",
       "    <tr>\n",
       "      <th>40</th>\n",
       "      <td>2024-10-07</td>\n",
       "      <td>BOCADILLOS</td>\n",
       "      <td>849.36</td>\n",
       "    </tr>\n",
       "    <tr>\n",
       "      <th>41</th>\n",
       "      <td>2024-10-14</td>\n",
       "      <td>BOCADILLOS</td>\n",
       "      <td>928.21</td>\n",
       "    </tr>\n",
       "    <tr>\n",
       "      <th>42</th>\n",
       "      <td>2024-10-21</td>\n",
       "      <td>BOCADILLOS</td>\n",
       "      <td>864.42</td>\n",
       "    </tr>\n",
       "    <tr>\n",
       "      <th>43</th>\n",
       "      <td>2024-10-28</td>\n",
       "      <td>BOCADILLOS</td>\n",
       "      <td>906.91</td>\n",
       "    </tr>\n",
       "    <tr>\n",
       "      <th>44</th>\n",
       "      <td>2024-11-04</td>\n",
       "      <td>BOCADILLOS</td>\n",
       "      <td>743.14</td>\n",
       "    </tr>\n",
       "    <tr>\n",
       "      <th>45</th>\n",
       "      <td>2024-11-11</td>\n",
       "      <td>BOCADILLOS</td>\n",
       "      <td>765.68</td>\n",
       "    </tr>\n",
       "    <tr>\n",
       "      <th>46</th>\n",
       "      <td>2024-11-18</td>\n",
       "      <td>BOCADILLOS</td>\n",
       "      <td>765.24</td>\n",
       "    </tr>\n",
       "    <tr>\n",
       "      <th>47</th>\n",
       "      <td>2024-11-25</td>\n",
       "      <td>BOCADILLOS</td>\n",
       "      <td>679.67</td>\n",
       "    </tr>\n",
       "    <tr>\n",
       "      <th>48</th>\n",
       "      <td>2024-12-02</td>\n",
       "      <td>BOCADILLOS</td>\n",
       "      <td>718.36</td>\n",
       "    </tr>\n",
       "    <tr>\n",
       "      <th>49</th>\n",
       "      <td>2024-12-09</td>\n",
       "      <td>BOCADILLOS</td>\n",
       "      <td>598.13</td>\n",
       "    </tr>\n",
       "  </tbody>\n",
       "</table>\n",
       "</div>"
      ],
      "text/plain": [
       "        semana     familia  base_imponible\n",
       "0   2024-01-01  BOCADILLOS          676.21\n",
       "1   2024-01-08  BOCADILLOS          704.53\n",
       "2   2024-01-15  BOCADILLOS          646.02\n",
       "3   2024-01-22  BOCADILLOS          726.73\n",
       "4   2024-01-29  BOCADILLOS          708.58\n",
       "5   2024-02-05  BOCADILLOS          760.37\n",
       "6   2024-02-12  BOCADILLOS          824.47\n",
       "7   2024-02-19  BOCADILLOS          737.55\n",
       "8   2024-02-26  BOCADILLOS          775.31\n",
       "9   2024-03-04  BOCADILLOS          705.43\n",
       "10  2024-03-11  BOCADILLOS          862.84\n",
       "11  2024-03-18  BOCADILLOS          893.28\n",
       "12  2024-03-25  BOCADILLOS         1257.86\n",
       "13  2024-04-01  BOCADILLOS          943.38\n",
       "14  2024-04-08  BOCADILLOS          822.62\n",
       "15  2024-04-15  BOCADILLOS          997.33\n",
       "16  2024-04-22  BOCADILLOS          917.44\n",
       "17  2024-04-29  BOCADILLOS         1131.65\n",
       "18  2024-05-06  BOCADILLOS         1072.06\n",
       "19  2024-05-13  BOCADILLOS         1161.50\n",
       "20  2024-05-20  BOCADILLOS         1106.76\n",
       "21  2024-05-27  BOCADILLOS         1190.51\n",
       "22  2024-06-03  BOCADILLOS          979.80\n",
       "23  2024-06-10  BOCADILLOS         1227.34\n",
       "24  2024-06-17  BOCADILLOS         1297.37\n",
       "25  2024-06-24  BOCADILLOS         1406.51\n",
       "26  2024-07-01  BOCADILLOS         1216.48\n",
       "27  2024-07-08  BOCADILLOS         1380.36\n",
       "28  2024-07-15  BOCADILLOS         1330.56\n",
       "29  2024-07-22  BOCADILLOS         1453.92\n",
       "30  2024-07-29  BOCADILLOS         1537.67\n",
       "31  2024-08-05  BOCADILLOS         1660.09\n",
       "32  2024-08-12  BOCADILLOS         1542.73\n",
       "33  2024-08-19  BOCADILLOS         1561.68\n",
       "34  2024-08-26  BOCADILLOS         1253.24\n",
       "35  2024-09-02  BOCADILLOS         1625.45\n",
       "36  2024-09-09  BOCADILLOS         1306.51\n",
       "37  2024-09-16  BOCADILLOS          980.69\n",
       "38  2024-09-23  BOCADILLOS         1010.32\n",
       "39  2024-09-30  BOCADILLOS          974.80\n",
       "40  2024-10-07  BOCADILLOS          849.36\n",
       "41  2024-10-14  BOCADILLOS          928.21\n",
       "42  2024-10-21  BOCADILLOS          864.42\n",
       "43  2024-10-28  BOCADILLOS          906.91\n",
       "44  2024-11-04  BOCADILLOS          743.14\n",
       "45  2024-11-11  BOCADILLOS          765.68\n",
       "46  2024-11-18  BOCADILLOS          765.24\n",
       "47  2024-11-25  BOCADILLOS          679.67\n",
       "48  2024-12-02  BOCADILLOS          718.36\n",
       "49  2024-12-09  BOCADILLOS          598.13"
      ]
     },
     "execution_count": 90,
     "metadata": {},
     "output_type": "execute_result"
    }
   ],
   "source": [
    "# Filtrar solo los datos de la familia 'Bocadillos'\n",
    "df_bocadillos = df_fleca_semana_agg[df_fleca_semana_agg['familia'] == 'BOCADILLOS'].reset_index(drop=True)\n",
    "\n",
    "# Eliminar de la columna semana las horas, minutos y segundos\n",
    "df_bocadillos['semana'] = df_bocadillos['semana'].dt.date\n",
    "\n",
    "\n",
    "df_bocadillos.head(50)\n"
   ]
  }
 ],
 "metadata": {
  "kernelspec": {
   "display_name": "mlops-project-py3.10",
   "language": "python",
   "name": "python3"
  },
  "language_info": {
   "codemirror_mode": {
    "name": "ipython",
    "version": 3
   },
   "file_extension": ".py",
   "mimetype": "text/x-python",
   "name": "python",
   "nbconvert_exporter": "python",
   "pygments_lexer": "ipython3",
   "version": "3.10.0"
  }
 },
 "nbformat": 4,
 "nbformat_minor": 2
}
