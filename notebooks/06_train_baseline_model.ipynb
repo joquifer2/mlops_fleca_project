{
 "cells": [
  {
   "cell_type": "code",
   "execution_count": 33,
   "id": "83e55baf",
   "metadata": {},
   "outputs": [
    {
     "name": "stdout",
     "output_type": "stream",
     "text": [
      "Directorio raíz del proyecto: c:\\Workspace\\mlops_fleca_project\n",
      "Directorio src añadido al path: c:\\Workspace\\mlops_fleca_project\\src\n"
     ]
    }
   ],
   "source": [
    "import sys\n",
    "import os\n",
    "from pathlib import Path\n",
    "\n",
    "# Obtener la ruta del directorio actual y añadir src al path\n",
    "notebook_path = os.getcwd()\n",
    "project_root = Path(notebook_path).parent  # Directorio padre del directorio notebooks\n",
    "sys.path.append(str(project_root / 'src'))\n",
    "\n",
    "print(f\"Directorio raíz del proyecto: {project_root}\")\n",
    "print(f\"Directorio src añadido al path: {project_root / 'src'}\")"
   ]
  },
  {
   "cell_type": "code",
   "execution_count": 34,
   "id": "97e89904",
   "metadata": {},
   "outputs": [
    {
     "data": {
      "application/vnd.microsoft.datawrangler.viewer.v0+json": {
       "columns": [
        {
         "name": "index",
         "rawType": "int64",
         "type": "integer"
        },
        {
         "name": "base_imponible",
         "rawType": "float64",
         "type": "float"
        },
        {
         "name": "is_summer_peak",
         "rawType": "int64",
         "type": "integer"
        },
        {
         "name": "is_easter",
         "rawType": "int64",
         "type": "integer"
        },
        {
         "name": "week_start",
         "rawType": "datetime64[ns]",
         "type": "datetime"
        },
        {
         "name": "base_imponible_lag1",
         "rawType": "float64",
         "type": "float"
        },
        {
         "name": "base_imponible_lag2",
         "rawType": "float64",
         "type": "float"
        },
        {
         "name": "base_imponible_lag3",
         "rawType": "float64",
         "type": "float"
        },
        {
         "name": "base_imponible_lag4",
         "rawType": "float64",
         "type": "float"
        },
        {
         "name": "base_imponible_lag12",
         "rawType": "float64",
         "type": "float"
        },
        {
         "name": "base_imponible_lag24",
         "rawType": "float64",
         "type": "float"
        },
        {
         "name": "base_imponible_lag52",
         "rawType": "float64",
         "type": "float"
        },
        {
         "name": "base_imponible_next1",
         "rawType": "float64",
         "type": "float"
        }
       ],
       "ref": "209dbf9a-39e2-408d-ae1d-c505105d495f",
       "rows": [
        [
         "0",
         "597.65",
         "0",
         "0",
         "2024-01-15 00:00:00",
         "572.51",
         "534.79",
         "563.18",
         "806.54",
         "912.13",
         "1745.97",
         "825.11",
         "680.3"
        ],
        [
         "1",
         "680.3",
         "0",
         "0",
         "2024-01-22 00:00:00",
         "597.65",
         "572.51",
         "534.79",
         "563.18",
         "750.99",
         "1681.41",
         "658.4",
         "603.99"
        ],
        [
         "2",
         "603.99",
         "0",
         "0",
         "2024-01-29 00:00:00",
         "680.3",
         "597.65",
         "572.51",
         "534.79",
         "821.84",
         "1753.02",
         "741.4",
         "600.14"
        ],
        [
         "3",
         "600.14",
         "0",
         "0",
         "2024-02-05 00:00:00",
         "603.99",
         "680.3",
         "597.65",
         "572.51",
         "607.02",
         "1835.18",
         "653.64",
         "689.32"
        ],
        [
         "4",
         "689.32",
         "0",
         "0",
         "2024-02-12 00:00:00",
         "600.14",
         "603.99",
         "680.3",
         "597.65",
         "304.73",
         "2127.71",
         "680.46",
         "627.76"
        ],
        [
         "5",
         "627.76",
         "0",
         "0",
         "2024-02-19 00:00:00",
         "689.32",
         "600.14",
         "603.99",
         "680.3",
         "744.1899999999999",
         "1841.08",
         "641.56",
         "561.28"
        ],
        [
         "6",
         "561.28",
         "0",
         "0",
         "2024-02-26 00:00:00",
         "627.76",
         "689.32",
         "600.14",
         "603.99",
         "632.35",
         "1256.44",
         "649.83",
         "569.6899999999999"
        ],
        [
         "7",
         "569.6899999999999",
         "0",
         "0",
         "2024-03-04 00:00:00",
         "561.28",
         "627.76",
         "689.32",
         "600.14",
         "622.22",
         "1102.32",
         "713.33",
         "639.09"
        ],
        [
         "8",
         "639.09",
         "0",
         "0",
         "2024-03-11 00:00:00",
         "569.6899999999999",
         "561.28",
         "627.76",
         "689.32",
         "806.54",
         "988.49",
         "785.98",
         "706.42"
        ],
        [
         "9",
         "706.42",
         "0",
         "0",
         "2024-03-18 00:00:00",
         "639.09",
         "569.6899999999999",
         "561.28",
         "627.76",
         "563.18",
         "950.7",
         "697.63",
         "1460.7"
        ],
        [
         "10",
         "1460.7",
         "0",
         "1",
         "2024-03-25 00:00:00",
         "706.42",
         "639.09",
         "569.6899999999999",
         "561.28",
         "534.79",
         "856.21",
         "736.05",
         "823.62"
        ],
        [
         "11",
         "823.62",
         "0",
         "0",
         "2024-04-01 00:00:00",
         "1460.7",
         "706.42",
         "639.09",
         "569.6899999999999",
         "572.51",
         "842.85",
         "781.08",
         "679.21"
        ],
        [
         "12",
         "679.21",
         "0",
         "0",
         "2024-04-08 00:00:00",
         "823.62",
         "1460.7",
         "706.42",
         "639.09",
         "597.65",
         "912.13",
         "804.82",
         "744.58"
        ],
        [
         "13",
         "744.58",
         "0",
         "0",
         "2024-04-15 00:00:00",
         "679.21",
         "823.62",
         "1460.7",
         "706.42",
         "680.3",
         "750.99",
         "1739.91",
         "677.46"
        ],
        [
         "14",
         "677.46",
         "0",
         "0",
         "2024-04-22 00:00:00",
         "744.58",
         "679.21",
         "823.62",
         "1460.7",
         "603.99",
         "821.84",
         "995.13",
         "915.18"
        ],
        [
         "15",
         "915.18",
         "0",
         "0",
         "2024-04-29 00:00:00",
         "677.46",
         "744.58",
         "679.21",
         "823.62",
         "600.14",
         "607.02",
         "755.85",
         "828.3"
        ],
        [
         "16",
         "828.3",
         "0",
         "0",
         "2024-05-06 00:00:00",
         "915.18",
         "677.46",
         "744.58",
         "679.21",
         "689.32",
         "304.73",
         "828.31",
         "854.34"
        ],
        [
         "17",
         "854.34",
         "0",
         "0",
         "2024-05-13 00:00:00",
         "828.3",
         "915.18",
         "677.46",
         "744.58",
         "627.76",
         "744.1899999999999",
         "1075.1299999999999",
         "782.38"
        ],
        [
         "18",
         "782.38",
         "0",
         "0",
         "2024-05-20 00:00:00",
         "854.34",
         "828.3",
         "915.18",
         "677.46",
         "561.28",
         "632.35",
         "794.65",
         "708.74"
        ],
        [
         "19",
         "708.74",
         "0",
         "0",
         "2024-05-27 00:00:00",
         "782.38",
         "854.34",
         "828.3",
         "915.18",
         "569.6899999999999",
         "622.22",
         "876.26",
         "737.77"
        ],
        [
         "20",
         "737.77",
         "0",
         "0",
         "2024-06-03 00:00:00",
         "708.74",
         "782.38",
         "854.34",
         "828.3",
         "639.09",
         "806.54",
         "953.08",
         "914.24"
        ],
        [
         "21",
         "914.24",
         "0",
         "0",
         "2024-06-10 00:00:00",
         "737.77",
         "708.74",
         "782.38",
         "854.34",
         "706.42",
         "563.18",
         "953.75",
         "1062.32"
        ],
        [
         "22",
         "1062.32",
         "0",
         "0",
         "2024-06-17 00:00:00",
         "914.24",
         "737.77",
         "708.74",
         "782.38",
         "1460.7",
         "534.79",
         "954.84",
         "1236.19"
        ],
        [
         "23",
         "1236.19",
         "0",
         "0",
         "2024-06-24 00:00:00",
         "1062.32",
         "914.24",
         "737.77",
         "708.74",
         "823.62",
         "572.51",
         "1061.14",
         "1486.56"
        ],
        [
         "24",
         "1486.56",
         "1",
         "0",
         "2024-07-01 00:00:00",
         "1236.19",
         "1062.32",
         "914.24",
         "737.77",
         "679.21",
         "597.65",
         "1223.61",
         "1503.58"
        ],
        [
         "25",
         "1503.58",
         "1",
         "0",
         "2024-07-08 00:00:00",
         "1486.56",
         "1236.19",
         "1062.32",
         "914.24",
         "744.58",
         "680.3",
         "1580.45",
         "1560.75"
        ],
        [
         "26",
         "1560.75",
         "1",
         "0",
         "2024-07-15 00:00:00",
         "1503.58",
         "1486.56",
         "1236.19",
         "1062.32",
         "677.46",
         "603.99",
         "1506.51",
         "1714.05"
        ],
        [
         "27",
         "1714.05",
         "1",
         "0",
         "2024-07-22 00:00:00",
         "1560.75",
         "1503.58",
         "1486.56",
         "1236.19",
         "915.18",
         "600.14",
         "1666.39",
         "1709.82"
        ],
        [
         "28",
         "1709.82",
         "1",
         "0",
         "2024-07-29 00:00:00",
         "1714.05",
         "1560.75",
         "1503.58",
         "1486.56",
         "828.3",
         "689.32",
         "1745.97",
         "1899.2"
        ],
        [
         "29",
         "1899.2",
         "1",
         "0",
         "2024-08-05 00:00:00",
         "1709.82",
         "1714.05",
         "1560.75",
         "1503.58",
         "854.34",
         "627.76",
         "1681.41",
         "2270.25"
        ],
        [
         "30",
         "2270.25",
         "1",
         "0",
         "2024-08-12 00:00:00",
         "1899.2",
         "1709.82",
         "1714.05",
         "1560.75",
         "782.38",
         "561.28",
         "1753.02",
         "1959.96"
        ],
        [
         "31",
         "1959.96",
         "1",
         "0",
         "2024-08-19 00:00:00",
         "2270.25",
         "1899.2",
         "1709.82",
         "1714.05",
         "708.74",
         "569.6899999999999",
         "1835.18",
         "1379.46"
        ],
        [
         "32",
         "1379.46",
         "1",
         "0",
         "2024-08-26 00:00:00",
         "1959.96",
         "2270.25",
         "1899.2",
         "1709.82",
         "737.77",
         "639.09",
         "2127.71",
         "946.92"
        ],
        [
         "33",
         "946.92",
         "0",
         "0",
         "2024-09-02 00:00:00",
         "1379.46",
         "1959.96",
         "2270.25",
         "1899.2",
         "914.24",
         "706.42",
         "1841.08",
         "1049.57"
        ],
        [
         "34",
         "1049.57",
         "0",
         "0",
         "2024-09-09 00:00:00",
         "946.92",
         "1379.46",
         "1959.96",
         "2270.25",
         "1062.32",
         "1460.7",
         "1256.44",
         "784.12"
        ],
        [
         "35",
         "784.12",
         "0",
         "0",
         "2024-09-16 00:00:00",
         "1049.57",
         "946.92",
         "1379.46",
         "1959.96",
         "1236.19",
         "823.62",
         "1102.32",
         "846.54"
        ],
        [
         "36",
         "846.54",
         "0",
         "0",
         "2024-09-23 00:00:00",
         "784.12",
         "1049.57",
         "946.92",
         "1379.46",
         "1486.56",
         "679.21",
         "988.49",
         "809.93"
        ],
        [
         "37",
         "809.93",
         "0",
         "0",
         "2024-09-30 00:00:00",
         "846.54",
         "784.12",
         "1049.57",
         "946.92",
         "1503.58",
         "744.58",
         "950.7",
         "808.1899999999999"
        ],
        [
         "38",
         "808.1899999999999",
         "0",
         "0",
         "2024-10-07 00:00:00",
         "809.93",
         "846.54",
         "784.12",
         "1049.57",
         "1560.75",
         "677.46",
         "856.21",
         "811.07"
        ],
        [
         "39",
         "811.07",
         "0",
         "0",
         "2024-10-14 00:00:00",
         "808.1899999999999",
         "809.93",
         "846.54",
         "784.12",
         "1714.05",
         "915.18",
         "842.85",
         "711.88"
        ],
        [
         "40",
         "711.88",
         "0",
         "0",
         "2024-10-21 00:00:00",
         "811.07",
         "808.1899999999999",
         "809.93",
         "846.54",
         "1709.82",
         "828.3",
         "912.13",
         "740.06"
        ],
        [
         "41",
         "740.06",
         "0",
         "0",
         "2024-10-28 00:00:00",
         "711.88",
         "811.07",
         "808.1899999999999",
         "809.93",
         "1899.2",
         "854.34",
         "750.99",
         "677.2"
        ],
        [
         "42",
         "677.2",
         "0",
         "0",
         "2024-11-04 00:00:00",
         "740.06",
         "711.88",
         "811.07",
         "808.1899999999999",
         "2270.25",
         "782.38",
         "821.84",
         "770.13"
        ],
        [
         "43",
         "770.13",
         "0",
         "0",
         "2024-11-11 00:00:00",
         "677.2",
         "740.06",
         "711.88",
         "811.07",
         "1959.96",
         "708.74",
         "607.02",
         "756.58"
        ],
        [
         "44",
         "756.58",
         "0",
         "0",
         "2024-11-18 00:00:00",
         "770.13",
         "677.2",
         "740.06",
         "711.88",
         "1379.46",
         "737.77",
         "304.73",
         "604.75"
        ],
        [
         "45",
         "604.75",
         "0",
         "0",
         "2024-11-25 00:00:00",
         "756.58",
         "770.13",
         "677.2",
         "740.06",
         "946.92",
         "914.24",
         "744.1899999999999",
         "636.84"
        ],
        [
         "46",
         "636.84",
         "0",
         "0",
         "2024-12-02 00:00:00",
         "604.75",
         "756.58",
         "770.13",
         "677.2",
         "1049.57",
         "1062.32",
         "632.35",
         "571.22"
        ],
        [
         "47",
         "571.22",
         "0",
         "0",
         "2024-12-09 00:00:00",
         "636.84",
         "604.75",
         "756.58",
         "770.13",
         "784.12",
         "1236.19",
         "622.22",
         "534.36"
        ],
        [
         "48",
         "534.36",
         "0",
         "0",
         "2024-12-16 00:00:00",
         "571.22",
         "636.84",
         "604.75",
         "756.58",
         "846.54",
         "1486.56",
         "806.54",
         "564.57"
        ],
        [
         "49",
         "564.57",
         "0",
         "0",
         "2025-01-06 00:00:00",
         "534.36",
         "571.22",
         "636.84",
         "604.75",
         "809.93",
         "1503.58",
         "563.18",
         "541.98"
        ]
       ],
       "shape": {
        "columns": 12,
        "rows": 73
       }
      },
      "text/html": [
       "<div>\n",
       "<style scoped>\n",
       "    .dataframe tbody tr th:only-of-type {\n",
       "        vertical-align: middle;\n",
       "    }\n",
       "\n",
       "    .dataframe tbody tr th {\n",
       "        vertical-align: top;\n",
       "    }\n",
       "\n",
       "    .dataframe thead th {\n",
       "        text-align: right;\n",
       "    }\n",
       "</style>\n",
       "<table border=\"1\" class=\"dataframe\">\n",
       "  <thead>\n",
       "    <tr style=\"text-align: right;\">\n",
       "      <th></th>\n",
       "      <th>base_imponible</th>\n",
       "      <th>is_summer_peak</th>\n",
       "      <th>is_easter</th>\n",
       "      <th>week_start</th>\n",
       "      <th>base_imponible_lag1</th>\n",
       "      <th>base_imponible_lag2</th>\n",
       "      <th>base_imponible_lag3</th>\n",
       "      <th>base_imponible_lag4</th>\n",
       "      <th>base_imponible_lag12</th>\n",
       "      <th>base_imponible_lag24</th>\n",
       "      <th>base_imponible_lag52</th>\n",
       "      <th>base_imponible_next1</th>\n",
       "    </tr>\n",
       "  </thead>\n",
       "  <tbody>\n",
       "    <tr>\n",
       "      <th>0</th>\n",
       "      <td>597.65</td>\n",
       "      <td>0</td>\n",
       "      <td>0</td>\n",
       "      <td>2024-01-15</td>\n",
       "      <td>572.51</td>\n",
       "      <td>534.79</td>\n",
       "      <td>563.18</td>\n",
       "      <td>806.54</td>\n",
       "      <td>912.13</td>\n",
       "      <td>1745.97</td>\n",
       "      <td>825.11</td>\n",
       "      <td>680.30</td>\n",
       "    </tr>\n",
       "    <tr>\n",
       "      <th>1</th>\n",
       "      <td>680.30</td>\n",
       "      <td>0</td>\n",
       "      <td>0</td>\n",
       "      <td>2024-01-22</td>\n",
       "      <td>597.65</td>\n",
       "      <td>572.51</td>\n",
       "      <td>534.79</td>\n",
       "      <td>563.18</td>\n",
       "      <td>750.99</td>\n",
       "      <td>1681.41</td>\n",
       "      <td>658.40</td>\n",
       "      <td>603.99</td>\n",
       "    </tr>\n",
       "    <tr>\n",
       "      <th>2</th>\n",
       "      <td>603.99</td>\n",
       "      <td>0</td>\n",
       "      <td>0</td>\n",
       "      <td>2024-01-29</td>\n",
       "      <td>680.30</td>\n",
       "      <td>597.65</td>\n",
       "      <td>572.51</td>\n",
       "      <td>534.79</td>\n",
       "      <td>821.84</td>\n",
       "      <td>1753.02</td>\n",
       "      <td>741.40</td>\n",
       "      <td>600.14</td>\n",
       "    </tr>\n",
       "    <tr>\n",
       "      <th>3</th>\n",
       "      <td>600.14</td>\n",
       "      <td>0</td>\n",
       "      <td>0</td>\n",
       "      <td>2024-02-05</td>\n",
       "      <td>603.99</td>\n",
       "      <td>680.30</td>\n",
       "      <td>597.65</td>\n",
       "      <td>572.51</td>\n",
       "      <td>607.02</td>\n",
       "      <td>1835.18</td>\n",
       "      <td>653.64</td>\n",
       "      <td>689.32</td>\n",
       "    </tr>\n",
       "    <tr>\n",
       "      <th>4</th>\n",
       "      <td>689.32</td>\n",
       "      <td>0</td>\n",
       "      <td>0</td>\n",
       "      <td>2024-02-12</td>\n",
       "      <td>600.14</td>\n",
       "      <td>603.99</td>\n",
       "      <td>680.30</td>\n",
       "      <td>597.65</td>\n",
       "      <td>304.73</td>\n",
       "      <td>2127.71</td>\n",
       "      <td>680.46</td>\n",
       "      <td>627.76</td>\n",
       "    </tr>\n",
       "    <tr>\n",
       "      <th>...</th>\n",
       "      <td>...</td>\n",
       "      <td>...</td>\n",
       "      <td>...</td>\n",
       "      <td>...</td>\n",
       "      <td>...</td>\n",
       "      <td>...</td>\n",
       "      <td>...</td>\n",
       "      <td>...</td>\n",
       "      <td>...</td>\n",
       "      <td>...</td>\n",
       "      <td>...</td>\n",
       "      <td>...</td>\n",
       "    </tr>\n",
       "    <tr>\n",
       "      <th>68</th>\n",
       "      <td>756.42</td>\n",
       "      <td>0</td>\n",
       "      <td>0</td>\n",
       "      <td>2025-05-19</td>\n",
       "      <td>810.97</td>\n",
       "      <td>842.62</td>\n",
       "      <td>891.38</td>\n",
       "      <td>894.20</td>\n",
       "      <td>725.72</td>\n",
       "      <td>756.58</td>\n",
       "      <td>828.30</td>\n",
       "      <td>802.16</td>\n",
       "    </tr>\n",
       "    <tr>\n",
       "      <th>69</th>\n",
       "      <td>802.16</td>\n",
       "      <td>0</td>\n",
       "      <td>0</td>\n",
       "      <td>2025-05-26</td>\n",
       "      <td>756.42</td>\n",
       "      <td>810.97</td>\n",
       "      <td>842.62</td>\n",
       "      <td>891.38</td>\n",
       "      <td>635.99</td>\n",
       "      <td>604.75</td>\n",
       "      <td>854.34</td>\n",
       "      <td>881.72</td>\n",
       "    </tr>\n",
       "    <tr>\n",
       "      <th>70</th>\n",
       "      <td>881.72</td>\n",
       "      <td>0</td>\n",
       "      <td>0</td>\n",
       "      <td>2025-06-02</td>\n",
       "      <td>802.16</td>\n",
       "      <td>756.42</td>\n",
       "      <td>810.97</td>\n",
       "      <td>842.62</td>\n",
       "      <td>673.60</td>\n",
       "      <td>636.84</td>\n",
       "      <td>782.38</td>\n",
       "      <td>1015.97</td>\n",
       "    </tr>\n",
       "    <tr>\n",
       "      <th>71</th>\n",
       "      <td>1015.97</td>\n",
       "      <td>0</td>\n",
       "      <td>0</td>\n",
       "      <td>2025-06-09</td>\n",
       "      <td>881.72</td>\n",
       "      <td>802.16</td>\n",
       "      <td>756.42</td>\n",
       "      <td>810.97</td>\n",
       "      <td>546.93</td>\n",
       "      <td>571.22</td>\n",
       "      <td>708.74</td>\n",
       "      <td>1014.76</td>\n",
       "    </tr>\n",
       "    <tr>\n",
       "      <th>72</th>\n",
       "      <td>1014.76</td>\n",
       "      <td>0</td>\n",
       "      <td>0</td>\n",
       "      <td>2025-06-16</td>\n",
       "      <td>1015.97</td>\n",
       "      <td>881.72</td>\n",
       "      <td>802.16</td>\n",
       "      <td>756.42</td>\n",
       "      <td>612.87</td>\n",
       "      <td>534.36</td>\n",
       "      <td>737.77</td>\n",
       "      <td>1296.61</td>\n",
       "    </tr>\n",
       "  </tbody>\n",
       "</table>\n",
       "<p>73 rows × 12 columns</p>\n",
       "</div>"
      ],
      "text/plain": [
       "    base_imponible  is_summer_peak  is_easter week_start  base_imponible_lag1  \\\n",
       "0           597.65               0          0 2024-01-15               572.51   \n",
       "1           680.30               0          0 2024-01-22               597.65   \n",
       "2           603.99               0          0 2024-01-29               680.30   \n",
       "3           600.14               0          0 2024-02-05               603.99   \n",
       "4           689.32               0          0 2024-02-12               600.14   \n",
       "..             ...             ...        ...        ...                  ...   \n",
       "68          756.42               0          0 2025-05-19               810.97   \n",
       "69          802.16               0          0 2025-05-26               756.42   \n",
       "70          881.72               0          0 2025-06-02               802.16   \n",
       "71         1015.97               0          0 2025-06-09               881.72   \n",
       "72         1014.76               0          0 2025-06-16              1015.97   \n",
       "\n",
       "    base_imponible_lag2  base_imponible_lag3  base_imponible_lag4  \\\n",
       "0                534.79               563.18               806.54   \n",
       "1                572.51               534.79               563.18   \n",
       "2                597.65               572.51               534.79   \n",
       "3                680.30               597.65               572.51   \n",
       "4                603.99               680.30               597.65   \n",
       "..                  ...                  ...                  ...   \n",
       "68               842.62               891.38               894.20   \n",
       "69               810.97               842.62               891.38   \n",
       "70               756.42               810.97               842.62   \n",
       "71               802.16               756.42               810.97   \n",
       "72               881.72               802.16               756.42   \n",
       "\n",
       "    base_imponible_lag12  base_imponible_lag24  base_imponible_lag52  \\\n",
       "0                 912.13               1745.97                825.11   \n",
       "1                 750.99               1681.41                658.40   \n",
       "2                 821.84               1753.02                741.40   \n",
       "3                 607.02               1835.18                653.64   \n",
       "4                 304.73               2127.71                680.46   \n",
       "..                   ...                   ...                   ...   \n",
       "68                725.72                756.58                828.30   \n",
       "69                635.99                604.75                854.34   \n",
       "70                673.60                636.84                782.38   \n",
       "71                546.93                571.22                708.74   \n",
       "72                612.87                534.36                737.77   \n",
       "\n",
       "    base_imponible_next1  \n",
       "0                 680.30  \n",
       "1                 603.99  \n",
       "2                 600.14  \n",
       "3                 689.32  \n",
       "4                 627.76  \n",
       "..                   ...  \n",
       "68                802.16  \n",
       "69                881.72  \n",
       "70               1015.97  \n",
       "71               1014.76  \n",
       "72               1296.61  \n",
       "\n",
       "[73 rows x 12 columns]"
      ]
     },
     "execution_count": 34,
     "metadata": {},
     "output_type": "execute_result"
    }
   ],
   "source": [
    "import pandas as pd\n",
    "from paths import PROCESSED_DIR # type: ignore\n",
    "\n",
    "df = pd.read_parquet(PROCESSED_DIR / 'ts_df_bolleria_20250801.parquet')\n",
    "df"
   ]
  },
  {
   "cell_type": "code",
   "execution_count": 35,
   "id": "a563a314",
   "metadata": {},
   "outputs": [
    {
     "name": "stdout",
     "output_type": "stream",
     "text": [
      "\n",
      "Calculando split_date óptimo...\n",
      "split_date calculado para 80% train: 2025-03-03 00:00:00\n"
     ]
    }
   ],
   "source": [
    "# -----------------------------\n",
    "# Utilidad para calcular punto de corte óptimo (split_date)\n",
    "# -----------------------------\n",
    "def calcular_split_date(df: pd.DataFrame, train_ratio: float = 0.8) -> pd.Timestamp:\n",
    "    \"\"\"\n",
    "    Calcula el mejor punto de corte (split_date) para separar el DataFrame en train/test según el ratio deseado.\n",
    "    Usa la columna 'week_start' como referencia temporal.\n",
    "\n",
    "    Parámetros:\n",
    "    - df: pd.DataFrame - DataFrame con columna 'week_start'.\n",
    "    - train_ratio: float - Proporción de datos para train (por defecto 0.8).\n",
    "\n",
    "    Retorna:\n",
    "    - split_date: pd.Timestamp - Fecha (primer lunes) que separa train y test.\n",
    "    \"\"\"\n",
    "    weeks = df['week_start'].sort_values().unique()\n",
    "    n_train = int(len(weeks) * train_ratio)\n",
    "    split_date = weeks[n_train - 1]  # El último lunes que entra en train\n",
    "\n",
    "\n",
    "    return pd.to_datetime(split_date)\n",
    "\n",
    "print(\"\\nCalculando split_date óptimo...\")\n",
    "split_date = calcular_split_date(df)\n",
    "print(f\"split_date calculado para 80% train: {split_date}\")"
   ]
  },
  {
   "cell_type": "code",
   "execution_count": 36,
   "id": "cba3032c",
   "metadata": {},
   "outputs": [
    {
     "name": "stdout",
     "output_type": "stream",
     "text": [
      "X_train.shape=(58, 11), y_train.shape=(58,), X_test.shape=(15, 11), y_test.shape=(15,)\n"
     ]
    }
   ],
   "source": [
    "import pandas as pd \n",
    "from data_split import train_test_split\n",
    "from datetime import datetime\n",
    "\n",
    "\n",
    "X_train, y_train, X_test, y_test = train_test_split(\n",
    "    df,\n",
    "    split_date=datetime(2025, 3, 3),  # Fecha de corte para el split\n",
    "    target='base_imponible'\n",
    ")\n",
    "\n",
    "print(f'{X_train.shape=}, {y_train.shape=}, {X_test.shape=}, {y_test.shape=}')"
   ]
  },
  {
   "cell_type": "markdown",
   "id": "7f9924be",
   "metadata": {},
   "source": [
    "# Entrenamos Baseline I\n",
    "\n",
    "Este baseline va a predecir con datos de la semana anterior"
   ]
  },
  {
   "cell_type": "code",
   "execution_count": 52,
   "id": "835e3617",
   "metadata": {},
   "outputs": [],
   "source": [
    "import numpy as np\n",
    "\n",
    "class BaselineModelPreviousWeek:\n",
    "    \"\"\"\n",
    "    Predicción basada en el valor de la semana anterior.\n",
    "    \"\"\"\n",
    "\n",
    "    def fit(self, X_train: pd.DataFrame, y_train: pd.Series):\n",
    "        pass\n",
    "\n",
    "    def predict(self, X_test: pd.DataFrame) -> np.array:\n",
    "        # Predecir usando los datos de la última semana\n",
    "        return X_test['base_imponible_lag1']\n"
   ]
  },
  {
   "cell_type": "code",
   "execution_count": 53,
   "id": "22d09aae",
   "metadata": {},
   "outputs": [
    {
     "data": {
      "application/vnd.microsoft.datawrangler.viewer.v0+json": {
       "columns": [
        {
         "name": "index",
         "rawType": "int64",
         "type": "integer"
        },
        {
         "name": "base_imponible_lag1",
         "rawType": "float64",
         "type": "float"
        }
       ],
       "ref": "e495cec3-a921-4468-a16a-b658f1d998b4",
       "rows": [
        [
         "0",
         "635.99"
        ],
        [
         "1",
         "673.6"
        ],
        [
         "2",
         "546.93"
        ],
        [
         "3",
         "612.87"
        ],
        [
         "4",
         "714.39"
        ],
        [
         "5",
         "620.41"
        ],
        [
         "6",
         "1515.87"
        ],
        [
         "7",
         "894.2"
        ],
        [
         "8",
         "891.38"
        ],
        [
         "9",
         "842.62"
        ],
        [
         "10",
         "810.97"
        ],
        [
         "11",
         "756.42"
        ],
        [
         "12",
         "802.16"
        ],
        [
         "13",
         "881.72"
        ],
        [
         "14",
         "1015.97"
        ]
       ],
       "shape": {
        "columns": 1,
        "rows": 15
       }
      },
      "text/plain": [
       "0      635.99\n",
       "1      673.60\n",
       "2      546.93\n",
       "3      612.87\n",
       "4      714.39\n",
       "5      620.41\n",
       "6     1515.87\n",
       "7      894.20\n",
       "8      891.38\n",
       "9      842.62\n",
       "10     810.97\n",
       "11     756.42\n",
       "12     802.16\n",
       "13     881.72\n",
       "14    1015.97\n",
       "Name: base_imponible_lag1, dtype: float64"
      ]
     },
     "execution_count": 53,
     "metadata": {},
     "output_type": "execute_result"
    }
   ],
   "source": [
    "model_bs1 = BaselineModelPreviousWeek()\n",
    "\n",
    "predictions_bs1 = model_bs1.predict(X_test)\n",
    "predictions_bs1"
   ]
  },
  {
   "cell_type": "code",
   "execution_count": null,
   "id": "6d16d862",
   "metadata": {},
   "outputs": [
    {
     "name": "stdout",
     "output_type": "stream",
     "text": [
      "MAE Baseline Previous Week: 156.0927\n",
      "MSE Baseline Previous Week: 84138.5346\n"
     ]
    }
   ],
   "source": [
    "# Evaluación del modelo\n",
    "\n",
    "from sklearn.metrics import mean_absolute_error, mean_squared_error\n",
    "\n",
    "test_mae_bs1 = mean_absolute_error(y_test, predictions_bs1)\n",
    "test_mse_bs1 = mean_squared_error(y_test, predictions_bs1)\n",
    "\n",
    "print(f\"MAE Baseline Previous Week: {test_mae_bs1:.4f}\")\n",
    "print(f\"MSE Baseline Previous Week: {test_mse_bs1:.4f}\")\n"
   ]
  },
  {
   "cell_type": "markdown",
   "id": "a1e9d418",
   "metadata": {},
   "source": [
    "# Entrenamos Baseline II\n",
    "\n",
    "Este baseline va a predecir con la media de las últimas 4 semanas"
   ]
  },
  {
   "cell_type": "code",
   "execution_count": 67,
   "id": "e9c6b63a",
   "metadata": {},
   "outputs": [],
   "source": [
    "import numpy as np\n",
    "\n",
    "class BaselineModelMeanLast4Weeks:\n",
    "    \"\"\"\n",
    "    Predicción basada en la media de las 4 últimas semanas (lag1, lag2, lag3, lag4).\n",
    "    \"\"\"\n",
    "\n",
    "    def fit(self, X_train: pd.DataFrame, y_train: pd.Series):\n",
    "        pass\n",
    "\n",
    "    def predict(self, X_test: pd.DataFrame) -> np.array:\n",
    "        # Predecir usando la media de las 4 últimas semanas\n",
    "        lags = ['base_imponible_lag1', 'base_imponible_lag2', 'base_imponible_lag3', 'base_imponible_lag4']\n",
    "        return X_test[lags].mean(axis=1).values\n"
   ]
  },
  {
   "cell_type": "code",
   "execution_count": 68,
   "id": "f680e27b",
   "metadata": {},
   "outputs": [
    {
     "data": {
      "text/plain": [
       "array([ 662.5975,  652.27  ,  645.56  ,  617.3475,  636.9475,  623.65  ,\n",
       "        865.885 ,  936.2175,  980.465 , 1036.0175,  859.7925,  825.3475,\n",
       "        803.0425,  812.8175,  864.0675])"
      ]
     },
     "execution_count": 68,
     "metadata": {},
     "output_type": "execute_result"
    }
   ],
   "source": [
    "model_bs2 = BaselineModelMeanLast4Weeks()\n",
    "# Predecir usando la media de las 4 últimas semanas\n",
    "\n",
    "predictions_bs2 = model_bs2.predict(X_test)\n",
    "predictions_bs2"
   ]
  },
  {
   "cell_type": "code",
   "execution_count": 69,
   "id": "f8adb60c",
   "metadata": {},
   "outputs": [
    {
     "name": "stdout",
     "output_type": "stream",
     "text": [
      "MAE Baseline Mean 4 Previous Weeks: 143.3307\n",
      "MSE Baseline Mean 4 Previous Week: 64792.4056\n"
     ]
    }
   ],
   "source": [
    "# Evaluación del modelo\n",
    "from sklearn.metrics import mean_absolute_error, mean_squared_error\n",
    "test_mae_bs2 = mean_absolute_error(y_test, predictions_bs2)\n",
    "test_mse_bs2 = mean_squared_error(y_test, predictions_bs2)\n",
    "\n",
    "print(f\"MAE Baseline Mean 4 Previous Weeks: {test_mae_bs2:.4f}\")\n",
    "print(f\"MSE Baseline Mean 4 Previous Week: {test_mse_bs2:.4f}\")"
   ]
  },
  {
   "cell_type": "markdown",
   "id": "a5f4749c",
   "metadata": {},
   "source": [
    "# Entrenamos Baseline III\n",
    "\n",
    "Este baseline va a predecir con los datos de la misma semana del año anterior "
   ]
  },
  {
   "cell_type": "code",
   "execution_count": 70,
   "id": "cd9eae02",
   "metadata": {},
   "outputs": [],
   "source": [
    "import numpy as np\n",
    "\n",
    "class BaselineModelSameWeekLastYear:\n",
    "    \"\"\"\n",
    "    Predicción basada en los datos de la misma semana del año anterior.\n",
    "    \"\"\"\n",
    "\n",
    "    def fit(self, X_train: pd.DataFrame, y_train: pd.Series):\n",
    "        pass\n",
    "\n",
    "    def predict(self, X_test: pd.DataFrame) -> np.array:\n",
    "        # Predecir usando la misma semana del año anterior\n",
    "        # Aquí asumimos que 'base_imponible_lag52' es la columna con los datos de la semana del año anterior    \n",
    "        lags = ['base_imponible_lag52']\n",
    "        return X_test[lags].mean(axis=1).values"
   ]
  },
  {
   "cell_type": "code",
   "execution_count": 71,
   "id": "27e1300a",
   "metadata": {},
   "outputs": [
    {
     "data": {
      "text/plain": [
       "array([ 561.28,  569.69,  639.09,  706.42, 1460.7 ,  823.62,  679.21,\n",
       "        744.58,  677.46,  915.18,  828.3 ,  854.34,  782.38,  708.74,\n",
       "        737.77])"
      ]
     },
     "execution_count": 71,
     "metadata": {},
     "output_type": "execute_result"
    }
   ],
   "source": [
    "model_bs3 = BaselineModelSameWeekLastYear()\n",
    "# Predecir usando la misma semana del año anterior\n",
    "\n",
    "predictions_bs3 = model_bs3.predict(X_test)\n",
    "predictions_bs3"
   ]
  },
  {
   "cell_type": "code",
   "execution_count": 72,
   "id": "0ebb5fca",
   "metadata": {},
   "outputs": [
    {
     "name": "stdout",
     "output_type": "stream",
     "text": [
      "MAE Baseline same week last year: 209.3727\n",
      "MSE Baseline same week last year: 99597.4867\n"
     ]
    }
   ],
   "source": [
    "# Evaluación del modelo\n",
    "from sklearn.metrics import mean_absolute_error, mean_squared_error\n",
    "test_mae_bs3 = mean_absolute_error(y_test, predictions_bs3)\n",
    "test_mse_bs3 = mean_squared_error(y_test, predictions_bs3)\n",
    "\n",
    "print(f\"MAE Baseline same week last year: {test_mae_bs3:.4f}\")\n",
    "print(f\"MSE Baseline same week last year: {test_mse_bs3:.4f}\")"
   ]
  },
  {
   "cell_type": "markdown",
   "id": "b36f15cf",
   "metadata": {},
   "source": [
    "# Entrenamos baseline IV\n",
    "\n",
    "Este baseline va a predecir con los datos de las últimas 24 semanas"
   ]
  },
  {
   "cell_type": "code",
   "execution_count": 102,
   "id": "95f37206",
   "metadata": {},
   "outputs": [],
   "source": [
    "import numpy as np\n",
    "\n",
    "class BaselineModelMeanLast24Weeks:\n",
    "    \"\"\"\n",
    "    Predicción en la media de las últimas 12 semanas.\n",
    "    \"\"\"\n",
    "\n",
    "    def fit(self, X_train: pd.DataFrame, y_train: pd.Series):\n",
    "        pass\n",
    "\n",
    "    def predict(self, X_test: pd.DataFrame) -> np.array:\n",
    "        # Predecir usando la media de las últimas 24 semanas\n",
    "        # Aquí asumimos que 'base_imponible_lag24' es la columna con los datos de las últimas 12 semanas   \n",
    "        lags = ['base_imponible_lag12']\n",
    "        return X_test[lags].mean(axis=1).values"
   ]
  },
  {
   "cell_type": "code",
   "execution_count": 103,
   "id": "64915488",
   "metadata": {},
   "outputs": [
    {
     "data": {
      "text/plain": [
       "array([636.84, 571.22, 534.36, 564.57, 541.98, 649.69, 691.44, 667.37,\n",
       "       714.91, 573.77, 725.72, 635.99, 673.6 , 546.93, 612.87])"
      ]
     },
     "execution_count": 103,
     "metadata": {},
     "output_type": "execute_result"
    }
   ],
   "source": [
    "model_bs4 = BaselineModelMeanLast24Weeks()\n",
    "# Predecir usando la media de las últimas 24 semanas\n",
    "\n",
    "predictions_bs4 = model_bs4.predict(X_test)\n",
    "predictions_bs4"
   ]
  },
  {
   "cell_type": "code",
   "execution_count": 104,
   "id": "7517d600",
   "metadata": {},
   "outputs": [
    {
     "name": "stdout",
     "output_type": "stream",
     "text": [
      "MAE Baseline Mean last 12 weeks: 220.1060\n",
      "MSE Baseline Mean last 12 weeks: 93614.5987\n"
     ]
    }
   ],
   "source": [
    "# Evaluación del modelo\n",
    "from sklearn.metrics import mean_absolute_error, mean_squared_error\n",
    "test_mae_bs4 = mean_absolute_error(y_test, predictions_bs4)\n",
    "test_mse_bs4 = mean_squared_error(y_test, predictions_bs4)\n",
    "\n",
    "print(f\"MAE Baseline Mean last 12 weeks: {test_mae_bs4:.4f}\")\n",
    "print(f\"MSE Baseline Mean last 12 weeks: {test_mse_bs4:.4f}\")"
   ]
  },
  {
   "cell_type": "markdown",
   "id": "07f28d83",
   "metadata": {},
   "source": [
    "# Entrenamos Baseline V\n",
    "\n",
    "ESte modelo va a predecir con la media de los lags de las últimas 4 semanas, 12, 24 y 52"
   ]
  },
  {
   "cell_type": "code",
   "execution_count": 99,
   "id": "34ef07c2",
   "metadata": {},
   "outputs": [],
   "source": [
    "import numpy as np\n",
    "\n",
    "class BaselineModelMeanLags:\n",
    "    \"\"\"\n",
    "    Predicción basada en la media de lags (lag1, lag12, lag24, lag52).\n",
    "    \"\"\"\n",
    "\n",
    "    def fit(self, X_train: pd.DataFrame, y_train: pd.Series):\n",
    "        pass\n",
    "\n",
    "    def predict(self, X_test: pd.DataFrame) -> np.array:\n",
    "        # Predecir usando la media de las 4 últimas semanas\n",
    "        lags = ['base_imponible_lag1', 'base_imponible_lag2', 'base_imponible_lag3','base_imponible_lag4','base_imponible_lag12', 'base_imponible_lag24', 'base_imponible_lag52']\n",
    "        return X_test[lags].mean(axis=1).values"
   ]
  },
  {
   "cell_type": "code",
   "execution_count": 100,
   "id": "586404a2",
   "metadata": {},
   "outputs": [
    {
     "data": {
      "text/plain": [
       "array([699.72571429, 647.73      , 657.46142857, 650.04428571,\n",
       "       765.52285714, 682.71142857, 792.29571429, 842.41142857,\n",
       "       855.91857143, 914.73571429, 821.39571429, 770.92428571,\n",
       "       757.85571429, 725.45142857, 763.03857143])"
      ]
     },
     "execution_count": 100,
     "metadata": {},
     "output_type": "execute_result"
    }
   ],
   "source": [
    "model_bs5 = BaselineModelMeanLags()\n",
    "\n",
    "\n",
    "predictions_bs5 = model_bs5.predict(X_test)\n",
    "predictions_bs5"
   ]
  },
  {
   "cell_type": "code",
   "execution_count": 101,
   "id": "65990bea",
   "metadata": {},
   "outputs": [
    {
     "name": "stdout",
     "output_type": "stream",
     "text": [
      "MAE Baseline Mean Lags: 149.6258\n",
      "MSE Baseline Mean Lags: 61614.2719\n"
     ]
    }
   ],
   "source": [
    "# Evaluación del modelo\n",
    "from sklearn.metrics import mean_absolute_error, mean_squared_error\n",
    "test_mae_bs5 = mean_absolute_error(y_test, predictions_bs5)\n",
    "test_mse_bs5 = mean_squared_error(y_test, predictions_bs5)\n",
    "\n",
    "print(f\"MAE Baseline Mean Lags: {test_mae_bs5:.4f}\")\n",
    "print(f\"MSE Baseline Mean Lags: {test_mse_bs5:.4f}\")"
   ]
  }
 ],
 "metadata": {
  "kernelspec": {
   "display_name": "mlops-project-py3.10",
   "language": "python",
   "name": "python3"
  },
  "language_info": {
   "codemirror_mode": {
    "name": "ipython",
    "version": 3
   },
   "file_extension": ".py",
   "mimetype": "text/x-python",
   "name": "python",
   "nbconvert_exporter": "python",
   "pygments_lexer": "ipython3",
   "version": "3.10.0"
  }
 },
 "nbformat": 4,
 "nbformat_minor": 5
}
