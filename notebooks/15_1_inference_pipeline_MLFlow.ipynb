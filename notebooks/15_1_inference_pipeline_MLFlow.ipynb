{
 "cells": [
  {
   "cell_type": "code",
   "execution_count": 103,
   "id": "49a11178",
   "metadata": {},
   "outputs": [],
   "source": [
    "import sys\n",
    "from pathlib import Path\n",
    "from datetime import datetime\n",
    "\n",
    "# Añade src al path para importar los módulos\n",
    "sys.path.append(str(Path().resolve().parent / 'src'))\n",
    "import config"
   ]
  },
  {
   "cell_type": "code",
   "execution_count": 104,
   "id": "45156616",
   "metadata": {},
   "outputs": [
    {
     "name": "stdout",
     "output_type": "stream",
     "text": [
      "The autoreload extension is already loaded. To reload it, use:\n",
      "  %reload_ext autoreload\n"
     ]
    }
   ],
   "source": [
    "%load_ext autoreload\n",
    "%autoreload 2"
   ]
  },
  {
   "cell_type": "code",
   "execution_count": 105,
   "id": "573cab3d",
   "metadata": {},
   "outputs": [
    {
     "name": "stdout",
     "output_type": "stream",
     "text": [
      "2025-08-24 13:10:10,982 INFO: Closing external client and cleaning up certificates.\n",
      "Connection closed.\n",
      "2025-08-24 13:10:10,986 INFO: Initializing external client\n",
      "2025-08-24 13:10:10,987 INFO: Base URL: https://c.app.hopsworks.ai:443\n",
      "Connection closed.\n",
      "2025-08-24 13:10:10,986 INFO: Initializing external client\n",
      "2025-08-24 13:10:10,987 INFO: Base URL: https://c.app.hopsworks.ai:443\n"
     ]
    },
    {
     "name": "stderr",
     "output_type": "stream",
     "text": [
      "\n",
      "\n",
      "UserWarning: The installed hopsworks client version 4.3.1 may not be compatible with the connected Hopsworks backend version 4.2.2. \n",
      "To ensure compatibility please install the latest bug fix release matching the minor version of your backend (4.2) by running 'pip install hopsworks==4.2.*'\n"
     ]
    },
    {
     "name": "stdout",
     "output_type": "stream",
     "text": [
      "2025-08-24 13:10:12,048 INFO: Python Engine initialized.\n",
      "\n",
      "Logged in to project, explore it here https://c.app.hopsworks.ai:443/p/1242272\n",
      "Conectado a proyecto: fleca_mlops\n",
      "Conectado al feature store: fleca_mlops_featurestore\n",
      "\n",
      "Logged in to project, explore it here https://c.app.hopsworks.ai:443/p/1242272\n",
      "Conectado a proyecto: fleca_mlops\n",
      "Conectado al feature store: fleca_mlops_featurestore\n"
     ]
    }
   ],
   "source": [
    "import hopsworks\n",
    "\n",
    "# Conexión a hopsworks y proyecto   \n",
    "project = hopsworks.login(project=config.HOPSWORKS_PROJECT_NAME, api_key_value=config.HOPSWORKS_API_KEY)\n",
    "feature_store = project.get_feature_store()\n",
    "\n",
    "\n",
    "print(\"Conectado a proyecto:\", project.name)\n",
    "print(\"Conectado al feature store:\", feature_store.name)\n"
   ]
  },
  {
   "cell_type": "code",
   "execution_count": 106,
   "id": "4f5d41de",
   "metadata": {},
   "outputs": [
    {
     "name": "stdout",
     "output_type": "stream",
     "text": [
      "Finished: Reading data from Hopsworks, using Hopsworks Feature Query Service (0.72s) \n",
      "Finished: Reading data from Hopsworks, using Hopsworks Feature Query Service (0.72s) \n"
     ]
    },
    {
     "data": {
      "application/vnd.microsoft.datawrangler.viewer.v0+json": {
       "columns": [
        {
         "name": "index",
         "rawType": "int64",
         "type": "integer"
        },
        {
         "name": "familia",
         "rawType": "object",
         "type": "string"
        },
        {
         "name": "base_imponible",
         "rawType": "float64",
         "type": "float"
        },
        {
         "name": "is_summer_peak",
         "rawType": "int32",
         "type": "integer"
        },
        {
         "name": "is_easter",
         "rawType": "int64",
         "type": "integer"
        },
        {
         "name": "week_start",
         "rawType": "datetime64[us, Etc/UTC]",
         "type": "unknown"
        }
       ],
       "ref": "3127d652-7835-49d6-a886-1a967fe08514",
       "rows": [
        [
         "0",
         "BOLLERIA",
         "825.11",
         "0",
         "0",
         "2023-01-02 00:00:00+00:00"
        ],
        [
         "1",
         "BOLLERIA",
         "658.4",
         "0",
         "0",
         "2023-01-09 00:00:00+00:00"
        ],
        [
         "2",
         "BOLLERIA",
         "741.4",
         "0",
         "0",
         "2023-01-16 00:00:00+00:00"
        ],
        [
         "3",
         "BOLLERIA",
         "653.64",
         "0",
         "0",
         "2023-01-23 00:00:00+00:00"
        ],
        [
         "4",
         "BOLLERIA",
         "680.46",
         "0",
         "0",
         "2023-01-30 00:00:00+00:00"
        ]
       ],
       "shape": {
        "columns": 5,
        "rows": 5
       }
      },
      "text/html": [
       "<div>\n",
       "<style scoped>\n",
       "    .dataframe tbody tr th:only-of-type {\n",
       "        vertical-align: middle;\n",
       "    }\n",
       "\n",
       "    .dataframe tbody tr th {\n",
       "        vertical-align: top;\n",
       "    }\n",
       "\n",
       "    .dataframe thead th {\n",
       "        text-align: right;\n",
       "    }\n",
       "</style>\n",
       "<table border=\"1\" class=\"dataframe\">\n",
       "  <thead>\n",
       "    <tr style=\"text-align: right;\">\n",
       "      <th></th>\n",
       "      <th>familia</th>\n",
       "      <th>base_imponible</th>\n",
       "      <th>is_summer_peak</th>\n",
       "      <th>is_easter</th>\n",
       "      <th>week_start</th>\n",
       "    </tr>\n",
       "  </thead>\n",
       "  <tbody>\n",
       "    <tr>\n",
       "      <th>0</th>\n",
       "      <td>BOLLERIA</td>\n",
       "      <td>825.11</td>\n",
       "      <td>0</td>\n",
       "      <td>0</td>\n",
       "      <td>2023-01-02 00:00:00+00:00</td>\n",
       "    </tr>\n",
       "    <tr>\n",
       "      <th>1</th>\n",
       "      <td>BOLLERIA</td>\n",
       "      <td>658.40</td>\n",
       "      <td>0</td>\n",
       "      <td>0</td>\n",
       "      <td>2023-01-09 00:00:00+00:00</td>\n",
       "    </tr>\n",
       "    <tr>\n",
       "      <th>2</th>\n",
       "      <td>BOLLERIA</td>\n",
       "      <td>741.40</td>\n",
       "      <td>0</td>\n",
       "      <td>0</td>\n",
       "      <td>2023-01-16 00:00:00+00:00</td>\n",
       "    </tr>\n",
       "    <tr>\n",
       "      <th>3</th>\n",
       "      <td>BOLLERIA</td>\n",
       "      <td>653.64</td>\n",
       "      <td>0</td>\n",
       "      <td>0</td>\n",
       "      <td>2023-01-23 00:00:00+00:00</td>\n",
       "    </tr>\n",
       "    <tr>\n",
       "      <th>4</th>\n",
       "      <td>BOLLERIA</td>\n",
       "      <td>680.46</td>\n",
       "      <td>0</td>\n",
       "      <td>0</td>\n",
       "      <td>2023-01-30 00:00:00+00:00</td>\n",
       "    </tr>\n",
       "  </tbody>\n",
       "</table>\n",
       "</div>"
      ],
      "text/plain": [
       "    familia  base_imponible  is_summer_peak  is_easter  \\\n",
       "0  BOLLERIA          825.11               0          0   \n",
       "1  BOLLERIA          658.40               0          0   \n",
       "2  BOLLERIA          741.40               0          0   \n",
       "3  BOLLERIA          653.64               0          0   \n",
       "4  BOLLERIA          680.46               0          0   \n",
       "\n",
       "                 week_start  \n",
       "0 2023-01-02 00:00:00+00:00  \n",
       "1 2023-01-09 00:00:00+00:00  \n",
       "2 2023-01-16 00:00:00+00:00  \n",
       "3 2023-01-23 00:00:00+00:00  \n",
       "4 2023-01-30 00:00:00+00:00  "
      ]
     },
     "execution_count": 106,
     "metadata": {},
     "output_type": "execute_result"
    }
   ],
   "source": [
    "from datetime import timedelta\n",
    "import pandas as pd\n",
    "\n",
    "FG_NAME = \"times_series_bolleria_feature_group\"\n",
    "FV_NAME = \"times_series_bolleria_feature_view\"\n",
    "FV_VERSION = 1\n",
    "\n",
    "# Lectura batch cruda de feature views\n",
    "feature_views= feature_store.get_feature_view(name=FV_NAME, version=FV_VERSION)\n",
    "ts_df = feature_views.get_batch_data(\n",
    "    start_date=None,\n",
    "    end_date=None,\n",
    "    features=None,\n",
    "    )\n",
    "\n",
    "# Reseteo de índice y ordenación por la columna de fecha antes de visualizar\n",
    "ts_df = ts_df.sort_values('week_start').reset_index(drop=True)\n",
    "ts_df.head(5)"
   ]
  },
  {
   "cell_type": "code",
   "execution_count": 107,
   "id": "1dd0fc35",
   "metadata": {},
   "outputs": [
    {
     "name": "stdout",
     "output_type": "stream",
     "text": [
      "2025-08-24 13:10:26,097 INFO: Usando DataFrame de entrada: (133, 5)\n",
      "2025-08-24 13:10:26,100 INFO: Retornando DataFrame combinado: (80, 8)\n",
      "2025-08-24 13:10:26,100 INFO: Retornando DataFrame combinado: (80, 8)\n"
     ]
    },
    {
     "data": {
      "application/vnd.microsoft.datawrangler.viewer.v0+json": {
       "columns": [
        {
         "name": "index",
         "rawType": "int64",
         "type": "integer"
        },
        {
         "name": "base_imponible_lag1",
         "rawType": "float64",
         "type": "float"
        },
        {
         "name": "base_imponible_lag2",
         "rawType": "float64",
         "type": "float"
        },
        {
         "name": "base_imponible_lag3",
         "rawType": "float64",
         "type": "float"
        },
        {
         "name": "base_imponible_lag52",
         "rawType": "float64",
         "type": "float"
        },
        {
         "name": "is_easter",
         "rawType": "int64",
         "type": "integer"
        },
        {
         "name": "is_summer_peak",
         "rawType": "int32",
         "type": "integer"
        },
        {
         "name": "week_start",
         "rawType": "datetime64[us, Etc/UTC]",
         "type": "unknown"
        },
        {
         "name": "target",
         "rawType": "float64",
         "type": "float"
        }
       ],
       "ref": "d898d95e-f18b-444f-92ca-1ab544e20838",
       "rows": [
        [
         "0",
         "572.51",
         "534.79",
         "563.18",
         "825.11",
         "0",
         "0",
         "2024-01-15 00:00:00+00:00",
         "680.3"
        ],
        [
         "1",
         "597.65",
         "572.51",
         "534.79",
         "658.4",
         "0",
         "0",
         "2024-01-22 00:00:00+00:00",
         "603.99"
        ],
        [
         "2",
         "680.3",
         "597.65",
         "572.51",
         "741.4",
         "0",
         "0",
         "2024-01-29 00:00:00+00:00",
         "600.14"
        ],
        [
         "3",
         "603.99",
         "680.3",
         "597.65",
         "653.64",
         "0",
         "0",
         "2024-02-05 00:00:00+00:00",
         "689.32"
        ],
        [
         "4",
         "600.14",
         "603.99",
         "680.3",
         "680.46",
         "0",
         "0",
         "2024-02-12 00:00:00+00:00",
         "627.76"
        ]
       ],
       "shape": {
        "columns": 8,
        "rows": 5
       }
      },
      "text/html": [
       "<div>\n",
       "<style scoped>\n",
       "    .dataframe tbody tr th:only-of-type {\n",
       "        vertical-align: middle;\n",
       "    }\n",
       "\n",
       "    .dataframe tbody tr th {\n",
       "        vertical-align: top;\n",
       "    }\n",
       "\n",
       "    .dataframe thead th {\n",
       "        text-align: right;\n",
       "    }\n",
       "</style>\n",
       "<table border=\"1\" class=\"dataframe\">\n",
       "  <thead>\n",
       "    <tr style=\"text-align: right;\">\n",
       "      <th></th>\n",
       "      <th>base_imponible_lag1</th>\n",
       "      <th>base_imponible_lag2</th>\n",
       "      <th>base_imponible_lag3</th>\n",
       "      <th>base_imponible_lag52</th>\n",
       "      <th>is_easter</th>\n",
       "      <th>is_summer_peak</th>\n",
       "      <th>week_start</th>\n",
       "      <th>target</th>\n",
       "    </tr>\n",
       "  </thead>\n",
       "  <tbody>\n",
       "    <tr>\n",
       "      <th>0</th>\n",
       "      <td>572.51</td>\n",
       "      <td>534.79</td>\n",
       "      <td>563.18</td>\n",
       "      <td>825.11</td>\n",
       "      <td>0</td>\n",
       "      <td>0</td>\n",
       "      <td>2024-01-15 00:00:00+00:00</td>\n",
       "      <td>680.30</td>\n",
       "    </tr>\n",
       "    <tr>\n",
       "      <th>1</th>\n",
       "      <td>597.65</td>\n",
       "      <td>572.51</td>\n",
       "      <td>534.79</td>\n",
       "      <td>658.40</td>\n",
       "      <td>0</td>\n",
       "      <td>0</td>\n",
       "      <td>2024-01-22 00:00:00+00:00</td>\n",
       "      <td>603.99</td>\n",
       "    </tr>\n",
       "    <tr>\n",
       "      <th>2</th>\n",
       "      <td>680.30</td>\n",
       "      <td>597.65</td>\n",
       "      <td>572.51</td>\n",
       "      <td>741.40</td>\n",
       "      <td>0</td>\n",
       "      <td>0</td>\n",
       "      <td>2024-01-29 00:00:00+00:00</td>\n",
       "      <td>600.14</td>\n",
       "    </tr>\n",
       "    <tr>\n",
       "      <th>3</th>\n",
       "      <td>603.99</td>\n",
       "      <td>680.30</td>\n",
       "      <td>597.65</td>\n",
       "      <td>653.64</td>\n",
       "      <td>0</td>\n",
       "      <td>0</td>\n",
       "      <td>2024-02-05 00:00:00+00:00</td>\n",
       "      <td>689.32</td>\n",
       "    </tr>\n",
       "    <tr>\n",
       "      <th>4</th>\n",
       "      <td>600.14</td>\n",
       "      <td>603.99</td>\n",
       "      <td>680.30</td>\n",
       "      <td>680.46</td>\n",
       "      <td>0</td>\n",
       "      <td>0</td>\n",
       "      <td>2024-02-12 00:00:00+00:00</td>\n",
       "      <td>627.76</td>\n",
       "    </tr>\n",
       "  </tbody>\n",
       "</table>\n",
       "</div>"
      ],
      "text/plain": [
       "   base_imponible_lag1  base_imponible_lag2  base_imponible_lag3  \\\n",
       "0               572.51               534.79               563.18   \n",
       "1               597.65               572.51               534.79   \n",
       "2               680.30               597.65               572.51   \n",
       "3               603.99               680.30               597.65   \n",
       "4               600.14               603.99               680.30   \n",
       "\n",
       "   base_imponible_lag52  is_easter  is_summer_peak                week_start  \\\n",
       "0                825.11          0               0 2024-01-15 00:00:00+00:00   \n",
       "1                658.40          0               0 2024-01-22 00:00:00+00:00   \n",
       "2                741.40          0               0 2024-01-29 00:00:00+00:00   \n",
       "3                653.64          0               0 2024-02-05 00:00:00+00:00   \n",
       "4                680.46          0               0 2024-02-12 00:00:00+00:00   \n",
       "\n",
       "   target  \n",
       "0  680.30  \n",
       "1  603.99  \n",
       "2  600.14  \n",
       "3  689.32  \n",
       "4  627.76  "
      ]
     },
     "execution_count": 107,
     "metadata": {},
     "output_type": "execute_result"
    }
   ],
   "source": [
    "from src.model import transformar_features_target\n",
    "\n",
    "# Procesar datos usando la función mejorada que acepta tuplas directamente\n",
    "ts_df = transformar_features_target(\n",
    "    ts_df,\n",
    "    lags_list=[1, 2, 3, 52], \n",
    "    columna_target='base_imponible',\n",
    "    cols_exogenas=['is_easter', 'is_summer_peak'],\n",
    "    periodos_adelante=1,\n",
    "    eliminar_nulos=True,\n",
    "    return_format='dataframe'  # Obtenemos un único DataFrame con features y target\n",
    ")\n",
    "\n",
    "# Resetear el índice\n",
    "ts_df = ts_df.reset_index(drop=True)\n",
    "\n",
    "# Mostrar las primeras filas del DataFrame transformado\n",
    "ts_df.head(5)"
   ]
  },
  {
   "cell_type": "code",
   "execution_count": 108,
   "id": "34c52a54",
   "metadata": {},
   "outputs": [
    {
     "name": "stdout",
     "output_type": "stream",
     "text": [
      "Modelo cargado: mlflow.pyfunc.loaded_model:\n",
      "  artifact_path: file:///C:/Workspace/mlops_fleca_project/mlruns/5/models/m-ba35a128968c4b91a5792e5e52edc8b2/artifacts\n",
      "  flavor: mlflow.sklearn\n",
      "  run_id: 2e4c1ecb6ff34f778d1ee9df56566402\n",
      "\n"
     ]
    }
   ],
   "source": [
    "# Cargamos el modelo para predecir\n",
    "import mlflow.pyfunc\n",
    "\n",
    "MODEL_NAME = 'RandomForest'\n",
    "MODEL_VERSION = 1 # Debe ser un entero, no un string\n",
    "\n",
    "model = mlflow.pyfunc.load_model(model_uri=f'models:/{MODEL_NAME}/{MODEL_VERSION}')\n",
    "print('Modelo cargado:', model)\n"
   ]
  },
  {
   "cell_type": "code",
   "execution_count": 109,
   "id": "6646a6d3",
   "metadata": {},
   "outputs": [
    {
     "name": "stdout",
     "output_type": "stream",
     "text": [
      "=== PREDICCIÓN DIRECTA DE LA PRÓXIMA SEMANA ===\n",
      "Fecha predicha: 2025-08-11\n",
      "Predicción base_imponible: 1656.61\n",
      "                 week_start  predicted_base_imponible\n",
      "0 2025-08-11 00:00:00+00:00                 1656.6125\n"
     ]
    }
   ],
   "source": [
    "# Predicción directa para la próxima semana (sin autoregresión)\n",
    "from datetime import timedelta\n",
    "\n",
    "print(\"=== PREDICCIÓN DIRECTA DE LA PRÓXIMA SEMANA ===\")\n",
    "\n",
    "# Selecciona las columnas de features (excluye las que no son usadas por el modelo)\n",
    "feature_names = [col for col in ts_df.columns if col not in ['week_start', 'target']]\n",
    "\n",
    "# Tomar la última fila y preparar los features para la próxima semana\n",
    "ultimo_lunes = ts_df['week_start'].max()\n",
    "last_row = ts_df.iloc[-1].copy()\n",
    "fecha_siguiente = ultimo_lunes + timedelta(days=7)\n",
    "last_row['week_start'] = fecha_siguiente\n",
    "\n",
    "# Usar DataFrame para evitar el warning de nombres de features\n",
    "X = pd.DataFrame([last_row[feature_names].values], columns=feature_names)\n",
    "prediccion = model.predict(X)[0]\n",
    "\n",
    "print(f\"Fecha predicha: {fecha_siguiente.date()}\")\n",
    "print(f\"Predicción base_imponible: {prediccion:.2f}\")\n",
    "\n",
    "prediccion = pd.DataFrame({\n",
    "    'week_start': [fecha_siguiente],\n",
    "    'predicted_base_imponible': [prediccion]\n",
    "})\n",
    "print(prediccion)"
   ]
  },
  {
   "cell_type": "code",
   "execution_count": null,
   "id": "d4e84bc0",
   "metadata": {},
   "outputs": [
    {
     "data": {
      "text/plain": [
       "<Experiment: artifact_location='file:///C:/Workspace/mlops_fleca_project/mlruns/6', creation_time=1756034135167, experiment_id='6', last_update_time=1756034135167, lifecycle_stage='active', name='fleca_bolleria_inference', tags={}>"
      ]
     },
     "execution_count": 112,
     "metadata": {},
     "output_type": "execute_result"
    }
   ],
   "source": [
    "if mlflow.active_run():\n",
    "    mlflow.end_run()\n",
    "    \n",
    "# Crear o seleccionar experimento\n",
    "from mlflow.tracking import MlflowClient\n",
    "client = MlflowClient()\n",
    "experiment_name = \"fleca_bolleria_inference\"\n",
    "experiment = client.get_experiment_by_name(experiment_name)\n",
    "if experiment is None:\n",
    "    experiment_id = mlflow.create_experiment(experiment_name)\n",
    "else:\n",
    "    experiment_id = experiment.experiment_id\n",
    "mlflow.set_experiment(experiment_name)"
   ]
  },
  {
   "cell_type": "code",
   "execution_count": 113,
   "id": "015beaa8",
   "metadata": {},
   "outputs": [
    {
     "name": "stdout",
     "output_type": "stream",
     "text": [
      "Predicciones guardadas en predicciones_batch.csv\n",
      "🏃 View run Batch Inference at: http://127.0.0.1:5000/#/experiments/6/runs/5079dc5f60824d32b19e84c3464ae4f2\n",
      "🧪 View experiment at: http://127.0.0.1:5000/#/experiments/6\n"
     ]
    }
   ],
   "source": [
    "import mlflow\n",
    "mlflow.set_tracking_uri(\"http://127.0.0.1:5000\")\n",
    "mlflow.set_experiment(\"fleca_bolleria_inference\")  \n",
    "\n",
    "# Guardar solo la predicción y loguear como artefacto en MLflow\n",
    "output_path = Path(\"predicciones_batch.csv\")\n",
    "df_predicciones = pd.DataFrame(prediccion)\n",
    "df_predicciones.to_csv(output_path, index=False)\n",
    "print(f'Predicciones guardadas en {output_path}')\n",
    "\n",
    "with mlflow.start_run(run_name=\"Batch Inference\"):\n",
    "    mlflow.log_artifact(output_path)\n",
    "\n"
   ]
  },
  {
   "cell_type": "code",
   "execution_count": 114,
   "id": "7cb20ac8",
   "metadata": {},
   "outputs": [
    {
     "name": "stdout",
     "output_type": "stream",
     "text": [
      "Modelo 'RandomForest' version '1' cargado desde el Model Registry de MLflow.\n",
      "Predicciones guardadas en predicciones_batch.csv\n",
      "Proceso de inferencia trackeado correctamente desde MLflow.\n",
      "🏃 View run Batch Inference at: http://127.0.0.1:5000/#/experiments/6/runs/100aa03055494acd86621619071d1801\n",
      "🧪 View experiment at: http://127.0.0.1:5000/#/experiments/6\n"
     ]
    }
   ],
   "source": [
    "# Run de inferencia\n",
    "# Iniciar run de inferencia\n",
    "\n",
    "if mlflow.active_run():\n",
    "    mlflow.end_run()\n",
    "\n",
    "with mlflow.start_run(run_name=\"Batch Inference\"):\n",
    "    # Cargar modelo desde Model Registry\n",
    "    model_uri = f\"models:/{MODEL_NAME}/{MODEL_VERSION}\"  # Usa variables para nombre y versión\n",
    "    model = mlflow.pyfunc.load_model(model_uri)\n",
    "    mlflow.log_param(\"model_name\", MODEL_NAME)\n",
    "    mlflow.log_param(\"model_version\", MODEL_VERSION)\n",
    "\n",
    "    print(f\"Modelo '{MODEL_NAME}' version '{MODEL_VERSION}' cargado desde el Model Registry de MLflow.\")\n",
    "\n",
    "    # Predecir\n",
    "    X = ts_df[feature_names]  # Usa DataFrame de features\n",
    "    prediccion = model.predict(X)\n",
    "\n",
    "    # Guardar predicciones\n",
    "    df_predicciones = pd.DataFrame(prediccion, columns=['predicted_base_imponible'])\n",
    "    df_output = pd.concat([ts_df[['week_start']].reset_index(drop=True), df_predicciones], axis=1)\n",
    "    df_output.to_csv(output_path, index=False)\n",
    "    print(f'Predicciones guardadas en {output_path}')\n",
    "\n",
    "    # Logging de resultado\n",
    "    mlflow.log_params({\n",
    "        \"fecha_prediccion\": datetime.now().isoformat(),\n",
    "        \"num_predicciones\": len(df_output)\n",
    "    })\n",
    "    mlflow.log_artifact(str(output_path))\n",
    "\n",
    "    print(\"Proceso de inferencia trackeado correctamente desde MLflow.\")\n"
   ]
  }
 ],
 "metadata": {
  "kernelspec": {
   "display_name": "mlops-project-py3.10",
   "language": "python",
   "name": "python3"
  },
  "language_info": {
   "codemirror_mode": {
    "name": "ipython",
    "version": 3
   },
   "file_extension": ".py",
   "mimetype": "text/x-python",
   "name": "python",
   "nbconvert_exporter": "python",
   "pygments_lexer": "ipython3",
   "version": "3.10.0"
  }
 },
 "nbformat": 4,
 "nbformat_minor": 5
}
