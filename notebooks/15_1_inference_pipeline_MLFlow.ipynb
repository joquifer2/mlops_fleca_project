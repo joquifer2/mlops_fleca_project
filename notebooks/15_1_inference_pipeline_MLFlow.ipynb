{
 "cells": [
  {
   "cell_type": "code",
   "execution_count": 16,
   "id": "79643847",
   "metadata": {},
   "outputs": [],
   "source": [
    "import sys\n",
    "from pathlib import Path\n",
    "from datetime import datetime\n",
    "\n",
    "# Añade src al path para importar los módulos\n",
    "sys.path.append(str(Path().resolve().parent / 'src'))\n",
    "\n",
    "import config"
   ]
  },
  {
   "cell_type": "code",
   "execution_count": 17,
   "id": "45156616",
   "metadata": {},
   "outputs": [
    {
     "name": "stdout",
     "output_type": "stream",
     "text": [
      "The autoreload extension is already loaded. To reload it, use:\n",
      "  %reload_ext autoreload\n"
     ]
    }
   ],
   "source": [
    "%load_ext autoreload\n",
    "%autoreload 2"
   ]
  },
  {
   "cell_type": "code",
   "execution_count": 18,
   "id": "573cab3d",
   "metadata": {},
   "outputs": [
    {
     "name": "stdout",
     "output_type": "stream",
     "text": [
      "2025-08-23 18:51:28,551 INFO: Closing external client and cleaning up certificates.\n",
      "Connection closed.\n",
      "2025-08-23 18:51:28,554 INFO: Initializing external client\n",
      "2025-08-23 18:51:28,555 INFO: Base URL: https://c.app.hopsworks.ai:443\n",
      "Connection closed.\n",
      "2025-08-23 18:51:28,554 INFO: Initializing external client\n",
      "2025-08-23 18:51:28,555 INFO: Base URL: https://c.app.hopsworks.ai:443\n"
     ]
    },
    {
     "name": "stderr",
     "output_type": "stream",
     "text": [
      "\n",
      "\n",
      "UserWarning: The installed hopsworks client version 4.3.1 may not be compatible with the connected Hopsworks backend version 4.2.2. \n",
      "To ensure compatibility please install the latest bug fix release matching the minor version of your backend (4.2) by running 'pip install hopsworks==4.2.*'\n"
     ]
    },
    {
     "name": "stdout",
     "output_type": "stream",
     "text": [
      "2025-08-23 18:51:29,744 INFO: Python Engine initialized.\n",
      "\n",
      "Logged in to project, explore it here https://c.app.hopsworks.ai:443/p/1242272\n",
      "Conectado a proyecto: fleca_mlops\n",
      "Conectado al feature store: fleca_mlops_featurestore\n",
      "\n",
      "Logged in to project, explore it here https://c.app.hopsworks.ai:443/p/1242272\n",
      "Conectado a proyecto: fleca_mlops\n",
      "Conectado al feature store: fleca_mlops_featurestore\n"
     ]
    }
   ],
   "source": [
    "import hopsworks\n",
    "\n",
    "# Conexión a hopsworks y proyecto   \n",
    "project = hopsworks.login(project=config.HOPSWORKS_PROJECT_NAME, api_key_value=config.HOPSWORKS_API_KEY)\n",
    "feature_store = project.get_feature_store()\n",
    "\n",
    "\n",
    "print(\"Conectado a proyecto:\", project.name)\n",
    "print(\"Conectado al feature store:\", feature_store.name)\n"
   ]
  },
  {
   "cell_type": "code",
   "execution_count": 19,
   "id": "4f5d41de",
   "metadata": {},
   "outputs": [
    {
     "name": "stdout",
     "output_type": "stream",
     "text": [
      "Finished: Reading data from Hopsworks, using Hopsworks Feature Query Service (0.70s) \n",
      "Finished: Reading data from Hopsworks, using Hopsworks Feature Query Service (0.70s) \n"
     ]
    },
    {
     "data": {
      "application/vnd.microsoft.datawrangler.viewer.v0+json": {
       "columns": [
        {
         "name": "index",
         "rawType": "int64",
         "type": "integer"
        },
        {
         "name": "familia",
         "rawType": "object",
         "type": "string"
        },
        {
         "name": "base_imponible",
         "rawType": "float64",
         "type": "float"
        },
        {
         "name": "is_summer_peak",
         "rawType": "int32",
         "type": "integer"
        },
        {
         "name": "is_easter",
         "rawType": "int64",
         "type": "integer"
        },
        {
         "name": "week_start",
         "rawType": "datetime64[us, Etc/UTC]",
         "type": "unknown"
        }
       ],
       "ref": "9d3de986-7108-4833-b340-2a21d39682f4",
       "rows": [
        [
         "0",
         "BOLLERIA",
         "825.11",
         "0",
         "0",
         "2023-01-02 00:00:00+00:00"
        ],
        [
         "1",
         "BOLLERIA",
         "658.4",
         "0",
         "0",
         "2023-01-09 00:00:00+00:00"
        ],
        [
         "2",
         "BOLLERIA",
         "741.4",
         "0",
         "0",
         "2023-01-16 00:00:00+00:00"
        ],
        [
         "3",
         "BOLLERIA",
         "653.64",
         "0",
         "0",
         "2023-01-23 00:00:00+00:00"
        ],
        [
         "4",
         "BOLLERIA",
         "680.46",
         "0",
         "0",
         "2023-01-30 00:00:00+00:00"
        ]
       ],
       "shape": {
        "columns": 5,
        "rows": 5
       }
      },
      "text/html": [
       "<div>\n",
       "<style scoped>\n",
       "    .dataframe tbody tr th:only-of-type {\n",
       "        vertical-align: middle;\n",
       "    }\n",
       "\n",
       "    .dataframe tbody tr th {\n",
       "        vertical-align: top;\n",
       "    }\n",
       "\n",
       "    .dataframe thead th {\n",
       "        text-align: right;\n",
       "    }\n",
       "</style>\n",
       "<table border=\"1\" class=\"dataframe\">\n",
       "  <thead>\n",
       "    <tr style=\"text-align: right;\">\n",
       "      <th></th>\n",
       "      <th>familia</th>\n",
       "      <th>base_imponible</th>\n",
       "      <th>is_summer_peak</th>\n",
       "      <th>is_easter</th>\n",
       "      <th>week_start</th>\n",
       "    </tr>\n",
       "  </thead>\n",
       "  <tbody>\n",
       "    <tr>\n",
       "      <th>0</th>\n",
       "      <td>BOLLERIA</td>\n",
       "      <td>825.11</td>\n",
       "      <td>0</td>\n",
       "      <td>0</td>\n",
       "      <td>2023-01-02 00:00:00+00:00</td>\n",
       "    </tr>\n",
       "    <tr>\n",
       "      <th>1</th>\n",
       "      <td>BOLLERIA</td>\n",
       "      <td>658.40</td>\n",
       "      <td>0</td>\n",
       "      <td>0</td>\n",
       "      <td>2023-01-09 00:00:00+00:00</td>\n",
       "    </tr>\n",
       "    <tr>\n",
       "      <th>2</th>\n",
       "      <td>BOLLERIA</td>\n",
       "      <td>741.40</td>\n",
       "      <td>0</td>\n",
       "      <td>0</td>\n",
       "      <td>2023-01-16 00:00:00+00:00</td>\n",
       "    </tr>\n",
       "    <tr>\n",
       "      <th>3</th>\n",
       "      <td>BOLLERIA</td>\n",
       "      <td>653.64</td>\n",
       "      <td>0</td>\n",
       "      <td>0</td>\n",
       "      <td>2023-01-23 00:00:00+00:00</td>\n",
       "    </tr>\n",
       "    <tr>\n",
       "      <th>4</th>\n",
       "      <td>BOLLERIA</td>\n",
       "      <td>680.46</td>\n",
       "      <td>0</td>\n",
       "      <td>0</td>\n",
       "      <td>2023-01-30 00:00:00+00:00</td>\n",
       "    </tr>\n",
       "  </tbody>\n",
       "</table>\n",
       "</div>"
      ],
      "text/plain": [
       "    familia  base_imponible  is_summer_peak  is_easter  \\\n",
       "0  BOLLERIA          825.11               0          0   \n",
       "1  BOLLERIA          658.40               0          0   \n",
       "2  BOLLERIA          741.40               0          0   \n",
       "3  BOLLERIA          653.64               0          0   \n",
       "4  BOLLERIA          680.46               0          0   \n",
       "\n",
       "                 week_start  \n",
       "0 2023-01-02 00:00:00+00:00  \n",
       "1 2023-01-09 00:00:00+00:00  \n",
       "2 2023-01-16 00:00:00+00:00  \n",
       "3 2023-01-23 00:00:00+00:00  \n",
       "4 2023-01-30 00:00:00+00:00  "
      ]
     },
     "execution_count": 19,
     "metadata": {},
     "output_type": "execute_result"
    }
   ],
   "source": [
    "from datetime import timedelta\n",
    "import pandas as pd\n",
    "\n",
    "FG_NAME = \"times_series_bolleria_feature_group\"\n",
    "FV_NAME = \"times_series_bolleria_feature_view\"\n",
    "FV_VERSION = 1\n",
    "\n",
    "# Lectura batch cruda de feature views\n",
    "feature_views= feature_store.get_feature_view(name=FV_NAME, version=FV_VERSION)\n",
    "ts_df = feature_views.get_batch_data(\n",
    "    start_date=None,\n",
    "    end_date=None,\n",
    "    features=None,\n",
    "    )\n",
    "\n",
    "# Reseteo de índice y ordenación por la columna de fecha antes de visualizar\n",
    "ts_df = ts_df.sort_values('week_start').reset_index(drop=True)\n",
    "ts_df.head(5)"
   ]
  },
  {
   "cell_type": "code",
   "execution_count": 20,
   "id": "1dd0fc35",
   "metadata": {},
   "outputs": [
    {
     "name": "stdout",
     "output_type": "stream",
     "text": [
      "2025-08-23 18:51:36,256 INFO: Usando DataFrame de entrada: (133, 5)\n",
      "2025-08-23 18:51:36,260 INFO: Retornando DataFrame combinado: (80, 8)\n",
      "2025-08-23 18:51:36,260 INFO: Retornando DataFrame combinado: (80, 8)\n"
     ]
    },
    {
     "data": {
      "application/vnd.microsoft.datawrangler.viewer.v0+json": {
       "columns": [
        {
         "name": "index",
         "rawType": "int64",
         "type": "integer"
        },
        {
         "name": "base_imponible_lag1",
         "rawType": "float64",
         "type": "float"
        },
        {
         "name": "base_imponible_lag2",
         "rawType": "float64",
         "type": "float"
        },
        {
         "name": "base_imponible_lag3",
         "rawType": "float64",
         "type": "float"
        },
        {
         "name": "base_imponible_lag52",
         "rawType": "float64",
         "type": "float"
        },
        {
         "name": "is_easter",
         "rawType": "int64",
         "type": "integer"
        },
        {
         "name": "is_summer_peak",
         "rawType": "int32",
         "type": "integer"
        },
        {
         "name": "week_start",
         "rawType": "datetime64[us, Etc/UTC]",
         "type": "unknown"
        },
        {
         "name": "target",
         "rawType": "float64",
         "type": "float"
        }
       ],
       "ref": "84254fb9-4156-4882-b153-ce246b4d59e2",
       "rows": [
        [
         "0",
         "572.51",
         "534.79",
         "563.18",
         "825.11",
         "0",
         "0",
         "2024-01-15 00:00:00+00:00",
         "680.3"
        ],
        [
         "1",
         "597.65",
         "572.51",
         "534.79",
         "658.4",
         "0",
         "0",
         "2024-01-22 00:00:00+00:00",
         "603.99"
        ],
        [
         "2",
         "680.3",
         "597.65",
         "572.51",
         "741.4",
         "0",
         "0",
         "2024-01-29 00:00:00+00:00",
         "600.14"
        ],
        [
         "3",
         "603.99",
         "680.3",
         "597.65",
         "653.64",
         "0",
         "0",
         "2024-02-05 00:00:00+00:00",
         "689.32"
        ],
        [
         "4",
         "600.14",
         "603.99",
         "680.3",
         "680.46",
         "0",
         "0",
         "2024-02-12 00:00:00+00:00",
         "627.76"
        ]
       ],
       "shape": {
        "columns": 8,
        "rows": 5
       }
      },
      "text/html": [
       "<div>\n",
       "<style scoped>\n",
       "    .dataframe tbody tr th:only-of-type {\n",
       "        vertical-align: middle;\n",
       "    }\n",
       "\n",
       "    .dataframe tbody tr th {\n",
       "        vertical-align: top;\n",
       "    }\n",
       "\n",
       "    .dataframe thead th {\n",
       "        text-align: right;\n",
       "    }\n",
       "</style>\n",
       "<table border=\"1\" class=\"dataframe\">\n",
       "  <thead>\n",
       "    <tr style=\"text-align: right;\">\n",
       "      <th></th>\n",
       "      <th>base_imponible_lag1</th>\n",
       "      <th>base_imponible_lag2</th>\n",
       "      <th>base_imponible_lag3</th>\n",
       "      <th>base_imponible_lag52</th>\n",
       "      <th>is_easter</th>\n",
       "      <th>is_summer_peak</th>\n",
       "      <th>week_start</th>\n",
       "      <th>target</th>\n",
       "    </tr>\n",
       "  </thead>\n",
       "  <tbody>\n",
       "    <tr>\n",
       "      <th>0</th>\n",
       "      <td>572.51</td>\n",
       "      <td>534.79</td>\n",
       "      <td>563.18</td>\n",
       "      <td>825.11</td>\n",
       "      <td>0</td>\n",
       "      <td>0</td>\n",
       "      <td>2024-01-15 00:00:00+00:00</td>\n",
       "      <td>680.30</td>\n",
       "    </tr>\n",
       "    <tr>\n",
       "      <th>1</th>\n",
       "      <td>597.65</td>\n",
       "      <td>572.51</td>\n",
       "      <td>534.79</td>\n",
       "      <td>658.40</td>\n",
       "      <td>0</td>\n",
       "      <td>0</td>\n",
       "      <td>2024-01-22 00:00:00+00:00</td>\n",
       "      <td>603.99</td>\n",
       "    </tr>\n",
       "    <tr>\n",
       "      <th>2</th>\n",
       "      <td>680.30</td>\n",
       "      <td>597.65</td>\n",
       "      <td>572.51</td>\n",
       "      <td>741.40</td>\n",
       "      <td>0</td>\n",
       "      <td>0</td>\n",
       "      <td>2024-01-29 00:00:00+00:00</td>\n",
       "      <td>600.14</td>\n",
       "    </tr>\n",
       "    <tr>\n",
       "      <th>3</th>\n",
       "      <td>603.99</td>\n",
       "      <td>680.30</td>\n",
       "      <td>597.65</td>\n",
       "      <td>653.64</td>\n",
       "      <td>0</td>\n",
       "      <td>0</td>\n",
       "      <td>2024-02-05 00:00:00+00:00</td>\n",
       "      <td>689.32</td>\n",
       "    </tr>\n",
       "    <tr>\n",
       "      <th>4</th>\n",
       "      <td>600.14</td>\n",
       "      <td>603.99</td>\n",
       "      <td>680.30</td>\n",
       "      <td>680.46</td>\n",
       "      <td>0</td>\n",
       "      <td>0</td>\n",
       "      <td>2024-02-12 00:00:00+00:00</td>\n",
       "      <td>627.76</td>\n",
       "    </tr>\n",
       "  </tbody>\n",
       "</table>\n",
       "</div>"
      ],
      "text/plain": [
       "   base_imponible_lag1  base_imponible_lag2  base_imponible_lag3  \\\n",
       "0               572.51               534.79               563.18   \n",
       "1               597.65               572.51               534.79   \n",
       "2               680.30               597.65               572.51   \n",
       "3               603.99               680.30               597.65   \n",
       "4               600.14               603.99               680.30   \n",
       "\n",
       "   base_imponible_lag52  is_easter  is_summer_peak                week_start  \\\n",
       "0                825.11          0               0 2024-01-15 00:00:00+00:00   \n",
       "1                658.40          0               0 2024-01-22 00:00:00+00:00   \n",
       "2                741.40          0               0 2024-01-29 00:00:00+00:00   \n",
       "3                653.64          0               0 2024-02-05 00:00:00+00:00   \n",
       "4                680.46          0               0 2024-02-12 00:00:00+00:00   \n",
       "\n",
       "   target  \n",
       "0  680.30  \n",
       "1  603.99  \n",
       "2  600.14  \n",
       "3  689.32  \n",
       "4  627.76  "
      ]
     },
     "execution_count": 20,
     "metadata": {},
     "output_type": "execute_result"
    }
   ],
   "source": [
    "from src.model import transformar_features_target\n",
    "\n",
    "# Procesar datos usando la función mejorada que acepta tuplas directamente\n",
    "ts_df = transformar_features_target(\n",
    "    ts_df,\n",
    "    lags_list=[1, 2, 3, 52], \n",
    "    columna_target='base_imponible',\n",
    "    cols_exogenas=['is_easter', 'is_summer_peak'],\n",
    "    periodos_adelante=1,\n",
    "    eliminar_nulos=True,\n",
    "    return_format='dataframe'  # Obtenemos un único DataFrame con features y target\n",
    ")\n",
    "\n",
    "# Resetear el índice\n",
    "ts_df = ts_df.reset_index(drop=True)\n",
    "\n",
    "# Mostrar las primeras filas del DataFrame transformado\n",
    "ts_df.head(5)"
   ]
  },
  {
   "cell_type": "code",
   "execution_count": 21,
   "id": "34c52a54",
   "metadata": {},
   "outputs": [
    {
     "ename": "MlflowException",
     "evalue": "Registered Model with name=RandomForest not found",
     "output_type": "error",
     "traceback": [
      "\u001b[1;31m---------------------------------------------------------------------------\u001b[0m",
      "\u001b[1;31mMlflowException\u001b[0m                           Traceback (most recent call last)",
      "Cell \u001b[1;32mIn[21], line 7\u001b[0m\n\u001b[0;32m      4\u001b[0m MODEL_NAME \u001b[38;5;241m=\u001b[39m \u001b[38;5;124m'\u001b[39m\u001b[38;5;124mRandomForest\u001b[39m\u001b[38;5;124m'\u001b[39m\n\u001b[0;32m      5\u001b[0m MODEL_VERSION \u001b[38;5;241m=\u001b[39m \u001b[38;5;241m1\u001b[39m  \u001b[38;5;66;03m# Debe ser un entero, no un string\u001b[39;00m\n\u001b[1;32m----> 7\u001b[0m model \u001b[38;5;241m=\u001b[39m \u001b[43mmlflow\u001b[49m\u001b[38;5;241;43m.\u001b[39;49m\u001b[43mpyfunc\u001b[49m\u001b[38;5;241;43m.\u001b[39;49m\u001b[43mload_model\u001b[49m\u001b[43m(\u001b[49m\u001b[43mmodel_uri\u001b[49m\u001b[38;5;241;43m=\u001b[39;49m\u001b[38;5;124;43mf\u001b[39;49m\u001b[38;5;124;43m'\u001b[39;49m\u001b[38;5;124;43mmodels:/\u001b[39;49m\u001b[38;5;132;43;01m{\u001b[39;49;00m\u001b[43mMODEL_NAME\u001b[49m\u001b[38;5;132;43;01m}\u001b[39;49;00m\u001b[38;5;124;43m/\u001b[39;49m\u001b[38;5;132;43;01m{\u001b[39;49;00m\u001b[43mMODEL_VERSION\u001b[49m\u001b[38;5;132;43;01m}\u001b[39;49;00m\u001b[38;5;124;43m'\u001b[39;49m\u001b[43m)\u001b[49m\n\u001b[0;32m      8\u001b[0m \u001b[38;5;28mprint\u001b[39m(\u001b[38;5;124m'\u001b[39m\u001b[38;5;124mModelo cargado:\u001b[39m\u001b[38;5;124m'\u001b[39m, model)\n",
      "File \u001b[1;32mc:\\Workspace\\mlops_fleca_project\\.venv\\lib\\site-packages\\mlflow\\tracing\\provider.py:461\u001b[0m, in \u001b[0;36mtrace_disabled.<locals>.wrapper\u001b[1;34m(*args, **kwargs)\u001b[0m\n\u001b[0;32m    459\u001b[0m \u001b[38;5;28;01mtry\u001b[39;00m:\n\u001b[0;32m    460\u001b[0m     is_func_called \u001b[38;5;241m=\u001b[39m \u001b[38;5;28;01mTrue\u001b[39;00m\n\u001b[1;32m--> 461\u001b[0m     result \u001b[38;5;241m=\u001b[39m f(\u001b[38;5;241m*\u001b[39margs, \u001b[38;5;241m*\u001b[39m\u001b[38;5;241m*\u001b[39mkwargs)\n\u001b[0;32m    462\u001b[0m \u001b[38;5;28;01mfinally\u001b[39;00m:\n\u001b[0;32m    463\u001b[0m     enable()\n",
      "File \u001b[1;32mc:\\Workspace\\mlops_fleca_project\\.venv\\lib\\site-packages\\mlflow\\pyfunc\\__init__.py:1131\u001b[0m, in \u001b[0;36mload_model\u001b[1;34m(model_uri, suppress_warnings, dst_path, model_config)\u001b[0m\n\u001b[0;32m   1127\u001b[0m         entity_list\u001b[38;5;241m.\u001b[39mappend(Entity(job\u001b[38;5;241m=\u001b[39mjob_entity))\n\u001b[0;32m   1129\u001b[0m     lineage_header_info \u001b[38;5;241m=\u001b[39m LineageHeaderInfo(entities\u001b[38;5;241m=\u001b[39mentity_list) \u001b[38;5;28;01mif\u001b[39;00m entity_list \u001b[38;5;28;01melse\u001b[39;00m \u001b[38;5;28;01mNone\u001b[39;00m\n\u001b[1;32m-> 1131\u001b[0m local_path \u001b[38;5;241m=\u001b[39m \u001b[43m_download_artifact_from_uri\u001b[49m\u001b[43m(\u001b[49m\n\u001b[0;32m   1132\u001b[0m \u001b[43m    \u001b[49m\u001b[43martifact_uri\u001b[49m\u001b[38;5;241;43m=\u001b[39;49m\u001b[43mmodel_uri\u001b[49m\u001b[43m,\u001b[49m\u001b[43m \u001b[49m\u001b[43moutput_path\u001b[49m\u001b[38;5;241;43m=\u001b[39;49m\u001b[43mdst_path\u001b[49m\u001b[43m,\u001b[49m\u001b[43m \u001b[49m\u001b[43mlineage_header_info\u001b[49m\u001b[38;5;241;43m=\u001b[39;49m\u001b[43mlineage_header_info\u001b[49m\n\u001b[0;32m   1133\u001b[0m \u001b[43m\u001b[49m\u001b[43m)\u001b[49m\n\u001b[0;32m   1135\u001b[0m \u001b[38;5;28;01mif\u001b[39;00m \u001b[38;5;129;01mnot\u001b[39;00m suppress_warnings:\n\u001b[0;32m   1136\u001b[0m     model_requirements \u001b[38;5;241m=\u001b[39m _get_pip_requirements_from_model_path(local_path)\n",
      "File \u001b[1;32mc:\\Workspace\\mlops_fleca_project\\.venv\\lib\\site-packages\\mlflow\\tracking\\artifact_utils.py:115\u001b[0m, in \u001b[0;36m_download_artifact_from_uri\u001b[1;34m(artifact_uri, output_path, lineage_header_info, tracking_uri)\u001b[0m\n\u001b[0;32m    106\u001b[0m \u001b[38;5;250m\u001b[39m\u001b[38;5;124;03m\"\"\"\u001b[39;00m\n\u001b[0;32m    107\u001b[0m \u001b[38;5;124;03mArgs:\u001b[39;00m\n\u001b[0;32m    108\u001b[0m \u001b[38;5;124;03m    artifact_uri: The *absolute* URI of the artifact to download.\u001b[39;00m\n\u001b[1;32m   (...)\u001b[0m\n\u001b[0;32m    112\u001b[0m \u001b[38;5;124;03m    tracking_uri: The tracking URI to be used when downloading artifacts.\u001b[39;00m\n\u001b[0;32m    113\u001b[0m \u001b[38;5;124;03m\"\"\"\u001b[39;00m\n\u001b[0;32m    114\u001b[0m root_uri, artifact_path \u001b[38;5;241m=\u001b[39m _get_root_uri_and_artifact_path(artifact_uri)\n\u001b[1;32m--> 115\u001b[0m repo \u001b[38;5;241m=\u001b[39m \u001b[43mget_artifact_repository\u001b[49m\u001b[43m(\u001b[49m\u001b[43martifact_uri\u001b[49m\u001b[38;5;241;43m=\u001b[39;49m\u001b[43mroot_uri\u001b[49m\u001b[43m,\u001b[49m\u001b[43m \u001b[49m\u001b[43mtracking_uri\u001b[49m\u001b[38;5;241;43m=\u001b[39;49m\u001b[43mtracking_uri\u001b[49m\u001b[43m)\u001b[49m\n\u001b[0;32m    117\u001b[0m \u001b[38;5;28;01mtry\u001b[39;00m:\n\u001b[0;32m    118\u001b[0m     \u001b[38;5;28;01mif\u001b[39;00m \u001b[38;5;28misinstance\u001b[39m(repo, ModelsArtifactRepository):\n",
      "File \u001b[1;32mc:\\Workspace\\mlops_fleca_project\\.venv\\lib\\site-packages\\mlflow\\store\\artifact\\artifact_repository_registry.py:143\u001b[0m, in \u001b[0;36mget_artifact_repository\u001b[1;34m(artifact_uri, tracking_uri)\u001b[0m\n\u001b[0;32m    126\u001b[0m \u001b[38;5;28;01mdef\u001b[39;00m\u001b[38;5;250m \u001b[39m\u001b[38;5;21mget_artifact_repository\u001b[39m(\n\u001b[0;32m    127\u001b[0m     artifact_uri: \u001b[38;5;28mstr\u001b[39m, tracking_uri: \u001b[38;5;28mstr\u001b[39m \u001b[38;5;241m|\u001b[39m \u001b[38;5;28;01mNone\u001b[39;00m \u001b[38;5;241m=\u001b[39m \u001b[38;5;28;01mNone\u001b[39;00m\n\u001b[0;32m    128\u001b[0m ) \u001b[38;5;241m-\u001b[39m\u001b[38;5;241m>\u001b[39m ArtifactRepository:\n\u001b[0;32m    129\u001b[0m \u001b[38;5;250m    \u001b[39m\u001b[38;5;124;03m\"\"\"\u001b[39;00m\n\u001b[0;32m    130\u001b[0m \u001b[38;5;124;03m    Get an artifact repository from the registry based on the scheme of artifact_uri\u001b[39;00m\n\u001b[0;32m    131\u001b[0m \n\u001b[1;32m   (...)\u001b[0m\n\u001b[0;32m    141\u001b[0m \u001b[38;5;124;03m        requirements.\u001b[39;00m\n\u001b[0;32m    142\u001b[0m \u001b[38;5;124;03m    \"\"\"\u001b[39;00m\n\u001b[1;32m--> 143\u001b[0m     \u001b[38;5;28;01mreturn\u001b[39;00m \u001b[43m_artifact_repository_registry\u001b[49m\u001b[38;5;241;43m.\u001b[39;49m\u001b[43mget_artifact_repository\u001b[49m\u001b[43m(\u001b[49m\u001b[43martifact_uri\u001b[49m\u001b[43m,\u001b[49m\u001b[43m \u001b[49m\u001b[43mtracking_uri\u001b[49m\u001b[43m)\u001b[49m\n",
      "File \u001b[1;32mc:\\Workspace\\mlops_fleca_project\\.venv\\lib\\site-packages\\mlflow\\store\\artifact\\artifact_repository_registry.py:81\u001b[0m, in \u001b[0;36mArtifactRepositoryRegistry.get_artifact_repository\u001b[1;34m(self, artifact_uri, tracking_uri)\u001b[0m\n\u001b[0;32m     76\u001b[0m \u001b[38;5;28;01mif\u001b[39;00m repository \u001b[38;5;129;01mis\u001b[39;00m \u001b[38;5;28;01mNone\u001b[39;00m:\n\u001b[0;32m     77\u001b[0m     \u001b[38;5;28;01mraise\u001b[39;00m MlflowException(\n\u001b[0;32m     78\u001b[0m         \u001b[38;5;124mf\u001b[39m\u001b[38;5;124m\"\u001b[39m\u001b[38;5;124mCould not find a registered artifact repository for: \u001b[39m\u001b[38;5;132;01m{\u001b[39;00martifact_uri\u001b[38;5;132;01m}\u001b[39;00m\u001b[38;5;124m. \u001b[39m\u001b[38;5;124m\"\u001b[39m\n\u001b[0;32m     79\u001b[0m         \u001b[38;5;124mf\u001b[39m\u001b[38;5;124m\"\u001b[39m\u001b[38;5;124mCurrently registered schemes are: \u001b[39m\u001b[38;5;132;01m{\u001b[39;00m\u001b[38;5;28mlist\u001b[39m(\u001b[38;5;28mself\u001b[39m\u001b[38;5;241m.\u001b[39m_registry\u001b[38;5;241m.\u001b[39mkeys())\u001b[38;5;132;01m}\u001b[39;00m\u001b[38;5;124m\"\u001b[39m\n\u001b[0;32m     80\u001b[0m     )\n\u001b[1;32m---> 81\u001b[0m \u001b[38;5;28;01mreturn\u001b[39;00m \u001b[43mrepository\u001b[49m\u001b[43m(\u001b[49m\u001b[43martifact_uri\u001b[49m\u001b[43m,\u001b[49m\u001b[43m \u001b[49m\u001b[43mtracking_uri\u001b[49m\u001b[38;5;241;43m=\u001b[39;49m\u001b[43mtracking_uri\u001b[49m\u001b[43m)\u001b[49m\n",
      "File \u001b[1;32mc:\\Workspace\\mlops_fleca_project\\.venv\\lib\\site-packages\\mlflow\\store\\artifact\\models_artifact_repo.py:72\u001b[0m, in \u001b[0;36mModelsArtifactRepository.__init__\u001b[1;34m(self, artifact_uri, tracking_uri)\u001b[0m\n\u001b[0;32m     66\u001b[0m     \u001b[38;5;28mself\u001b[39m\u001b[38;5;241m.\u001b[39mmodel_version \u001b[38;5;241m=\u001b[39m \u001b[38;5;28mself\u001b[39m\u001b[38;5;241m.\u001b[39mrepo\u001b[38;5;241m.\u001b[39mmodel_version\n\u001b[0;32m     67\u001b[0m \u001b[38;5;28;01melse\u001b[39;00m:\n\u001b[0;32m     68\u001b[0m     (\n\u001b[0;32m     69\u001b[0m         \u001b[38;5;28mself\u001b[39m\u001b[38;5;241m.\u001b[39mmodel_name,\n\u001b[0;32m     70\u001b[0m         \u001b[38;5;28mself\u001b[39m\u001b[38;5;241m.\u001b[39mmodel_version,\n\u001b[0;32m     71\u001b[0m         underlying_uri,\n\u001b[1;32m---> 72\u001b[0m     ) \u001b[38;5;241m=\u001b[39m \u001b[43mModelsArtifactRepository\u001b[49m\u001b[38;5;241;43m.\u001b[39;49m\u001b[43m_get_model_uri_infos\u001b[49m\u001b[43m(\u001b[49m\u001b[43martifact_uri\u001b[49m\u001b[43m)\u001b[49m\n\u001b[0;32m     73\u001b[0m     \u001b[38;5;28mself\u001b[39m\u001b[38;5;241m.\u001b[39mrepo \u001b[38;5;241m=\u001b[39m get_artifact_repository(underlying_uri)\n",
      "File \u001b[1;32mc:\\Workspace\\mlops_fleca_project\\.venv\\lib\\site-packages\\mlflow\\store\\artifact\\models_artifact_repo.py:131\u001b[0m, in \u001b[0;36mModelsArtifactRepository._get_model_uri_infos\u001b[1;34m(uri)\u001b[0m\n\u001b[0;32m    129\u001b[0m \u001b[38;5;28;01melse\u001b[39;00m:\n\u001b[0;32m    130\u001b[0m     name, version \u001b[38;5;241m=\u001b[39m name_and_version_or_id\n\u001b[1;32m--> 131\u001b[0m     download_uri \u001b[38;5;241m=\u001b[39m \u001b[43mclient\u001b[49m\u001b[38;5;241;43m.\u001b[39;49m\u001b[43mget_model_version_download_uri\u001b[49m\u001b[43m(\u001b[49m\u001b[43mname\u001b[49m\u001b[43m,\u001b[49m\u001b[43m \u001b[49m\u001b[43mversion\u001b[49m\u001b[43m)\u001b[49m\n\u001b[0;32m    133\u001b[0m \u001b[38;5;28;01mreturn\u001b[39;00m (\n\u001b[0;32m    134\u001b[0m     name,\n\u001b[0;32m    135\u001b[0m     version,\n\u001b[0;32m    136\u001b[0m     add_databricks_profile_info_to_artifact_uri(download_uri, databricks_profile_uri),\n\u001b[0;32m    137\u001b[0m )\n",
      "File \u001b[1;32mc:\\Workspace\\mlops_fleca_project\\.venv\\lib\\site-packages\\mlflow\\tracking\\client.py:4749\u001b[0m, in \u001b[0;36mMlflowClient.get_model_version_download_uri\u001b[1;34m(self, name, version)\u001b[0m\n\u001b[0;32m   4704\u001b[0m \u001b[38;5;28;01mdef\u001b[39;00m\u001b[38;5;250m \u001b[39m\u001b[38;5;21mget_model_version_download_uri\u001b[39m(\u001b[38;5;28mself\u001b[39m, name: \u001b[38;5;28mstr\u001b[39m, version: \u001b[38;5;28mstr\u001b[39m) \u001b[38;5;241m-\u001b[39m\u001b[38;5;241m>\u001b[39m \u001b[38;5;28mstr\u001b[39m:\n\u001b[0;32m   4705\u001b[0m \u001b[38;5;250m    \u001b[39m\u001b[38;5;124;03m\"\"\"\u001b[39;00m\n\u001b[0;32m   4706\u001b[0m \u001b[38;5;124;03m    Get the download location in Model Registry for this model version.\u001b[39;00m\n\u001b[0;32m   4707\u001b[0m \n\u001b[1;32m   (...)\u001b[0m\n\u001b[0;32m   4747\u001b[0m \u001b[38;5;124;03m        Download URI: runs:/027d7bbe81924c5a82b3e4ce979fcab7/sklearn-model\u001b[39;00m\n\u001b[0;32m   4748\u001b[0m \u001b[38;5;124;03m    \"\"\"\u001b[39;00m\n\u001b[1;32m-> 4749\u001b[0m     \u001b[38;5;28;43mself\u001b[39;49m\u001b[38;5;241;43m.\u001b[39;49m\u001b[43m_raise_if_prompt\u001b[49m\u001b[43m(\u001b[49m\u001b[43mname\u001b[49m\u001b[43m)\u001b[49m\n\u001b[0;32m   4750\u001b[0m     \u001b[38;5;28;01mreturn\u001b[39;00m \u001b[38;5;28mself\u001b[39m\u001b[38;5;241m.\u001b[39m_get_registry_client()\u001b[38;5;241m.\u001b[39mget_model_version_download_uri(name, version)\n",
      "File \u001b[1;32mc:\\Workspace\\mlops_fleca_project\\.venv\\lib\\site-packages\\mlflow\\tracking\\client.py:5349\u001b[0m, in \u001b[0;36mMlflowClient._raise_if_prompt\u001b[1;34m(self, name)\u001b[0m\n\u001b[0;32m   5345\u001b[0m \u001b[38;5;28;01mdef\u001b[39;00m\u001b[38;5;250m \u001b[39m\u001b[38;5;21m_raise_if_prompt\u001b[39m(\u001b[38;5;28mself\u001b[39m, name: \u001b[38;5;28mstr\u001b[39m) \u001b[38;5;241m-\u001b[39m\u001b[38;5;241m>\u001b[39m \u001b[38;5;28;01mNone\u001b[39;00m:\n\u001b[0;32m   5346\u001b[0m \u001b[38;5;250m    \u001b[39m\u001b[38;5;124;03m\"\"\"\u001b[39;00m\n\u001b[0;32m   5347\u001b[0m \u001b[38;5;124;03m    Validate if the given name is registered as a Prompt rather than a Registered Model.\u001b[39;00m\n\u001b[0;32m   5348\u001b[0m \u001b[38;5;124;03m    \"\"\"\u001b[39;00m\n\u001b[1;32m-> 5349\u001b[0m     rm \u001b[38;5;241m=\u001b[39m \u001b[38;5;28;43mself\u001b[39;49m\u001b[38;5;241;43m.\u001b[39;49m\u001b[43mget_registered_model\u001b[49m\u001b[43m(\u001b[49m\u001b[43mname\u001b[49m\u001b[43m)\u001b[49m\n\u001b[0;32m   5350\u001b[0m     \u001b[38;5;28;01mif\u001b[39;00m has_prompt_tag(rm\u001b[38;5;241m.\u001b[39m_tags):\n\u001b[0;32m   5351\u001b[0m         \u001b[38;5;28;01mraise\u001b[39;00m _model_not_found(name)\n",
      "File \u001b[1;32mc:\\Workspace\\mlops_fleca_project\\.venv\\lib\\site-packages\\mlflow\\tracking\\client.py:3962\u001b[0m, in \u001b[0;36mMlflowClient.get_registered_model\u001b[1;34m(self, name)\u001b[0m\n\u001b[0;32m   3921\u001b[0m \u001b[38;5;28;01mdef\u001b[39;00m\u001b[38;5;250m \u001b[39m\u001b[38;5;21mget_registered_model\u001b[39m(\u001b[38;5;28mself\u001b[39m, name: \u001b[38;5;28mstr\u001b[39m) \u001b[38;5;241m-\u001b[39m\u001b[38;5;241m>\u001b[39m RegisteredModel:\n\u001b[0;32m   3922\u001b[0m \u001b[38;5;250m    \u001b[39m\u001b[38;5;124;03m\"\"\"Get a registered model.\u001b[39;00m\n\u001b[0;32m   3923\u001b[0m \n\u001b[0;32m   3924\u001b[0m \u001b[38;5;124;03m    Args:\u001b[39;00m\n\u001b[1;32m   (...)\u001b[0m\n\u001b[0;32m   3960\u001b[0m \u001b[38;5;124;03m        description: This sentiment analysis model classifies the tone-happy, sad, angry.\u001b[39;00m\n\u001b[0;32m   3961\u001b[0m \u001b[38;5;124;03m    \"\"\"\u001b[39;00m\n\u001b[1;32m-> 3962\u001b[0m     rm \u001b[38;5;241m=\u001b[39m \u001b[38;5;28;43mself\u001b[39;49m\u001b[38;5;241;43m.\u001b[39;49m\u001b[43m_get_registry_client\u001b[49m\u001b[43m(\u001b[49m\u001b[43m)\u001b[49m\u001b[38;5;241;43m.\u001b[39;49m\u001b[43mget_registered_model\u001b[49m\u001b[43m(\u001b[49m\u001b[43mname\u001b[49m\u001b[43m)\u001b[49m\n\u001b[0;32m   3964\u001b[0m     \u001b[38;5;66;03m# Prompt should not be returned as a registered model\u001b[39;00m\n\u001b[0;32m   3965\u001b[0m     \u001b[38;5;28;01mif\u001b[39;00m has_prompt_tag(rm\u001b[38;5;241m.\u001b[39m_tags):\n",
      "File \u001b[1;32mc:\\Workspace\\mlops_fleca_project\\.venv\\lib\\site-packages\\mlflow\\tracking\\_model_registry\\client.py:179\u001b[0m, in \u001b[0;36mModelRegistryClient.get_registered_model\u001b[1;34m(self, name)\u001b[0m\n\u001b[0;32m    171\u001b[0m \u001b[38;5;28;01mdef\u001b[39;00m\u001b[38;5;250m \u001b[39m\u001b[38;5;21mget_registered_model\u001b[39m(\u001b[38;5;28mself\u001b[39m, name):\n\u001b[0;32m    172\u001b[0m \u001b[38;5;250m    \u001b[39m\u001b[38;5;124;03m\"\"\"\u001b[39;00m\n\u001b[0;32m    173\u001b[0m \u001b[38;5;124;03m    Args:\u001b[39;00m\n\u001b[0;32m    174\u001b[0m \u001b[38;5;124;03m        name: Name of the registered model to get.\u001b[39;00m\n\u001b[1;32m   (...)\u001b[0m\n\u001b[0;32m    177\u001b[0m \u001b[38;5;124;03m        A single :py:class:`mlflow.entities.model_registry.RegisteredModel` object.\u001b[39;00m\n\u001b[0;32m    178\u001b[0m \u001b[38;5;124;03m    \"\"\"\u001b[39;00m\n\u001b[1;32m--> 179\u001b[0m     \u001b[38;5;28;01mreturn\u001b[39;00m \u001b[38;5;28;43mself\u001b[39;49m\u001b[38;5;241;43m.\u001b[39;49m\u001b[43mstore\u001b[49m\u001b[38;5;241;43m.\u001b[39;49m\u001b[43mget_registered_model\u001b[49m\u001b[43m(\u001b[49m\u001b[43mname\u001b[49m\u001b[43m)\u001b[49m\n",
      "File \u001b[1;32mc:\\Workspace\\mlops_fleca_project\\.venv\\lib\\site-packages\\mlflow\\store\\model_registry\\file_store.py:424\u001b[0m, in \u001b[0;36mFileStore.get_registered_model\u001b[1;34m(self, name)\u001b[0m\n\u001b[0;32m    422\u001b[0m model_path \u001b[38;5;241m=\u001b[39m \u001b[38;5;28mself\u001b[39m\u001b[38;5;241m.\u001b[39m_get_registered_model_path(name)\n\u001b[0;32m    423\u001b[0m \u001b[38;5;28;01mif\u001b[39;00m \u001b[38;5;129;01mnot\u001b[39;00m exists(model_path):\n\u001b[1;32m--> 424\u001b[0m     \u001b[38;5;28;01mraise\u001b[39;00m MlflowException(\n\u001b[0;32m    425\u001b[0m         \u001b[38;5;124mf\u001b[39m\u001b[38;5;124m\"\u001b[39m\u001b[38;5;124mRegistered Model with name=\u001b[39m\u001b[38;5;132;01m{\u001b[39;00mname\u001b[38;5;132;01m}\u001b[39;00m\u001b[38;5;124m not found\u001b[39m\u001b[38;5;124m\"\u001b[39m,\n\u001b[0;32m    426\u001b[0m         RESOURCE_DOES_NOT_EXIST,\n\u001b[0;32m    427\u001b[0m     )\n\u001b[0;32m    428\u001b[0m \u001b[38;5;28;01mreturn\u001b[39;00m \u001b[38;5;28mself\u001b[39m\u001b[38;5;241m.\u001b[39m_get_registered_model_from_path(model_path)\n",
      "\u001b[1;31mMlflowException\u001b[0m: Registered Model with name=RandomForest not found"
     ]
    }
   ],
   "source": [
    "# Cargamos el modelo para predecir\n",
    "import mlflow.pyfunc\n",
    "\n",
    "MODEL_NAME = 'RandomForest'\n",
    "MODEL_VERSION = 1  # Debe ser un entero, no un string\n",
    "\n",
    "model = mlflow.pyfunc.load_model(model_uri=f'models:/{MODEL_NAME}/{MODEL_VERSION}')\n",
    "print('Modelo cargado:', model)\n"
   ]
  },
  {
   "cell_type": "code",
   "execution_count": 23,
   "id": "e0096a66",
   "metadata": {},
   "outputs": [
    {
     "name": "stdout",
     "output_type": "stream",
     "text": [
      "Tracking URI: file:///c:/Workspace/mlops_fleca_project/notebooks/mlruns\n",
      "Modelos registrados:\n"
     ]
    }
   ],
   "source": [
    "# Validar tracking URI y listar modelos registrados en MLflow\n",
    "import mlflow\n",
    "from mlflow.tracking import MlflowClient\n",
    "\n",
    "# Mostrar el tracking URI actual\n",
    "print('Tracking URI:', mlflow.get_tracking_uri())\n",
    "\n",
    "# Listar modelos registrados en el Model Registry (compatible con versiones antiguas)\n",
    "client = MlflowClient()\n",
    "models = client.search_registered_models()\n",
    "print('Modelos registrados:')\n",
    "for m in models:\n",
    "    print(f\"- {m.name} (versiones: {[v.version for v in m.latest_versions]})\")"
   ]
  }
 ],
 "metadata": {
  "kernelspec": {
   "display_name": "mlops-project-py3.10",
   "language": "python",
   "name": "python3"
  },
  "language_info": {
   "codemirror_mode": {
    "name": "ipython",
    "version": 3
   },
   "file_extension": ".py",
   "mimetype": "text/x-python",
   "name": "python",
   "nbconvert_exporter": "python",
   "pygments_lexer": "ipython3",
   "version": "3.10.0"
  }
 },
 "nbformat": 4,
 "nbformat_minor": 5
}
