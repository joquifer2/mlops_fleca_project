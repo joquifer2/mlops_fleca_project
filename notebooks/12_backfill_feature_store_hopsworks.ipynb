{
 "cells": [
  {
   "cell_type": "code",
   "execution_count": 9,
   "id": "11f3b93f",
   "metadata": {},
   "outputs": [],
   "source": [
    "import sys\n",
    "from pathlib import Path\n",
    "from src.pipelines.feature_pipeline import run_feature_pipeline\n",
    "\n",
    "# Añade src al path para importar los módulos\n",
    "sys.path.append(str(Path().resolve().parent / 'src'))"
   ]
  },
  {
   "cell_type": "code",
   "execution_count": 10,
   "id": "2edf7803",
   "metadata": {},
   "outputs": [],
   "source": [
    "%reload_ext autoreload\n",
    "%autoreload 2"
   ]
  },
  {
   "cell_type": "code",
   "execution_count": null,
   "id": "f84045c5",
   "metadata": {},
   "outputs": [],
   "source": [
    "from src.data_utils import load_raw_data, transformar_a_series_temporales\n",
    " \n",
    "# Parámetros de usuario\n",
    "familia = \"BOLLERIA\"\n",
    "fecha_inicio = \"2023-01-02\"\n",
    "fecha_fin = \"2025-08-03\"\n",
    "\n",
    "# Descargar y cargar todos los datos raw en el rango de fechas\n",
    "df_raw = load_raw_data(\n",
    "    fecha_inicio=fecha_inicio, \n",
    "    fecha_fin=fecha_fin, \n",
    "    descargar_bq=True)\n",
    "\n",
    "# Transformar a series temporales SOLO para la familia seleccionada y guardar en interim\n",
    "ts_data = transformar_a_series_temporales(\n",
    "    df_raw,\n",
    "    fecha_inicio=fecha_inicio,\n",
    "    fecha_fin=fecha_fin,\n",
    "    familia=familia,\n",
    "    guardar_interim=True\n",
    ")\n",
    "\n",
    "# Mostrar información básica del DataFrame resultante\n",
    "ts_data.info()\n",
    "ts_data.head()"
   ]
  },
  {
   "cell_type": "code",
   "execution_count": 19,
   "id": "4b8299dc",
   "metadata": {},
   "outputs": [
    {
     "name": "stdout",
     "output_type": "stream",
     "text": [
      "<class 'pandas.core.frame.DataFrame'>\n",
      "RangeIndex: 131 entries, 0 to 130\n",
      "Data columns (total 8 columns):\n",
      " #   Column          Non-Null Count  Dtype         \n",
      "---  ------          --------------  -----         \n",
      " 0   year            131 non-null    UInt32        \n",
      " 1   week            131 non-null    UInt32        \n",
      " 2   familia         131 non-null    object        \n",
      " 3   base_imponible  131 non-null    float64       \n",
      " 4   is_summer_peak  131 non-null    int32         \n",
      " 5   is_easter       131 non-null    int64         \n",
      " 6   dias_semana     131 non-null    int64         \n",
      " 7   week_start      131 non-null    datetime64[ns]\n",
      "dtypes: UInt32(2), datetime64[ns](1), float64(1), int32(1), int64(2), object(1)\n",
      "memory usage: 7.0+ KB\n"
     ]
    }
   ],
   "source": [
    "ts_data.info()"
   ]
  },
  {
   "cell_type": "code",
   "execution_count": null,
   "id": "5f3491a5",
   "metadata": {},
   "outputs": [],
   "source": [
    "import os\n",
    "from dotenv import load_dotenv\n",
    "from paths import ROOT_DIR\n",
    "import hopsworks\n",
    "\n",
    "load_dotenv(os.path.join(ROOT_DIR, '.env'))\n",
    "\n",
    "HOPSWORKS_PROJECT_NAME = 'fleca_mlops'\n",
    "HOPSWORKS_API_KEY = os.getenv('HOPSWORKS_API_KEY')  \n",
    "\n",
    "project = hopsworks.login(\n",
    "    api_key_value=HOPSWORKS_API_KEY, \n",
    "    project=HOPSWORKS_PROJECT_NAME)\n",
    "\n",
    "feature_store = project.get_feature_store()"
   ]
  },
  {
   "cell_type": "code",
   "execution_count": 21,
   "id": "93191140",
   "metadata": {},
   "outputs": [],
   "source": [
    "# Creeamos el feature store en Hopsworks\n",
    "feature_store = project.get_feature_store()\n",
    "\n",
    "# Definimos el nombre y versión del feature store\n",
    "FEATURE_GROUP_NAME = \"times_series_bolleria_feature_group\"\n",
    "FEATURE_GROUP_VERSION = 1"
   ]
  },
  {
   "cell_type": "code",
   "execution_count": 22,
   "id": "9b29ed13",
   "metadata": {},
   "outputs": [],
   "source": [
    "# Creamos el feature group\n",
    "# Desactivamos el stream en Kafka\n",
    "feature_group = feature_store.create_feature_group(\n",
    "    name=FEATURE_GROUP_NAME,\n",
    "    version=FEATURE_GROUP_VERSION,\n",
    "    description=\"Feature group for time series data of bolleria\",\n",
    "    primary_key=[\"week_start\", \"familia\"],\n",
    "    event_time=\"week_start\",\n",
    "    stream=False # Desactivamos el stream en Kafka\n",
    "    )\n"
   ]
  },
  {
   "cell_type": "code",
   "execution_count": 25,
   "id": "ee1263be",
   "metadata": {},
   "outputs": [
    {
     "name": "stdout",
     "output_type": "stream",
     "text": [
      "Feature group 'times_series_bolleria_feature_group' (v1) ya existe. Usando el existente.\n"
     ]
    }
   ],
   "source": [
    "7# Comprobar si el feature group existe antes de crearlo\n",
    "try:\n",
    "    feature_group = feature_store.get_feature_group(\n",
    "        name=FEATURE_GROUP_NAME,\n",
    "        version=FEATURE_GROUP_VERSION\n",
    "    )\n",
    "    print(f\"Feature group '{FEATURE_GROUP_NAME}' (v{FEATURE_GROUP_VERSION}) ya existe. Usando el existente.\")\n",
    "except Exception as e:\n",
    "    print(f\"No existe el feature group, se creará uno nuevo. Detalle: {e}\")\n",
    "    feature_group = feature_store.create_feature_group(\n",
    "        name=FEATURE_GROUP_NAME,\n",
    "        version=FEATURE_GROUP_VERSION,\n",
    "        description=\"Feature group for time series data of bolleria\",\n",
    "        primary_key=[\"week_start\", \"familia\"],\n",
    "        event_time=\"week_start\",\n",
    "        stream=False\n",
    "    )"
   ]
  },
  {
   "cell_type": "code",
   "execution_count": null,
   "id": "6dc728f4",
   "metadata": {},
   "outputs": [],
   "source": [
    "# Forzar year y week a int64 sin nulos antes de la inserción porque me estaba dando problemas\n",
    "import numpy as np\n",
    "ts_data['year'] = ts_data['year'].fillna(0).astype(np.int64)\n",
    "ts_data['week'] = ts_data['week'].fillna(0).astype(np.int64)\n",
    "ts_data.info()"
   ]
  },
  {
   "cell_type": "code",
   "execution_count": null,
   "id": "ec112e21",
   "metadata": {},
   "outputs": [],
   "source": [
    "# Comprobar el orden temporal antes de la inserción\n",
    "print(ts_data[['year', 'week', 'week_start']].head(10))\n",
    "print(ts_data[['year', 'week', 'week_start']].tail(10))\n",
    "assert ts_data['week_start'].is_monotonic_increasing, 'El DataFrame NO está ordenado por week_start'"
   ]
  },
  {
   "cell_type": "code",
   "execution_count": null,
   "id": "f56fc9fe",
   "metadata": {},
   "outputs": [],
   "source": [
    "feature_group.insert(\n",
    "    ts_data,\n",
    "    # online=False,\n",
    "    write_options={'wait_for_job': True}\n",
    ")"
   ]
  }
 ],
 "metadata": {
  "kernelspec": {
   "display_name": "mlops-project-py3.10",
   "language": "python",
   "name": "python3"
  },
  "language_info": {
   "codemirror_mode": {
    "name": "ipython",
    "version": 3
   },
   "file_extension": ".py",
   "mimetype": "text/x-python",
   "name": "python",
   "nbconvert_exporter": "python",
   "pygments_lexer": "ipython3",
   "version": "3.10.0"
  }
 },
 "nbformat": 4,
 "nbformat_minor": 5
}
