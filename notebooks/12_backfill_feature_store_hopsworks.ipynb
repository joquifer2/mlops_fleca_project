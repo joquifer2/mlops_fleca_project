{
 "cells": [
  {
   "cell_type": "code",
   "execution_count": 1,
   "id": "11f3b93f",
   "metadata": {},
   "outputs": [],
   "source": [
    "import sys\n",
    "from pathlib import Path\n",
    "\n",
    "# Añade src al path para importar los módulos\n",
    "sys.path.append(str(Path().resolve().parent / 'src'))"
   ]
  },
  {
   "cell_type": "code",
   "execution_count": 2,
   "id": "2edf7803",
   "metadata": {},
   "outputs": [],
   "source": [
    "%reload_ext autoreload\n",
    "%autoreload 2"
   ]
  },
  {
   "cell_type": "code",
   "execution_count": 3,
   "id": "f84045c5",
   "metadata": {},
   "outputs": [
    {
     "name": "stdout",
     "output_type": "stream",
     "text": [
      "Cargando datos desde: C:\\Workspace\\mlops_fleca_project\\data\\raw\\raw_data_bq_forecasting_20250630.parquet\n",
      "Total de fechas faltantes: 4\n",
      "Fechas faltantes: ['2023-12-25T00:00:00.000000000' '2024-01-01T00:00:00.000000000'\n",
      " '2024-12-25T00:00:00.000000000' '2025-01-01T00:00:00.000000000']\n"
     ]
    },
    {
     "data": {
      "application/vnd.microsoft.datawrangler.viewer.v0+json": {
       "columns": [
        {
         "name": "index",
         "rawType": "object",
         "type": "string"
        },
        {
         "name": "fecha",
         "rawType": "object",
         "type": "unknown"
        },
        {
         "name": "cantidad",
         "rawType": "float64",
         "type": "float"
        },
        {
         "name": "base_imponible",
         "rawType": "float64",
         "type": "float"
        },
        {
         "name": "tipo_IVA",
         "rawType": "float64",
         "type": "float"
        },
        {
         "name": "total",
         "rawType": "float64",
         "type": "float"
        },
        {
         "name": "is_summer_peak",
         "rawType": "float64",
         "type": "float"
        },
        {
         "name": "is_easter",
         "rawType": "float64",
         "type": "float"
        }
       ],
       "ref": "e76885ab-f31c-4a3c-b21f-647e2cdce8e0",
       "rows": [
        [
         "count",
         "337353",
         "337353.0",
         "337353.0",
         "335106.0",
         "337353.0",
         "337353.0",
         "337353.0"
        ],
        [
         "mean",
         "2024-03-10 00:54:30.032281344",
         "1.2093028519088314",
         "2.010885719113214",
         "9.084558318860301",
         "2.1991803244672496",
         "0.20847302380592436",
         "0.0"
        ],
        [
         "min",
         "2023-01-02 00:00:00",
         "0.0",
         "0.0",
         "0.0",
         "0.0",
         "0.0",
         "0.0"
        ],
        [
         "25%",
         "2023-07-28 00:00:00",
         "1.0",
         "1.35",
         "10.0",
         "1.45",
         "0.0",
         "0.0"
        ],
        [
         "50%",
         "2024-03-09 00:00:00",
         "1.0",
         "1.64",
         "10.0",
         "1.8",
         "0.0",
         "0.0"
        ],
        [
         "75%",
         "2024-09-25 00:00:00",
         "1.0",
         "2.32",
         "10.0",
         "2.55",
         "0.0",
         "0.0"
        ],
        [
         "max",
         "2025-06-30 00:00:00",
         "93.0",
         "287.27",
         "10.0",
         "316.0",
         "1.0",
         "0.0"
        ],
        [
         "std",
         null,
         "0.7332626326227984",
         "1.692277655958933",
         "2.7933666902854744",
         "1.86215607817965",
         "0.4062173202734535",
         "0.0"
        ]
       ],
       "shape": {
        "columns": 7,
        "rows": 8
       }
      },
      "text/html": [
       "<div>\n",
       "<style scoped>\n",
       "    .dataframe tbody tr th:only-of-type {\n",
       "        vertical-align: middle;\n",
       "    }\n",
       "\n",
       "    .dataframe tbody tr th {\n",
       "        vertical-align: top;\n",
       "    }\n",
       "\n",
       "    .dataframe thead th {\n",
       "        text-align: right;\n",
       "    }\n",
       "</style>\n",
       "<table border=\"1\" class=\"dataframe\">\n",
       "  <thead>\n",
       "    <tr style=\"text-align: right;\">\n",
       "      <th></th>\n",
       "      <th>fecha</th>\n",
       "      <th>cantidad</th>\n",
       "      <th>base_imponible</th>\n",
       "      <th>tipo_IVA</th>\n",
       "      <th>total</th>\n",
       "      <th>is_summer_peak</th>\n",
       "      <th>is_easter</th>\n",
       "    </tr>\n",
       "  </thead>\n",
       "  <tbody>\n",
       "    <tr>\n",
       "      <th>count</th>\n",
       "      <td>337353</td>\n",
       "      <td>337353.000000</td>\n",
       "      <td>337353.000000</td>\n",
       "      <td>335106.000000</td>\n",
       "      <td>337353.000000</td>\n",
       "      <td>337353.000000</td>\n",
       "      <td>337353.0</td>\n",
       "    </tr>\n",
       "    <tr>\n",
       "      <th>mean</th>\n",
       "      <td>2024-03-10 00:54:30.032281344</td>\n",
       "      <td>1.209303</td>\n",
       "      <td>2.010886</td>\n",
       "      <td>9.084558</td>\n",
       "      <td>2.199180</td>\n",
       "      <td>0.208473</td>\n",
       "      <td>0.0</td>\n",
       "    </tr>\n",
       "    <tr>\n",
       "      <th>min</th>\n",
       "      <td>2023-01-02 00:00:00</td>\n",
       "      <td>0.000000</td>\n",
       "      <td>0.000000</td>\n",
       "      <td>0.000000</td>\n",
       "      <td>0.000000</td>\n",
       "      <td>0.000000</td>\n",
       "      <td>0.0</td>\n",
       "    </tr>\n",
       "    <tr>\n",
       "      <th>25%</th>\n",
       "      <td>2023-07-28 00:00:00</td>\n",
       "      <td>1.000000</td>\n",
       "      <td>1.350000</td>\n",
       "      <td>10.000000</td>\n",
       "      <td>1.450000</td>\n",
       "      <td>0.000000</td>\n",
       "      <td>0.0</td>\n",
       "    </tr>\n",
       "    <tr>\n",
       "      <th>50%</th>\n",
       "      <td>2024-03-09 00:00:00</td>\n",
       "      <td>1.000000</td>\n",
       "      <td>1.640000</td>\n",
       "      <td>10.000000</td>\n",
       "      <td>1.800000</td>\n",
       "      <td>0.000000</td>\n",
       "      <td>0.0</td>\n",
       "    </tr>\n",
       "    <tr>\n",
       "      <th>75%</th>\n",
       "      <td>2024-09-25 00:00:00</td>\n",
       "      <td>1.000000</td>\n",
       "      <td>2.320000</td>\n",
       "      <td>10.000000</td>\n",
       "      <td>2.550000</td>\n",
       "      <td>0.000000</td>\n",
       "      <td>0.0</td>\n",
       "    </tr>\n",
       "    <tr>\n",
       "      <th>max</th>\n",
       "      <td>2025-06-30 00:00:00</td>\n",
       "      <td>93.000000</td>\n",
       "      <td>287.270000</td>\n",
       "      <td>10.000000</td>\n",
       "      <td>316.000000</td>\n",
       "      <td>1.000000</td>\n",
       "      <td>0.0</td>\n",
       "    </tr>\n",
       "    <tr>\n",
       "      <th>std</th>\n",
       "      <td>NaN</td>\n",
       "      <td>0.733263</td>\n",
       "      <td>1.692278</td>\n",
       "      <td>2.793367</td>\n",
       "      <td>1.862156</td>\n",
       "      <td>0.406217</td>\n",
       "      <td>0.0</td>\n",
       "    </tr>\n",
       "  </tbody>\n",
       "</table>\n",
       "</div>"
      ],
      "text/plain": [
       "                               fecha       cantidad  base_imponible  \\\n",
       "count                         337353  337353.000000   337353.000000   \n",
       "mean   2024-03-10 00:54:30.032281344       1.209303        2.010886   \n",
       "min              2023-01-02 00:00:00       0.000000        0.000000   \n",
       "25%              2023-07-28 00:00:00       1.000000        1.350000   \n",
       "50%              2024-03-09 00:00:00       1.000000        1.640000   \n",
       "75%              2024-09-25 00:00:00       1.000000        2.320000   \n",
       "max              2025-06-30 00:00:00      93.000000      287.270000   \n",
       "std                              NaN       0.733263        1.692278   \n",
       "\n",
       "            tipo_IVA          total  is_summer_peak  is_easter  \n",
       "count  335106.000000  337353.000000   337353.000000   337353.0  \n",
       "mean        9.084558       2.199180        0.208473        0.0  \n",
       "min         0.000000       0.000000        0.000000        0.0  \n",
       "25%        10.000000       1.450000        0.000000        0.0  \n",
       "50%        10.000000       1.800000        0.000000        0.0  \n",
       "75%        10.000000       2.550000        0.000000        0.0  \n",
       "max        10.000000     316.000000        1.000000        0.0  \n",
       "std         2.793367       1.862156        0.406217        0.0  "
      ]
     },
     "execution_count": 3,
     "metadata": {},
     "output_type": "execute_result"
    }
   ],
   "source": [
    "from src.data_utils import load_raw_data\n",
    "import pandas as pd\n",
    "\n",
    "# Cargar los datos\n",
    "df_raw = load_raw_data(\n",
    "    fecha_inicio=\"2023-01-02\", \n",
    "    fecha_fin=\"2025-06-30\", \n",
    "    descargar_bq=False)\n",
    "\n",
    "df_raw.describe()\n",
    "\n"
   ]
  },
  {
   "cell_type": "code",
   "execution_count": 4,
   "id": "8cf0b1ab",
   "metadata": {},
   "outputs": [],
   "source": [
    "from src.data_utils import transformar_a_series_temporales\n",
    "\n",
    "ts_data = transformar_a_series_temporales(df_raw)\n"
   ]
  },
  {
   "cell_type": "code",
   "execution_count": 5,
   "id": "4b8299dc",
   "metadata": {},
   "outputs": [
    {
     "name": "stdout",
     "output_type": "stream",
     "text": [
      "<class 'pandas.core.frame.DataFrame'>\n",
      "RangeIndex: 126 entries, 0 to 125\n",
      "Data columns (total 8 columns):\n",
      " #   Column          Non-Null Count  Dtype         \n",
      "---  ------          --------------  -----         \n",
      " 0   year            126 non-null    UInt32        \n",
      " 1   week            126 non-null    UInt32        \n",
      " 2   familia         126 non-null    object        \n",
      " 3   base_imponible  126 non-null    float64       \n",
      " 4   is_summer_peak  126 non-null    int32         \n",
      " 5   is_easter       126 non-null    int64         \n",
      " 6   dias_semana     126 non-null    int64         \n",
      " 7   week_start      126 non-null    datetime64[ns]\n",
      "dtypes: UInt32(2), datetime64[ns](1), float64(1), int32(1), int64(2), object(1)\n",
      "memory usage: 6.8+ KB\n"
     ]
    }
   ],
   "source": [
    "ts_data.info()"
   ]
  },
  {
   "cell_type": "code",
   "execution_count": 6,
   "id": "5f3491a5",
   "metadata": {},
   "outputs": [
    {
     "name": "stdout",
     "output_type": "stream",
     "text": [
      "2025-08-09 20:35:11,741 INFO: Initializing external client\n",
      "2025-08-09 20:35:11,741 INFO: Base URL: https://c.app.hopsworks.ai:443\n",
      "2025-08-09 20:35:11,741 INFO: Base URL: https://c.app.hopsworks.ai:443\n"
     ]
    },
    {
     "name": "stderr",
     "output_type": "stream",
     "text": [
      "\n",
      "\n",
      "UserWarning: The installed hopsworks client version 4.3.1 may not be compatible with the connected Hopsworks backend version 4.2.2. \n",
      "To ensure compatibility please install the latest bug fix release matching the minor version of your backend (4.2) by running 'pip install hopsworks==4.2.*'\n"
     ]
    },
    {
     "name": "stdout",
     "output_type": "stream",
     "text": [
      "2025-08-09 20:35:12,869 INFO: Python Engine initialized.\n",
      "\n",
      "Logged in to project, explore it here https://c.app.hopsworks.ai:443/p/1242272\n",
      "\n",
      "Logged in to project, explore it here https://c.app.hopsworks.ai:443/p/1242272\n"
     ]
    }
   ],
   "source": [
    "import os\n",
    "from dotenv import load_dotenv\n",
    "from paths import ROOT_DIR\n",
    "import hopsworks\n",
    "\n",
    "load_dotenv(os.path.join(ROOT_DIR, '.env'))\n",
    "\n",
    "HOPSWORKS_PROJECT_NAME = 'fleca_mlops'\n",
    "HOPSWORKS_API_KEY = os.getenv('HOPSWORKS_API_KEY')  \n",
    "\n",
    "project = hopsworks.login(\n",
    "    api_key_value=HOPSWORKS_API_KEY, \n",
    "    project=HOPSWORKS_PROJECT_NAME)\n",
    "\n",
    "feature_store = project.get_feature_store()"
   ]
  },
  {
   "cell_type": "code",
   "execution_count": 7,
   "id": "93191140",
   "metadata": {},
   "outputs": [],
   "source": [
    "# Creeamos el feature store en Hopsworks\n",
    "feature_store = project.get_feature_store()\n",
    "\n",
    "# Definimos el nombre y versión del feature store\n",
    "FEATURE_GROUP_NAME = \"times_series_bolleria_feature_group\"\n",
    "FEATURE_GROUP_VERSION = 1"
   ]
  },
  {
   "cell_type": "code",
   "execution_count": 8,
   "id": "9b29ed13",
   "metadata": {},
   "outputs": [],
   "source": [
    "# Creamos el feature group\n",
    "# Desactivamos el stream en Kafka\n",
    "feature_group = feature_store.create_feature_group(\n",
    "    name=FEATURE_GROUP_NAME,\n",
    "    version=FEATURE_GROUP_VERSION,\n",
    "    description=\"Feature group for time series data of bolleria\",\n",
    "    primary_key=[\"week_start\", \"familia\"],\n",
    "    event_time=\"week_start\",\n",
    "    stream=False # Desactivamos el stream en Kafka\n",
    "    )\n"
   ]
  },
  {
   "cell_type": "code",
   "execution_count": 9,
   "id": "ee1263be",
   "metadata": {},
   "outputs": [
    {
     "name": "stdout",
     "output_type": "stream",
     "text": [
      "Feature group 'times_series_bolleria_feature_group' (v1) ya existe. Usando el existente.\n"
     ]
    }
   ],
   "source": [
    "# Comprobar si el feature group existe antes de crearlo\n",
    "try:\n",
    "    feature_group = feature_store.get_feature_group(\n",
    "        name=FEATURE_GROUP_NAME,\n",
    "        version=FEATURE_GROUP_VERSION\n",
    "    )\n",
    "    print(f\"Feature group '{FEATURE_GROUP_NAME}' (v{FEATURE_GROUP_VERSION}) ya existe. Usando el existente.\")\n",
    "except Exception as e:\n",
    "    print(f\"No existe el feature group, se creará uno nuevo. Detalle: {e}\")\n",
    "    feature_group = feature_store.create_feature_group(\n",
    "        name=FEATURE_GROUP_NAME,\n",
    "        version=FEATURE_GROUP_VERSION,\n",
    "        description=\"Feature group for time series data of bolleria\",\n",
    "        primary_key=[\"week_start\", \"familia\"],\n",
    "        event_time=\"week_start\",\n",
    "        stream=False\n",
    "    )"
   ]
  },
  {
   "cell_type": "code",
   "execution_count": null,
   "id": "6dc728f4",
   "metadata": {},
   "outputs": [
    {
     "name": "stdout",
     "output_type": "stream",
     "text": [
      "<class 'pandas.core.frame.DataFrame'>\n",
      "RangeIndex: 126 entries, 0 to 125\n",
      "Data columns (total 8 columns):\n",
      " #   Column          Non-Null Count  Dtype         \n",
      "---  ------          --------------  -----         \n",
      " 0   year            126 non-null    int64         \n",
      " 1   week            126 non-null    int64         \n",
      " 2   familia         126 non-null    object        \n",
      " 3   base_imponible  126 non-null    float64       \n",
      " 4   is_summer_peak  126 non-null    int32         \n",
      " 5   is_easter       126 non-null    int64         \n",
      " 6   dias_semana     126 non-null    int64         \n",
      " 7   week_start      126 non-null    datetime64[ns]\n",
      "dtypes: datetime64[ns](1), float64(1), int32(1), int64(4), object(1)\n",
      "memory usage: 7.5+ KB\n"
     ]
    }
   ],
   "source": [
    "# Forzar year y week a int64 sin nulos antes de la inserción porque me estaba dando problemas\n",
    "import numpy as np\n",
    "ts_data['year'] = ts_data['year'].fillna(0).astype(np.int64)\n",
    "ts_data['week'] = ts_data['week'].fillna(0).astype(np.int64)\n",
    "ts_data.info()"
   ]
  },
  {
   "cell_type": "code",
   "execution_count": 13,
   "id": "ec112e21",
   "metadata": {},
   "outputs": [
    {
     "name": "stdout",
     "output_type": "stream",
     "text": [
      "   year  week week_start\n",
      "0  2023     1 2023-01-02\n",
      "1  2023     2 2023-01-09\n",
      "2  2023     3 2023-01-16\n",
      "3  2023     4 2023-01-23\n",
      "4  2023     5 2023-01-30\n",
      "5  2023     6 2023-02-06\n",
      "6  2023     7 2023-02-13\n",
      "7  2023     8 2023-02-20\n",
      "8  2023     9 2023-02-27\n",
      "9  2023    10 2023-03-06\n",
      "     year  week week_start\n",
      "116  2025    17 2025-04-21\n",
      "117  2025    18 2025-04-28\n",
      "118  2025    19 2025-05-05\n",
      "119  2025    20 2025-05-12\n",
      "120  2025    21 2025-05-19\n",
      "121  2025    22 2025-05-26\n",
      "122  2025    23 2025-06-02\n",
      "123  2025    24 2025-06-09\n",
      "124  2025    25 2025-06-16\n",
      "125  2025    26 2025-06-23\n"
     ]
    }
   ],
   "source": [
    "# Comprobar el orden temporal antes de la inserción\n",
    "print(ts_data[['year', 'week', 'week_start']].head(10))\n",
    "print(ts_data[['year', 'week', 'week_start']].tail(10))\n",
    "assert ts_data['week_start'].is_monotonic_increasing, 'El DataFrame NO está ordenado por week_start'"
   ]
  },
  {
   "cell_type": "code",
   "execution_count": null,
   "id": "f56fc9fe",
   "metadata": {},
   "outputs": [
    {
     "name": "stderr",
     "output_type": "stream",
     "text": [
      "Uploading Dataframe: 100.00% |██████████| Rows 126/126 | Elapsed Time: 00:00 | Remaining Time: 00:00\n",
      "\n"
     ]
    },
    {
     "name": "stdout",
     "output_type": "stream",
     "text": [
      "Launching job: times_series_bolleria_feature_group_1_offline_fg_materialization\n",
      "Job started successfully, you can follow the progress at \n",
      "https://c.app.hopsworks.ai:443/p/1242272/jobs/named/times_series_bolleria_feature_group_1_offline_fg_materialization/executions\n",
      "Job started successfully, you can follow the progress at \n",
      "https://c.app.hopsworks.ai:443/p/1242272/jobs/named/times_series_bolleria_feature_group_1_offline_fg_materialization/executions\n",
      "2025-08-09 20:36:12,496 INFO: Waiting for execution to finish. Current state: SUBMITTED. Final status: UNDEFINED\n",
      "2025-08-09 20:36:12,496 INFO: Waiting for execution to finish. Current state: SUBMITTED. Final status: UNDEFINED\n",
      "2025-08-09 20:36:15,655 INFO: Waiting for execution to finish. Current state: RUNNING. Final status: UNDEFINED\n",
      "2025-08-09 20:36:15,655 INFO: Waiting for execution to finish. Current state: RUNNING. Final status: UNDEFINED\n",
      "2025-08-09 20:38:09,464 INFO: Waiting for execution to finish. Current state: AGGREGATING_LOGS. Final status: SUCCEEDED\n",
      "2025-08-09 20:38:09,464 INFO: Waiting for execution to finish. Current state: AGGREGATING_LOGS. Final status: SUCCEEDED\n",
      "2025-08-09 20:38:09,607 INFO: Waiting for log aggregation to finish.\n",
      "2025-08-09 20:38:09,607 INFO: Waiting for log aggregation to finish.\n",
      "2025-08-09 20:38:18,133 INFO: Execution finished successfully.\n",
      "2025-08-09 20:38:18,133 INFO: Execution finished successfully.\n"
     ]
    },
    {
     "data": {
      "text/plain": [
       "(Job('times_series_bolleria_feature_group_1_offline_fg_materialization', 'SPARK'),\n",
       " None)"
      ]
     },
     "execution_count": 12,
     "metadata": {},
     "output_type": "execute_result"
    }
   ],
   "source": [
    "feature_group.insert(\n",
    "    ts_data,\n",
    "    online=False,\n",
    "    write_options={'wait_for_job': True}\n",
    ")"
   ]
  }
 ],
 "metadata": {
  "kernelspec": {
   "display_name": "mlops-project-py3.10",
   "language": "python",
   "name": "python3"
  },
  "language_info": {
   "codemirror_mode": {
    "name": "ipython",
    "version": 3
   },
   "file_extension": ".py",
   "mimetype": "text/x-python",
   "name": "python",
   "nbconvert_exporter": "python",
   "pygments_lexer": "ipython3",
   "version": "3.10.0"
  }
 },
 "nbformat": 4,
 "nbformat_minor": 5
}
