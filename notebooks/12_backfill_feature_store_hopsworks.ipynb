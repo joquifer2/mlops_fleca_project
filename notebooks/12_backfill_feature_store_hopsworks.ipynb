{
 "cells": [
  {
   "cell_type": "code",
   "execution_count": 13,
   "id": "11f3b93f",
   "metadata": {},
   "outputs": [],
   "source": [
    "import sys\n",
    "from pathlib import Path\n",
    "\n",
    "# Añade src al path para importar los módulos\n",
    "sys.path.append(str(Path().resolve().parent / 'src'))"
   ]
  },
  {
   "cell_type": "code",
   "execution_count": 14,
   "id": "2edf7803",
   "metadata": {},
   "outputs": [],
   "source": [
    "%reload_ext autoreload\n",
    "%autoreload 2"
   ]
  },
  {
   "cell_type": "code",
   "execution_count": 15,
   "id": "f84045c5",
   "metadata": {},
   "outputs": [
    {
     "name": "stdout",
     "output_type": "stream",
     "text": [
      "Cargando datos desde: C:\\Workspace\\mlops_fleca_project\\data\\raw\\raw_data_bq_forecasting_20250630.parquet\n",
      "Total de fechas faltantes: 4\n",
      "Fechas faltantes: ['2023-12-25T00:00:00.000000000' '2024-01-01T00:00:00.000000000'\n",
      " '2024-12-25T00:00:00.000000000' '2025-01-01T00:00:00.000000000']\n"
     ]
    },
    {
     "data": {
      "application/vnd.microsoft.datawrangler.viewer.v0+json": {
       "columns": [
        {
         "name": "index",
         "rawType": "object",
         "type": "string"
        },
        {
         "name": "fecha",
         "rawType": "object",
         "type": "unknown"
        },
        {
         "name": "cantidad",
         "rawType": "float64",
         "type": "float"
        },
        {
         "name": "base_imponible",
         "rawType": "float64",
         "type": "float"
        },
        {
         "name": "tipo_IVA",
         "rawType": "float64",
         "type": "float"
        },
        {
         "name": "total",
         "rawType": "float64",
         "type": "float"
        },
        {
         "name": "is_summer_peak",
         "rawType": "float64",
         "type": "float"
        },
        {
         "name": "is_easter",
         "rawType": "float64",
         "type": "float"
        }
       ],
       "ref": "f89cff2c-07d7-40e3-9141-0c9b0c1da3c3",
       "rows": [
        [
         "count",
         "337353",
         "337353.0",
         "337353.0",
         "335106.0",
         "337353.0",
         "337353.0",
         "337353.0"
        ],
        [
         "mean",
         "2024-03-10 00:54:30.032281344",
         "1.2093028519088314",
         "2.010885719113214",
         "9.084558318860301",
         "2.1991803244672496",
         "0.20847302380592436",
         "0.0"
        ],
        [
         "min",
         "2023-01-02 00:00:00",
         "0.0",
         "0.0",
         "0.0",
         "0.0",
         "0.0",
         "0.0"
        ],
        [
         "25%",
         "2023-07-28 00:00:00",
         "1.0",
         "1.35",
         "10.0",
         "1.45",
         "0.0",
         "0.0"
        ],
        [
         "50%",
         "2024-03-09 00:00:00",
         "1.0",
         "1.64",
         "10.0",
         "1.8",
         "0.0",
         "0.0"
        ],
        [
         "75%",
         "2024-09-25 00:00:00",
         "1.0",
         "2.32",
         "10.0",
         "2.55",
         "0.0",
         "0.0"
        ],
        [
         "max",
         "2025-06-30 00:00:00",
         "93.0",
         "287.27",
         "10.0",
         "316.0",
         "1.0",
         "0.0"
        ],
        [
         "std",
         null,
         "0.7332626326227984",
         "1.692277655958933",
         "2.7933666902854744",
         "1.86215607817965",
         "0.4062173202734535",
         "0.0"
        ]
       ],
       "shape": {
        "columns": 7,
        "rows": 8
       }
      },
      "text/html": [
       "<div>\n",
       "<style scoped>\n",
       "    .dataframe tbody tr th:only-of-type {\n",
       "        vertical-align: middle;\n",
       "    }\n",
       "\n",
       "    .dataframe tbody tr th {\n",
       "        vertical-align: top;\n",
       "    }\n",
       "\n",
       "    .dataframe thead th {\n",
       "        text-align: right;\n",
       "    }\n",
       "</style>\n",
       "<table border=\"1\" class=\"dataframe\">\n",
       "  <thead>\n",
       "    <tr style=\"text-align: right;\">\n",
       "      <th></th>\n",
       "      <th>fecha</th>\n",
       "      <th>cantidad</th>\n",
       "      <th>base_imponible</th>\n",
       "      <th>tipo_IVA</th>\n",
       "      <th>total</th>\n",
       "      <th>is_summer_peak</th>\n",
       "      <th>is_easter</th>\n",
       "    </tr>\n",
       "  </thead>\n",
       "  <tbody>\n",
       "    <tr>\n",
       "      <th>count</th>\n",
       "      <td>337353</td>\n",
       "      <td>337353.000000</td>\n",
       "      <td>337353.000000</td>\n",
       "      <td>335106.000000</td>\n",
       "      <td>337353.000000</td>\n",
       "      <td>337353.000000</td>\n",
       "      <td>337353.0</td>\n",
       "    </tr>\n",
       "    <tr>\n",
       "      <th>mean</th>\n",
       "      <td>2024-03-10 00:54:30.032281344</td>\n",
       "      <td>1.209303</td>\n",
       "      <td>2.010886</td>\n",
       "      <td>9.084558</td>\n",
       "      <td>2.199180</td>\n",
       "      <td>0.208473</td>\n",
       "      <td>0.0</td>\n",
       "    </tr>\n",
       "    <tr>\n",
       "      <th>min</th>\n",
       "      <td>2023-01-02 00:00:00</td>\n",
       "      <td>0.000000</td>\n",
       "      <td>0.000000</td>\n",
       "      <td>0.000000</td>\n",
       "      <td>0.000000</td>\n",
       "      <td>0.000000</td>\n",
       "      <td>0.0</td>\n",
       "    </tr>\n",
       "    <tr>\n",
       "      <th>25%</th>\n",
       "      <td>2023-07-28 00:00:00</td>\n",
       "      <td>1.000000</td>\n",
       "      <td>1.350000</td>\n",
       "      <td>10.000000</td>\n",
       "      <td>1.450000</td>\n",
       "      <td>0.000000</td>\n",
       "      <td>0.0</td>\n",
       "    </tr>\n",
       "    <tr>\n",
       "      <th>50%</th>\n",
       "      <td>2024-03-09 00:00:00</td>\n",
       "      <td>1.000000</td>\n",
       "      <td>1.640000</td>\n",
       "      <td>10.000000</td>\n",
       "      <td>1.800000</td>\n",
       "      <td>0.000000</td>\n",
       "      <td>0.0</td>\n",
       "    </tr>\n",
       "    <tr>\n",
       "      <th>75%</th>\n",
       "      <td>2024-09-25 00:00:00</td>\n",
       "      <td>1.000000</td>\n",
       "      <td>2.320000</td>\n",
       "      <td>10.000000</td>\n",
       "      <td>2.550000</td>\n",
       "      <td>0.000000</td>\n",
       "      <td>0.0</td>\n",
       "    </tr>\n",
       "    <tr>\n",
       "      <th>max</th>\n",
       "      <td>2025-06-30 00:00:00</td>\n",
       "      <td>93.000000</td>\n",
       "      <td>287.270000</td>\n",
       "      <td>10.000000</td>\n",
       "      <td>316.000000</td>\n",
       "      <td>1.000000</td>\n",
       "      <td>0.0</td>\n",
       "    </tr>\n",
       "    <tr>\n",
       "      <th>std</th>\n",
       "      <td>NaN</td>\n",
       "      <td>0.733263</td>\n",
       "      <td>1.692278</td>\n",
       "      <td>2.793367</td>\n",
       "      <td>1.862156</td>\n",
       "      <td>0.406217</td>\n",
       "      <td>0.0</td>\n",
       "    </tr>\n",
       "  </tbody>\n",
       "</table>\n",
       "</div>"
      ],
      "text/plain": [
       "                               fecha       cantidad  base_imponible  \\\n",
       "count                         337353  337353.000000   337353.000000   \n",
       "mean   2024-03-10 00:54:30.032281344       1.209303        2.010886   \n",
       "min              2023-01-02 00:00:00       0.000000        0.000000   \n",
       "25%              2023-07-28 00:00:00       1.000000        1.350000   \n",
       "50%              2024-03-09 00:00:00       1.000000        1.640000   \n",
       "75%              2024-09-25 00:00:00       1.000000        2.320000   \n",
       "max              2025-06-30 00:00:00      93.000000      287.270000   \n",
       "std                              NaN       0.733263        1.692278   \n",
       "\n",
       "            tipo_IVA          total  is_summer_peak  is_easter  \n",
       "count  335106.000000  337353.000000   337353.000000   337353.0  \n",
       "mean        9.084558       2.199180        0.208473        0.0  \n",
       "min         0.000000       0.000000        0.000000        0.0  \n",
       "25%        10.000000       1.450000        0.000000        0.0  \n",
       "50%        10.000000       1.800000        0.000000        0.0  \n",
       "75%        10.000000       2.550000        0.000000        0.0  \n",
       "max        10.000000     316.000000        1.000000        0.0  \n",
       "std         2.793367       1.862156        0.406217        0.0  "
      ]
     },
     "execution_count": 15,
     "metadata": {},
     "output_type": "execute_result"
    }
   ],
   "source": [
    "from src.data_utils import load_raw_data\n",
    "import pandas as pd\n",
    "\n",
    "# Cargar los datos\n",
    "df_raw = load_raw_data(\n",
    "    fecha_inicio=\"2023-01-02\", \n",
    "    fecha_fin=\"2025-06-30\", \n",
    "    descargar_bq=False)\n",
    "\n",
    "df_raw.describe()\n",
    "\n"
   ]
  },
  {
   "cell_type": "code",
   "execution_count": 16,
   "id": "8cf0b1ab",
   "metadata": {},
   "outputs": [],
   "source": [
    "from src.data_utils import transformar_a_series_temporales\n",
    "\n",
    "df_ts = transformar_a_series_temporales(df_raw)\n",
    "\n",
    "    \n"
   ]
  },
  {
   "cell_type": "code",
   "execution_count": 17,
   "id": "4b8299dc",
   "metadata": {},
   "outputs": [
    {
     "name": "stdout",
     "output_type": "stream",
     "text": [
      "<class 'pandas.core.frame.DataFrame'>\n",
      "RangeIndex: 126 entries, 0 to 125\n",
      "Data columns (total 8 columns):\n",
      " #   Column          Non-Null Count  Dtype         \n",
      "---  ------          --------------  -----         \n",
      " 0   year            126 non-null    UInt32        \n",
      " 1   week            126 non-null    UInt32        \n",
      " 2   familia         126 non-null    object        \n",
      " 3   base_imponible  126 non-null    float64       \n",
      " 4   is_summer_peak  126 non-null    int32         \n",
      " 5   is_easter       126 non-null    int64         \n",
      " 6   dias_semana     126 non-null    int64         \n",
      " 7   week_start      126 non-null    datetime64[ns]\n",
      "dtypes: UInt32(2), datetime64[ns](1), float64(1), int32(1), int64(2), object(1)\n",
      "memory usage: 6.8+ KB\n"
     ]
    }
   ],
   "source": [
    "df_ts.info()"
   ]
  },
  {
   "cell_type": "code",
   "execution_count": 20,
   "id": "5f3491a5",
   "metadata": {},
   "outputs": [
    {
     "name": "stdout",
     "output_type": "stream",
     "text": [
      "2025-08-07 20:39:00,920 INFO: Initializing external client\n",
      "2025-08-07 20:39:00,921 INFO: Base URL: https://c.app.hopsworks.ai:443\n"
     ]
    },
    {
     "name": "stderr",
     "output_type": "stream",
     "text": [
      "\n",
      "\n",
      "UserWarning: The installed hopsworks client version 4.3.1 may not be compatible with the connected Hopsworks backend version 4.2.2. \n",
      "To ensure compatibility please install the latest bug fix release matching the minor version of your backend (4.2) by running 'pip install hopsworks==4.2.*'\n"
     ]
    },
    {
     "name": "stdout",
     "output_type": "stream",
     "text": [
      "2025-08-07 20:39:12,210 INFO: Python Engine initialized.\n",
      "\n",
      "Logged in to project, explore it here https://c.app.hopsworks.ai:443/p/1242272\n"
     ]
    }
   ],
   "source": [
    "import os\n",
    "from dotenv import load_dotenv\n",
    "from paths import ROOT_DIR\n",
    "import hopsworks\n",
    "\n",
    "load_dotenv(os.path.join(ROOT_DIR, '.env'))\n",
    "\n",
    "HOPSWORKS_PROJECT_NAME = 'fleca_mlops'\n",
    "HOPSWORKS_API_KEY = os.getenv('HOPSWORKS_API_KEY')  \n",
    "\n",
    "project = hopsworks.login(\n",
    "    api_key_value=HOPSWORKS_API_KEY, \n",
    "    project=HOPSWORKS_PROJECT_NAME)\n",
    "\n",
    "feature_store = project.get_feature_store()"
   ]
  }
 ],
 "metadata": {
  "kernelspec": {
   "display_name": "mlops-project-py3.10",
   "language": "python",
   "name": "python3"
  },
  "language_info": {
   "codemirror_mode": {
    "name": "ipython",
    "version": 3
   },
   "file_extension": ".py",
   "mimetype": "text/x-python",
   "name": "python",
   "nbconvert_exporter": "python",
   "pygments_lexer": "ipython3",
   "version": "3.10.0"
  }
 },
 "nbformat": 4,
 "nbformat_minor": 5
}
