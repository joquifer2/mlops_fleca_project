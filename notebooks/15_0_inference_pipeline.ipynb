{
 "cells": [
  {
   "cell_type": "markdown",
   "id": "a6c0178f",
   "metadata": {},
   "source": [
    "# Pipeline de inferencia"
   ]
  },
  {
   "cell_type": "markdown",
   "id": "4a7f2bc1",
   "metadata": {},
   "source": [
    "## Entorno y rutas\n",
    "Este bloque configura el entorno de Python y ajusta las rutas para que los imports de módulos internos funcionen correctamente en cualquier entorno (local o CI/CD)."
   ]
  },
  {
   "cell_type": "code",
   "execution_count": 5,
   "id": "e804a5b9",
   "metadata": {},
   "outputs": [],
   "source": [
    "# === Configuración de rutas para importación de módulos internos ===\n",
    "# Añadimos el directorio raíz del proyecto al sys.path para poder importar módulos locales (por ejemplo, src, config, etc.)\n",
    "import sys\n",
    "from pathlib import Path\n",
    "\n",
    "# Si necesitas importar módulos de src, descomenta la siguiente línea:\n",
    "sys.path.append(str(Path().resolve().parent / 'src'))"
   ]
  },
  {
   "cell_type": "code",
   "execution_count": 6,
   "id": "8109c7e8",
   "metadata": {},
   "outputs": [],
   "source": [
    "# === Recarga automática de módulos (útil en desarrollo interactivo) ===\n",
    "%reload_ext autoreload\n",
    "%autoreload 2"
   ]
  },
  {
   "cell_type": "markdown",
   "id": "41963296",
   "metadata": {},
   "source": [
    "## Ajuste de sys.path para imports\n",
    "Este bloque garantiza que el directorio raíz del proyecto esté en sys.path, permitiendo importar módulos personalizados sin errores."
   ]
  },
  {
   "cell_type": "code",
   "execution_count": 7,
   "id": "62676308",
   "metadata": {},
   "outputs": [],
   "source": [
    "# === Asegura que el directorio raíz está en sys.path ===\n",
    "# Esto es importante para que los imports funcionen correctamente en cualquier entorno (local, CI/CD, etc.)\n",
    "import sys\n",
    "from pathlib import Path\n",
    "\n",
    "project_root = Path().resolve().parent\n",
    "if str(project_root) not in sys.path:\n",
    "    sys.path.insert(0, str(project_root))"
   ]
  },
  {
   "cell_type": "markdown",
   "id": "0cb04071",
   "metadata": {},
   "source": [
    "## Conexión, exploración y acceso a Hopsworks\n",
    "Este bloque es opcional y permite inspeccionar los datos disponibles en el feature store de Hopsworks. Útil para depuración y validación."
   ]
  },
  {
   "cell_type": "code",
   "execution_count": null,
   "id": "fcbf6bd2",
   "metadata": {},
   "outputs": [
    {
     "name": "stdout",
     "output_type": "stream",
     "text": [
      "DEBUG ENV HOPSWORKS_PROJECT_NAME: fleca_mlops\n",
      "DEBUG ENV PATH: C:\\Workspace\\mlops_fleca_project\\.env\n",
      "2025-09-07 12:57:58,843 INFO: Initializing external client\n",
      "2025-09-07 12:57:58,844 INFO: Base URL: https://c.app.hopsworks.ai:443\n",
      "2025-09-07 12:57:58,844 INFO: Base URL: https://c.app.hopsworks.ai:443\n"
     ]
    },
    {
     "name": "stderr",
     "output_type": "stream",
     "text": [
      "\n",
      "\n",
      "UserWarning: The installed hopsworks client version 4.3.1 may not be compatible with the connected Hopsworks backend version 4.2.2. \n",
      "To ensure compatibility please install the latest bug fix release matching the minor version of your backend (4.2) by running 'pip install hopsworks==4.2.*'\n"
     ]
    },
    {
     "name": "stdout",
     "output_type": "stream",
     "text": [
      "2025-09-07 12:58:00,101 INFO: Python Engine initialized.\n",
      "\n",
      "Logged in to project, explore it here https://c.app.hopsworks.ai:443/p/1242272\n",
      "\n",
      "Logged in to project, explore it here https://c.app.hopsworks.ai:443/p/1242272\n",
      "Feature groups encontrados: 1\n",
      " - times_series_bolleria_feature_group\n",
      "Feature groups encontrados: 1\n",
      " - times_series_bolleria_feature_group\n"
     ]
    }
   ],
   "source": [
    "# === Conexión y exploración de feature groups en Hopsworks ===\n",
    "# Este bloque conecta con Hopsworks y lista los feature groups disponibles para el nombre dado.\n",
    "import hopsworks\n",
    "import pandas as pd\n",
    "import config\n",
    "\n",
    "FG_NAME = \"times_series_bolleria_feature_group\"\n",
    "FV_NAME = \"times_series_bolleria_feature_view\"\n",
    "FV_VERSION = 1\n",
    "\n",
    "# Conectar con el proyecto de Hopsworks y al feature store\n",
    "project = hopsworks.login(project=config.HOPSWORKS_PROJECT_NAME, api_key_value=config.HOPSWORKS_API_KEY)\n",
    "\n",
    "# Obtener el feature store\n",
    "feature_store = project.get_feature_store()\n",
    "\n",
    "# Listar los feature groups existentes para FG_NAME\n",
    "feature_groups = feature_store.get_feature_groups(name=FG_NAME)\n",
    "print(f\"Feature groups encontrados: {len(feature_groups)}\")\n",
    "for fg in feature_groups:\n",
    "    print(f\" - {fg.name}\")"
   ]
  },
  {
   "cell_type": "markdown",
   "id": "93ce764f",
   "metadata": {},
   "source": [
    "### Exploración de datos en Hopsworks\n",
    "Este bloque conecta con Hopsworks y permite explorar los feature groups y feature views disponibles para validar la estructura de los datos."
   ]
  },
  {
   "cell_type": "code",
   "execution_count": 9,
   "id": "54f55664",
   "metadata": {},
   "outputs": [
    {
     "name": "stdout",
     "output_type": "stream",
     "text": [
      "Feature group: times_series_bolleria_feature_group\n",
      "Finished: Reading data from Hopsworks, using Hopsworks Feature Query Service (0.55s) \n",
      " - Número de filas: 135\n",
      " - Rango de week_start: 2023-01-02 00:00:00+00:00 a 2025-08-25 00:00:00+00:00\n",
      "Finished: Reading data from Hopsworks, using Hopsworks Feature Query Service (0.55s) \n",
      " - Número de filas: 135\n",
      " - Rango de week_start: 2023-01-02 00:00:00+00:00 a 2025-08-25 00:00:00+00:00\n"
     ]
    }
   ],
   "source": [
    "# === FEATURE GROUPS ===\n",
    "\n",
    "#  Para cada Feature Group, saca numero de filas y rango de timestamp\n",
    "for fg in feature_groups:\n",
    "    print(f\"Feature group: {fg.name}\")\n",
    "    df = fg.read()\n",
    "    print(f\" - Número de filas: {len(df)}\")\n",
    "    if not df.empty:\n",
    "        print(f\" - Rango de week_start: {df['week_start'].min()} a {df['week_start'].max()}\")\n",
    "    else:\n",
    "        print(\" - No hay datos en este feature group.\")"
   ]
  },
  {
   "cell_type": "code",
   "execution_count": 10,
   "id": "293b7bac",
   "metadata": {},
   "outputs": [
    {
     "name": "stdout",
     "output_type": "stream",
     "text": [
      "Feature views encontrados: 1\n",
      " - times_series_bolleria_feature_view\n",
      " - Version: 1\n",
      "Finished: Reading data from Hopsworks, using Hopsworks Feature Query Service (0.51s) \n",
      "Feature view times_series_bolleria_feature_view:\n",
      " - Número de filas: 135\n",
      " - Rango de week_start: 2023-01-02 00:00:00+00:00 a 2025-08-25 00:00:00+00:00\n",
      " - Columnas: ['familia', 'base_imponible', 'is_summer_peak', 'is_easter', 'week_start']\n",
      "Finished: Reading data from Hopsworks, using Hopsworks Feature Query Service (0.51s) \n",
      "Feature view times_series_bolleria_feature_view:\n",
      " - Número de filas: 135\n",
      " - Rango de week_start: 2023-01-02 00:00:00+00:00 a 2025-08-25 00:00:00+00:00\n",
      " - Columnas: ['familia', 'base_imponible', 'is_summer_peak', 'is_easter', 'week_start']\n"
     ]
    }
   ],
   "source": [
    "# === FEATURE VIEWS ===\n",
    "\n",
    "# Listas los features views\n",
    "feature_views = feature_store.get_feature_views(name=FV_NAME)\n",
    "# Filtrar por versión\n",
    "feature_views = [fv for fv in feature_views if fv.version == FV_VERSION]\n",
    "print(f\"Feature views encontrados: {len(feature_views)}\")\n",
    "for fv in feature_views:\n",
    "    print(f\" - {fv.name}\")\n",
    "    print(f\" - Version: {fv.version}\")\n",
    "\n",
    "# Para cada feature view saca el número de filas y rango de timestamp\n",
    "batch_data = []\n",
    "for fv in feature_views:\n",
    "    df = fv.get_batch_data()\n",
    "    batch_data.append(df)\n",
    "\n",
    "# Imprimir información sobre los datos de cada feature view y las columnas\n",
    "for i, df in enumerate(batch_data):\n",
    "    print(f\"Feature view {feature_views[i].name}:\")\n",
    "    print(f\" - Número de filas: {len(df)}\")\n",
    "    if not df.empty:\n",
    "        print(f\" - Rango de week_start: {df['week_start'].min()} a {df['week_start'].max()}\")\n",
    "        print(f\" - Columnas: {list(df.columns)}\")\n",
    "    else:\n",
    "        print(\" - No hay datos en este feature view.\")"
   ]
  },
  {
   "cell_type": "markdown",
   "id": "4984646d",
   "metadata": {},
   "source": [
    "## Batch Score del Feature View"
   ]
  },
  {
   "cell_type": "code",
   "execution_count": 12,
   "id": "44ec365c",
   "metadata": {},
   "outputs": [
    {
     "name": "stdout",
     "output_type": "stream",
     "text": [
      "Finished: Reading data from Hopsworks, using Hopsworks Feature Query Service (0.55s) \n",
      "Finished: Reading data from Hopsworks, using Hopsworks Feature Query Service (0.55s) \n"
     ]
    },
    {
     "data": {
      "application/vnd.microsoft.datawrangler.viewer.v0+json": {
       "columns": [
        {
         "name": "index",
         "rawType": "int64",
         "type": "integer"
        },
        {
         "name": "familia",
         "rawType": "object",
         "type": "string"
        },
        {
         "name": "base_imponible",
         "rawType": "float64",
         "type": "float"
        },
        {
         "name": "is_summer_peak",
         "rawType": "int32",
         "type": "integer"
        },
        {
         "name": "is_easter",
         "rawType": "int64",
         "type": "integer"
        },
        {
         "name": "week_start",
         "rawType": "datetime64[us, Etc/UTC]",
         "type": "unknown"
        }
       ],
       "ref": "4184e225-6981-442b-b697-d1b37262c1ff",
       "rows": [
        [
         "130",
         "BOLLERIA",
         "1408.04",
         "1",
         "0",
         "2025-07-28 00:00:00+00:00"
        ],
        [
         "131",
         "BOLLERIA",
         "1609.03",
         "1",
         "0",
         "2025-08-04 00:00:00+00:00"
        ],
        [
         "132",
         "BOLLERIA",
         "1782.56",
         "1",
         "0",
         "2025-08-11 00:00:00+00:00"
        ],
        [
         "133",
         "BOLLERIA",
         "1741.72",
         "1",
         "0",
         "2025-08-18 00:00:00+00:00"
        ],
        [
         "134",
         "BOLLERIA",
         "1402.02",
         "1",
         "0",
         "2025-08-25 00:00:00+00:00"
        ]
       ],
       "shape": {
        "columns": 5,
        "rows": 5
       }
      },
      "text/html": [
       "<div>\n",
       "<style scoped>\n",
       "    .dataframe tbody tr th:only-of-type {\n",
       "        vertical-align: middle;\n",
       "    }\n",
       "\n",
       "    .dataframe tbody tr th {\n",
       "        vertical-align: top;\n",
       "    }\n",
       "\n",
       "    .dataframe thead th {\n",
       "        text-align: right;\n",
       "    }\n",
       "</style>\n",
       "<table border=\"1\" class=\"dataframe\">\n",
       "  <thead>\n",
       "    <tr style=\"text-align: right;\">\n",
       "      <th></th>\n",
       "      <th>familia</th>\n",
       "      <th>base_imponible</th>\n",
       "      <th>is_summer_peak</th>\n",
       "      <th>is_easter</th>\n",
       "      <th>week_start</th>\n",
       "    </tr>\n",
       "  </thead>\n",
       "  <tbody>\n",
       "    <tr>\n",
       "      <th>130</th>\n",
       "      <td>BOLLERIA</td>\n",
       "      <td>1408.04</td>\n",
       "      <td>1</td>\n",
       "      <td>0</td>\n",
       "      <td>2025-07-28 00:00:00+00:00</td>\n",
       "    </tr>\n",
       "    <tr>\n",
       "      <th>131</th>\n",
       "      <td>BOLLERIA</td>\n",
       "      <td>1609.03</td>\n",
       "      <td>1</td>\n",
       "      <td>0</td>\n",
       "      <td>2025-08-04 00:00:00+00:00</td>\n",
       "    </tr>\n",
       "    <tr>\n",
       "      <th>132</th>\n",
       "      <td>BOLLERIA</td>\n",
       "      <td>1782.56</td>\n",
       "      <td>1</td>\n",
       "      <td>0</td>\n",
       "      <td>2025-08-11 00:00:00+00:00</td>\n",
       "    </tr>\n",
       "    <tr>\n",
       "      <th>133</th>\n",
       "      <td>BOLLERIA</td>\n",
       "      <td>1741.72</td>\n",
       "      <td>1</td>\n",
       "      <td>0</td>\n",
       "      <td>2025-08-18 00:00:00+00:00</td>\n",
       "    </tr>\n",
       "    <tr>\n",
       "      <th>134</th>\n",
       "      <td>BOLLERIA</td>\n",
       "      <td>1402.02</td>\n",
       "      <td>1</td>\n",
       "      <td>0</td>\n",
       "      <td>2025-08-25 00:00:00+00:00</td>\n",
       "    </tr>\n",
       "  </tbody>\n",
       "</table>\n",
       "</div>"
      ],
      "text/plain": [
       "      familia  base_imponible  is_summer_peak  is_easter  \\\n",
       "130  BOLLERIA         1408.04               1          0   \n",
       "131  BOLLERIA         1609.03               1          0   \n",
       "132  BOLLERIA         1782.56               1          0   \n",
       "133  BOLLERIA         1741.72               1          0   \n",
       "134  BOLLERIA         1402.02               1          0   \n",
       "\n",
       "                   week_start  \n",
       "130 2025-07-28 00:00:00+00:00  \n",
       "131 2025-08-04 00:00:00+00:00  \n",
       "132 2025-08-11 00:00:00+00:00  \n",
       "133 2025-08-18 00:00:00+00:00  \n",
       "134 2025-08-25 00:00:00+00:00  "
      ]
     },
     "execution_count": 12,
     "metadata": {},
     "output_type": "execute_result"
    }
   ],
   "source": [
    "from datetime import timedelta\n",
    "import pandas as pd\n",
    "\n",
    "# Lectura batch cruda de feature views\n",
    "feature_views= feature_store.get_feature_view(name=FV_NAME, version=FV_VERSION)\n",
    "ts_df = feature_views.get_batch_data(\n",
    "    start_date=None,\n",
    "    end_date=None,\n",
    "    features=None,\n",
    "    )\n",
    "\n",
    "# Ordenar por la columna de fecha antes de visualizar\n",
    "ts_df = ts_df.sort_values('week_start').reset_index(drop=True)\n",
    "ts_df.tail(5)"
   ]
  },
  {
   "cell_type": "markdown",
   "id": "50e38be0",
   "metadata": {},
   "source": [
    "## Features (lags, variables exógenas) y target\n",
    "En este bloque se generan los lags y variables exógenas necesarias para la predicción, asegurando que los datos estén en el formato correcto para el modelo."
   ]
  },
  {
   "cell_type": "markdown",
   "id": "984ee3c3",
   "metadata": {},
   "source": [
    "## Modelo\n",
    "Este bloque recupera el modelo entrenado desde el model registry de Hopsworks para realizar la predicción."
   ]
  },
  {
   "cell_type": "code",
   "execution_count": null,
   "id": "29b2ee23",
   "metadata": {},
   "outputs": [],
   "source": [
    "from src.model import transformar_features_target\n",
    "\n",
    "# Procesar datos usando la función mejorada que acepta tuplas directamente\n",
    "ts_df = transformar_features_target(\n",
    "    ts_df,\n",
    "    lags_list=[1, 52], \n",
    "    columna_target='base_imponible',\n",
    "    cols_exogenas=['is_easter', 'is_summer_peak'],\n",
    "    periodos_adelante=1,\n",
    "    eliminar_nulos=True,\n",
    "    return_format='dataframe'  # Obtenemos un único DataFrame con features y target\n",
    ")\n",
    "\n",
    "# Resetear el índice\n",
    "ts_df = ts_df.reset_index(drop=True)\n",
    "\n",
    "# Mostrar las primeras filas del DataFrame transformado\n",
    "ts_df.head(5)"
   ]
  },
  {
   "cell_type": "code",
   "execution_count": 14,
   "id": "8457b9f1",
   "metadata": {},
   "outputs": [
    {
     "data": {
      "application/vnd.jupyter.widget-view+json": {
       "model_id": "9622986d311c4a6daf7c1dd0ff9bdf83",
       "version_major": 2,
       "version_minor": 0
      },
      "text/plain": [
       "Downloading: 0.000%|          | 0/224774 elapsed<00:00 remaining<?"
      ]
     },
     "metadata": {},
     "output_type": "display_data"
    },
    {
     "name": "stdout",
     "output_type": "stream",
     "text": [
      "Modelo fleca_bolleria_predictor_next_week V4 cargado correctamente\n"
     ]
    }
   ],
   "source": [
    "import joblib\n",
    "# Cargar el modelo del model registry\n",
    "## se obtiene del config\n",
    "\n",
    "MODEL_NAME = \"fleca_bolleria_predictor_next_week\"\n",
    "MODEL_VERSION = 4\n",
    "MODEL_FILE ='xgboost_hopsworks.pkl'\n",
    "\n",
    "\n",
    "model_registry = project.get_model_registry()\n",
    "model = model_registry.get_model(name=MODEL_NAME, version=MODEL_VERSION)    \n",
    "from pathlib import Path\n",
    "\n",
    "model_dir = model.download()\n",
    "model = joblib.load(Path(model_dir) / MODEL_FILE)\n",
    "\n",
    "print(f'Modelo {MODEL_NAME} V{MODEL_VERSION} cargado correctamente')"
   ]
  },
  {
   "cell_type": "markdown",
   "id": "b45c0f72",
   "metadata": {},
   "source": [
    "## Verificación features\n",
    "\n",
    "Antes de realizar la predicción, es fundamental comprobar que las columnas generadas tras la ingeniería de features (`transformar_features_target`) coinciden exactamente con las que espera el modelo entrenado.  \n",
    "Este bloque imprime las columnas disponibles en el DataFrame, los nombres de los features que espera el modelo y realiza una comparación uno a uno, indicando si falta alguno o si todos están presentes.  \n",
    "Además, se verifica la existencia de columnas relacionadas con los lags del target, lo que ayuda a depurar posibles errores de desalineación entre entrenamiento e"
   ]
  },
  {
   "cell_type": "code",
   "execution_count": 15,
   "id": "987e2772",
   "metadata": {},
   "outputs": [
    {
     "name": "stdout",
     "output_type": "stream",
     "text": [
      "Columnas después de transformar_features_target:\n",
      "['base_imponible_lag1', 'base_imponible_lag52', 'is_easter', 'is_summer_peak', 'week_start', 'target']\n",
      "\n",
      "Features que espera el modelo:\n",
      "['base_imponible_lag1' 'base_imponible_lag52' 'is_easter' 'is_summer_peak']\n",
      "\n",
      "Comparación:\n",
      "✅ base_imponible_lag1: EXISTE\n",
      "✅ base_imponible_lag52: EXISTE\n",
      "✅ is_easter: EXISTE\n",
      "✅ is_summer_peak: EXISTE\n",
      "\n",
      "Columnas target_lag encontradas: []\n"
     ]
    }
   ],
   "source": [
    "# Verificar qué columnas tenemos después de transformar_features_target\n",
    "print(\"Columnas después de transformar_features_target:\")\n",
    "print(ts_df.columns.tolist())\n",
    "\n",
    "print(\"\\nFeatures que espera el modelo:\")\n",
    "if 'model' in globals():\n",
    "    print(model.feature_names_in_)\n",
    "else:\n",
    "    print(\"❌ El modelo no está definido. Por favor, ejecuta la celda que carga el modelo antes de continuar.\")\n",
    "\n",
    "print(\"\\nComparación:\")\n",
    "for feature in model.feature_names_in_:\n",
    "    if feature in ts_df.columns:\n",
    "        print(f\"✅ {feature}: EXISTE\")\n",
    "    else:\n",
    "        print(f\"❌ {feature}: NO EXISTE\")\n",
    "        \n",
    "# Verificar si existen las versiones con 'target_lag'\n",
    "target_lags = [col for col in ts_df.columns if 'target_lag' in col]\n",
    "print(f\"\\nColumnas target_lag encontradas: {target_lags}\")"
   ]
  },
  {
   "cell_type": "code",
   "execution_count": 16,
   "id": "cb5a25b7",
   "metadata": {},
   "outputs": [
    {
     "data": {
      "text/plain": [
       "array(['base_imponible_lag1', 'base_imponible_lag52', 'is_easter',\n",
       "       'is_summer_peak'], dtype='<U20')"
      ]
     },
     "execution_count": 16,
     "metadata": {},
     "output_type": "execute_result"
    }
   ],
   "source": [
    "# Imprimir los nombres de los features que el modelo espera \n",
    "model.feature_names_in_\n"
   ]
  },
  {
   "cell_type": "code",
   "execution_count": 17,
   "id": "3383da7a",
   "metadata": {},
   "outputs": [],
   "source": [
    "# Limpiar columnas innecesarias\n",
    "features = ts_df.drop(columns=['week_start'])"
   ]
  },
  {
   "cell_type": "markdown",
   "id": "a70d435e",
   "metadata": {},
   "source": [
    "## Inferencia"
   ]
  },
  {
   "cell_type": "markdown",
   "id": "bdb37ca7",
   "metadata": {},
   "source": [
    "###  Predicción de la próxima semana\n",
    "En este bloque se realiza la predicción de ventas para la próxima semana utilizando el modelo cargado y los features generados."
   ]
  },
  {
   "cell_type": "code",
   "execution_count": 18,
   "id": "0df8e6bf",
   "metadata": {},
   "outputs": [
    {
     "name": "stdout",
     "output_type": "stream",
     "text": [
      "=== PREDICCIÓN DIRECTA DE LA PRÓXIMA SEMANA ===\n",
      "Fecha predicha: 2025-08-25\n",
      "Predicción base_imponible: 1249.53\n",
      "                 week_start  predicted_base_imponible\n",
      "0 2025-08-25 00:00:00+00:00               1249.527588\n",
      "Fecha predicha: 2025-08-25\n",
      "Predicción base_imponible: 1249.53\n",
      "                 week_start  predicted_base_imponible\n",
      "0 2025-08-25 00:00:00+00:00               1249.527588\n"
     ]
    }
   ],
   "source": [
    "# Predicción directa para la próxima semana (sin autoregresión)\n",
    "from datetime import timedelta\n",
    "\n",
    "print(\"=== PREDICCIÓN DIRECTA DE LA PRÓXIMA SEMANA ===\")\n",
    "\n",
    "# Tomar la última fila de datos históricos\n",
    "ultimo_lunes = ts_df['week_start'].max()\n",
    "last_row = ts_df.iloc[-1].copy()\n",
    "feature_names = model.feature_names_in_\n",
    "\n",
    "# Calcular la fecha de la próxima semana\n",
    "fecha_siguiente = ultimo_lunes + timedelta(days=7)\n",
    "last_row['week_start'] = fecha_siguiente\n",
    "\n",
    "# Preparar los features para el modelo\n",
    "X = last_row[feature_names].values.reshape(1, -1)\n",
    "prediccion = model.predict(X)[0]\n",
    "\n",
    "print(f\"Fecha predicha: {fecha_siguiente.date()}\")\n",
    "print(f\"Predicción base_imponible: {prediccion:.2f}\")\n",
    "\n",
    "# Mostrar resultado en DataFrame\n",
    "resultado = pd.DataFrame({\n",
    "    'week_start': [fecha_siguiente],\n",
    "    'predicted_base_imponible': [prediccion]\n",
    "})\n",
    "print(resultado)\n"
   ]
  },
  {
   "cell_type": "markdown",
   "id": "9073c5dc",
   "metadata": {},
   "source": [
    "### Subida de la predicción a Hopsworks\n",
    "Este bloque inserta la predicción semanal en el feature group y crea (o actualiza) el feature view correspondiente en Hopsworks."
   ]
  },
  {
   "cell_type": "code",
   "execution_count": 19,
   "id": "f3feee82",
   "metadata": {},
   "outputs": [
    {
     "name": "stdout",
     "output_type": "stream",
     "text": [
      "DataFrame que se va a insertar:\n",
      "                 week_start  predicted_base_imponible\n",
      "0 2025-08-25 00:00:00+00:00               1249.527588\n",
      "2025-09-07 12:58:15,844 INFO: Feature group 'bolleria_predicciones_feature_group' creado correctamente.\n",
      "2025-09-07 12:58:16,009 WARNING: No se pudo crear el feature group: Metadata operation error: (url: https://c.app.hopsworks.ai/hopsworks-api/api/project/1242272/featurestores/1224799/featuregroups). Server response: \n",
      "HTTP code: 400, HTTP reason: Bad Request, body: b'{\"errorCode\":270089,\"usrMsg\":\"project: fleca_mlops, featurestoreId: 1224799\",\"errorMsg\":\"The feature group you are trying to create does already exist.\"}', error code: 270089, error msg: The feature group you are trying to create does already exist., user msg: project: fleca_mlops, featurestoreId: 1224799\n",
      "2025-09-07 12:58:16,010 INFO: Intentando obtener el feature group existente...\n",
      "2025-09-07 12:58:16,009 WARNING: No se pudo crear el feature group: Metadata operation error: (url: https://c.app.hopsworks.ai/hopsworks-api/api/project/1242272/featurestores/1224799/featuregroups). Server response: \n",
      "HTTP code: 400, HTTP reason: Bad Request, body: b'{\"errorCode\":270089,\"usrMsg\":\"project: fleca_mlops, featurestoreId: 1224799\",\"errorMsg\":\"The feature group you are trying to create does already exist.\"}', error code: 270089, error msg: The feature group you are trying to create does already exist., user msg: project: fleca_mlops, featurestoreId: 1224799\n",
      "2025-09-07 12:58:16,010 INFO: Intentando obtener el feature group existente...\n",
      "2025-09-07 12:58:16,352 INFO: Feature group existente recuperado: bolleria_predicciones_feature_group v1\n",
      "2025-09-07 12:58:16,352 INFO: Feature group existente recuperado: bolleria_predicciones_feature_group v1\n"
     ]
    },
    {
     "name": "stderr",
     "output_type": "stream",
     "text": [
      "Uploading Dataframe: 100.00% |██████████| Rows 1/1 | Elapsed Time: 00:00 | Remaining Time: 00:00\n",
      "\n"
     ]
    },
    {
     "name": "stdout",
     "output_type": "stream",
     "text": [
      "Launching job: bolleria_predicciones_feature_group_1_offline_fg_materialization\n",
      "Job started successfully, you can follow the progress at \n",
      "https://c.app.hopsworks.ai:443/p/1242272/jobs/named/bolleria_predicciones_feature_group_1_offline_fg_materialization/executions\n",
      "Job started successfully, you can follow the progress at \n",
      "https://c.app.hopsworks.ai:443/p/1242272/jobs/named/bolleria_predicciones_feature_group_1_offline_fg_materialization/executions\n",
      "2025-09-07 12:58:30,223 INFO: Waiting for execution to finish. Current state: INITIALIZING. Final status: UNDEFINED\n",
      "2025-09-07 12:58:30,223 INFO: Waiting for execution to finish. Current state: INITIALIZING. Final status: UNDEFINED\n",
      "2025-09-07 12:58:33,406 INFO: Waiting for execution to finish. Current state: SUBMITTED. Final status: UNDEFINED\n",
      "2025-09-07 12:58:33,406 INFO: Waiting for execution to finish. Current state: SUBMITTED. Final status: UNDEFINED\n",
      "2025-09-07 12:58:36,591 INFO: Waiting for execution to finish. Current state: RUNNING. Final status: UNDEFINED\n",
      "2025-09-07 12:58:36,591 INFO: Waiting for execution to finish. Current state: RUNNING. Final status: UNDEFINED\n",
      "2025-09-07 13:00:31,116 INFO: Waiting for execution to finish. Current state: AGGREGATING_LOGS. Final status: SUCCEEDED\n",
      "2025-09-07 13:00:31,116 INFO: Waiting for execution to finish. Current state: AGGREGATING_LOGS. Final status: SUCCEEDED\n",
      "2025-09-07 13:00:31,269 INFO: Waiting for log aggregation to finish.\n",
      "2025-09-07 13:00:31,269 INFO: Waiting for log aggregation to finish.\n",
      "2025-09-07 13:00:53,251 INFO: Execution finished successfully.\n",
      "2025-09-07 13:00:53,252 INFO: Datos insertados en el feature group existente. Job: (Job('bolleria_predicciones_feature_group_1_offline_fg_materialization', 'SPARK'), None)\n",
      "2025-09-07 13:00:53,251 INFO: Execution finished successfully.\n",
      "2025-09-07 13:00:53,252 INFO: Datos insertados en el feature group existente. Job: (Job('bolleria_predicciones_feature_group_1_offline_fg_materialization', 'SPARK'), None)\n",
      "✅ Feature group operativo: bolleria_predicciones_feature_group (versión 1)\n",
      "✅ Feature view 'bolleria_predicciones_feature_group' ya existe.\n",
      "✅ Feature group operativo: bolleria_predicciones_feature_group (versión 1)\n",
      "✅ Feature view 'bolleria_predicciones_feature_group' ya existe.\n"
     ]
    }
   ],
   "source": [
    "# Subir predicción semanal (variable 'resultado') al feature group y feature view de Hopsworks\n",
    "from hsfs.feature_group import FeatureGroup\n",
    "from hsfs.feature_view import FeatureView\n",
    "import logging\n",
    "\n",
    "# Configuración básica de logging\n",
    "logging.basicConfig(level=logging.INFO, format='%(asctime)s - %(levelname)s - %(message)s')\n",
    "logger = logging.getLogger('feature_group_creation')\n",
    "\n",
    "PRED_FG_NAME = \"bolleria_predicciones_feature_group\"\n",
    "PRED_FG_VERSION = 1\n",
    "\n",
    "# Usar la variable 'resultado' como DataFrame de predicción\n",
    "df_pred = resultado.copy()  # Debe tener columnas 'week_start' y 'predicted_base_imponible'\n",
    "\n",
    "# Mostrar los datos que se van a insertar\n",
    "print(\"DataFrame que se va a insertar:\")\n",
    "print(df_pred)\n",
    "\n",
    "# 1. Primero intentamos crear el feature group explícitamente\n",
    "try:\n",
    "    # Si ya existe, esto lanzará una excepción que capturaremos después\n",
    "    fg_pred = feature_store.create_feature_group(\n",
    "        name=PRED_FG_NAME,\n",
    "        version=PRED_FG_VERSION,\n",
    "        description=\"Predicciones semanales de base_imponible para bolleria\",\n",
    "        primary_key=[\"week_start\"],\n",
    "        online_enabled=False,\n",
    "        statistics_config={\"enabled\": True},\n",
    "        event_time='week_start'\n",
    "    )\n",
    "    logger.info(f\"Feature group '{PRED_FG_NAME}' creado correctamente.\")\n",
    "    \n",
    "    # Al crear un nuevo feature group, necesitamos hacer insert con el DataFrame\n",
    "    insert_job = fg_pred.insert(df_pred, write_options={'wait_for_job': True})\n",
    "    logger.info(f\"Datos insertados en el feature group recién creado. Job: {insert_job}\")\n",
    "    \n",
    "except Exception as create_error:\n",
    "    logger.warning(f\"No se pudo crear el feature group: {create_error}\")\n",
    "    logger.info(\"Intentando obtener el feature group existente...\")\n",
    "    \n",
    "    # 2. Si el feature group ya existe, lo obtenemos\n",
    "    try:\n",
    "        fg_pred = feature_store.get_feature_group(\n",
    "            name=PRED_FG_NAME,\n",
    "            version=PRED_FG_VERSION\n",
    "        )\n",
    "        logger.info(f\"Feature group existente recuperado: {fg_pred.name} v{fg_pred.version}\")\n",
    "        \n",
    "        # Insertamos los nuevos datos en el feature group existente\n",
    "        insert_job = fg_pred.insert(df_pred, write_options={'wait_for_job': True})\n",
    "        logger.info(f\"Datos insertados en el feature group existente. Job: {insert_job}\")\n",
    "        \n",
    "    except Exception as get_error:\n",
    "        logger.error(f\"Error al recuperar el feature group: {get_error}\")\n",
    "        logger.error(\"No se pudo ni crear ni recuperar el feature group.\")\n",
    "        import traceback\n",
    "        traceback.print_exc()\n",
    "        fg_pred = None\n",
    "\n",
    "# 3. Verificación final\n",
    "if fg_pred is not None:\n",
    "    print(f\"✅ Feature group operativo: {fg_pred.name} (versión {fg_pred.version})\")\n",
    "    \n",
    "    # 4. (Opcional) Crear el feature view si no existe\n",
    "    try:\n",
    "        # Primero intentar recuperar\n",
    "        try:\n",
    "            fv_pred = feature_store.get_feature_view(name=PRED_FG_NAME, version=PRED_FG_VERSION)\n",
    "            print(f\"✅ Feature view '{PRED_FG_NAME}' ya existe.\")\n",
    "        except:\n",
    "            # Si no existe, crear uno nuevo\n",
    "            query = fg_pred.select_all()\n",
    "            fv_pred = feature_store.create_feature_view(\n",
    "                name=PRED_FG_NAME,\n",
    "                version=PRED_FG_VERSION,\n",
    "                query=query,\n",
    "                description=\"Vista de predicciones semanales de bolleria\"\n",
    "            )\n",
    "            print(\"✅ Feature view creado correctamente.\")\n",
    "    except Exception as fv_error:\n",
    "        print(f\"⚠️ Error con el feature view: {fv_error}\")\n",
    "else:\n",
    "    print(\"❌ Error: No se pudo operar con el feature group de predicciones.\")"
   ]
  },
  {
   "cell_type": "markdown",
   "id": "8a3e9613",
   "metadata": {},
   "source": [
    "## Verificación del feature group y creación del feature view\n",
    "\n",
    "Después de crear el feature group, verificamos su existencia y creamos un feature view asociado."
   ]
  },
  {
   "cell_type": "code",
   "execution_count": 20,
   "id": "a809f9a2",
   "metadata": {},
   "outputs": [
    {
     "name": "stdout",
     "output_type": "stream",
     "text": [
      "✅ Feature group encontrado: bolleria_predicciones_feature_group (versión 1)\n",
      "\n",
      "Datos actuales en el feature group:\n",
      "Finished: Reading data from Hopsworks, using Hopsworks Feature Query Service (1.07s) \n",
      "                 week_start  predicted_base_imponible\n",
      "0 2025-08-11 00:00:00+00:00               1310.636108\n",
      "1 2025-08-18 00:00:00+00:00               1817.525269\n",
      "2 2025-08-25 00:00:00+00:00               1249.527588\n",
      "\n",
      "Creando feature view...\n",
      "Finished: Reading data from Hopsworks, using Hopsworks Feature Query Service (1.07s) \n",
      "                 week_start  predicted_base_imponible\n",
      "0 2025-08-11 00:00:00+00:00               1310.636108\n",
      "1 2025-08-18 00:00:00+00:00               1817.525269\n",
      "2 2025-08-25 00:00:00+00:00               1249.527588\n",
      "\n",
      "Creando feature view...\n",
      "✅ Feature view existente: bolleria_predicciones_feature_view (versión 1)\n",
      "\n",
      "Verificando datos en el feature view:\n",
      "✅ Feature view existente: bolleria_predicciones_feature_view (versión 1)\n",
      "\n",
      "Verificando datos en el feature view:\n",
      "Finished: Reading data from Hopsworks, using Hopsworks Feature Query Service (0.53s) \n",
      "                 week_start  predicted_base_imponible\n",
      "0 2025-08-11 00:00:00+00:00               1310.636108\n",
      "1 2025-08-18 00:00:00+00:00               1817.525269\n",
      "2 2025-08-25 00:00:00+00:00               1249.527588\n",
      "Finished: Reading data from Hopsworks, using Hopsworks Feature Query Service (0.53s) \n",
      "                 week_start  predicted_base_imponible\n",
      "0 2025-08-11 00:00:00+00:00               1310.636108\n",
      "1 2025-08-18 00:00:00+00:00               1817.525269\n",
      "2 2025-08-25 00:00:00+00:00               1249.527588\n"
     ]
    }
   ],
   "source": [
    "# Verificar que el feature group existe y crear feature view\n",
    "import logging\n",
    "from hsfs.feature_group import FeatureGroup\n",
    "from hsfs.feature_view import FeatureView\n",
    "\n",
    "# Configuración de logging\n",
    "logging.basicConfig(level=logging.INFO, format='%(asctime)s - %(levelname)s - %(message)s')\n",
    "logger = logging.getLogger('feature_view_creation')\n",
    "\n",
    "# Definir constantes\n",
    "PRED_FG_NAME = \"bolleria_predicciones_feature_group\"\n",
    "PRED_FG_VERSION = 1\n",
    "PRED_FV_NAME = \"bolleria_predicciones_feature_view\"\n",
    "PRED_FV_VERSION = 1\n",
    "\n",
    "# 1. Verificar que el feature group existe\n",
    "try:\n",
    "    fg_pred = feature_store.get_feature_group(name=PRED_FG_NAME, version=PRED_FG_VERSION)\n",
    "    print(f\"✅ Feature group encontrado: {fg_pred.name} (versión {fg_pred.version})\")\n",
    "    \n",
    "    # Mostrar los datos actuales en el feature group\n",
    "    print(\"\\nDatos actuales en el feature group:\")\n",
    "    df_fg = fg_pred.read()\n",
    "    print(df_fg)\n",
    "    \n",
    "    # 2. Crear feature view\n",
    "    print(\"\\nCreando feature view...\")\n",
    "    \n",
    "    try:\n",
    "        # Primero intentamos recuperar el feature view si existe\n",
    "        try:\n",
    "            fv_pred = feature_store.get_feature_view(name=PRED_FV_NAME, version=PRED_FV_VERSION)\n",
    "            print(f\"✅ Feature view existente: {fv_pred.name} (versión {fv_pred.version})\")\n",
    "        except:\n",
    "            # Si no existe, crear uno nuevo\n",
    "            query = fg_pred.select_all()  # Crear la query seleccionando todas las columnas\n",
    "            \n",
    "            print(\"Creando nuevo feature view...\")\n",
    "            fv_pred = feature_store.create_feature_view(\n",
    "                name=PRED_FV_NAME,\n",
    "                version=PRED_FV_VERSION,\n",
    "                query=query,\n",
    "                description=\"Vista de predicciones semanales de bolleria\"\n",
    "            )\n",
    "            print(f\"✅ Nuevo feature view creado: {fv_pred.name} (versión {fv_pred.version})\")\n",
    "        \n",
    "        # Verificar datos en el feature view\n",
    "        print(\"\\nVerificando datos en el feature view:\")\n",
    "        df_fv = fv_pred.get_batch_data()\n",
    "        print(df_fv)\n",
    "        \n",
    "    except Exception as fv_error:\n",
    "        print(f\"❌ Error al crear o recuperar el feature view: {fv_error}\")\n",
    "        logger.error(f\"Error detallado: {fv_error}\")\n",
    "        import traceback\n",
    "        traceback.print_exc()\n",
    "\n",
    "except Exception as e:\n",
    "    print(f\"❌ Error al recuperar el feature group: {e}\")\n",
    "    logger.error(f\"Error detallado: {e}\")\n",
    "    import traceback\n",
    "    traceback.print_exc()"
   ]
  },
  {
   "cell_type": "markdown",
   "id": "c446da1e",
   "metadata": {},
   "source": [
    "# Visualización de las predicciones\n",
    "\n",
    "Una vez tenemos las predicciones almacenadas en el feature store, podemos visualizarlas para comprender mejor las tendencias."
   ]
  },
  {
   "cell_type": "code",
   "execution_count": 21,
   "id": "95af7eee",
   "metadata": {},
   "outputs": [
    {
     "name": "stdout",
     "output_type": "stream",
     "text": [
      "Finished: Reading data from Hopsworks, using Hopsworks Feature Query Service (0.62s) \n",
      "Finished: Reading data from Hopsworks, using Hopsworks Feature Query Service (0.62s) \n",
      "Finished: Reading data from Hopsworks, using Hopsworks Feature Query Service (0.54s) \n",
      "Finished: Reading data from Hopsworks, using Hopsworks Feature Query Service (0.54s) \n"
     ]
    },
    {
     "data": {
      "application/vnd.plotly.v1+json": {
       "config": {
        "plotlyServerURL": "https://plot.ly"
       },
       "data": [
        {
         "line": {
          "color": "blue",
          "width": 2
         },
         "mode": "lines+markers",
         "name": "Histórico",
         "type": "scatter",
         "x": [
          "2023-01-02T00:00:00",
          "2023-01-09T00:00:00",
          "2023-01-16T00:00:00",
          "2023-01-23T00:00:00",
          "2023-01-30T00:00:00",
          "2023-02-06T00:00:00",
          "2023-02-13T00:00:00",
          "2023-02-20T00:00:00",
          "2023-02-27T00:00:00",
          "2023-03-06T00:00:00",
          "2023-03-13T00:00:00",
          "2023-03-20T00:00:00",
          "2023-03-27T00:00:00",
          "2023-04-03T00:00:00",
          "2023-04-10T00:00:00",
          "2023-04-17T00:00:00",
          "2023-04-24T00:00:00",
          "2023-05-01T00:00:00",
          "2023-05-08T00:00:00",
          "2023-05-15T00:00:00",
          "2023-05-22T00:00:00",
          "2023-05-29T00:00:00",
          "2023-06-05T00:00:00",
          "2023-06-12T00:00:00",
          "2023-06-19T00:00:00",
          "2023-06-26T00:00:00",
          "2023-07-03T00:00:00",
          "2023-07-10T00:00:00",
          "2023-07-17T00:00:00",
          "2023-07-24T00:00:00",
          "2023-07-31T00:00:00",
          "2023-08-07T00:00:00",
          "2023-08-14T00:00:00",
          "2023-08-21T00:00:00",
          "2023-08-28T00:00:00",
          "2023-09-04T00:00:00",
          "2023-09-11T00:00:00",
          "2023-09-18T00:00:00",
          "2023-09-25T00:00:00",
          "2023-10-02T00:00:00",
          "2023-10-09T00:00:00",
          "2023-10-16T00:00:00",
          "2023-10-23T00:00:00",
          "2023-10-30T00:00:00",
          "2023-11-06T00:00:00",
          "2023-11-13T00:00:00",
          "2023-11-20T00:00:00",
          "2023-11-27T00:00:00",
          "2023-12-04T00:00:00",
          "2023-12-11T00:00:00",
          "2023-12-18T00:00:00",
          "2024-01-08T00:00:00",
          "2024-01-15T00:00:00",
          "2024-01-22T00:00:00",
          "2024-01-29T00:00:00",
          "2024-02-05T00:00:00",
          "2024-02-12T00:00:00",
          "2024-02-19T00:00:00",
          "2024-02-26T00:00:00",
          "2024-03-04T00:00:00",
          "2024-03-11T00:00:00",
          "2024-03-18T00:00:00",
          "2024-03-25T00:00:00",
          "2024-04-01T00:00:00",
          "2024-04-08T00:00:00",
          "2024-04-15T00:00:00",
          "2024-04-22T00:00:00",
          "2024-04-29T00:00:00",
          "2024-05-06T00:00:00",
          "2024-05-13T00:00:00",
          "2024-05-20T00:00:00",
          "2024-05-27T00:00:00",
          "2024-06-03T00:00:00",
          "2024-06-10T00:00:00",
          "2024-06-17T00:00:00",
          "2024-06-24T00:00:00",
          "2024-07-01T00:00:00",
          "2024-07-08T00:00:00",
          "2024-07-15T00:00:00",
          "2024-07-22T00:00:00",
          "2024-07-29T00:00:00",
          "2024-08-05T00:00:00",
          "2024-08-12T00:00:00",
          "2024-08-19T00:00:00",
          "2024-08-26T00:00:00",
          "2024-09-02T00:00:00",
          "2024-09-09T00:00:00",
          "2024-09-16T00:00:00",
          "2024-09-23T00:00:00",
          "2024-09-30T00:00:00",
          "2024-10-07T00:00:00",
          "2024-10-14T00:00:00",
          "2024-10-21T00:00:00",
          "2024-10-28T00:00:00",
          "2024-11-04T00:00:00",
          "2024-11-11T00:00:00",
          "2024-11-18T00:00:00",
          "2024-11-25T00:00:00",
          "2024-12-02T00:00:00",
          "2024-12-09T00:00:00",
          "2024-12-16T00:00:00",
          "2025-01-06T00:00:00",
          "2025-01-13T00:00:00",
          "2025-01-20T00:00:00",
          "2025-01-27T00:00:00",
          "2025-02-03T00:00:00",
          "2025-02-10T00:00:00",
          "2025-02-17T00:00:00",
          "2025-02-24T00:00:00",
          "2025-03-03T00:00:00",
          "2025-03-10T00:00:00",
          "2025-03-17T00:00:00",
          "2025-03-24T00:00:00",
          "2025-03-31T00:00:00",
          "2025-04-07T00:00:00",
          "2025-04-14T00:00:00",
          "2025-04-21T00:00:00",
          "2025-04-28T00:00:00",
          "2025-05-05T00:00:00",
          "2025-05-12T00:00:00",
          "2025-05-19T00:00:00",
          "2025-05-26T00:00:00",
          "2025-06-02T00:00:00",
          "2025-06-09T00:00:00",
          "2025-06-16T00:00:00",
          "2025-06-23T00:00:00",
          "2025-06-30T00:00:00",
          "2025-07-07T00:00:00",
          "2025-07-14T00:00:00",
          "2025-07-21T00:00:00",
          "2025-07-28T00:00:00",
          "2025-08-04T00:00:00",
          "2025-08-11T00:00:00",
          "2025-08-18T00:00:00",
          "2025-08-25T00:00:00"
         ],
         "y": {
          "bdata": "exSuR+HIiUAzMzMzM5OEQDMzMzMzK4dAhetRuB5thEBI4XoUrkOFQBSuR+F6DIRAcT0K16NOhEBxPQrXo0qGQKRwPQrXj4hA16NwPQrNhUBmZmZmZgCHQHE9CtejaIhAw/UoXI8miUBxPQrXoy+bQNejcD0KGY9AzczMzMyeh0AUrkfheuKJQOtRuB6FzJBAMzMzMzPViECuR+F6FGKLQHE9CtejyI1AAAAAAADOjUAfhetRuNaNQMP1KFyPlJBAPQrXo3Aek0DNzMzMzLGYQNejcD0KipdAw/UoXI8JmkB7FK5H4UebQHE9CtejRZpArkfhehRkm0AfhetRuKycQFK4HoVrn6BAuB6F61HEnED2KFyPwqGTQOF6FK5HOZFAUrgehevjjkCamZmZmbWNQEjhehSuwYpAzczMzMxWikDXo3A9CoGMQFK4HoXrd4dAH4XrUbiuiUBcj8L1KPiCQEjhehSuC3NA61G4HoVBh0DNzMzMzMKDQPYoXI/CcYNAuB6F61E0iUA9CtejcJmBQLgehetRtoBArkfhehTkgUAzMzMzM62CQGZmZmZmQoVAUrgehevfgkCF61G4HsGCQMP1KFyPioVArkfhehSeg0AK16NwPYqBQOtRuB6FzYFAH4XrUbj4g0CPwvUoXBOGQM3MzMzM0pZAKVyPwvW8iUBI4XoUrjmFQHE9CtejRIdASOF6FK4rhUA9CtejcJmMQGZmZmZm4olAH4XrUbiyikDXo3A9CnOIQFK4HoXrJYZAXI/C9SgOh0BSuB6F65GMQOF6FK5HmZBA9ihcj8JQk0AK16NwPTqXQLgehetRfpdAAAAAAABjmEAzMzMzM8iaQOF6FK5Ht5pAzczMzMysnUAAAAAAgLyhQKRwPQrXn55ApHA9CteNlUCPwvUoXJeNQOF6FK5HZpBAKVyPwvWAiEC4HoXrUXSKQD0K16NwT4lA61G4HoVBiUDD9Shcj1iJQNejcD0KP4ZAFK5H4Xogh0CamZmZmSmFQNejcD0KEYhAcT0K16Okh0AAAAAAAOaCQB+F61G45oNA9ihcj8LZgUB7FK5H4bKAQMP1KFyPpIFApHA9CtfvgEDsUbgehU2EQOxRuB6Fm4VAKVyPwvXahEDhehSuR1eGQFyPwvUo7oFA9ihcj8KthkBSuB6F69+DQM3MzMzMDIVAPQrXo3AXgUApXI/C9SaDQIXrUbgeU4ZA4XoUrkdjg0AUrkfheq+XQJqZmZmZ8YtA16NwPQrbi0ApXI/C9VSKQPYoXI/CV4lAj8L1KFyjh0DhehSuRxGJQPYoXI/CjYtA9ihcj8K/j0CuR+F6FLaPQD0K16NwQpRAMzMzMzN4kkApXI/C9XKUQOF6FK5HTpRAUrgeheublEBcj8L1KACWQIXrUbgeJJlACtejcD3am0B7FK5H4TabQK5H4XoU6JVA",
          "dtype": "f8"
         }
        },
        {
         "line": {
          "color": "red",
          "dash": "dash",
          "width": 2
         },
         "mode": "lines+markers",
         "name": "Predicciones",
         "type": "scatter",
         "x": [
          "2025-08-11T00:00:00",
          "2025-08-18T00:00:00",
          "2025-08-25T00:00:00"
         ],
         "y": {
          "bdata": "W9SjRM8w40TiMJxE",
          "dtype": "f4"
         }
        }
       ],
       "layout": {
        "height": 600,
        "legend": {
         "title": {
          "text": "Tipo de Dato"
         }
        },
        "template": {
         "data": {
          "bar": [
           {
            "error_x": {
             "color": "#2a3f5f"
            },
            "error_y": {
             "color": "#2a3f5f"
            },
            "marker": {
             "line": {
              "color": "white",
              "width": 0.5
             },
             "pattern": {
              "fillmode": "overlay",
              "size": 10,
              "solidity": 0.2
             }
            },
            "type": "bar"
           }
          ],
          "barpolar": [
           {
            "marker": {
             "line": {
              "color": "white",
              "width": 0.5
             },
             "pattern": {
              "fillmode": "overlay",
              "size": 10,
              "solidity": 0.2
             }
            },
            "type": "barpolar"
           }
          ],
          "carpet": [
           {
            "aaxis": {
             "endlinecolor": "#2a3f5f",
             "gridcolor": "#C8D4E3",
             "linecolor": "#C8D4E3",
             "minorgridcolor": "#C8D4E3",
             "startlinecolor": "#2a3f5f"
            },
            "baxis": {
             "endlinecolor": "#2a3f5f",
             "gridcolor": "#C8D4E3",
             "linecolor": "#C8D4E3",
             "minorgridcolor": "#C8D4E3",
             "startlinecolor": "#2a3f5f"
            },
            "type": "carpet"
           }
          ],
          "choropleth": [
           {
            "colorbar": {
             "outlinewidth": 0,
             "ticks": ""
            },
            "type": "choropleth"
           }
          ],
          "contour": [
           {
            "colorbar": {
             "outlinewidth": 0,
             "ticks": ""
            },
            "colorscale": [
             [
              0,
              "#0d0887"
             ],
             [
              0.1111111111111111,
              "#46039f"
             ],
             [
              0.2222222222222222,
              "#7201a8"
             ],
             [
              0.3333333333333333,
              "#9c179e"
             ],
             [
              0.4444444444444444,
              "#bd3786"
             ],
             [
              0.5555555555555556,
              "#d8576b"
             ],
             [
              0.6666666666666666,
              "#ed7953"
             ],
             [
              0.7777777777777778,
              "#fb9f3a"
             ],
             [
              0.8888888888888888,
              "#fdca26"
             ],
             [
              1,
              "#f0f921"
             ]
            ],
            "type": "contour"
           }
          ],
          "contourcarpet": [
           {
            "colorbar": {
             "outlinewidth": 0,
             "ticks": ""
            },
            "type": "contourcarpet"
           }
          ],
          "heatmap": [
           {
            "colorbar": {
             "outlinewidth": 0,
             "ticks": ""
            },
            "colorscale": [
             [
              0,
              "#0d0887"
             ],
             [
              0.1111111111111111,
              "#46039f"
             ],
             [
              0.2222222222222222,
              "#7201a8"
             ],
             [
              0.3333333333333333,
              "#9c179e"
             ],
             [
              0.4444444444444444,
              "#bd3786"
             ],
             [
              0.5555555555555556,
              "#d8576b"
             ],
             [
              0.6666666666666666,
              "#ed7953"
             ],
             [
              0.7777777777777778,
              "#fb9f3a"
             ],
             [
              0.8888888888888888,
              "#fdca26"
             ],
             [
              1,
              "#f0f921"
             ]
            ],
            "type": "heatmap"
           }
          ],
          "histogram": [
           {
            "marker": {
             "pattern": {
              "fillmode": "overlay",
              "size": 10,
              "solidity": 0.2
             }
            },
            "type": "histogram"
           }
          ],
          "histogram2d": [
           {
            "colorbar": {
             "outlinewidth": 0,
             "ticks": ""
            },
            "colorscale": [
             [
              0,
              "#0d0887"
             ],
             [
              0.1111111111111111,
              "#46039f"
             ],
             [
              0.2222222222222222,
              "#7201a8"
             ],
             [
              0.3333333333333333,
              "#9c179e"
             ],
             [
              0.4444444444444444,
              "#bd3786"
             ],
             [
              0.5555555555555556,
              "#d8576b"
             ],
             [
              0.6666666666666666,
              "#ed7953"
             ],
             [
              0.7777777777777778,
              "#fb9f3a"
             ],
             [
              0.8888888888888888,
              "#fdca26"
             ],
             [
              1,
              "#f0f921"
             ]
            ],
            "type": "histogram2d"
           }
          ],
          "histogram2dcontour": [
           {
            "colorbar": {
             "outlinewidth": 0,
             "ticks": ""
            },
            "colorscale": [
             [
              0,
              "#0d0887"
             ],
             [
              0.1111111111111111,
              "#46039f"
             ],
             [
              0.2222222222222222,
              "#7201a8"
             ],
             [
              0.3333333333333333,
              "#9c179e"
             ],
             [
              0.4444444444444444,
              "#bd3786"
             ],
             [
              0.5555555555555556,
              "#d8576b"
             ],
             [
              0.6666666666666666,
              "#ed7953"
             ],
             [
              0.7777777777777778,
              "#fb9f3a"
             ],
             [
              0.8888888888888888,
              "#fdca26"
             ],
             [
              1,
              "#f0f921"
             ]
            ],
            "type": "histogram2dcontour"
           }
          ],
          "mesh3d": [
           {
            "colorbar": {
             "outlinewidth": 0,
             "ticks": ""
            },
            "type": "mesh3d"
           }
          ],
          "parcoords": [
           {
            "line": {
             "colorbar": {
              "outlinewidth": 0,
              "ticks": ""
             }
            },
            "type": "parcoords"
           }
          ],
          "pie": [
           {
            "automargin": true,
            "type": "pie"
           }
          ],
          "scatter": [
           {
            "fillpattern": {
             "fillmode": "overlay",
             "size": 10,
             "solidity": 0.2
            },
            "type": "scatter"
           }
          ],
          "scatter3d": [
           {
            "line": {
             "colorbar": {
              "outlinewidth": 0,
              "ticks": ""
             }
            },
            "marker": {
             "colorbar": {
              "outlinewidth": 0,
              "ticks": ""
             }
            },
            "type": "scatter3d"
           }
          ],
          "scattercarpet": [
           {
            "marker": {
             "colorbar": {
              "outlinewidth": 0,
              "ticks": ""
             }
            },
            "type": "scattercarpet"
           }
          ],
          "scattergeo": [
           {
            "marker": {
             "colorbar": {
              "outlinewidth": 0,
              "ticks": ""
             }
            },
            "type": "scattergeo"
           }
          ],
          "scattergl": [
           {
            "marker": {
             "colorbar": {
              "outlinewidth": 0,
              "ticks": ""
             }
            },
            "type": "scattergl"
           }
          ],
          "scattermap": [
           {
            "marker": {
             "colorbar": {
              "outlinewidth": 0,
              "ticks": ""
             }
            },
            "type": "scattermap"
           }
          ],
          "scattermapbox": [
           {
            "marker": {
             "colorbar": {
              "outlinewidth": 0,
              "ticks": ""
             }
            },
            "type": "scattermapbox"
           }
          ],
          "scatterpolar": [
           {
            "marker": {
             "colorbar": {
              "outlinewidth": 0,
              "ticks": ""
             }
            },
            "type": "scatterpolar"
           }
          ],
          "scatterpolargl": [
           {
            "marker": {
             "colorbar": {
              "outlinewidth": 0,
              "ticks": ""
             }
            },
            "type": "scatterpolargl"
           }
          ],
          "scatterternary": [
           {
            "marker": {
             "colorbar": {
              "outlinewidth": 0,
              "ticks": ""
             }
            },
            "type": "scatterternary"
           }
          ],
          "surface": [
           {
            "colorbar": {
             "outlinewidth": 0,
             "ticks": ""
            },
            "colorscale": [
             [
              0,
              "#0d0887"
             ],
             [
              0.1111111111111111,
              "#46039f"
             ],
             [
              0.2222222222222222,
              "#7201a8"
             ],
             [
              0.3333333333333333,
              "#9c179e"
             ],
             [
              0.4444444444444444,
              "#bd3786"
             ],
             [
              0.5555555555555556,
              "#d8576b"
             ],
             [
              0.6666666666666666,
              "#ed7953"
             ],
             [
              0.7777777777777778,
              "#fb9f3a"
             ],
             [
              0.8888888888888888,
              "#fdca26"
             ],
             [
              1,
              "#f0f921"
             ]
            ],
            "type": "surface"
           }
          ],
          "table": [
           {
            "cells": {
             "fill": {
              "color": "#EBF0F8"
             },
             "line": {
              "color": "white"
             }
            },
            "header": {
             "fill": {
              "color": "#C8D4E3"
             },
             "line": {
              "color": "white"
             }
            },
            "type": "table"
           }
          ]
         },
         "layout": {
          "annotationdefaults": {
           "arrowcolor": "#2a3f5f",
           "arrowhead": 0,
           "arrowwidth": 1
          },
          "autotypenumbers": "strict",
          "coloraxis": {
           "colorbar": {
            "outlinewidth": 0,
            "ticks": ""
           }
          },
          "colorscale": {
           "diverging": [
            [
             0,
             "#8e0152"
            ],
            [
             0.1,
             "#c51b7d"
            ],
            [
             0.2,
             "#de77ae"
            ],
            [
             0.3,
             "#f1b6da"
            ],
            [
             0.4,
             "#fde0ef"
            ],
            [
             0.5,
             "#f7f7f7"
            ],
            [
             0.6,
             "#e6f5d0"
            ],
            [
             0.7,
             "#b8e186"
            ],
            [
             0.8,
             "#7fbc41"
            ],
            [
             0.9,
             "#4d9221"
            ],
            [
             1,
             "#276419"
            ]
           ],
           "sequential": [
            [
             0,
             "#0d0887"
            ],
            [
             0.1111111111111111,
             "#46039f"
            ],
            [
             0.2222222222222222,
             "#7201a8"
            ],
            [
             0.3333333333333333,
             "#9c179e"
            ],
            [
             0.4444444444444444,
             "#bd3786"
            ],
            [
             0.5555555555555556,
             "#d8576b"
            ],
            [
             0.6666666666666666,
             "#ed7953"
            ],
            [
             0.7777777777777778,
             "#fb9f3a"
            ],
            [
             0.8888888888888888,
             "#fdca26"
            ],
            [
             1,
             "#f0f921"
            ]
           ],
           "sequentialminus": [
            [
             0,
             "#0d0887"
            ],
            [
             0.1111111111111111,
             "#46039f"
            ],
            [
             0.2222222222222222,
             "#7201a8"
            ],
            [
             0.3333333333333333,
             "#9c179e"
            ],
            [
             0.4444444444444444,
             "#bd3786"
            ],
            [
             0.5555555555555556,
             "#d8576b"
            ],
            [
             0.6666666666666666,
             "#ed7953"
            ],
            [
             0.7777777777777778,
             "#fb9f3a"
            ],
            [
             0.8888888888888888,
             "#fdca26"
            ],
            [
             1,
             "#f0f921"
            ]
           ]
          },
          "colorway": [
           "#636efa",
           "#EF553B",
           "#00cc96",
           "#ab63fa",
           "#FFA15A",
           "#19d3f3",
           "#FF6692",
           "#B6E880",
           "#FF97FF",
           "#FECB52"
          ],
          "font": {
           "color": "#2a3f5f"
          },
          "geo": {
           "bgcolor": "white",
           "lakecolor": "white",
           "landcolor": "white",
           "showlakes": true,
           "showland": true,
           "subunitcolor": "#C8D4E3"
          },
          "hoverlabel": {
           "align": "left"
          },
          "hovermode": "closest",
          "mapbox": {
           "style": "light"
          },
          "paper_bgcolor": "white",
          "plot_bgcolor": "white",
          "polar": {
           "angularaxis": {
            "gridcolor": "#EBF0F8",
            "linecolor": "#EBF0F8",
            "ticks": ""
           },
           "bgcolor": "white",
           "radialaxis": {
            "gridcolor": "#EBF0F8",
            "linecolor": "#EBF0F8",
            "ticks": ""
           }
          },
          "scene": {
           "xaxis": {
            "backgroundcolor": "white",
            "gridcolor": "#DFE8F3",
            "gridwidth": 2,
            "linecolor": "#EBF0F8",
            "showbackground": true,
            "ticks": "",
            "zerolinecolor": "#EBF0F8"
           },
           "yaxis": {
            "backgroundcolor": "white",
            "gridcolor": "#DFE8F3",
            "gridwidth": 2,
            "linecolor": "#EBF0F8",
            "showbackground": true,
            "ticks": "",
            "zerolinecolor": "#EBF0F8"
           },
           "zaxis": {
            "backgroundcolor": "white",
            "gridcolor": "#DFE8F3",
            "gridwidth": 2,
            "linecolor": "#EBF0F8",
            "showbackground": true,
            "ticks": "",
            "zerolinecolor": "#EBF0F8"
           }
          },
          "shapedefaults": {
           "line": {
            "color": "#2a3f5f"
           }
          },
          "ternary": {
           "aaxis": {
            "gridcolor": "#DFE8F3",
            "linecolor": "#A2B1C6",
            "ticks": ""
           },
           "baxis": {
            "gridcolor": "#DFE8F3",
            "linecolor": "#A2B1C6",
            "ticks": ""
           },
           "bgcolor": "white",
           "caxis": {
            "gridcolor": "#DFE8F3",
            "linecolor": "#A2B1C6",
            "ticks": ""
           }
          },
          "title": {
           "x": 0.05
          },
          "xaxis": {
           "automargin": true,
           "gridcolor": "#EBF0F8",
           "linecolor": "#EBF0F8",
           "ticks": "",
           "title": {
            "standoff": 15
           },
           "zerolinecolor": "#EBF0F8",
           "zerolinewidth": 2
          },
          "yaxis": {
           "automargin": true,
           "gridcolor": "#EBF0F8",
           "linecolor": "#EBF0F8",
           "ticks": "",
           "title": {
            "standoff": 15
           },
           "zerolinecolor": "#EBF0F8",
           "zerolinewidth": 2
          }
         }
        },
        "title": {
         "text": "Ventas Históricas y Predicciones para Bollería"
        },
        "xaxis": {
         "title": {
          "text": "Fecha"
         }
        },
        "yaxis": {
         "title": {
          "text": "Base Imponible (€)"
         }
        }
       }
      }
     },
     "metadata": {},
     "output_type": "display_data"
    }
   ],
   "source": [
    "# Visualización de datos históricos y predicciones\n",
    "import matplotlib.pyplot as plt\n",
    "import plotly.express as px\n",
    "import plotly.graph_objects as go\n",
    "from datetime import datetime, timedelta\n",
    "\n",
    "# 1. Obtener datos históricos del feature view original\n",
    "try:\n",
    "    # Obtenemos los datos históricos\n",
    "    fv_historico = feature_store.get_feature_view(name=FV_NAME, version=FV_VERSION)\n",
    "    df_historico = fv_historico.get_batch_data()\n",
    "    df_historico = df_historico.sort_values('week_start')\n",
    "    \n",
    "    # 2. Obtenemos las predicciones del feature view de predicciones\n",
    "    fv_pred = feature_store.get_feature_view(name=PRED_FV_NAME, version=PRED_FV_VERSION)\n",
    "    df_pred = fv_pred.get_batch_data()\n",
    "    df_pred = df_pred.sort_values('week_start')\n",
    "    \n",
    "    # 3. Preparar datos para visualización\n",
    "    # Convertir a formato datetime si es necesario\n",
    "    if not pd.api.types.is_datetime64_any_dtype(df_historico['week_start']):\n",
    "        df_historico['week_start'] = pd.to_datetime(df_historico['week_start'])\n",
    "    \n",
    "    if not pd.api.types.is_datetime64_any_dtype(df_pred['week_start']):\n",
    "        df_pred['week_start'] = pd.to_datetime(df_pred['week_start'])\n",
    "    \n",
    "    # 4. Visualización con Plotly\n",
    "    fig = go.Figure()\n",
    "    \n",
    "    # Añadir datos históricos\n",
    "    fig.add_trace(go.Scatter(\n",
    "        x=df_historico['week_start'],\n",
    "        y=df_historico['base_imponible'],\n",
    "        mode='lines+markers',\n",
    "        name='Histórico',\n",
    "        line=dict(color='blue', width=2)\n",
    "    ))\n",
    "    \n",
    "    # Añadir predicciones\n",
    "    fig.add_trace(go.Scatter(\n",
    "        x=df_pred['week_start'],\n",
    "        y=df_pred['predicted_base_imponible'],\n",
    "        mode='lines+markers',\n",
    "        name='Predicciones',\n",
    "        line=dict(color='red', width=2, dash='dash')\n",
    "    ))\n",
    "    \n",
    "    # Configurar diseño\n",
    "    fig.update_layout(\n",
    "        title='Ventas Históricas y Predicciones para Bollería',\n",
    "        xaxis_title='Fecha',\n",
    "        yaxis_title='Base Imponible (€)',\n",
    "        legend_title='Tipo de Dato',\n",
    "        height=600,\n",
    "        template='plotly_white'\n",
    "    )\n",
    "    \n",
    "    # Mostrar gráfico\n",
    "    fig.show()\n",
    "    \n",
    "except Exception as e:\n",
    "    print(f\"❌ Error al visualizar los datos: {e}\")\n",
    "    import traceback\n",
    "    traceback.print_exc()"
   ]
  },
  {
   "cell_type": "markdown",
   "id": "d42f1a99",
   "metadata": {},
   "source": [
    "# FIN"
   ]
  }
 ],
 "metadata": {
  "kernelspec": {
   "display_name": ".venv",
   "language": "python",
   "name": "python3"
  },
  "language_info": {
   "codemirror_mode": {
    "name": "ipython",
    "version": 3
   },
   "file_extension": ".py",
   "mimetype": "text/x-python",
   "name": "python",
   "nbconvert_exporter": "python",
   "pygments_lexer": "ipython3",
   "version": "3.11.0"
  }
 },
 "nbformat": 4,
 "nbformat_minor": 5
}
