{
 "cells": [
  {
   "cell_type": "code",
   "execution_count": 5,
   "id": "5259375a",
   "metadata": {},
   "outputs": [],
   "source": [
    "from google.cloud import bigquery\n",
    "from datetime import datetime\n",
    "\n",
    "def load_data_from_bigquery():\n",
    "    # Inicia la conexión con BigQuery\n",
    "    print(\"Iniciando conexión con BigQuery...\")\n",
    "    client = bigquery.Client()\n",
    "    print(\"Conexión establecida.\")\n",
    "    \n",
    "    # Ejecuta la consulta SQL para obtener solo las columnas necesarias hasta el último día disponible\n",
    "    print(\"Ejecutando consulta SQL...\")\n",
    "    query = \"\"\"\n",
    "    SELECT \n",
    "        fecha,\n",
    "        n_factura,\n",
    "        zona_de_venta,\n",
    "        producto,\n",
    "        familia,\n",
    "        cantidad,\n",
    "        base_imponible,\n",
    "        tipo_IVA,\n",
    "        total\n",
    "    FROM `fleca-del-port.fleca_ventas_dia.t_facturas_dia_extendida_2023`\n",
    "    \"\"\"\n",
    "    df = client.query(query).to_dataframe()\n",
    "    print(f\"Consulta finalizada. Filas descargadas: {len(df)}\")\n",
    "    \n",
    "    # Define la ruta de salida y guarda el DataFrame como archivo parquet con timestamp\n",
    "    timestamp = datetime.now().strftime(\"%Y%m%d\")\n",
    "    output_path = f\"../data/raw/raw_data_bq_forecasting_{timestamp}.parquet\"\n",
    "    print(f\"Guardando archivo en {output_path} ...\")\n",
    "    df.to_parquet(output_path, index=False)\n",
    "    print(\"Archivo guardado correctamente.\")"
   ]
  },
  {
   "cell_type": "code",
   "execution_count": 6,
   "id": "889c6285",
   "metadata": {},
   "outputs": [
    {
     "name": "stdout",
     "output_type": "stream",
     "text": [
      "Iniciando conexión con BigQuery...\n",
      "Conexión establecida.\n",
      "Ejecutando consulta SQL...\n",
      "Consulta finalizada. Filas descargadas: 203215\n",
      "Guardando archivo en ../data/raw/raw_data_bq_forecasting_20250810.parquet ...\n",
      "Archivo guardado correctamente.\n"
     ]
    }
   ],
   "source": [
    "# Ejecutar la función para descargar y guardar los datos\n",
    "load_data_from_bigquery()"
   ]
  }
 ],
 "metadata": {
  "kernelspec": {
   "display_name": "mlops-project-py3.10",
   "language": "python",
   "name": "python3"
  },
  "language_info": {
   "codemirror_mode": {
    "name": "ipython",
    "version": 3
   },
   "file_extension": ".py",
   "mimetype": "text/x-python",
   "name": "python",
   "nbconvert_exporter": "python",
   "pygments_lexer": "ipython3",
   "version": "3.10.0"
  }
 },
 "nbformat": 4,
 "nbformat_minor": 5
}
