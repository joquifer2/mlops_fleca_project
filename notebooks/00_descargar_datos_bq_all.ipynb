{
 "cells": [
  {
   "cell_type": "code",
   "execution_count": null,
   "id": "81eb1b27",
   "metadata": {},
   "outputs": [],
   "source": [
    "import pandas as pd\n",
    "from google.cloud import bigquery\n",
    "from pathlib import Path\n",
    "import os\n",
    "\n",
    "cwd = Path(os.getcwd())\n",
    "PROJECT_ROOT = cwd.parent if cwd.name == \"notebooks\" else cwd\n",
    "RAW_DIR = PROJECT_ROOT / \"data\" / \"raw\"\n",
    "\n",
    "def descargar_datos_bigquery_histórico():\n",
    "    \"\"\"\n",
    "    Descarga y concatena datos históricos de ventas desde BigQuery.\n",
    "    - La primera tabla contiene datos desde 2023 hasta junio de 2025.\n",
    "    - La segunda tabla contiene datos desde julio de 2025 en adelante.\n",
    "    El archivo se guarda en data/raw con la fecha del último domingo con datos como nomenclatura.\n",
    "    \"\"\"\n",
    "    from datetime import datetime\n",
    "    print(\"Iniciando conexión con BigQuery...\")\n",
    "    client = bigquery.Client()\n",
    "    print(\"Conexión establecida.\")\n",
    "\n",
    "    # Descargar datos históricos hasta junio 2025\n",
    "    query1 = \"\"\"\n",
    "    SELECT *\n",
    "    FROM `fleca-del-port.varios.raw_data_bq_forecasting_20250630`\n",
    "    \"\"\"\n",
    "    df1 = client.query(query1).to_dataframe()\n",
    "\n",
    "    # Descargar datos desde julio 2025 en adelante\n",
    "    query2 = \"\"\"\n",
    "    SELECT \n",
    "        fecha, n_factura, zona_de_venta, producto, familia, cantidad, base_imponible, tipo_IVA, total\n",
    "    FROM `fleca-del-port.fleca_ventas_dia.t_facturas_dia_extendida_2023`\n",
    "    WHERE fecha >= '2025-07-01'\n",
    "    \"\"\"\n",
    "    df2 = client.query(query2).to_dataframe()\n",
    "\n",
    "    # Concatenar ambos DataFrames (unión vertical)\n",
    "    df = pd.concat([df1, df2], ignore_index=True, sort=False)\n",
    "\n",
    "    # Calcular el último domingo anterior o igual a la última fecha de datos\n",
    "    if 'fecha' in df.columns:\n",
    "        fechas = pd.to_datetime(df['fecha'])\n",
    "        ultima_fecha = fechas.max()\n",
    "        ultimo_domingo = ultima_fecha - pd.Timedelta(days=(ultima_fecha.weekday() + 1) % 7)\n",
    "        fecha_nomenclatura = ultimo_domingo.strftime(\"%Y%m%d\")\n",
    "        print(f\"Rango fechas final: {fechas.min()} - {fechas.max()}\")\n",
    "    else:\n",
    "        fecha_nomenclatura = datetime.now().strftime(\"%Y%m%d\")\n",
    "\n",
    "    # Guardar el DataFrame combinado en la carpeta data/raw con nomenclatura de último domingo\n",
    "    output_path = RAW_DIR / f\"raw_data_bq_forecasting_{fecha_nomenclatura}.parquet\"\n",
    "    output_path.parent.mkdir(parents=True, exist_ok=True)\n",
    "    print(f\"Guardando archivo en {output_path} ...\")\n",
    "    df.to_parquet(str(output_path), index=False)\n",
    "    print(\"Archivo guardado correctamente.\")\n",
    "    return df"
   ]
  },
  {
   "cell_type": "code",
   "execution_count": null,
   "id": "1c486312",
   "metadata": {},
   "outputs": [],
   "source": [
    "# Descargar datos históricos. Llamar a la función\n",
    "raw_all_data = descargar_datos_bigquery_histórico()"
   ]
  },
  {
   "cell_type": "code",
   "execution_count": null,
   "id": "396b4623",
   "metadata": {},
   "outputs": [],
   "source": [
    "# Verificar los datos descargados\n",
    "raw_all_data_sorted = raw_all_data.sort_values('fecha')\n",
    "raw_all_data_sorted.tail(5)"
   ]
  }
 ],
 "metadata": {
  "kernelspec": {
   "display_name": "mlops-project-py3.10",
   "language": "python",
   "name": "python3"
  },
  "language_info": {
   "codemirror_mode": {
    "name": "ipython",
    "version": 3
   },
   "file_extension": ".py",
   "mimetype": "text/x-python",
   "name": "python",
   "nbconvert_exporter": "python",
   "pygments_lexer": "ipython3",
   "version": "3.10.0"
  }
 },
 "nbformat": 4,
 "nbformat_minor": 5
}
